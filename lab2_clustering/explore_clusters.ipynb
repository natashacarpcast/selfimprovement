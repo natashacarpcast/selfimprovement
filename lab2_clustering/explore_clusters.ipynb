{
 "cells": [
  {
   "cell_type": "code",
   "execution_count": 6,
   "metadata": {},
   "outputs": [
    {
     "name": "stderr",
     "output_type": "stream",
     "text": [
      "/var/folders/5q/yq3hk8g1793ckqmn2n3xpr6c0000gn/T/ipykernel_7898/3251084270.py:4: DtypeWarning: Columns (3) have mixed types. Specify dtype option on import or set low_memory=False.\n",
      "  df_data = pd.read_csv('../cleaned_mfd2_liwc_results.csv')\n"
     ]
    }
   ],
   "source": [
    "import pandas as pd\n",
    "\n",
    "df_summary = pd.read_csv(\"mfd2_summary.csv\")\n",
    "df_data = pd.read_csv('../cleaned_mfd2_liwc_results.csv')"
   ]
  },
  {
   "cell_type": "code",
   "execution_count": 8,
   "metadata": {},
   "outputs": [
    {
     "data": {
      "text/html": [
       "<div>\n",
       "<style scoped>\n",
       "    .dataframe tbody tr th:only-of-type {\n",
       "        vertical-align: middle;\n",
       "    }\n",
       "\n",
       "    .dataframe tbody tr th {\n",
       "        vertical-align: top;\n",
       "    }\n",
       "\n",
       "    .dataframe thead th {\n",
       "        text-align: right;\n",
       "    }\n",
       "</style>\n",
       "<table border=\"1\" class=\"dataframe\">\n",
       "  <thead>\n",
       "    <tr style=\"text-align: right;\">\n",
       "      <th></th>\n",
       "      <th>prediction</th>\n",
       "      <th>mean_Care_Virtue</th>\n",
       "      <th>mean_Care_Vice</th>\n",
       "      <th>mean_Fairness_Virtue</th>\n",
       "      <th>mean_Fairness_Vice</th>\n",
       "      <th>mean_Loyalty_Virtue</th>\n",
       "      <th>mean_Loyalty_Vice</th>\n",
       "      <th>mean_Authority_Virtue</th>\n",
       "      <th>mean_Authority_Vice</th>\n",
       "      <th>mean_Sanctity_Virtue</th>\n",
       "      <th>mean_Sanctity_Vice</th>\n",
       "      <th>stddev_Care_Virtue</th>\n",
       "      <th>stddev_Care_Vice</th>\n",
       "      <th>stddev_Fairness_Virtue</th>\n",
       "      <th>stddev_Fairness_Vice</th>\n",
       "      <th>stddev_Loyalty_Virtue</th>\n",
       "      <th>stddev_Loyalty_Vice</th>\n",
       "      <th>stddev_Authority_Virtue</th>\n",
       "      <th>stddev_Authority_Vice</th>\n",
       "      <th>stddev_Sanctity_Virtue</th>\n",
       "      <th>stddev_Sanctity_Vice</th>\n",
       "    </tr>\n",
       "  </thead>\n",
       "  <tbody>\n",
       "    <tr>\n",
       "      <th>0</th>\n",
       "      <td>1</td>\n",
       "      <td>1.154841</td>\n",
       "      <td>0.852281</td>\n",
       "      <td>0.297477</td>\n",
       "      <td>0.193808</td>\n",
       "      <td>0.312990</td>\n",
       "      <td>0.058108</td>\n",
       "      <td>0.683591</td>\n",
       "      <td>0.087755</td>\n",
       "      <td>0.917836</td>\n",
       "      <td>0.827975</td>\n",
       "      <td>1.885611</td>\n",
       "      <td>1.449502</td>\n",
       "      <td>0.920026</td>\n",
       "      <td>0.762440</td>\n",
       "      <td>0.995545</td>\n",
       "      <td>0.434457</td>\n",
       "      <td>1.355504</td>\n",
       "      <td>0.440949</td>\n",
       "      <td>1.700415</td>\n",
       "      <td>1.699241</td>\n",
       "    </tr>\n",
       "    <tr>\n",
       "      <th>1</th>\n",
       "      <td>0</td>\n",
       "      <td>0.736350</td>\n",
       "      <td>0.065574</td>\n",
       "      <td>0.033969</td>\n",
       "      <td>0.009645</td>\n",
       "      <td>0.146941</td>\n",
       "      <td>0.000693</td>\n",
       "      <td>0.084124</td>\n",
       "      <td>0.002159</td>\n",
       "      <td>0.089289</td>\n",
       "      <td>0.177992</td>\n",
       "      <td>1.279399</td>\n",
       "      <td>0.246230</td>\n",
       "      <td>0.191105</td>\n",
       "      <td>0.088483</td>\n",
       "      <td>0.522521</td>\n",
       "      <td>0.016942</td>\n",
       "      <td>0.302023</td>\n",
       "      <td>0.030871</td>\n",
       "      <td>0.325363</td>\n",
       "      <td>0.553051</td>\n",
       "    </tr>\n",
       "  </tbody>\n",
       "</table>\n",
       "</div>"
      ],
      "text/plain": [
       "   prediction  mean_Care_Virtue  mean_Care_Vice  mean_Fairness_Virtue  \\\n",
       "0           1          1.154841        0.852281              0.297477   \n",
       "1           0          0.736350        0.065574              0.033969   \n",
       "\n",
       "   mean_Fairness_Vice  mean_Loyalty_Virtue  mean_Loyalty_Vice  \\\n",
       "0            0.193808             0.312990           0.058108   \n",
       "1            0.009645             0.146941           0.000693   \n",
       "\n",
       "   mean_Authority_Virtue  mean_Authority_Vice  mean_Sanctity_Virtue  \\\n",
       "0               0.683591             0.087755              0.917836   \n",
       "1               0.084124             0.002159              0.089289   \n",
       "\n",
       "   mean_Sanctity_Vice  stddev_Care_Virtue  stddev_Care_Vice  \\\n",
       "0            0.827975            1.885611          1.449502   \n",
       "1            0.177992            1.279399          0.246230   \n",
       "\n",
       "   stddev_Fairness_Virtue  stddev_Fairness_Vice  stddev_Loyalty_Virtue  \\\n",
       "0                0.920026              0.762440               0.995545   \n",
       "1                0.191105              0.088483               0.522521   \n",
       "\n",
       "   stddev_Loyalty_Vice  stddev_Authority_Virtue  stddev_Authority_Vice  \\\n",
       "0             0.434457                 1.355504               0.440949   \n",
       "1             0.016942                 0.302023               0.030871   \n",
       "\n",
       "   stddev_Sanctity_Virtue  stddev_Sanctity_Vice  \n",
       "0                1.700415              1.699241  \n",
       "1                0.325363              0.553051  "
      ]
     },
     "execution_count": 8,
     "metadata": {},
     "output_type": "execute_result"
    }
   ],
   "source": [
    "pd.set_option('display.max_columns', None)\n",
    "df_summary"
   ]
  },
  {
   "cell_type": "markdown",
   "metadata": {},
   "source": [
    "**Check posts from cluster 0**"
   ]
  },
  {
   "cell_type": "code",
   "execution_count": 3,
   "metadata": {},
   "outputs": [],
   "source": [
    "ids_0 = []\n"
   ]
  },
  {
   "cell_type": "markdown",
   "metadata": {},
   "source": [
    "**Check posts from cluster 1**"
   ]
  },
  {
   "cell_type": "code",
   "execution_count": 4,
   "metadata": {},
   "outputs": [],
   "source": [
    "ids_1 = []"
   ]
  }
 ],
 "metadata": {
  "kernelspec": {
   "display_name": "thesis10",
   "language": "python",
   "name": "python3"
  },
  "language_info": {
   "codemirror_mode": {
    "name": "ipython",
    "version": 3
   },
   "file_extension": ".py",
   "mimetype": "text/x-python",
   "name": "python",
   "nbconvert_exporter": "python",
   "pygments_lexer": "ipython3",
   "version": "3.10.14"
  },
  "orig_nbformat": 4
 },
 "nbformat": 4,
 "nbformat_minor": 2
}
