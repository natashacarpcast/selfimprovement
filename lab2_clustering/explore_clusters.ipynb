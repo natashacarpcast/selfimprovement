{
 "cells": [
  {
   "cell_type": "code",
   "execution_count": 1,
   "metadata": {},
   "outputs": [
    {
     "name": "stderr",
     "output_type": "stream",
     "text": [
      "/var/folders/5q/yq3hk8g1793ckqmn2n3xpr6c0000gn/T/ipykernel_5004/3251084270.py:4: DtypeWarning: Columns (3) have mixed types. Specify dtype option on import or set low_memory=False.\n",
      "  df_data = pd.read_csv('../cleaned_mfd2_liwc_results.csv')\n"
     ]
    }
   ],
   "source": [
    "import pandas as pd\n",
    "\n",
    "df_summary = pd.read_csv(\"mfd2_summary.csv\")\n",
    "df_data = pd.read_csv('../cleaned_mfd2_liwc_results.csv')"
   ]
  },
  {
   "cell_type": "markdown",
   "metadata": {},
   "source": [
    "**Observe mean and standard deviation of scores for each cluster**"
   ]
  },
  {
   "cell_type": "code",
   "execution_count": 2,
   "metadata": {},
   "outputs": [
    {
     "data": {
      "text/html": [
       "<div>\n",
       "<style scoped>\n",
       "    .dataframe tbody tr th:only-of-type {\n",
       "        vertical-align: middle;\n",
       "    }\n",
       "\n",
       "    .dataframe tbody tr th {\n",
       "        vertical-align: top;\n",
       "    }\n",
       "\n",
       "    .dataframe thead th {\n",
       "        text-align: right;\n",
       "    }\n",
       "</style>\n",
       "<table border=\"1\" class=\"dataframe\">\n",
       "  <thead>\n",
       "    <tr style=\"text-align: right;\">\n",
       "      <th></th>\n",
       "      <th>prediction</th>\n",
       "      <th>mean_Care_Virtue</th>\n",
       "      <th>mean_Care_Vice</th>\n",
       "      <th>mean_Fairness_Virtue</th>\n",
       "      <th>mean_Fairness_Vice</th>\n",
       "      <th>mean_Loyalty_Virtue</th>\n",
       "      <th>mean_Loyalty_Vice</th>\n",
       "      <th>mean_Authority_Virtue</th>\n",
       "      <th>mean_Authority_Vice</th>\n",
       "      <th>mean_Sanctity_Virtue</th>\n",
       "      <th>mean_Sanctity_Vice</th>\n",
       "      <th>stddev_Care_Virtue</th>\n",
       "      <th>stddev_Care_Vice</th>\n",
       "      <th>stddev_Fairness_Virtue</th>\n",
       "      <th>stddev_Fairness_Vice</th>\n",
       "      <th>stddev_Loyalty_Virtue</th>\n",
       "      <th>stddev_Loyalty_Vice</th>\n",
       "      <th>stddev_Authority_Virtue</th>\n",
       "      <th>stddev_Authority_Vice</th>\n",
       "      <th>stddev_Sanctity_Virtue</th>\n",
       "      <th>stddev_Sanctity_Vice</th>\n",
       "    </tr>\n",
       "  </thead>\n",
       "  <tbody>\n",
       "    <tr>\n",
       "      <th>0</th>\n",
       "      <td>1</td>\n",
       "      <td>1.154841</td>\n",
       "      <td>0.852281</td>\n",
       "      <td>0.297477</td>\n",
       "      <td>0.193808</td>\n",
       "      <td>0.312990</td>\n",
       "      <td>0.058108</td>\n",
       "      <td>0.683591</td>\n",
       "      <td>0.087755</td>\n",
       "      <td>0.917836</td>\n",
       "      <td>0.827975</td>\n",
       "      <td>1.885611</td>\n",
       "      <td>1.449502</td>\n",
       "      <td>0.920026</td>\n",
       "      <td>0.762440</td>\n",
       "      <td>0.995545</td>\n",
       "      <td>0.434457</td>\n",
       "      <td>1.355504</td>\n",
       "      <td>0.440949</td>\n",
       "      <td>1.700415</td>\n",
       "      <td>1.699241</td>\n",
       "    </tr>\n",
       "    <tr>\n",
       "      <th>1</th>\n",
       "      <td>0</td>\n",
       "      <td>0.736350</td>\n",
       "      <td>0.065574</td>\n",
       "      <td>0.033969</td>\n",
       "      <td>0.009645</td>\n",
       "      <td>0.146941</td>\n",
       "      <td>0.000693</td>\n",
       "      <td>0.084124</td>\n",
       "      <td>0.002159</td>\n",
       "      <td>0.089289</td>\n",
       "      <td>0.177992</td>\n",
       "      <td>1.279399</td>\n",
       "      <td>0.246230</td>\n",
       "      <td>0.191105</td>\n",
       "      <td>0.088483</td>\n",
       "      <td>0.522521</td>\n",
       "      <td>0.016942</td>\n",
       "      <td>0.302023</td>\n",
       "      <td>0.030871</td>\n",
       "      <td>0.325363</td>\n",
       "      <td>0.553051</td>\n",
       "    </tr>\n",
       "  </tbody>\n",
       "</table>\n",
       "</div>"
      ],
      "text/plain": [
       "   prediction  mean_Care_Virtue  mean_Care_Vice  mean_Fairness_Virtue  \\\n",
       "0           1          1.154841        0.852281              0.297477   \n",
       "1           0          0.736350        0.065574              0.033969   \n",
       "\n",
       "   mean_Fairness_Vice  mean_Loyalty_Virtue  mean_Loyalty_Vice  \\\n",
       "0            0.193808             0.312990           0.058108   \n",
       "1            0.009645             0.146941           0.000693   \n",
       "\n",
       "   mean_Authority_Virtue  mean_Authority_Vice  mean_Sanctity_Virtue  \\\n",
       "0               0.683591             0.087755              0.917836   \n",
       "1               0.084124             0.002159              0.089289   \n",
       "\n",
       "   mean_Sanctity_Vice  stddev_Care_Virtue  stddev_Care_Vice  \\\n",
       "0            0.827975            1.885611          1.449502   \n",
       "1            0.177992            1.279399          0.246230   \n",
       "\n",
       "   stddev_Fairness_Virtue  stddev_Fairness_Vice  stddev_Loyalty_Virtue  \\\n",
       "0                0.920026              0.762440               0.995545   \n",
       "1                0.191105              0.088483               0.522521   \n",
       "\n",
       "   stddev_Loyalty_Vice  stddev_Authority_Virtue  stddev_Authority_Vice  \\\n",
       "0             0.434457                 1.355504               0.440949   \n",
       "1             0.016942                 0.302023               0.030871   \n",
       "\n",
       "   stddev_Sanctity_Virtue  stddev_Sanctity_Vice  \n",
       "0                1.700415              1.699241  \n",
       "1                0.325363              0.553051  "
      ]
     },
     "execution_count": 2,
     "metadata": {},
     "output_type": "execute_result"
    }
   ],
   "source": [
    "pd.set_option('display.max_columns', None)\n",
    "df_summary"
   ]
  },
  {
   "cell_type": "markdown",
   "metadata": {},
   "source": [
    "**Check posts from cluster 0**"
   ]
  },
  {
   "cell_type": "code",
   "execution_count": 9,
   "metadata": {},
   "outputs": [
    {
     "name": "stdout",
     "output_type": "stream",
     "text": [
      "do you have a strong voice  or a well built frame  or tons upon tons of cash  there s a good chance that you have none  but is this a reason to get down  i say   nay\n",
      "-------------------\n",
      "nothing but opportunity exists   if you are feeling down about your opportunities  recharge your motivation and build your self confidence by affirming   whatever my situation nothing but opportunity exists  when you condition your mind with this inspirational message  you attune your subconscious to seek and find your golden opportunities that are present    it sets your creative mind power to work on synthesizing the various details of your situation into a form that matches your dream of success if you are feeling discouraged about your possibilities  improve your chances for success by harnessing the power of positive thinking\n",
      "-------------------\n",
      "context  last semester i was taking  11 credits in grad school  all i did was play world of warcraft most of the time  i studied a minimal amount each week and spent the rest playing games or watching netflix  i did however change my diet last semester to primarily vegetables and rice and lost 25 pounds  215   gt  190 at 6 4     oops  i guess i should mention i am a 22 year old male   anyway  i wanted to change my daily life to better myself for this semester  here are the things i wanted to do     either no more video games or a heavy reduction in time spent playing   reading   spend time reading books   start lifting weights again for the first time in years   find new hobbies to replace drinking on the weekends   through the other changes  be more confident   get a summer internship  i have accomplished most of this list  despite taking a ridiculous 15 graduate credit hours  i should be able to get 3 a s and 2 b s   i completely quit and turned off world of warcraft and star wars  the old republic  this opened up a huge amount of time  this allowed me to start reading some  i quickly read hitchhikers  ender s game  and ender s shadow  i plan on reading a couple more of the ender series  then i have about 10 other books waiting on my kindle to be read   i started lifting weights 6 days a week in late january  i have been very persistent in going  my parents visited in the middle of march during my spring break and they made a lot of comments regarding me being muscular  despite me not mentioning that i started lifting   i put on about 25 pounds since late january  i m fairly certain a good portion of that is from the creatine i am taking  the rest is hopefully largely from added muscle and then a little amount of fat   i ve also gone on two hiking trips so far and excited to do another  each trip was at a different canyon in north texas and both were really fun  i grew up on a farm so it is nice to get back out and enjoy nature  other than hiking as a new hobby  i have been playing frisbee golf every so often  it is much more fun than i thought and another good way to be outside   i still haven t found an internship though for the summer  i really need to start trying harder    also  i am still getting coaxed into drinking more than i d like  i need to find some way to go out  but not drink into oblivion   this ended up being a bit longer than expected haha  i just don t really have anyone to tell this too that wouldn t be annoyed and jealous  p\n",
      "-------------------\n",
      "the title pretty much says it all  this whole thing kind of started with my parents who basically spoiled me and never challenged me on anything  this is great when you re 14 but not so much when you re 25 and trying to build grown up relationships  frankly i m kind of sick of getting into arguments with my incredibly supportive girlfriend because my brain decides to get pissy about the stupidest little coments   i kind of lack that ability to just rise above stuff and would love some advice stories anecdotes about ways you guys have dealt with over sensitive natures either in yourself or those close to you   help me shrug off criticism  not clam up like a threatened hedgehog when confronted by a potential argument and generally stop being an over sensitive pussy   cheers guys\n",
      "-------------------\n",
      "i find that writing out what i want to do and breaking it down into small parts spread out over a period of time has worked wonders for my procrastination  and accompanying anxiety\n",
      "-------------------\n"
     ]
    }
   ],
   "source": [
    "pd.set_option('display.max_colwidth', None)\n",
    "ids_0 = ['97m4m', 'q412v', 'rvjcf', 'se83q', 'sigw5']\n",
    "for post in df_data[df_data.id.isin(ids_0)]['cleaned_text']:\n",
    "    print(post)\n",
    "    print('-------------------')\n"
   ]
  },
  {
   "cell_type": "markdown",
   "metadata": {},
   "source": [
    "**Check posts from cluster 1**"
   ]
  },
  {
   "cell_type": "code",
   "execution_count": 11,
   "metadata": {},
   "outputs": [
    {
     "name": "stdout",
     "output_type": "stream",
     "text": [
      "i ve been working at a horrible place for three years   bullies yelling at me all day long  back stabbing bosses  death threats  sexual harassment  they refuse to promote me even though i get the highest reviews  raises  and bonuses in my group  and my managers break their promises and regularly lie to me   well  on friday i was physically attacked on the job   good times   hello   sorry  but this is where i draw the line   tomorrow i m submitting my resignation   i refuse to work in an office where i m at risk of people jumping me from behind on top of all the other abuse i ve received from an international firm that has the highest percentage of bullies and a holes i ve seen in 30 years of it   i am so happy i ll be leaving this hell hole in two weeks   i can t thank everyone enough in all the reddit groups who have supported and helped me in the last year   your positive feedback really helped   thank you so much\n",
      "-------------------\n",
      "i m 19 f  i am going to start going to counseling very soon but it s only going to be once a week  i think i m gonna need more help   i ve been raised abusively  and i have become spoiled  abusive  and i have low self esteem  it s affecting my relationship with my so and i don t wanna do him any more harm\n",
      "-------------------\n",
      "i m a stay at home father of four  i work occasionally for my wife s business  which happens to be a cleaning service specifically for hoarders excessively lazy  yes  they are as bad  and often times worse then what you see on the television program  think  perfectly able people too lazy to go to bathroom  so they fill up soda cans with urine  soda cans pile up in the hundreds in the corner    now i ve gotten to the point that all messes can be cleaned within a minute s time  and the lack of messes leaves me bored  i then must find something  to fix  a chair or a toy for example  that doesn t last long  so i just reorganize things for better efficiency  this is fun for me  a game  i must hunt down something to clean fix re organize  but it wasn t always this way   i used to never want to clean  and when i didn t clean the task seemed more daunting as it became worse  the mood of people in my house would be affected by mess  a conversation sours faster when you can t get a cup of water from crowded sink or flies from the overflowing trash can land on your food  no one wants that  no one wants to sit down in your home when it stinks    and it stinks fast in a small home with a large family  my wife and i have three children  a mother in law  a sister in law  two brother in laws who stay frequently  and two large dogs  i make myself more valuable  especially as someone who hates wage work  by being the cleaner fixer   these are some of my motivations  what are yours\n",
      "-------------------\n",
      "a short guide on how to change your internal images   change your thoughts to change your feelings and improve the quality of your life\n",
      "-------------------\n",
      "while arguing debating  i get all worked up and angry if the opponent starts using personal attacks  this usually leads to me being easy prey for manipulation prediction by the opponent  i was wondering if you could offer some practical tips to help me keep my emotions in check\n",
      "-------------------\n"
     ]
    }
   ],
   "source": [
    "ids_1 = ['rd166','xotkf', '105w28', '10tjyx', '143c6i']\n",
    "for post in df_data[df_data.id.isin(ids_1)]['cleaned_text']:\n",
    "    print(post)\n",
    "    print('-------------------')"
   ]
  }
 ],
 "metadata": {
  "kernelspec": {
   "display_name": "thesis10",
   "language": "python",
   "name": "python3"
  },
  "language_info": {
   "codemirror_mode": {
    "name": "ipython",
    "version": 3
   },
   "file_extension": ".py",
   "mimetype": "text/x-python",
   "name": "python",
   "nbconvert_exporter": "python",
   "pygments_lexer": "ipython3",
   "version": "3.10.14"
  },
  "orig_nbformat": 4
 },
 "nbformat": 4,
 "nbformat_minor": 2
}
