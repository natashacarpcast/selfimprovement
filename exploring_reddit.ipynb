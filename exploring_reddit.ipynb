{
 "cells": [
  {
   "cell_type": "code",
   "execution_count": 4,
   "metadata": {},
   "outputs": [],
   "source": [
    "import pandas as pd\n",
    "\n",
    "df = pd.read_csv(\"just_text_submissions.csv\")\n"
   ]
  },
  {
   "cell_type": "code",
   "execution_count": 12,
   "metadata": {},
   "outputs": [
    {
     "data": {
      "text/html": [
       "<div>\n",
       "<style scoped>\n",
       "    .dataframe tbody tr th:only-of-type {\n",
       "        vertical-align: middle;\n",
       "    }\n",
       "\n",
       "    .dataframe tbody tr th {\n",
       "        vertical-align: top;\n",
       "    }\n",
       "\n",
       "    .dataframe thead th {\n",
       "        text-align: right;\n",
       "    }\n",
       "</style>\n",
       "<table border=\"1\" class=\"dataframe\">\n",
       "  <thead>\n",
       "    <tr style=\"text-align: right;\">\n",
       "      <th></th>\n",
       "      <th>Unnamed: 0</th>\n",
       "      <th>id</th>\n",
       "      <th>cleaned_text</th>\n",
       "    </tr>\n",
       "  </thead>\n",
       "  <tbody>\n",
       "    <tr>\n",
       "      <th>23418</th>\n",
       "      <td>23418</td>\n",
       "      <td>gy78qr</td>\n",
       "      <td>i m sure this is an issue a lot of people struggle with  but that one thought starts to dictate whether i do the thing at all  even when i try i have the attitude of someone who is bound to fail  and i just start having a bad association with the task or idea that should instead give me a feeling of fulfilment  i also put in fewer efforts because i feel like it s not going to amount to anything anyway  i think this is because a few failures in my past have convinced me that i won t get what i want  how can i change this  it severely affects my life and things i do</td>\n",
       "    </tr>\n",
       "    <tr>\n",
       "      <th>37242</th>\n",
       "      <td>37242</td>\n",
       "      <td>pq9nio</td>\n",
       "      <td>i have several hobbies and take interests in many things  some i m good at and some i m only a novice  i ve noticed that whichever one i m good at  i tend to pride myself on them a bit too much that i try to prove my ability every time i find someone who also has the same hobbies  i try not to be obnoxious but i know i still subconsciously do it  then when i meet someone who s proven themself to be better  i d feel bad about myself    i think it stems from my childhood background  i was never appreciated and my efforts were always reduced to  you just got lucky  that ain t nothing   how do i get rid of the need for confirmation  how do i focus on myself and stop being envious of others</td>\n",
       "    </tr>\n",
       "    <tr>\n",
       "      <th>44912</th>\n",
       "      <td>44912</td>\n",
       "      <td>uxwiak</td>\n",
       "      <td>when you try to improve but the people around you pull you back down  i call that  social gravity    maybe there s a better term for it  but i deal with it all the time   for example  i just talked with an old friend and explained that i go to the gym and try to eat well   they responded  oh weird  that s not like you    things like that     where others try to define you by belittling your current efforts and projecting their own version of you   another example   i d just learned a new vocab word  and i shared with a friend   he said  you re not the kind of person to learn vocab    how do you deal with this</td>\n",
       "    </tr>\n",
       "    <tr>\n",
       "      <th>55795</th>\n",
       "      <td>55795</td>\n",
       "      <td>115w3he</td>\n",
       "      <td>these past years i have read the works of many philosophers and i ve had many moments of epiphany where i thought i had found my purpose but it never sticks around for long   i spent a lot of my free time learning to draw  and recently with the rise of ai i feel like all my efforts will soon be completely irrelevant  i m starting to believe that everything we do can be done infinitely better by artificial intelligence down the road  if this is the case  i don t see any purpose in living anymore  i will feel utterly useless   i realized that the only thing that brings me some sense of purpose is feeling important to others  feeling that i m contributing to something great  if this is stripped away from me i have nothing  if i remain here only to consume mass produced ai media i would rather be dead   i just think nobody is ready for what s coming  and it is approaching terrifyingly fast</td>\n",
       "    </tr>\n",
       "    <tr>\n",
       "      <th>58513</th>\n",
       "      <td>58513</td>\n",
       "      <td>12sefbr</td>\n",
       "      <td>in my career  i ve found that success is like chasing a butterfly  the more we chase it and try to catch it  the more it eludes us    however  if i focus on my growth and improvement  like a butterfly drawn to a flower  success may find me  and has     just as a butterfly is attracted to the nectar of a flower without any effort on the flower s part  success may be attracted to me when i focus on doing my best and competing against myself    i can t control the outcome  just as a flower cannot control whether a butterfly chooses to land on it  but i can control my own efforts and actions  by doing my best work  not merely excellent work  and focusing on my own growth  i create the ideal environment for success to flourish and find me</td>\n",
       "    </tr>\n",
       "  </tbody>\n",
       "</table>\n",
       "</div>"
      ],
      "text/plain": [
       "       Unnamed: 0       id  \\\n",
       "23418       23418   gy78qr   \n",
       "37242       37242   pq9nio   \n",
       "44912       44912   uxwiak   \n",
       "55795       55795  115w3he   \n",
       "58513       58513  12sefbr   \n",
       "\n",
       "                                                                                                                                                                                                                                                                                                                                                                                                                                                                                                                                                                                                                                                                                                                                                                                                                                                                                                                             cleaned_text  \n",
       "23418                                                                                                                                                                                                                                                                                                                                          i m sure this is an issue a lot of people struggle with  but that one thought starts to dictate whether i do the thing at all  even when i try i have the attitude of someone who is bound to fail  and i just start having a bad association with the task or idea that should instead give me a feeling of fulfilment  i also put in fewer efforts because i feel like it s not going to amount to anything anyway  i think this is because a few failures in my past have convinced me that i won t get what i want  how can i change this  it severely affects my life and things i do  \n",
       "37242                                                                                                                                                                                                              i have several hobbies and take interests in many things  some i m good at and some i m only a novice  i ve noticed that whichever one i m good at  i tend to pride myself on them a bit too much that i try to prove my ability every time i find someone who also has the same hobbies  i try not to be obnoxious but i know i still subconsciously do it  then when i meet someone who s proven themself to be better  i d feel bad about myself    i think it stems from my childhood background  i was never appreciated and my efforts were always reduced to  you just got lucky  that ain t nothing   how do i get rid of the need for confirmation  how do i focus on myself and stop being envious of others  \n",
       "44912                                                                                                                                                                                                                                                                                            when you try to improve but the people around you pull you back down  i call that  social gravity    maybe there s a better term for it  but i deal with it all the time   for example  i just talked with an old friend and explained that i go to the gym and try to eat well   they responded  oh weird  that s not like you    things like that     where others try to define you by belittling your current efforts and projecting their own version of you   another example   i d just learned a new vocab word  and i shared with a friend   he said  you re not the kind of person to learn vocab    how do you deal with this  \n",
       "55795  these past years i have read the works of many philosophers and i ve had many moments of epiphany where i thought i had found my purpose but it never sticks around for long   i spent a lot of my free time learning to draw  and recently with the rise of ai i feel like all my efforts will soon be completely irrelevant  i m starting to believe that everything we do can be done infinitely better by artificial intelligence down the road  if this is the case  i don t see any purpose in living anymore  i will feel utterly useless   i realized that the only thing that brings me some sense of purpose is feeling important to others  feeling that i m contributing to something great  if this is stripped away from me i have nothing  if i remain here only to consume mass produced ai media i would rather be dead   i just think nobody is ready for what s coming  and it is approaching terrifyingly fast  \n",
       "58513                                                                                                                                                             in my career  i ve found that success is like chasing a butterfly  the more we chase it and try to catch it  the more it eludes us    however  if i focus on my growth and improvement  like a butterfly drawn to a flower  success may find me  and has     just as a butterfly is attracted to the nectar of a flower without any effort on the flower s part  success may be attracted to me when i focus on doing my best and competing against myself    i can t control the outcome  just as a flower cannot control whether a butterfly chooses to land on it  but i can control my own efforts and actions  by doing my best work  not merely excellent work  and focusing on my own growth  i create the ideal environment for success to flourish and find me  "
      ]
     },
     "execution_count": 12,
     "metadata": {},
     "output_type": "execute_result"
    }
   ],
   "source": [
    "id_list = [\"115w3he\", \"uxwiak\", \"pq9nio\", \"x92139\", \"gy78qr\", \"12sefbr\", \"q874fb\"]\n",
    "filtered_df = df[df['id'].isin(id_list)]\n",
    "filtered_df"
   ]
  }
 ],
 "metadata": {
  "kernelspec": {
   "display_name": "thesis10",
   "language": "python",
   "name": "python3"
  },
  "language_info": {
   "codemirror_mode": {
    "name": "ipython",
    "version": 3
   },
   "file_extension": ".py",
   "mimetype": "text/x-python",
   "name": "python",
   "nbconvert_exporter": "python",
   "pygments_lexer": "ipython3",
   "version": "3.10.14"
  },
  "orig_nbformat": 4
 },
 "nbformat": 4,
 "nbformat_minor": 2
}
