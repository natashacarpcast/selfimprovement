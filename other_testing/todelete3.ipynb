{
 "cells": [
  {
   "cell_type": "markdown",
   "metadata": {},
   "source": [
    "Notebook from networkx\n",
    "\n",
    "# Community Detection using Girvan-Newman\n",
    "\n",
    "This example shows the detection of communities in the Zachary Karate\n",
    "Club dataset using the Girvan-Newman method.\n",
    "\n",
    "We plot the change in modularity as important edges are removed.\n",
    "Graph is coloured and plotted based on community detection when number\n",
    "of iterations are 1 and 4 respectively.\n"
   ]
  },
  {
   "cell_type": "code",
   "execution_count": 1,
   "metadata": {
    "collapsed": false,
    "jupyter": {
     "outputs_hidden": false
    }
   },
   "outputs": [
    {
     "name": "stdout",
     "output_type": "stream",
     "text": [
      "24/11/25 16:36:22 WARN SparkSession: Using an existing Spark session; only runtime SQL configurations will take effect.\n"
     ]
    }
   ],
   "source": [
    "from pyspark.sql import SparkSession\n",
    "import sparknlp\n",
    "import networkx as nx\n",
    "import pandas as pd\n",
    "import matplotlib.pyplot as plt\n",
    "\n",
    "spark = SparkSession \\\n",
    "        .builder \\\n",
    "        .appName(\"network\") \\\n",
    "        .getOrCreate()"
   ]
  },
  {
   "cell_type": "code",
   "execution_count": 2,
   "metadata": {},
   "outputs": [],
   "source": [
    "#Asked ChatGPT: How can I create a graph from two csv files? (one with nodes and one with edges)\n",
    "\n",
    "# File paths (replace with your file paths)\n",
    "nodes_file = \"vertices/vertices.csv\"  # CSV with one column, no header\n",
    "edges_file = \"edges/edges.csv\"  # CSV with two columns, no header\n",
    "\n",
    "# Load nodes\n",
    "nodes_df = pd.read_csv(nodes_file, header=None, names=[\"node\"])\n",
    "nodes = nodes_df[\"node\"].tolist()  # Convert to a list of nodes\n",
    "\n",
    "# Load edges\n",
    "edges_df = pd.read_csv(edges_file, header=None, names=[\"source\", \"target\"])\n",
    "edges = edges_df.values.tolist()  # Convert to a list of edge tuples"
   ]
  },
  {
   "cell_type": "code",
   "execution_count": 3,
   "metadata": {},
   "outputs": [],
   "source": [
    "# Create graph\n",
    "G = nx.DiGraph()  \n",
    "G.add_nodes_from(nodes)  \n",
    "G.add_edges_from(edges) "
   ]
  },
  {
   "cell_type": "code",
   "execution_count": 4,
   "metadata": {},
   "outputs": [],
   "source": [
    "communities = nx.community.girvan_newman(G)"
   ]
  },
  {
   "cell_type": "code",
   "execution_count": 5,
   "metadata": {},
   "outputs": [
    {
     "ename": "KeyboardInterrupt",
     "evalue": "",
     "output_type": "error",
     "traceback": [
      "\u001b[0;31m---------------------------------------------------------------------------\u001b[0m",
      "\u001b[0;31mKeyboardInterrupt\u001b[0m                         Traceback (most recent call last)",
      "Input \u001b[0;32mIn [5]\u001b[0m, in \u001b[0;36m<cell line: 1>\u001b[0;34m()\u001b[0m\n\u001b[0;32m----> 1\u001b[0m communities \u001b[38;5;241m=\u001b[39m \u001b[38;5;28;43mlist\u001b[39;49m\u001b[43m(\u001b[49m\u001b[43mcommunities\u001b[49m\u001b[43m)\u001b[49m\n",
      "File \u001b[0;32m/software/python-anaconda-2022.05-el8-x86_64/lib/python3.9/site-packages/networkx/algorithms/community/centrality.py:148\u001b[0m, in \u001b[0;36mgirvan_newman\u001b[0;34m(G, most_valuable_edge)\u001b[0m\n\u001b[1;32m    146\u001b[0m g\u001b[38;5;241m.\u001b[39mremove_edges_from(nx\u001b[38;5;241m.\u001b[39mselfloop_edges(g))\n\u001b[1;32m    147\u001b[0m \u001b[38;5;28;01mwhile\u001b[39;00m g\u001b[38;5;241m.\u001b[39mnumber_of_edges() \u001b[38;5;241m>\u001b[39m \u001b[38;5;241m0\u001b[39m:\n\u001b[0;32m--> 148\u001b[0m     \u001b[38;5;28;01myield\u001b[39;00m \u001b[43m_without_most_central_edges\u001b[49m\u001b[43m(\u001b[49m\u001b[43mg\u001b[49m\u001b[43m,\u001b[49m\u001b[43m \u001b[49m\u001b[43mmost_valuable_edge\u001b[49m\u001b[43m)\u001b[49m\n",
      "File \u001b[0;32m/software/python-anaconda-2022.05-el8-x86_64/lib/python3.9/site-packages/networkx/algorithms/community/centrality.py:167\u001b[0m, in \u001b[0;36m_without_most_central_edges\u001b[0;34m(G, most_valuable_edge)\u001b[0m\n\u001b[1;32m    165\u001b[0m num_new_components \u001b[38;5;241m=\u001b[39m original_num_components\n\u001b[1;32m    166\u001b[0m \u001b[38;5;28;01mwhile\u001b[39;00m num_new_components \u001b[38;5;241m<\u001b[39m\u001b[38;5;241m=\u001b[39m original_num_components:\n\u001b[0;32m--> 167\u001b[0m     edge \u001b[38;5;241m=\u001b[39m \u001b[43mmost_valuable_edge\u001b[49m\u001b[43m(\u001b[49m\u001b[43mG\u001b[49m\u001b[43m)\u001b[49m\n\u001b[1;32m    168\u001b[0m     G\u001b[38;5;241m.\u001b[39mremove_edge(\u001b[38;5;241m*\u001b[39medge)\n\u001b[1;32m    169\u001b[0m     new_components \u001b[38;5;241m=\u001b[39m \u001b[38;5;28mtuple\u001b[39m(nx\u001b[38;5;241m.\u001b[39mconnected_components(G))\n",
      "File \u001b[0;32m/software/python-anaconda-2022.05-el8-x86_64/lib/python3.9/site-packages/networkx/algorithms/community/centrality.py:139\u001b[0m, in \u001b[0;36mgirvan_newman.<locals>.most_valuable_edge\u001b[0;34m(G)\u001b[0m\n\u001b[1;32m    133\u001b[0m \u001b[38;5;250m\u001b[39m\u001b[38;5;124;03m\"\"\"Returns the edge with the highest betweenness centrality\u001b[39;00m\n\u001b[1;32m    134\u001b[0m \u001b[38;5;124;03min the graph `G`.\u001b[39;00m\n\u001b[1;32m    135\u001b[0m \n\u001b[1;32m    136\u001b[0m \u001b[38;5;124;03m\"\"\"\u001b[39;00m\n\u001b[1;32m    137\u001b[0m \u001b[38;5;66;03m# We have guaranteed that the graph is non-empty, so this\u001b[39;00m\n\u001b[1;32m    138\u001b[0m \u001b[38;5;66;03m# dictionary will never be empty.\u001b[39;00m\n\u001b[0;32m--> 139\u001b[0m betweenness \u001b[38;5;241m=\u001b[39m \u001b[43mnx\u001b[49m\u001b[38;5;241;43m.\u001b[39;49m\u001b[43medge_betweenness_centrality\u001b[49m\u001b[43m(\u001b[49m\u001b[43mG\u001b[49m\u001b[43m)\u001b[49m\n\u001b[1;32m    140\u001b[0m \u001b[38;5;28;01mreturn\u001b[39;00m \u001b[38;5;28mmax\u001b[39m(betweenness, key\u001b[38;5;241m=\u001b[39mbetweenness\u001b[38;5;241m.\u001b[39mget)\n",
      "File \u001b[0;32m<class 'networkx.utils.decorators.argmap'> compilation 8:4\u001b[0m, in \u001b[0;36margmap_edge_betweenness_centrality_5\u001b[0;34m(G, k, normalized, weight, seed, backend, **backend_kwargs)\u001b[0m\n\u001b[1;32m      2\u001b[0m \u001b[38;5;28;01mimport\u001b[39;00m \u001b[38;5;21;01mcollections\u001b[39;00m\n\u001b[1;32m      3\u001b[0m \u001b[38;5;28;01mimport\u001b[39;00m \u001b[38;5;21;01mgzip\u001b[39;00m\n\u001b[0;32m----> 4\u001b[0m \u001b[38;5;28;01mimport\u001b[39;00m \u001b[38;5;21;01minspect\u001b[39;00m\n\u001b[1;32m      5\u001b[0m \u001b[38;5;28;01mimport\u001b[39;00m \u001b[38;5;21;01mitertools\u001b[39;00m\n\u001b[1;32m      6\u001b[0m \u001b[38;5;28;01mimport\u001b[39;00m \u001b[38;5;21;01mre\u001b[39;00m\n",
      "File \u001b[0;32m/software/python-anaconda-2022.05-el8-x86_64/lib/python3.9/site-packages/networkx/utils/backends.py:412\u001b[0m, in \u001b[0;36m_dispatch.__call__\u001b[0;34m(self, backend, *args, **kwargs)\u001b[0m\n\u001b[1;32m    409\u001b[0m \u001b[38;5;28;01mdef\u001b[39;00m \u001b[38;5;21m__call__\u001b[39m(\u001b[38;5;28mself\u001b[39m, \u001b[38;5;241m/\u001b[39m, \u001b[38;5;241m*\u001b[39margs, backend\u001b[38;5;241m=\u001b[39m\u001b[38;5;28;01mNone\u001b[39;00m, \u001b[38;5;241m*\u001b[39m\u001b[38;5;241m*\u001b[39mkwargs):\n\u001b[1;32m    410\u001b[0m     \u001b[38;5;28;01mif\u001b[39;00m \u001b[38;5;129;01mnot\u001b[39;00m backends:\n\u001b[1;32m    411\u001b[0m         \u001b[38;5;66;03m# Fast path if no backends are installed\u001b[39;00m\n\u001b[0;32m--> 412\u001b[0m         \u001b[38;5;28;01mreturn\u001b[39;00m \u001b[38;5;28;43mself\u001b[39;49m\u001b[38;5;241;43m.\u001b[39;49m\u001b[43morig_func\u001b[49m\u001b[43m(\u001b[49m\u001b[38;5;241;43m*\u001b[39;49m\u001b[43margs\u001b[49m\u001b[43m,\u001b[49m\u001b[43m \u001b[49m\u001b[38;5;241;43m*\u001b[39;49m\u001b[38;5;241;43m*\u001b[39;49m\u001b[43mkwargs\u001b[49m\u001b[43m)\u001b[49m\n\u001b[1;32m    414\u001b[0m     \u001b[38;5;66;03m# Use `backend_name` in this function instead of `backend`\u001b[39;00m\n\u001b[1;32m    415\u001b[0m     backend_name \u001b[38;5;241m=\u001b[39m backend\n",
      "File \u001b[0;32m/software/python-anaconda-2022.05-el8-x86_64/lib/python3.9/site-packages/networkx/algorithms/centrality/betweenness.py:240\u001b[0m, in \u001b[0;36medge_betweenness_centrality\u001b[0;34m(G, k, normalized, weight, seed)\u001b[0m\n\u001b[1;32m    238\u001b[0m         S, P, sigma, _ \u001b[38;5;241m=\u001b[39m _single_source_dijkstra_path_basic(G, s, weight)\n\u001b[1;32m    239\u001b[0m     \u001b[38;5;66;03m# accumulation\u001b[39;00m\n\u001b[0;32m--> 240\u001b[0m     betweenness \u001b[38;5;241m=\u001b[39m \u001b[43m_accumulate_edges\u001b[49m\u001b[43m(\u001b[49m\u001b[43mbetweenness\u001b[49m\u001b[43m,\u001b[49m\u001b[43m \u001b[49m\u001b[43mS\u001b[49m\u001b[43m,\u001b[49m\u001b[43m \u001b[49m\u001b[43mP\u001b[49m\u001b[43m,\u001b[49m\u001b[43m \u001b[49m\u001b[43msigma\u001b[49m\u001b[43m,\u001b[49m\u001b[43m \u001b[49m\u001b[43ms\u001b[49m\u001b[43m)\u001b[49m\n\u001b[1;32m    241\u001b[0m \u001b[38;5;66;03m# rescaling\u001b[39;00m\n\u001b[1;32m    242\u001b[0m \u001b[38;5;28;01mfor\u001b[39;00m n \u001b[38;5;129;01min\u001b[39;00m G:  \u001b[38;5;66;03m# remove nodes to only return edges\u001b[39;00m\n",
      "File \u001b[0;32m/software/python-anaconda-2022.05-el8-x86_64/lib/python3.9/site-packages/networkx/algorithms/centrality/betweenness.py:351\u001b[0m, in \u001b[0;36m_accumulate_edges\u001b[0;34m(betweenness, S, P, sigma, s)\u001b[0m\n\u001b[1;32m    349\u001b[0m         betweenness[(w, v)] \u001b[38;5;241m+\u001b[39m\u001b[38;5;241m=\u001b[39m c\n\u001b[1;32m    350\u001b[0m     \u001b[38;5;28;01melse\u001b[39;00m:\n\u001b[0;32m--> 351\u001b[0m         betweenness[(v, w)] \u001b[38;5;241m+\u001b[39m\u001b[38;5;241m=\u001b[39m c\n\u001b[1;32m    352\u001b[0m     delta[v] \u001b[38;5;241m+\u001b[39m\u001b[38;5;241m=\u001b[39m c\n\u001b[1;32m    353\u001b[0m \u001b[38;5;28;01mif\u001b[39;00m w \u001b[38;5;241m!=\u001b[39m s:\n",
      "\u001b[0;31mKeyboardInterrupt\u001b[0m: "
     ]
    }
   ],
   "source": [
    "communities = list(communities)"
   ]
  },
  {
   "cell_type": "code",
   "execution_count": null,
   "metadata": {},
   "outputs": [],
   "source": [
    "# Modularity -> measures the strength of division of a network into modules\n",
    "modularity_df = pd.DataFrame(\n",
    "    [\n",
    "        [k + 1, nx.community.modularity(G, communities[k])]\n",
    "        for k in range(len(communities))\n",
    "    ],\n",
    "    columns=[\"k\", \"modularity\"],\n",
    ")\n",
    "\n",
    "\n"
   ]
  },
  {
   "cell_type": "code",
   "execution_count": null,
   "metadata": {},
   "outputs": [],
   "source": [
    "# function to create node colour list\n",
    "def create_community_node_colors(graph, communities):\n",
    "    number_of_colors = len(communities)\n",
    "    colors = [\"#D4FCB1\", \"#CDC5FC\", \"#FFC2C4\", \"#F2D140\", \"#BCC6C8\"][:number_of_colors]\n",
    "    node_colors = []\n",
    "    for node in graph:\n",
    "        current_community_index = 0\n",
    "        for community in communities:\n",
    "            if node in community:\n",
    "                node_colors.append(colors[current_community_index])\n",
    "                break\n",
    "            current_community_index += 1\n",
    "    return node_colors\n",
    "\n",
    "\n",
    "# function to plot graph with node colouring based on communities\n",
    "def visualize_communities(graph, communities, i):\n",
    "    node_colors = create_community_node_colors(graph, communities)\n",
    "    modularity = round(nx.community.modularity(graph, communities), 6)\n",
    "    title = f\"Community Visualization of {len(communities)} communities with modularity of {modularity}\"\n",
    "    pos = nx.spring_layout(graph, k=0.3, iterations=50, seed=2)\n",
    "    plt.subplot(3, 1, i)\n",
    "    plt.title(title)\n",
    "    nx.draw(\n",
    "        graph,\n",
    "        pos=pos,\n",
    "        node_size=1000,\n",
    "        node_color=node_colors,\n",
    "        with_labels=True,\n",
    "        font_size=20,\n",
    "        font_color=\"black\",\n",
    "    )\n",
    "\n",
    "\n",
    "fig, ax = plt.subplots(3, figsize=(15, 20))\n",
    "\n",
    "# Plot graph with colouring based on communities\n",
    "visualize_communities(G, communities[0], 1)\n",
    "visualize_communities(G, communities[3], 2)\n",
    "\n",
    "# Plot change in modularity as the important edges are removed\n",
    "modularity_df.plot.bar(\n",
    "    x=\"k\",\n",
    "    ax=ax[2],\n",
    "    color=\"#F2D140\",\n",
    "    title=\"Modularity Trend for Girvan-Newman Community Detection\",\n",
    ")\n",
    "plt.show()"
   ]
  }
 ],
 "metadata": {
  "kernelspec": {
   "display_name": "Python 3 (ipykernel)",
   "language": "python",
   "name": "python3"
  },
  "language_info": {
   "codemirror_mode": {
    "name": "ipython",
    "version": 3
   },
   "file_extension": ".py",
   "mimetype": "text/x-python",
   "name": "python",
   "nbconvert_exporter": "python",
   "pygments_lexer": "ipython3",
   "version": "3.9.19"
  }
 },
 "nbformat": 4,
 "nbformat_minor": 4
}
