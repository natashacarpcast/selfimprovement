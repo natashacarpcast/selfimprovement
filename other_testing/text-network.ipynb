{
 "cells": [
  {
   "cell_type": "markdown",
   "id": "9e1977c0-f9fe-42ea-8638-3876ae92b876",
   "metadata": {},
   "source": [
    "Asked ChatGPT how to convert bigrams into a network and it showed me the workflow which I corrected for errors and adapted to my data"
   ]
  },
  {
   "cell_type": "code",
   "execution_count": 1,
   "id": "e15971f5-6ba3-41f0-a9d1-e30f4df9cda6",
   "metadata": {},
   "outputs": [
    {
     "name": "stdout",
     "output_type": "stream",
     "text": [
      "24/11/19 19:12:16 WARN SparkSession: Using an existing Spark session; only runtime SQL configurations will take effect.\n",
      "Warning::Spark Session already created, some configs may not take.\n",
      "24/11/19 19:12:16 WARN SparkSession: Using an existing Spark session; only runtime SQL configurations will take effect.\n"
     ]
    }
   ],
   "source": [
    "from pyspark.sql import SparkSession\n",
    "from graphframes import *\n",
    "import sparknlp\n",
    "from sparknlp.annotator import Tokenizer, PerceptronModel\n",
    "from sparknlp.base import DocumentAssembler\n",
    "from pyspark.ml import Pipeline\n",
    "from sparknlp.pretrained import PretrainedPipeline\n",
    "from sparknlp.annotator import *\n",
    "from sparknlp.base import *\n",
    "from pyspark.ml.feature import CountVectorizer\n",
    "from pyspark.ml.feature import IDF\n",
    "from pyspark.ml.clustering import LDA\n",
    "from pyspark.sql import types as T\n",
    "\n",
    "spark = SparkSession \\\n",
    "        .builder \\\n",
    "        .appName(\"network\") \\\n",
    "        .getOrCreate()\n",
    "\n",
    "spark_nlp = sparknlp.start()"
   ]
  },
  {
   "cell_type": "code",
   "execution_count": 2,
   "id": "41b98d5b-7611-453c-b0d3-ff06bc630977",
   "metadata": {},
   "outputs": [],
   "source": [
    "data = spark.read.csv(\"../data_topicmodel.csv\", header= True).select([\"id\", \"cleaned_text\"])\n",
    "data = data.sample(0.001)"
   ]
  },
  {
   "cell_type": "markdown",
   "id": "dc25d006-9b9e-4f2d-b5e7-1468315de212",
   "metadata": {},
   "source": [
    "Preprocess and get tokens"
   ]
  },
  {
   "cell_type": "code",
   "execution_count": 3,
   "id": "339744d3-b3e8-4d10-862c-a6a24ed00f7a",
   "metadata": {},
   "outputs": [],
   "source": [
    "english = [\n",
    "    \"a\", \"about\", \"above\", \"after\", \"again\", \"against\", \"all\", \"am\", \"an\", \"and\", \"any\", \"are\", \"as\", \"at\", \"be\", \n",
    "    \"because\", \"been\", \"before\", \"being\", \"below\", \"between\", \"both\", \"but\", \"by\", \"can\", \"cannot\", \"could\", \"did\", \n",
    "    \"do\", \"does\", \"doing\", \"down\", \"during\", \"each\", \"few\", \"for\", \"from\", \"further\", \"had\", \"has\", \"have\", \"having\", \n",
    "    \"he\", \"her\", \"here\", \"hers\", \"herself\", \"him\", \"himself\", \"his\", \"how\", \"i\", \"if\", \"in\", \"into\", \"is\", \"it\", \n",
    "    \"its\", \"itself\", \"let\", \"me\", \"more\", \"most\", \"must\", \"my\", \"myself\", \"no\", \"nor\", \"not\", \"of\", \"off\", \"on\", \n",
    "    \"once\", \"only\", \"or\", \"other\", \"our\", \"ours\", \"ourselves\", \"out\", \"over\", \"own\", \"same\", \"she\", \"some\", \"such\", \n",
    "    \"than\", \"that\", \"the\", \"their\", \"theirs\", \"them\", \"themselves\", \"then\", \"there\", \"these\", \"they\", \"this\", \"those\", \n",
    "    \"through\", \"to\", \"too\", \"under\", \"until\", \"up\", \"very\", \"was\", \"we\", \"were\", \"what\", \"when\", \"where\", \"which\", \n",
    "    \"while\", \"who\", \"whom\", \"why\", \"with\", \"would\", \"you\", \"your\", \"yours\", \"yourself\", \"yourselves\", \"will\", \"ll\", \n",
    "    \"re\", \"ve\", \"d\", \"s\", \"m\", \"b\", \"c\", \"d\", \"e\", \"f\", \"g\", \"h\", \"i\", \"j\", \"k\", \"l\", \"m\", \"n\", \"o\", \"p\", \"q\", \"r\", \n",
    "    \"s\", \"t\", \"u\", \"v\", \"w\", \"x\", \"y\", \"z\", \"many\", \"us\", \"ok\", \"hows\", \"ive\", \"ill\", \"im\", \"cant\", \"topics\", \"topic\",\n",
    "    \"discuss\", \"thoughts\", \"yo\", \"thats\", \"whats\", \"lets\", \"nothing\", \"oh\", \"omg\", \n",
    "         \"things\", \"stuff\", \"yall\", \"haha\", \"yes\", \"no\", \"wo\", \"like\", 'good', \n",
    "         'work', 'got', 'going', 'dont', 'really', 'want', 'make', 'think', \n",
    "         'know', 'feel', 'people', 'life', \"getting\", \"lot\" \"great\", \"i\", \"me\", \n",
    "         \"my\", \"myself\", \"we\", \"our\", \"ours\", \"ourselves\", \n",
    "        \"you\", \"your\", \"yours\", \"yourself\", \"yourselves\", \"he\", \"him\", \"his\", \n",
    "        \"himself\", \"she\", \"her\", \"hers\", \"herself\", \"it\", \"its\", \"itself\", \n",
    "        \"they\", \"them\", \"their\", \"theirs\",\"themselves\", \"what\", \"which\", \"who\", \n",
    "        \"whom\", \"this\", \"that\", \"these\", \"those\", \"am\", \"is\", \"are\", \"was\", \n",
    "        \"were\", \"be\", \"been\", \"being\", \"have\", \"has\", \"had\", \"having\", \"do\", \n",
    "        \"does\", \"did\", \"doing\", \"will\", \"would\", \"should\", \"can\", \"could\", \"may\",\n",
    "        \"might\", \"must\", \"shall\", \"ought\", \"about\", \"above\", \"across\", \"after\", \n",
    "        \"against\", \"along\", \"amid\", \"among\", \"around\", \"as\", \"at\", \"before\", \"behind\",\n",
    "        \"below\", \"beneath\", \"beside\", \"between\", \"beyond\", \"but\", \"by\", \n",
    "        \"concerning\", \"considering\", \"despite\", \"down\", \"during\", \"except\", \"for\",\n",
    "        \"from\", \"in\", \"inside\", \"into\", \"like\", \"near\", \"next\", \"notwithstanding\",\n",
    "        \"of\", \"off\", \"on\", \"onto\", \"opposite\", \"out\", \"outside\", \"over\", \"past\",\n",
    "        \"regarding\", \"round\", \"since\", \"than\", \"through\", \"throughout\", \"till\", \n",
    "        \"to\", \"toward\", \"towards\", \"under\", \"underneath\", \"unlike\", \"until\", \"up\",\n",
    "        \"upon\", \"versus\", \"via\", \"with\", \"within\", \"without\", \"cant\", \"cannot\", \n",
    "        \"couldve\", \"couldnt\", \"didnt\", \"doesnt\", \"dont\", \"hadnt\", \"hasnt\", \n",
    "        \"havent\", \"hed\", \"hell\", \"hes\", \"howd\", \"howll\", \"hows\", \"id\", \"ill\", \n",
    "        \"im\", \"ive\", \"isnt\", \"itd\", \"itll\", \"its\", \"lets\", \"mightve\", \"mustve\", \n",
    "        \"mustnt\", \"shant\", \"shed\", \"shell\", \"shes\", \"shouldve\", \"shouldnt\", \n",
    "        \"thatll\", \"thats\", \"thered\", \"therell\", \"therere\", \"theres\", \"theyd\", \n",
    "        \"theyll\", \"theyre\", \"theyve\", \"wed\", \"well\", \"were\", \"weve\", \"werent\", \n",
    "        \"whatd\", \"whatll\", \"whatre\", \"whats\", \"whatve\", \"whend\", \"whenll\", \n",
    "        \"whens\", \"whered\", \"wherell\", \"wheres\", \"whichd\", \"whichll\", \"whichre\", \n",
    "        \"whichs\", \"whod\", \"wholl\", \"whore\", \"whos\", \"whove\", \"whyd\", \"whyll\", \n",
    "        \"whys\", \"wont\", \"wouldve\", \"wouldnt\", \"youd\", \"youll\", \"youre\", \"youve\",\n",
    "        \"f\", \"m\", \"because\", \"go\", \"lot\", \"get\", \"still\", \"way\", \"something\", \"much\",\n",
    "        \"thing\", \"someone\", \"person\", \"anything\", \"goes\", \"ok\", \"so\", \"just\", \"mostly\", \n",
    "        \"put\", \"also\", \"lots\", \"yet\", \"ha\", \"etc\", \"even\", \"one\", \"bye\", \"take\"]\n",
    "\n",
    "time = [\"monday\", \"tuesday\", \"wednesday\", \"thursday\", \"friday\", \"saturday\", \n",
    "        \"sunday\", \"morning\", \"noon\", \"afternoon\", \"evening\", \"night\", \"midnight\",\n",
    "        \"dawn\", \"dusk\", \"week\", \"weekend\", \"weekends\",\"weekly\", \"today\", \n",
    "        \"yesterday\", \"tomorrow\", \"yesterdays\", \"todays\", \"mondays\", \"tuesdays\",\n",
    "        \"wednesdays\", \"thursdays\", \"fridays\", \"saturdays\", \"sundays\", \"day\",\n",
    "        \"everyday\", \"daily\", \"workday\", 'time', 'month', 'year', 'pm', 'am', \"ago\",\n",
    "        \"year\", \"now\"]\n",
    "\n",
    "reddit = [\"welcome\", \"hi\", \"hello\", \"sub\", \"reddit\", \"thanks\", \"thank\", \"maybe\",\n",
    "          \"wo30\", \"mods\", \"mod\", \"moderators\", \"subreddit\", \"btw\", \"aw\", \"aww\", \n",
    "          \"aww\", \"hey\", \"hello\", \"join\", \"joined\", \"post\", \"rselfimprovement\"]\n",
    "\n",
    "topic_specific = [\"self\", \"improvement\", \"change\", \"action\",\n",
    "    'change', 'start', 'goal', 'habit', 'new', 'old', \n",
    "    'care', 'world', 'everyone', 'love', 'u', 'right', 'mean', 'matter',\n",
    "    'best', 'step', 'focus', 'hard', 'small',\n",
    "    'bad', 'help', 'time', 'problem', 'issue', 'advice',\n",
    "    'bit', 'experience', 'different',\n",
    "    'point', 'situation', 'negative', 'control', 'positive',\n",
    "    'use', 'question', 'idea', 'amp', 'medium', 'hour', 'day', 'minute',\n",
    "    'aaaaloot', \"selfimprovement\", \"_\"]\n",
    "\n",
    "stopwords = english + time + reddit + topic_specific"
   ]
  },
  {
   "cell_type": "code",
   "execution_count": 4,
   "id": "83126f4e-9686-4e62-a9cc-45536169c84e",
   "metadata": {},
   "outputs": [],
   "source": [
    "documentAssembler = DocumentAssembler()\\\n",
    "     .setInputCol(\"cleaned_text\")\\\n",
    "     .setOutputCol('document')"
   ]
  },
  {
   "cell_type": "code",
   "execution_count": 5,
   "id": "5e241496-7e88-4d42-b563-3368fce129a4",
   "metadata": {},
   "outputs": [],
   "source": [
    "tokenizer = Tokenizer() \\\n",
    "            .setInputCols(['document'])\\\n",
    "            .setOutputCol('tokenized')"
   ]
  },
  {
   "cell_type": "code",
   "execution_count": 6,
   "id": "02645fca-5d88-4f53-8276-22837f01cf2a",
   "metadata": {},
   "outputs": [],
   "source": [
    "normalizer = Normalizer() \\\n",
    "     .setInputCols(['tokenized']) \\\n",
    "     .setOutputCol('normalized')"
   ]
  },
  {
   "cell_type": "code",
   "execution_count": 7,
   "id": "5b73cf75-5450-4a82-b5f3-009867d04c37",
   "metadata": {},
   "outputs": [],
   "source": [
    "from sparknlp.base import Finisher\n",
    "\n",
    "finisher = Finisher().setInputCols(['normalized'])"
   ]
  },
  {
   "cell_type": "code",
   "execution_count": 8,
   "id": "48059742-500e-446c-bf75-b37840cf3a4a",
   "metadata": {},
   "outputs": [],
   "source": [
    "my_pipeline = Pipeline(\n",
    "      stages = [\n",
    "          documentAssembler,\n",
    "          tokenizer,\n",
    "          normalizer,\n",
    "          finisher\n",
    "      ])"
   ]
  },
  {
   "cell_type": "code",
   "execution_count": 9,
   "id": "16765900-49e1-489f-b062-5842ddad2092",
   "metadata": {},
   "outputs": [
    {
     "name": "stderr",
     "output_type": "stream",
     "text": [
      "WARNING: An illegal reflective access operation has occurred\n",
      "WARNING: Illegal reflective access by org.apache.spark.util.SizeEstimator$ (file:/software/spark-3.3.2-el8-x86_64/jars/spark-core_2.12-3.3.2.jar) to field java.util.regex.Pattern.pattern\n",
      "WARNING: Please consider reporting this to the maintainers of org.apache.spark.util.SizeEstimator$\n",
      "WARNING: Use --illegal-access=warn to enable warnings of further illegal reflective access operations\n",
      "WARNING: All illegal access operations will be denied in a future release\n"
     ]
    },
    {
     "name": "stdout",
     "output_type": "stream",
     "text": [
      "+------+--------------------+--------------------+\n",
      "|    id|        cleaned_text| finished_normalized|\n",
      "+------+--------------------+--------------------+\n",
      "|104xdd|i spend most of t...|[i, spend, most, ...|\n",
      "+------+--------------------+--------------------+\n",
      "only showing top 1 row\n",
      "\n"
     ]
    }
   ],
   "source": [
    "pipelineModel = my_pipeline.fit(data)\n",
    "processed_data = pipelineModel.transform(data)\n",
    "processed_data.show(1)"
   ]
  },
  {
   "cell_type": "markdown",
   "id": "69e5e58c-4c4d-495d-935a-5acaea4fc340",
   "metadata": {},
   "source": [
    "Create bigrams"
   ]
  },
  {
   "cell_type": "code",
   "execution_count": 10,
   "id": "537a06f2-50f6-436d-b6dd-61282396cee4",
   "metadata": {},
   "outputs": [
    {
     "name": "stderr",
     "output_type": "stream",
     "text": [
      "[Stage 2:>                                                          (0 + 1) / 1]\r"
     ]
    },
    {
     "name": "stdout",
     "output_type": "stream",
     "text": [
      "+----------------------------------------------------------------------------------------------------+\n",
      "|                                                                                             bigrams|\n",
      "+----------------------------------------------------------------------------------------------------+\n",
      "|[[frustratedly, bored], [whole, gone], [wind, turnipspeech], [watching, inuyasha], [found, vaguel...|\n",
      "|[[pretty, long], [bold, lines], [huge, fan], [never, shied], [shied, away], [always, tried], [fit...|\n",
      "|   [[never, felt], [felt, comfortable], [school, fixing], [needed, emotional], [emotional, support]]|\n",
      "|[[never, ending], [ending, loop], [actually, becoming], [depression, holds], [nursing, school], [...|\n",
      "|[[biggest, dream], [quite, apartment], [lamborghini, veneno], [studying, english], [english, lite...|\n",
      "|[[normal, uni], [uni, student], [particular, clubgroup], [crush, onwe], [onwe, used], [awkwardthe...|\n",
      "|[[techniques, however], [bother, practicing], [haphazard, placebo], [currently, practice], [physi...|\n",
      "|[[sufficient, desire], [reasonable, job], [job, degree], [degree, friends], [eg, head], [head, de...|\n",
      "|[[healthier, physically], [physically, sadly], [making, steps], [effectively, meditate], [mind, s...|\n",
      "|[[narcissist, spectrum], [major, changes], [better, friend], [always, judge], [big, ways], [event...|\n",
      "+----------------------------------------------------------------------------------------------------+\n",
      "only showing top 10 rows\n",
      "\n"
     ]
    },
    {
     "name": "stderr",
     "output_type": "stream",
     "text": [
      "                                                                                \r"
     ]
    }
   ],
   "source": [
    "from pyspark.sql import functions as F\n",
    "from pyspark.sql import types as T\n",
    "\n",
    "def generate_bigrams(tokens):\n",
    "    return [(tokens[i], tokens[i+1]) for i in range(len(tokens) - 1) \\\n",
    "           if tokens[i] not in stopwords and tokens[i+1] not in stopwords]\n",
    "                    \n",
    "bigram_udf = F.udf(generate_bigrams, T.ArrayType(T.ArrayType(T.StringType())))\n",
    "bigrams_df = processed_data.withColumn(\"bigrams\", bigram_udf(F.col(\"finished_normalized\")))\n",
    "\n",
    "bigrams_df.select('bigrams').show(10, truncate=100)"
   ]
  },
  {
   "cell_type": "markdown",
   "id": "4c401947-52e3-4440-94e5-624e6aae3a01",
   "metadata": {},
   "source": [
    "Create network"
   ]
  },
  {
   "cell_type": "code",
   "execution_count": 11,
   "id": "b57a00b1-2cb2-4160-96bf-c4a77db1b845",
   "metadata": {},
   "outputs": [],
   "source": [
    "edges_df = bigrams_df.select(\"id\", F.explode(F.col(\"bigrams\")).alias(\"bigram\"))\n",
    "edges_df = edges_df.select(\n",
    "    F.col(\"bigram\")[0].alias(\"src\"),\n",
    "    F.col(\"bigram\")[1].alias(\"dst\")\n",
    ")"
   ]
  },
  {
   "cell_type": "code",
   "execution_count": 12,
   "id": "7f77a59d-0c66-4d7e-b48e-0933281e081e",
   "metadata": {},
   "outputs": [
    {
     "name": "stdout",
     "output_type": "stream",
     "text": [
      "+------------+--------------------+\n",
      "|         src|                 dst|\n",
      "+------------+--------------------+\n",
      "|frustratedly|               bored|\n",
      "|       whole|                gone|\n",
      "|        wind|        turnipspeech|\n",
      "|    watching|            inuyasha|\n",
      "|       found|             vaguely|\n",
      "|     vaguely|        entertaining|\n",
      "|       whole|selfimprovementthing|\n",
      "|    starters|                 kit|\n",
      "|      pretty|                long|\n",
      "|        bold|               lines|\n",
      "|        huge|                 fan|\n",
      "|       never|               shied|\n",
      "|       shied|                away|\n",
      "|      always|               tried|\n",
      "|         fit|             healthy|\n",
      "|        mind|             however|\n",
      "|      recent|               years|\n",
      "|        huge|            problems|\n",
      "|    problems|             keeping|\n",
      "|  relatively|            speaking|\n",
      "+------------+--------------------+\n",
      "only showing top 20 rows\n",
      "\n"
     ]
    }
   ],
   "source": [
    "edges_df.show(20)"
   ]
  },
  {
   "cell_type": "markdown",
   "id": "8cce81a3-cd1a-446c-908e-0232d8ce8716",
   "metadata": {},
   "source": [
    "Create vertices"
   ]
  },
  {
   "cell_type": "code",
   "execution_count": 13,
   "id": "fc8d0725-a28f-478b-8fa5-6fe2cc725913",
   "metadata": {},
   "outputs": [],
   "source": [
    "vertices_df = edges_df.select(F.col(\"src\").alias(\"id\")).union(edges_df.select(F.col(\"dst\").alias(\"id\"))).distinct()"
   ]
  },
  {
   "cell_type": "code",
   "execution_count": 14,
   "id": "842692e5-e511-4b98-87b6-6eae7ac1d0b5",
   "metadata": {},
   "outputs": [
    {
     "name": "stderr",
     "output_type": "stream",
     "text": [
      "[Stage 4:=============================>                            (8 + 8) / 16]\r"
     ]
    },
    {
     "name": "stdout",
     "output_type": "stream",
     "text": [
      "+------------+\n",
      "|          id|\n",
      "+------------+\n",
      "|         art|\n",
      "|conversation|\n",
      "|       often|\n",
      "|      taking|\n",
      "|       watch|\n",
      "|     explain|\n",
      "|    romantic|\n",
      "|    spending|\n",
      "|        film|\n",
      "| perspective|\n",
      "+------------+\n",
      "only showing top 10 rows\n",
      "\n"
     ]
    },
    {
     "name": "stderr",
     "output_type": "stream",
     "text": [
      "                                                                                \r"
     ]
    }
   ],
   "source": [
    "vertices_df.show(10)"
   ]
  },
  {
   "cell_type": "code",
   "execution_count": 15,
   "id": "a19ef05d-51c8-4bcc-a715-68ae2c2c96f0",
   "metadata": {},
   "outputs": [
    {
     "name": "stderr",
     "output_type": "stream",
     "text": [
      "[Stage 7:==============>                                            (2 + 6) / 8]\r"
     ]
    },
    {
     "name": "stdout",
     "output_type": "stream",
     "text": [
      "+---------+-------------+\n",
      "|      src|          dst|\n",
      "+---------+-------------+\n",
      "|   mental|        state|\n",
      "|    wasnt|         home|\n",
      "|  masters|       degree|\n",
      "|     cold|relationships|\n",
      "|  clearly|         knew|\n",
      "|    dazed|       living|\n",
      "|    needs|       taking|\n",
      "|     head|       degree|\n",
      "|   social|  environment|\n",
      "|potential|      success|\n",
      "+---------+-------------+\n",
      "only showing top 10 rows\n",
      "\n"
     ]
    },
    {
     "name": "stderr",
     "output_type": "stream",
     "text": [
      "                                                                                \r"
     ]
    }
   ],
   "source": [
    "edges_df = edges_df.distinct()\n",
    "edges_df.show(10)"
   ]
  },
  {
   "cell_type": "code",
   "execution_count": 16,
   "id": "db80b540-acc7-450a-bc14-7005679f606f",
   "metadata": {},
   "outputs": [
    {
     "name": "stderr",
     "output_type": "stream",
     "text": [
      "/software/spark-3.3.2-el8-x86_64/python/pyspark/sql/dataframe.py:148: UserWarning: DataFrame.sql_ctx is an internal property, and will be removed in future releases. Use DataFrame.sparkSession instead.\n",
      "  warnings.warn(\n"
     ]
    }
   ],
   "source": [
    "network = GraphFrame(vertices_df, edges_df)"
   ]
  },
  {
   "cell_type": "code",
   "execution_count": 17,
   "id": "23dde3a5-ef0c-4226-9abb-145f13d4d861",
   "metadata": {},
   "outputs": [
    {
     "name": "stderr",
     "output_type": "stream",
     "text": [
      "/software/spark-3.3.2-el8-x86_64/python/pyspark/sql/dataframe.py:127: UserWarning: DataFrame constructor is internal. Do not directly use it.\n",
      "  warnings.warn(\"DataFrame constructor is internal. Do not directly use it.\")\n",
      "[Stage 10:==================================================>       (7 + 1) / 8]\r"
     ]
    },
    {
     "name": "stdout",
     "output_type": "stream",
     "text": [
      "+----------+--------+\n",
      "|        id|inDegree|\n",
      "+----------+--------+\n",
      "|      back|      38|\n",
      "|     every|      32|\n",
      "|       job|      28|\n",
      "|     years|      26|\n",
      "|    better|      26|\n",
      "|      away|      22|\n",
      "|everything|      21|\n",
      "|      part|      20|\n",
      "|   friends|      20|\n",
      "|       try|      19|\n",
      "|   instead|      18|\n",
      "|      read|      16|\n",
      "|      find|      16|\n",
      "|   however|      16|\n",
      "|    skills|      16|\n",
      "|    please|      16|\n",
      "|    social|      16|\n",
      "|    either|      16|\n",
      "|   therapy|      15|\n",
      "|    others|      15|\n",
      "+----------+--------+\n",
      "only showing top 20 rows\n",
      "\n"
     ]
    },
    {
     "name": "stderr",
     "output_type": "stream",
     "text": [
      "                                                                                \r"
     ]
    }
   ],
   "source": [
    "network.inDegrees.orderBy(F.col(\"inDegree\"), ascending=False).show()"
   ]
  },
  {
   "cell_type": "code",
   "execution_count": 18,
   "id": "8f005237-a95c-4527-b9de-595301d62a9b",
   "metadata": {},
   "outputs": [
    {
     "name": "stderr",
     "output_type": "stream",
     "text": [
      "                                                                                \r"
     ]
    },
    {
     "name": "stdout",
     "output_type": "stream",
     "text": [
      "+----------+------------------+\n",
      "|        id|          pagerank|\n",
      "+----------+------------------+\n",
      "|    listen| 150.0070771995183|\n",
      "|       bla|61.014216766194664|\n",
      "|       woo| 37.65816250793299|\n",
      "|      kata|26.371381215293447|\n",
      "|      back|   22.057585711522|\n",
      "|    slowly| 17.98323383450343|\n",
      "|      away|16.562529466481717|\n",
      "|      tell| 16.33501414825656|\n",
      "|everything|14.483840559464932|\n",
      "|     every|14.082245287232228|\n",
      "|    better|12.965661898094059|\n",
      "|       say| 12.63555834294155|\n",
      "|   telling|12.332068662072956|\n",
      "|  physical|12.306820079058182|\n",
      "|   however|11.518418374300731|\n",
      "|   whether|11.301621155705147|\n",
      "|       try|11.171512419062235|\n",
      "|      fate| 10.79617623684786|\n",
      "|   friends|10.170346963061345|\n",
      "|   stories| 9.874905394175311|\n",
      "|  honestly| 9.690963302836591|\n",
      "|  remember| 9.445595923992132|\n",
      "|    rather| 9.347186365006074|\n",
      "|     first| 8.998795010951117|\n",
      "|    either| 8.974650744597717|\n",
      "|     years| 8.958673160348038|\n",
      "|     ampxb| 8.954279721399264|\n",
      "|      long|  8.83670676901325|\n",
      "|additional| 8.309500566728744|\n",
      "|    habits| 8.282709594348987|\n",
      "|       job|  8.05844651243331|\n",
      "|     makes| 7.905875628050628|\n",
      "|   instead|7.8197396233567655|\n",
      "|       per| 7.764485847242022|\n",
      "|   reading| 7.757149038530102|\n",
      "|    others| 7.659689357763844|\n",
      "|      read|7.5586436734390405|\n",
      "|      home| 7.517912624630507|\n",
      "|      part| 7.448330501401127|\n",
      "|      keep|7.3514092404108675|\n",
      "|      find| 7.311935734692785|\n",
      "|motivation| 7.299139933646317|\n",
      "|     hours|7.2308793918499035|\n",
      "|    though| 7.197173715379029|\n",
      "|      made|  7.16152754939962|\n",
      "|meditation| 7.131761001139847|\n",
      "|completely| 7.034962675115788|\n",
      "|      food| 6.870678179179303|\n",
      "|    please|6.8560152213181675|\n",
      "|      book| 6.733261552023667|\n",
      "+----------+------------------+\n",
      "only showing top 50 rows\n",
      "\n"
     ]
    }
   ],
   "source": [
    "results = network.pageRank(resetProbability=0.01, maxIter=20)\n",
    "results.vertices.select(\"id\", \"pagerank\").orderBy(F.col(\"pagerank\"), ascending=False).show(50)"
   ]
  },
  {
   "cell_type": "markdown",
   "id": "5547ed3e-e781-4ffb-8ff0-86b5237235cf",
   "metadata": {},
   "source": [
    "## REMOVE SAMPLE"
   ]
  },
  {
   "cell_type": "code",
   "execution_count": null,
   "id": "648c78a6-1f00-49ff-a180-f9a2889d763a",
   "metadata": {},
   "outputs": [],
   "source": []
  }
 ],
 "metadata": {
  "kernelspec": {
   "display_name": "Python 3 (ipykernel)",
   "language": "python",
   "name": "python3"
  },
  "language_info": {
   "codemirror_mode": {
    "name": "ipython",
    "version": 3
   },
   "file_extension": ".py",
   "mimetype": "text/x-python",
   "name": "python",
   "nbconvert_exporter": "python",
   "pygments_lexer": "ipython3",
   "version": "3.9.19"
  }
 },
 "nbformat": 4,
 "nbformat_minor": 5
}
