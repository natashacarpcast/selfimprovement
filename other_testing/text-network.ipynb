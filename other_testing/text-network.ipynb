{
 "cells": [
  {
   "cell_type": "markdown",
   "id": "9e1977c0-f9fe-42ea-8638-3876ae92b876",
   "metadata": {},
   "source": [
    "Asked ChatGPT how to convert bigrams into a network and it showed me the workflow which I corrected for errors and adapted to my data"
   ]
  },
  {
   "cell_type": "code",
   "execution_count": 1,
   "id": "e15971f5-6ba3-41f0-a9d1-e30f4df9cda6",
   "metadata": {},
   "outputs": [
    {
     "name": "stdout",
     "output_type": "stream",
     "text": [
      "24/11/19 20:20:07 WARN SparkSession: Using an existing Spark session; only runtime SQL configurations will take effect.\n",
      "Warning::Spark Session already created, some configs may not take.\n",
      "24/11/19 20:20:07 WARN SparkSession: Using an existing Spark session; only runtime SQL configurations will take effect.\n"
     ]
    }
   ],
   "source": [
    "from pyspark.sql import SparkSession\n",
    "from graphframes import *\n",
    "import sparknlp\n",
    "from sparknlp.annotator import Tokenizer, PerceptronModel\n",
    "from sparknlp.base import DocumentAssembler\n",
    "from pyspark.ml import Pipeline\n",
    "from sparknlp.pretrained import PretrainedPipeline\n",
    "from sparknlp.annotator import *\n",
    "from sparknlp.base import *\n",
    "from pyspark.ml.feature import CountVectorizer\n",
    "from pyspark.ml.feature import IDF\n",
    "from pyspark.ml.clustering import LDA\n",
    "from pyspark.sql import types as T\n",
    "\n",
    "spark = SparkSession \\\n",
    "        .builder \\\n",
    "        .appName(\"network\") \\\n",
    "        .getOrCreate()\n",
    "\n",
    "spark_nlp = sparknlp.start()"
   ]
  },
  {
   "cell_type": "code",
   "execution_count": 2,
   "id": "41b98d5b-7611-453c-b0d3-ff06bc630977",
   "metadata": {},
   "outputs": [],
   "source": [
    "data = spark.read.csv(\"../data_topicmodel.csv\", header= True).select([\"id\", \"cleaned_text\"])\n",
    "data = data.sample(0.001)"
   ]
  },
  {
   "cell_type": "markdown",
   "id": "dc25d006-9b9e-4f2d-b5e7-1468315de212",
   "metadata": {},
   "source": [
    "Preprocess and get tokens"
   ]
  },
  {
   "cell_type": "code",
   "execution_count": 3,
   "id": "339744d3-b3e8-4d10-862c-a6a24ed00f7a",
   "metadata": {},
   "outputs": [],
   "source": [
    "english = [\n",
    "    \"a\", \"about\", \"above\", \"after\", \"again\", \"against\", \"all\", \"am\", \"an\", \"and\", \"any\", \"are\", \"as\", \"at\", \"be\", \n",
    "    \"because\", \"been\", \"before\", \"being\", \"below\", \"between\", \"both\", \"but\", \"by\", \"can\", \"cannot\", \"could\", \"did\", \n",
    "    \"do\", \"does\", \"doing\", \"down\", \"during\", \"each\", \"few\", \"for\", \"from\", \"further\", \"had\", \"has\", \"have\", \"having\", \n",
    "    \"he\", \"her\", \"here\", \"hers\", \"herself\", \"him\", \"himself\", \"his\", \"how\", \"i\", \"if\", \"in\", \"into\", \"is\", \"it\", \n",
    "    \"its\", \"itself\", \"let\", \"me\", \"more\", \"most\", \"must\", \"my\", \"myself\", \"no\", \"nor\", \"not\", \"of\", \"off\", \"on\", \n",
    "    \"once\", \"only\", \"or\", \"other\", \"our\", \"ours\", \"ourselves\", \"out\", \"over\", \"own\", \"same\", \"she\", \"some\", \"such\", \n",
    "    \"than\", \"that\", \"the\", \"their\", \"theirs\", \"them\", \"themselves\", \"then\", \"there\", \"these\", \"they\", \"this\", \"those\", \n",
    "    \"through\", \"to\", \"too\", \"under\", \"until\", \"up\", \"very\", \"was\", \"we\", \"were\", \"what\", \"when\", \"where\", \"which\", \n",
    "    \"while\", \"who\", \"whom\", \"why\", \"with\", \"would\", \"you\", \"your\", \"yours\", \"yourself\", \"yourselves\", \"will\", \"ll\", \n",
    "    \"re\", \"ve\", \"d\", \"s\", \"m\", \"b\", \"c\", \"d\", \"e\", \"f\", \"g\", \"h\", \"i\", \"j\", \"k\", \"l\", \"m\", \"n\", \"o\", \"p\", \"q\", \"r\", \n",
    "    \"s\", \"t\", \"u\", \"v\", \"w\", \"x\", \"y\", \"z\", \"many\", \"us\", \"ok\", \"hows\", \"ive\", \"ill\", \"im\", \"cant\", \"topics\", \"topic\",\n",
    "    \"discuss\", \"thoughts\", \"yo\", \"thats\", \"whats\", \"lets\", \"nothing\", \"oh\", \"omg\", \n",
    "         \"things\", \"stuff\", \"yall\", \"haha\", \"yes\", \"no\", \"wo\", \"like\", 'good', \n",
    "         'work', 'got', 'going', 'dont', 'really', 'want', 'make', 'think', \n",
    "         'know', 'feel', 'people', 'life', \"getting\", \"lot\" \"great\", \"i\", \"me\", \n",
    "         \"my\", \"myself\", \"we\", \"our\", \"ours\", \"ourselves\", \n",
    "        \"you\", \"your\", \"yours\", \"yourself\", \"yourselves\", \"he\", \"him\", \"his\", \n",
    "        \"himself\", \"she\", \"her\", \"hers\", \"herself\", \"it\", \"its\", \"itself\", \n",
    "        \"they\", \"them\", \"their\", \"theirs\",\"themselves\", \"what\", \"which\", \"who\", \n",
    "        \"whom\", \"this\", \"that\", \"these\", \"those\", \"am\", \"is\", \"are\", \"was\", \n",
    "        \"were\", \"be\", \"been\", \"being\", \"have\", \"has\", \"had\", \"having\", \"do\", \n",
    "        \"does\", \"did\", \"doing\", \"will\", \"would\", \"should\", \"can\", \"could\", \"may\",\n",
    "        \"might\", \"must\", \"shall\", \"ought\", \"about\", \"above\", \"across\", \"after\", \n",
    "        \"against\", \"along\", \"amid\", \"among\", \"around\", \"as\", \"at\", \"before\", \"behind\",\n",
    "        \"below\", \"beneath\", \"beside\", \"between\", \"beyond\", \"but\", \"by\", \n",
    "        \"concerning\", \"considering\", \"despite\", \"down\", \"during\", \"except\", \"for\",\n",
    "        \"from\", \"in\", \"inside\", \"into\", \"like\", \"near\", \"next\", \"notwithstanding\",\n",
    "        \"of\", \"off\", \"on\", \"onto\", \"opposite\", \"out\", \"outside\", \"over\", \"past\",\n",
    "        \"regarding\", \"round\", \"since\", \"than\", \"through\", \"throughout\", \"till\", \n",
    "        \"to\", \"toward\", \"towards\", \"under\", \"underneath\", \"unlike\", \"until\", \"up\",\n",
    "        \"upon\", \"versus\", \"via\", \"with\", \"within\", \"without\", \"cant\", \"cannot\", \n",
    "        \"couldve\", \"couldnt\", \"didnt\", \"doesnt\", \"dont\", \"hadnt\", \"hasnt\", \n",
    "        \"havent\", \"hed\", \"hell\", \"hes\", \"howd\", \"howll\", \"hows\", \"id\", \"ill\", \n",
    "        \"im\", \"ive\", \"isnt\", \"itd\", \"itll\", \"its\", \"lets\", \"mightve\", \"mustve\", \n",
    "        \"mustnt\", \"shant\", \"shed\", \"shell\", \"shes\", \"shouldve\", \"shouldnt\", \n",
    "        \"thatll\", \"thats\", \"thered\", \"therell\", \"therere\", \"theres\", \"theyd\", \n",
    "        \"theyll\", \"theyre\", \"theyve\", \"wed\", \"well\", \"were\", \"weve\", \"werent\", \n",
    "        \"whatd\", \"whatll\", \"whatre\", \"whats\", \"whatve\", \"whend\", \"whenll\", \n",
    "        \"whens\", \"whered\", \"wherell\", \"wheres\", \"whichd\", \"whichll\", \"whichre\", \n",
    "        \"whichs\", \"whod\", \"wholl\", \"whore\", \"whos\", \"whove\", \"whyd\", \"whyll\", \n",
    "        \"whys\", \"wont\", \"wouldve\", \"wouldnt\", \"youd\", \"youll\", \"youre\", \"youve\",\n",
    "        \"f\", \"m\", \"because\", \"go\", \"lot\", \"get\", \"still\", \"way\", \"something\", \"much\",\n",
    "        \"thing\", \"someone\", \"person\", \"anything\", \"goes\", \"ok\", \"so\", \"just\", \"mostly\", \n",
    "        \"put\", \"also\", \"lots\", \"yet\", \"ha\", \"etc\", \"even\", \"one\", \"bye\", \"take\"]\n",
    "\n",
    "time = [\"monday\", \"tuesday\", \"wednesday\", \"thursday\", \"friday\", \"saturday\", \n",
    "        \"sunday\", \"morning\", \"noon\", \"afternoon\", \"evening\", \"night\", \"midnight\",\n",
    "        \"dawn\", \"dusk\", \"week\", \"weekend\", \"weekends\",\"weekly\", \"today\", \n",
    "        \"yesterday\", \"tomorrow\", \"yesterdays\", \"todays\", \"mondays\", \"tuesdays\",\n",
    "        \"wednesdays\", \"thursdays\", \"fridays\", \"saturdays\", \"sundays\", \"day\",\n",
    "        \"everyday\", \"daily\", \"workday\", 'time', 'month', 'year', 'pm', 'am', \"ago\",\n",
    "        \"year\", \"now\"]\n",
    "\n",
    "reddit = [\"welcome\", \"hi\", \"hello\", \"sub\", \"reddit\", \"thanks\", \"thank\", \"maybe\",\n",
    "          \"wo30\", \"mods\", \"mod\", \"moderators\", \"subreddit\", \"btw\", \"aw\", \"aww\", \n",
    "          \"aww\", \"hey\", \"hello\", \"join\", \"joined\", \"post\", \"rselfimprovement\"]\n",
    "\n",
    "topic_specific = [\"self\", \"improvement\", \"change\", \"action\",\n",
    "    'change', 'start', 'goal', 'habit', 'new', 'old', \n",
    "    'care', 'world', 'everyone', 'love', 'u', 'right', 'mean', 'matter',\n",
    "    'best', 'step', 'focus', 'hard', 'small',\n",
    "    'bad', 'help', 'time', 'problem', 'issue', 'advice',\n",
    "    'bit', 'experience', 'different',\n",
    "    'point', 'situation', 'negative', 'control', 'positive',\n",
    "    'use', 'question', 'idea', 'amp', 'medium', 'hour', 'day', 'minute',\n",
    "    'aaaaloot', \"selfimprovement\", \"_\"]\n",
    "\n",
    "stopwords = english + time + reddit + topic_specific"
   ]
  },
  {
   "cell_type": "code",
   "execution_count": 4,
   "id": "83126f4e-9686-4e62-a9cc-45536169c84e",
   "metadata": {},
   "outputs": [],
   "source": [
    "documentAssembler = DocumentAssembler()\\\n",
    "     .setInputCol(\"cleaned_text\")\\\n",
    "     .setOutputCol('document')"
   ]
  },
  {
   "cell_type": "code",
   "execution_count": 5,
   "id": "5e241496-7e88-4d42-b563-3368fce129a4",
   "metadata": {},
   "outputs": [],
   "source": [
    "tokenizer = Tokenizer() \\\n",
    "            .setInputCols(['document'])\\\n",
    "            .setOutputCol('tokenized')"
   ]
  },
  {
   "cell_type": "code",
   "execution_count": 6,
   "id": "02645fca-5d88-4f53-8276-22837f01cf2a",
   "metadata": {},
   "outputs": [],
   "source": [
    "normalizer = Normalizer() \\\n",
    "     .setInputCols(['tokenized']) \\\n",
    "     .setOutputCol('normalized')"
   ]
  },
  {
   "cell_type": "code",
   "execution_count": 7,
   "id": "5b73cf75-5450-4a82-b5f3-009867d04c37",
   "metadata": {},
   "outputs": [],
   "source": [
    "from sparknlp.base import Finisher\n",
    "\n",
    "finisher = Finisher().setInputCols(['normalized'])"
   ]
  },
  {
   "cell_type": "code",
   "execution_count": 8,
   "id": "48059742-500e-446c-bf75-b37840cf3a4a",
   "metadata": {},
   "outputs": [],
   "source": [
    "my_pipeline = Pipeline(\n",
    "      stages = [\n",
    "          documentAssembler,\n",
    "          tokenizer,\n",
    "          normalizer,\n",
    "          finisher\n",
    "      ])"
   ]
  },
  {
   "cell_type": "code",
   "execution_count": 9,
   "id": "16765900-49e1-489f-b062-5842ddad2092",
   "metadata": {},
   "outputs": [
    {
     "name": "stderr",
     "output_type": "stream",
     "text": [
      "WARNING: An illegal reflective access operation has occurred\n",
      "WARNING: Illegal reflective access by org.apache.spark.util.SizeEstimator$ (file:/software/spark-3.3.2-el8-x86_64/jars/spark-core_2.12-3.3.2.jar) to field java.util.regex.Pattern.pattern\n",
      "WARNING: Please consider reporting this to the maintainers of org.apache.spark.util.SizeEstimator$\n",
      "WARNING: Use --illegal-access=warn to enable warnings of further illegal reflective access operations\n",
      "WARNING: All illegal access operations will be denied in a future release\n"
     ]
    },
    {
     "name": "stdout",
     "output_type": "stream",
     "text": [
      "+------+--------------------+--------------------+\n",
      "|    id|        cleaned_text| finished_normalized|\n",
      "+------+--------------------+--------------------+\n",
      "|1nfprr|im feeling pumped...|[im, feeling, pum...|\n",
      "+------+--------------------+--------------------+\n",
      "only showing top 1 row\n",
      "\n"
     ]
    }
   ],
   "source": [
    "pipelineModel = my_pipeline.fit(data)\n",
    "processed_data = pipelineModel.transform(data)\n",
    "processed_data.show(1)"
   ]
  },
  {
   "cell_type": "markdown",
   "id": "69e5e58c-4c4d-495d-935a-5acaea4fc340",
   "metadata": {},
   "source": [
    "Create bigrams"
   ]
  },
  {
   "cell_type": "code",
   "execution_count": 10,
   "id": "537a06f2-50f6-436d-b6dd-61282396cee4",
   "metadata": {},
   "outputs": [
    {
     "name": "stderr",
     "output_type": "stream",
     "text": [
      "[Stage 2:>                                                          (0 + 1) / 1]\r"
     ]
    },
    {
     "name": "stdout",
     "output_type": "stream",
     "text": [
      "+----------------------------------------------------------------------------------------------------+\n",
      "|                                                                                             bigrams|\n",
      "+----------------------------------------------------------------------------------------------------+\n",
      "|[[feeling, pumped], [walked, miles], [miles, washed], [washed, dishes], [healthy, keto], [keto, b...|\n",
      "|[[example, learning], [language, musical], [musical, instrument], [instrument, dancing], [dancing...|\n",
      "|[[feeling, extremely], [sport, lack], [social, contact], [enough, sleep], [sleep, neglected], [ne...|\n",
      "|[[notes, storyboards], [storyboards, profiles], [vast, contexts], [characters, sketched], [import...|\n",
      "|[[members, share], [play, guitar], [guys, share], [whatever, resources], [eachother, learn], [sim...|\n",
      "|[[fall, flat], [flat, every], [top, public], [public, university], [university, business], [busin...|\n",
      "|[[title, came], [michael, franti], [arts, seem], [understand, human], [human, nature], [begin, ch...|\n",
      "|[[others, dig], [whatever, hole], [felt, almost], [almost, pointless], [real, progress], [long, t...|\n",
      "|[[making, connections], [making, friends], [easily, influenced], [multiple, times], [happily, mar...|\n",
      "|[[young, adult], [serious, need], [extremely, difficult], [better, tell], [truly, enjoy], [import...|\n",
      "+----------------------------------------------------------------------------------------------------+\n",
      "only showing top 10 rows\n",
      "\n"
     ]
    },
    {
     "name": "stderr",
     "output_type": "stream",
     "text": [
      "                                                                                \r"
     ]
    }
   ],
   "source": [
    "from pyspark.sql import functions as F\n",
    "from pyspark.sql import types as T\n",
    "\n",
    "def generate_bigrams(tokens):\n",
    "    return [(tokens[i], tokens[i+1]) for i in range(len(tokens) - 1) \\\n",
    "           if tokens[i] not in stopwords and tokens[i+1] not in stopwords]\n",
    "                    \n",
    "bigram_udf = F.udf(generate_bigrams, T.ArrayType(T.ArrayType(T.StringType())))\n",
    "bigrams_df = processed_data.withColumn(\"bigrams\", bigram_udf(F.col(\"finished_normalized\")))\n",
    "\n",
    "bigrams_df.select('bigrams').show(10, truncate=100)"
   ]
  },
  {
   "cell_type": "markdown",
   "id": "4c401947-52e3-4440-94e5-624e6aae3a01",
   "metadata": {},
   "source": [
    "Create network"
   ]
  },
  {
   "cell_type": "code",
   "execution_count": 11,
   "id": "b57a00b1-2cb2-4160-96bf-c4a77db1b845",
   "metadata": {},
   "outputs": [],
   "source": [
    "edges_df = bigrams_df.select(\"id\", F.explode(F.col(\"bigrams\")).alias(\"bigram\"))\n",
    "edges_df = edges_df.select(\n",
    "    F.col(\"bigram\")[0].alias(\"src\"),\n",
    "    F.col(\"bigram\")[1].alias(\"dst\")\n",
    ")"
   ]
  },
  {
   "cell_type": "code",
   "execution_count": 12,
   "id": "7f77a59d-0c66-4d7e-b48e-0933281e081e",
   "metadata": {},
   "outputs": [
    {
     "name": "stdout",
     "output_type": "stream",
     "text": [
      "+----------+-----------+\n",
      "|       src|        dst|\n",
      "+----------+-----------+\n",
      "|   feeling|     pumped|\n",
      "|    walked|      miles|\n",
      "|     miles|     washed|\n",
      "|    washed|     dishes|\n",
      "|   healthy|       keto|\n",
      "|      keto|  breakfast|\n",
      "|   studied|    spanish|\n",
      "|     forty|    minutes|\n",
      "|    weight|   training|\n",
      "|   example|   learning|\n",
      "|  language|    musical|\n",
      "|   musical| instrument|\n",
      "|instrument|    dancing|\n",
      "|   dancing| perfecting|\n",
      "|      golf|      swing|\n",
      "|     swing|   learning|\n",
      "|      edit|     videos|\n",
      "|    videos|        ect|\n",
      "|   similar|experiences|\n",
      "|     learn|     skills|\n",
      "+----------+-----------+\n",
      "only showing top 20 rows\n",
      "\n"
     ]
    },
    {
     "name": "stderr",
     "output_type": "stream",
     "text": [
      "                                                                                \r"
     ]
    }
   ],
   "source": [
    "edges_df.show(20)"
   ]
  },
  {
   "cell_type": "markdown",
   "id": "8cce81a3-cd1a-446c-908e-0232d8ce8716",
   "metadata": {},
   "source": [
    "Create vertices"
   ]
  },
  {
   "cell_type": "code",
   "execution_count": 24,
   "id": "fc8d0725-a28f-478b-8fa5-6fe2cc725913",
   "metadata": {},
   "outputs": [
    {
     "name": "stderr",
     "output_type": "stream",
     "text": [
      "                                                                                \r"
     ]
    }
   ],
   "source": [
    "vertices_df = edges_df.select(F.col(\"src\").alias(\"id\")).union(edges_df.select(F.col(\"dst\").alias(\"id\"))).distinct()\n",
    "vertices_df.write.csv(\"vertices\")"
   ]
  },
  {
   "cell_type": "code",
   "execution_count": 14,
   "id": "842692e5-e511-4b98-87b6-6eae7ac1d0b5",
   "metadata": {},
   "outputs": [
    {
     "name": "stderr",
     "output_type": "stream",
     "text": [
      "[Stage 4:===================================>                     (10 + 6) / 16]\r"
     ]
    },
    {
     "name": "stdout",
     "output_type": "stream",
     "text": [
      "+---------+\n",
      "|       id|\n",
      "+---------+\n",
      "|      art|\n",
      "|   doubts|\n",
      "|    often|\n",
      "|   taking|\n",
      "| slightly|\n",
      "|    staff|\n",
      "| pleasing|\n",
      "|  achieve|\n",
      "|   growth|\n",
      "|character|\n",
      "+---------+\n",
      "only showing top 10 rows\n",
      "\n"
     ]
    },
    {
     "name": "stderr",
     "output_type": "stream",
     "text": [
      "                                                                                \r"
     ]
    }
   ],
   "source": [
    "vertices_df.show(10)"
   ]
  },
  {
   "cell_type": "code",
   "execution_count": 25,
   "id": "a19ef05d-51c8-4bcc-a715-68ae2c2c96f0",
   "metadata": {},
   "outputs": [
    {
     "name": "stderr",
     "output_type": "stream",
     "text": [
      "                                                                                \r"
     ]
    },
    {
     "name": "stdout",
     "output_type": "stream",
     "text": [
      "+----------+-------------+\n",
      "|       src|          dst|\n",
      "+----------+-------------+\n",
      "|      adhd|        forum|\n",
      "|  calculus|   statistics|\n",
      "|      find|     somebody|\n",
      "|everything|     thinking|\n",
      "|   gaining|    admission|\n",
      "|      kind|   empathetic|\n",
      "|  slightly|        rural|\n",
      "|      rude|condescending|\n",
      "|    public|      stutter|\n",
      "|      gets|       burned|\n",
      "+----------+-------------+\n",
      "only showing top 10 rows\n",
      "\n"
     ]
    },
    {
     "name": "stderr",
     "output_type": "stream",
     "text": [
      "                                                                                \r"
     ]
    }
   ],
   "source": [
    "edges_df = edges_df.distinct()\n",
    "edges_df.write.csv(\"edges\")\n",
    "edges_df.show(10)"
   ]
  },
  {
   "cell_type": "code",
   "execution_count": 23,
   "id": "db80b540-acc7-450a-bc14-7005679f606f",
   "metadata": {},
   "outputs": [
    {
     "data": {
      "text/plain": [
       "GraphFrame(v:[id: string], e:[src: string, dst: string])"
      ]
     },
     "execution_count": 23,
     "metadata": {},
     "output_type": "execute_result"
    }
   ],
   "source": [
    "network = GraphFrame(vertices_df, edges_df)\n",
    "network"
   ]
  },
  {
   "cell_type": "code",
   "execution_count": 17,
   "id": "23dde3a5-ef0c-4226-9abb-145f13d4d861",
   "metadata": {},
   "outputs": [
    {
     "name": "stderr",
     "output_type": "stream",
     "text": [
      "/software/spark-3.3.2-el8-x86_64/python/pyspark/sql/dataframe.py:127: UserWarning: DataFrame constructor is internal. Do not directly use it.\n",
      "  warnings.warn(\"DataFrame constructor is internal. Do not directly use it.\")\n",
      "[Stage 10:=====================>                                    (3 + 5) / 8]\r"
     ]
    },
    {
     "name": "stdout",
     "output_type": "stream",
     "text": [
      "+-------------+--------+\n",
      "|           id|inDegree|\n",
      "+-------------+--------+\n",
      "|         back|      35|\n",
      "|        every|      35|\n",
      "|          try|      26|\n",
      "|        years|      21|\n",
      "|          job|      20|\n",
      "|      instead|      20|\n",
      "|       enough|      19|\n",
      "|         away|      19|\n",
      "|       social|      18|\n",
      "|       others|      18|\n",
      "|      working|      17|\n",
      "|        never|      16|\n",
      "|       better|      16|\n",
      "|    sometimes|      15|\n",
      "|      friends|      15|\n",
      "|         part|      15|\n",
      "|       though|      15|\n",
      "|relationships|      14|\n",
      "|         find|      14|\n",
      "|      looking|      14|\n",
      "+-------------+--------+\n",
      "only showing top 20 rows\n",
      "\n"
     ]
    },
    {
     "name": "stderr",
     "output_type": "stream",
     "text": [
      "                                                                                \r"
     ]
    }
   ],
   "source": [
    "network.inDegrees.orderBy(F.col(\"inDegree\"), ascending=False).show()"
   ]
  },
  {
   "cell_type": "code",
   "execution_count": 22,
   "id": "8f005237-a95c-4527-b9de-595301d62a9b",
   "metadata": {},
   "outputs": [
    {
     "name": "stderr",
     "output_type": "stream",
     "text": [
      "                                                                                \r"
     ]
    },
    {
     "name": "stdout",
     "output_type": "stream",
     "text": [
      "+-------------+------------------+\n",
      "|           id|          pagerank|\n",
      "+-------------+------------------+\n",
      "|       afraid| 138.8473000454674|\n",
      "|       traits|107.15157107215202|\n",
      "|     earplugs| 68.31217527158195|\n",
      "|   cancelling|63.056041149254945|\n",
      "|         wear| 61.97601007507923|\n",
      "|        noise| 51.51325640431438|\n",
      "|       metime| 48.16809689614223|\n",
      "|          try|19.985857062608197|\n",
      "|         back|17.349171891157592|\n",
      "|        every|15.696328156309653|\n",
      "|    sometimes|15.351313008245628|\n",
      "|      instead|11.186680982653346|\n",
      "|        makes|10.793549750015732|\n",
      "|       enough|10.519353161000959|\n",
      "|         away| 9.988701196503651|\n",
      "|     whatever| 9.620476982063243|\n",
      "|      feeling| 9.574432976480624|\n",
      "|        years|  9.38610903391197|\n",
      "|      working| 8.614637743122639|\n",
      "|        first| 8.593862991328285|\n",
      "|        comes| 8.438233344483548|\n",
      "|        hours|  8.20238005091758|\n",
      "|       though|  8.08901210341723|\n",
      "|        arent| 7.696359095687199|\n",
      "|        raise| 7.475829912239985|\n",
      "|          job| 7.430867442002359|\n",
      "|       social| 7.421756606376794|\n",
      "|   especially| 7.338080614952663|\n",
      "|      minutes|  7.23009775558477|\n",
      "|     problems|  7.17351324394197|\n",
      "|       others|  7.01981804015026|\n",
      "|      letting| 6.956031638752776|\n",
      "|         true| 6.879043344435043|\n",
      "|       weight| 6.872571840413429|\n",
      "|      changed| 6.733092560541041|\n",
      "|      meaning| 6.646551633230109|\n",
      "|        ampxb| 6.633135908781748|\n",
      "|         stop| 6.578212844214487|\n",
      "|          man| 6.501247736844899|\n",
      "|           fr|6.2909197389141704|\n",
      "|     although| 6.290189152665131|\n",
      "|     pressure| 6.182186469461163|\n",
      "|relationships| 6.171652927152212|\n",
      "|        never| 6.099847117860732|\n",
      "|      however| 6.039746953903575|\n",
      "|     together| 5.953025560161385|\n",
      "|         mine|5.9435917593486876|\n",
      "|        trust| 5.882782293476265|\n",
      "|       better| 5.739373867455103|\n",
      "|     learning| 5.662933087735784|\n",
      "+-------------+------------------+\n",
      "only showing top 50 rows\n",
      "\n"
     ]
    }
   ],
   "source": [
    "results = network.pageRank(resetProbability=0.01, maxIter=20)\n",
    "results.vertices.select(\"id\", \"pagerank\").orderBy(F.col(\"pagerank\"), ascending=False).show(50)"
   ]
  },
  {
   "cell_type": "markdown",
   "id": "5547ed3e-e781-4ffb-8ff0-86b5237235cf",
   "metadata": {},
   "source": [
    "## REMOVE SAMPLE"
   ]
  },
  {
   "cell_type": "code",
   "execution_count": null,
   "id": "648c78a6-1f00-49ff-a180-f9a2889d763a",
   "metadata": {},
   "outputs": [],
   "source": []
  }
 ],
 "metadata": {
  "kernelspec": {
   "display_name": "Python 3 (ipykernel)",
   "language": "python",
   "name": "python3"
  },
  "language_info": {
   "codemirror_mode": {
    "name": "ipython",
    "version": 3
   },
   "file_extension": ".py",
   "mimetype": "text/x-python",
   "name": "python",
   "nbconvert_exporter": "python",
   "pygments_lexer": "ipython3",
   "version": "3.9.19"
  }
 },
 "nbformat": 4,
 "nbformat_minor": 5
}
