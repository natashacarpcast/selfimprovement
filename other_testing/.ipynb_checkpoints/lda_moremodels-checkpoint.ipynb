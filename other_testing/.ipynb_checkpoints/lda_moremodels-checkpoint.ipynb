{
 "cells": [
  {
   "cell_type": "code",
   "execution_count": 1,
   "id": "2cab5220-7c97-4a2e-8721-fe427bf0f309",
   "metadata": {},
   "outputs": [
    {
     "name": "stdout",
     "output_type": "stream",
     "text": [
      "Warning::Spark Session already created, some configs may not take.\n",
      "24/11/20 20:36:33 WARN SparkSession: Using an existing Spark session; only runtime SQL configurations will take effect.\n"
     ]
    },
    {
     "name": "stderr",
     "output_type": "stream",
     "text": [
      "WARNING: An illegal reflective access operation has occurred                    \n",
      "WARNING: Illegal reflective access by org.apache.spark.util.SizeEstimator$ (file:/software/spark-3.3.2-el8-x86_64/jars/spark-core_2.12-3.3.2.jar) to field java.util.regex.Pattern.pattern\n",
      "WARNING: Please consider reporting this to the maintainers of org.apache.spark.util.SizeEstimator$\n",
      "WARNING: Use --illegal-access=warn to enable warnings of further illegal reflective access operations\n",
      "WARNING: All illegal access operations will be denied in a future release\n",
      "                                                                                \r"
     ]
    },
    {
     "name": "stdout",
     "output_type": "stream",
     "text": [
      "24/11/20 20:40:37 WARN OnlineLDAOptimizer: The input data is not directly cached, which may hurt performance if its parent RDDs are also uncached.\n",
      "24/11/20 20:40:38 WARN BLAS: Failed to load implementation from: com.github.fommil.netlib.NativeSystemBLAS\n",
      "24/11/20 20:40:38 WARN BLAS: Failed to load implementation from: com.github.fommil.netlib.NativeRefBLAS\n"
     ]
    },
    {
     "name": "stderr",
     "output_type": "stream",
     "text": [
      "                                                                                \r"
     ]
    }
   ],
   "source": [
    "import sparknlp\n",
    "from sparknlp.annotator import Tokenizer, PerceptronModel\n",
    "from sparknlp.base import DocumentAssembler\n",
    "from pyspark.ml import Pipeline\n",
    "from sparknlp.annotator import *\n",
    "from sparknlp.base import *\n",
    "from pyspark.ml.feature import CountVectorizer\n",
    "from pyspark.ml.feature import IDF\n",
    "from pyspark.ml.clustering import LDA\n",
    "from sparknlp.annotator import StopWordsCleaner\n",
    "from pyspark.sql import types as T\n",
    "from pyspark.sql import functions as F\n",
    "from sparknlp.annotator import NGramGenerator\n",
    "from sparknlp.base import Finisher\n",
    "from pyspark.ml.tuning import ParamGridBuilder\n",
    "\n",
    "spark = sparknlp.start()\n",
    "\n",
    "data = spark.read.csv(\"../data_topicmodel.csv\", header= True).select([\"id\", \"cleaned_text\"])\n",
    "\n",
    "#Preprocessing\n",
    "documentAssembler = DocumentAssembler()\\\n",
    "     .setInputCol(\"cleaned_text\")\\\n",
    "     .setOutputCol('document')\n",
    "\n",
    "tokenizer = Tokenizer() \\\n",
    "            .setInputCols(['document'])\\\n",
    "            .setOutputCol('tokenized')\n",
    "\n",
    "normalizer = Normalizer() \\\n",
    "     .setInputCols(['tokenized']) \\\n",
    "     .setOutputCol('normalized') \n",
    "\n",
    "english = [\n",
    "    \"a\", \"about\", \"above\", \"after\", \"again\", \"against\", \"all\", \"am\", \"an\", \"and\", \"any\", \"are\", \"as\", \"at\", \"be\", \n",
    "    \"because\", \"been\", \"before\", \"being\", \"below\", \"between\", \"both\", \"but\", \"by\", \"can\", \"cannot\", \"could\", \"did\", \n",
    "    \"do\", \"does\", \"doing\", \"down\", \"during\", \"each\", \"few\", \"for\", \"from\", \"further\", \"had\", \"has\", \"have\", \"having\", \n",
    "    \"he\", \"her\", \"here\", \"hers\", \"herself\", \"him\", \"himself\", \"his\", \"how\", \"i\", \"if\", \"in\", \"into\", \"is\", \"it\", \n",
    "    \"its\", \"itself\", \"let\", \"me\", \"more\", \"most\", \"must\", \"my\", \"myself\", \"no\", \"nor\", \"not\", \"of\", \"off\", \"on\", \n",
    "    \"once\", \"only\", \"or\", \"other\", \"our\", \"ours\", \"ourselves\", \"out\", \"over\", \"own\", \"same\", \"she\", \"some\", \"such\", \n",
    "    \"than\", \"that\", \"the\", \"their\", \"theirs\", \"them\", \"themselves\", \"then\", \"there\", \"these\", \"they\", \"this\", \"those\", \n",
    "    \"through\", \"to\", \"too\", \"under\", \"until\", \"up\", \"very\", \"was\", \"we\", \"were\", \"what\", \"when\", \"where\", \"which\", \n",
    "    \"while\", \"who\", \"whom\", \"why\", \"with\", \"would\", \"you\", \"your\", \"yours\", \"yourself\", \"yourselves\", \"will\", \"ll\", \n",
    "    \"re\", \"ve\", \"d\", \"s\", \"m\", \"b\", \"c\", \"d\", \"e\", \"f\", \"g\", \"h\", \"i\", \"j\", \"k\", \"l\", \"m\", \"n\", \"o\", \"p\", \"q\", \"r\", \n",
    "    \"s\", \"t\", \"u\", \"v\", \"w\", \"x\", \"y\", \"z\", \"many\", \"us\", \"ok\", \"hows\", \"ive\", \"ill\", \"im\", \"cant\", \"topics\", \"topic\",\n",
    "    \"discuss\", \"thoughts\", \"yo\", \"thats\", \"whats\", \"lets\", \"nothing\", \"oh\", \"omg\", \n",
    "         \"things\", \"stuff\", \"yall\", \"haha\", \"yes\", \"no\", \"wo\", \"like\", 'good', \n",
    "         'work', 'got', 'going', 'dont', 'really', 'want', 'make', 'think', \n",
    "         'know', 'feel', 'people', 'life', \"getting\", \"lot\" \"great\", \"i\", \"me\", \n",
    "         \"my\", \"myself\", \"we\", \"our\", \"ours\", \"ourselves\", \n",
    "        \"you\", \"your\", \"yours\", \"yourself\", \"yourselves\", \"he\", \"him\", \"his\", \n",
    "        \"himself\", \"she\", \"her\", \"hers\", \"herself\", \"it\", \"its\", \"itself\", \n",
    "        \"they\", \"them\", \"their\", \"theirs\",\"themselves\", \"what\", \"which\", \"who\", \n",
    "        \"whom\", \"this\", \"that\", \"these\", \"those\", \"am\", \"is\", \"are\", \"was\", \n",
    "        \"were\", \"be\", \"been\", \"being\", \"have\", \"has\", \"had\", \"having\", \"do\", \n",
    "        \"does\", \"did\", \"doing\", \"will\", \"would\", \"should\", \"can\", \"could\", \"may\",\n",
    "        \"might\", \"must\", \"shall\", \"ought\", \"about\", \"above\", \"across\", \"after\", \n",
    "        \"against\", \"along\", \"amid\", \"among\", \"around\", \"as\", \"at\", \"before\", \"behind\",\n",
    "        \"below\", \"beneath\", \"beside\", \"between\", \"beyond\", \"but\", \"by\", \n",
    "        \"concerning\", \"considering\", \"despite\", \"down\", \"during\", \"except\", \"for\",\n",
    "        \"from\", \"in\", \"inside\", \"into\", \"like\", \"near\", \"next\", \"notwithstanding\",\n",
    "        \"of\", \"off\", \"on\", \"onto\", \"opposite\", \"out\", \"outside\", \"over\", \"past\",\n",
    "        \"regarding\", \"round\", \"since\", \"than\", \"through\", \"throughout\", \"till\", \n",
    "        \"to\", \"toward\", \"towards\", \"under\", \"underneath\", \"unlike\", \"until\", \"up\",\n",
    "        \"upon\", \"versus\", \"via\", \"with\", \"within\", \"without\", \"cant\", \"cannot\", \n",
    "        \"couldve\", \"couldnt\", \"didnt\", \"doesnt\", \"dont\", \"hadnt\", \"hasnt\", \n",
    "        \"havent\", \"hed\", \"hell\", \"hes\", \"howd\", \"howll\", \"hows\", \"id\", \"ill\", \n",
    "        \"im\", \"ive\", \"isnt\", \"itd\", \"itll\", \"its\", \"lets\", \"mightve\", \"mustve\", \n",
    "        \"mustnt\", \"shant\", \"shed\", \"shell\", \"shes\", \"shouldve\", \"shouldnt\", \n",
    "        \"thatll\", \"thats\", \"thered\", \"therell\", \"therere\", \"theres\", \"theyd\", \n",
    "        \"theyll\", \"theyre\", \"theyve\", \"wed\", \"well\", \"were\", \"weve\", \"werent\", \n",
    "        \"whatd\", \"whatll\", \"whatre\", \"whats\", \"whatve\", \"whend\", \"whenll\", \n",
    "        \"whens\", \"whered\", \"wherell\", \"wheres\", \"whichd\", \"whichll\", \"whichre\", \n",
    "        \"whichs\", \"whod\", \"wholl\", \"whore\", \"whos\", \"whove\", \"whyd\", \"whyll\", \n",
    "        \"whys\", \"wont\", \"wouldve\", \"wouldnt\", \"youd\", \"youll\", \"youre\", \"youve\",\n",
    "        \"f\", \"m\", \"because\", \"go\", \"lot\", \"get\", \"still\", \"way\", \"something\", \"much\",\n",
    "        \"thing\", \"someone\", \"person\", \"anything\", \"goes\", \"ok\", \"so\", \"just\", \"mostly\", \n",
    "        \"put\", \"also\", \"lots\", \"yet\", \"ha\", \"etc\"]\n",
    "\n",
    "time = [\"monday\", \"tuesday\", \"wednesday\", \"thursday\", \"friday\", \"saturday\", \n",
    "        \"sunday\", \"morning\", \"noon\", \"afternoon\", \"evening\", \"night\", \"midnight\",\n",
    "        \"dawn\", \"dusk\", \"week\", \"weekend\", \"weekends\",\"weekly\", \"today\", \n",
    "        \"yesterday\", \"tomorrow\", \"yesterdays\", \"todays\", \"mondays\", \"tuesdays\",\n",
    "        \"wednesdays\", \"thursdays\", \"fridays\", \"saturdays\", \"sundays\", \"day\",\n",
    "        \"everyday\", \"daily\", \"workday\", 'time', 'month', 'year', 'pm', 'am', \"ago\",\n",
    "        \"year\"]\n",
    "\n",
    "reddit = [\"welcome\", \"hi\", \"hello\", \"sub\", \"reddit\", \"thanks\", \"thank\", \"maybe\",\n",
    "          \"wo30\", \"mods\", \"mod\", \"moderators\", \"subreddit\", \"btw\", \"aw\", \"aww\", \n",
    "          \"aww\", \"hey\", \"hello\", \"join\", \"joined\", \"post\", \"rselfimprovement\"]\n",
    "\n",
    "topic_specific = [\"self\", \"improvement\", \"change\", \"action\",\n",
    "    'change', 'start', 'goal', 'habit', 'new', 'old', \n",
    "    'care', 'world', 'everyone', 'love', 'u', 'right', 'mean', 'matter',\n",
    "    'best', 'step', 'focus', 'hard', 'small',\n",
    "    'bad', 'help', 'time', 'problem', 'issue', 'advice',\n",
    "    'bit', 'experience', 'different',\n",
    "    'point', 'situation', 'negative', 'control', 'positive',\n",
    "    'use', 'question', 'idea', 'amp', 'medium', 'hour', 'day', 'minute',\n",
    "    'aaaaloot', \"selfimprovement\", \"_\"]\n",
    "\n",
    "stopwords = english + time + reddit + topic_specific\n",
    "\n",
    "stopwords_cleaner = StopWordsCleaner() \\\n",
    "     .setInputCols(['normalized']) \\\n",
    "     .setOutputCol('unigrams') \\\n",
    "     .setStopWords(stopwords)\n",
    "\n",
    "pos = PerceptronModel.load(\"/project/macs40123/spark-jars/pos_anc_en_3.0.0_3.0_1614962126490/\")\\\n",
    "      .setInputCols(\"document\", \"unigrams\")\\\n",
    "      .setOutputCol(\"pos\")\n",
    "\n",
    "finisher = Finisher().setInputCols(['unigrams', 'pos'])\n",
    "\n",
    "my_pipeline = Pipeline(\n",
    "      stages = [\n",
    "          documentAssembler,\n",
    "          tokenizer,\n",
    "          normalizer,\n",
    "          stopwords_cleaner,\n",
    "          #ngrammer,\n",
    "          pos,\n",
    "          finisher\n",
    "      ])\n",
    "\n",
    "pipelineModel = my_pipeline.fit(data)\n",
    "processed_data = pipelineModel.transform(data)\n",
    "processed_data.persist()\n",
    "\n",
    "#Filter by POS\n",
    "def filter_unigrams(finished_unigrams, finished_pos):\n",
    "    '''Filters individual words based on their POS tag'''\n",
    "    return [word for word, pos in zip(finished_unigrams, finished_pos)\n",
    "            if pos in ['JJ', 'NN', 'NNS', 'NNPS']]\n",
    "\n",
    "udf_filter_unigrams = F.udf(filter_unigrams, T.ArrayType(T.StringType()))\n",
    "\n",
    "processed_data = processed_data.withColumn('filtered_unigrams_by_pos', udf_filter_unigrams(\n",
    "                                                   F.col('finished_unigrams'),\n",
    "                                                   F.col('finished_pos')))\n",
    "\n",
    "#Now that POS was done, lemmatization makes more sense at this point\n",
    "\n",
    "#Merge tokens as just one string to be able to take it as a document in the new Pipeline\n",
    "tokens_as_string = F.udf(lambda x: ' '.join(x), T.StringType())\n",
    "processed_data = processed_data.withColumn('joined_tokens', tokens_as_string(F.col('filtered_unigrams_by_pos')))\n",
    "\n",
    "last_documentAssembler = DocumentAssembler() \\\n",
    "     .setInputCol('joined_tokens') \\\n",
    "     .setOutputCol('joined_document')\n",
    "\n",
    "last_tokenizer = Tokenizer() \\\n",
    "     .setInputCols(['joined_document']) \\\n",
    "     .setOutputCol('tokenized')\n",
    "     \n",
    "lemmatizer = LemmatizerModel.load(\"../models/lemma_ewt_en_3.4.3_3.0_1651416655397/\")\\\n",
    "      .setInputCols(\"tokenized\")\\\n",
    "      .setOutputCol(\"lemmatized\")\n",
    "\n",
    "stopwords_cleaner = StopWordsCleaner() \\\n",
    "     .setInputCols(['lemmatized']) \\\n",
    "     .setOutputCol('final') \\\n",
    "     .setStopWords(stopwords)\n",
    "\n",
    "last_finisher = Finisher() \\\n",
    "     .setInputCols(['final']) \\\n",
    "\n",
    "last_pipeline = Pipeline() \\\n",
    "     .setStages([last_documentAssembler,                  \n",
    "                 last_tokenizer,\n",
    "                 lemmatizer,\n",
    "                 stopwords_cleaner,\n",
    "                 last_finisher])\n",
    "\n",
    "final_data = last_pipeline.fit(processed_data).transform(processed_data)\n",
    "\n",
    "processed_data.unpersist()\n",
    "final_data.persist()\n",
    "\n",
    "## Vectorization\n",
    "#Apply TF-IDF filtering\n",
    "tfizer = CountVectorizer(inputCol='finished_final', outputCol='tf_features', minDF=0.01, maxDF=0.80, vocabSize= 2000)\n",
    "tf_model = tfizer.fit(final_data)\n",
    "tf_result = tf_model.transform(final_data)\n",
    "\n",
    "idfizer = IDF(inputCol='tf_features', outputCol='tf_idf_features')\n",
    "idf_model = idfizer.fit(tf_result)\n",
    "tfidf_result = idf_model.transform(tf_result)\n",
    "\n",
    "final_data.unpersist()\n",
    "tfidf_result.persist()\n",
    "\n",
    "## LDA\n",
    "lda = LDA(k=15, maxIter=50, learningDecay=0.5, learningOffset = 50, featuresCol='tf_idf_features', seed=2503)\n",
    "lda_model = lda.fit(tfidf_result)"
   ]
  },
  {
   "cell_type": "code",
   "execution_count": 2,
   "id": "1ebfb836-5472-4074-8347-d0ff646c8a05",
   "metadata": {},
   "outputs": [],
   "source": [
    "def evaluate_model(model, data):\n",
    "    log_likelihood = model.logLikelihood(data)\n",
    "    perplexity = model.logPerplexity(data)\n",
    "    return log_likelihood, perplexity\n"
   ]
  },
  {
   "cell_type": "code",
   "execution_count": 3,
   "id": "24b2571c-b54c-4d36-85cd-6f6c785e970b",
   "metadata": {},
   "outputs": [
    {
     "name": "stderr",
     "output_type": "stream",
     "text": [
      "                                                                                \r"
     ]
    },
    {
     "data": {
      "text/plain": [
       "(-174313160.85882685, 5.835186685104412)"
      ]
     },
     "execution_count": 3,
     "metadata": {},
     "output_type": "execute_result"
    }
   ],
   "source": [
    "evaluate_model(lda_model, tfidf_result)"
   ]
  },
  {
   "cell_type": "code",
   "execution_count": 6,
   "id": "59fdc37a-6d9d-4e10-9bcc-06fe27e303ca",
   "metadata": {},
   "outputs": [],
   "source": [
    "vocab = tf_model.vocabulary\n",
    "\n",
    "def get_words(token_list):\n",
    "     return [vocab[token_id] for token_id in token_list]\n",
    "       \n",
    "udf_to_words = F.udf(get_words, T.ArrayType(T.StringType()))"
   ]
  },
  {
   "cell_type": "code",
   "execution_count": 10,
   "id": "44ca6b15-7193-42b7-afe2-a0c380148266",
   "metadata": {},
   "outputs": [
    {
     "name": "stdout",
     "output_type": "stream",
     "text": [
      "+-----+----------------------------------------------------------------------------------------------------------------------------------------+\n",
      "|topic|topicWords                                                                                                                              |\n",
      "+-----+----------------------------------------------------------------------------------------------------------------------------------------+\n",
      "|0    |[brain, emotion, anxiety, motivation, stress, tired, drug, effect, feeling, anger, emotional, depression, memory, lazy, alcohol]        |\n",
      "|1    |[story, family, child, support, okay, young, friend, hair, brother, fix, fine, mother, balance, accept, boundaries]                     |\n",
      "|2    |[job, school, college, parent, class, money, kid, home, high, study, degree, mom, dad, house, career]                                   |\n",
      "|3    |[fear, choice, comment, project, appreciate, pressure, version, grateful, perspective, growth, miserable, exact, journey, nature, doubt]|\n",
      "|4    |[book, read, sleep, bed, wake, early, failure, light, passion, journal, car, research, successful, skill, late]                         |\n",
      "|5    |[phone, task, meditation, list, plan, app, routine, break, room, practice, apps, fight, track, present, tip]                            |\n",
      "|6    |[value, happiness, path, purpose, decision, happy, worth, success, direction, money, future, relationship, important, company, esteem]  |\n",
      "|7    |[woman, man, sex, weight, porn, gym, body, cold, fat, workout, skin, male, attractive, average, shape]                                  |\n",
      "|8    |[word, ampxb, behavior, pain, mistakes, belief, aware, desire, truth, view, opinion, heart, mind, true, moment]                         |\n",
      "|9    |[girl, guy, conversation, group, talk, confidence, nice, meet, date, confident, friend, relationship, eye, social, contact]             |\n",
      "|10   |[game, social, video, media, youtube, hobbies, smoke, hobby, content, music, play, sport, watch, fun, comfort]                          |\n",
      "|11   |[health, mental, toxic, solution, push, doctor, mindset, training, physical, effort, body, useful, result, strength, shame]             |\n",
      "|12   |[food, therapy, drink, therapist, partner, water, healthy, op, eat, energy, diet, meal, trauma, coffee, exercise]                       |\n",
      "|13   |[fuck, sad, voice, respect, regret, response, stupid, idk, personality, shit, deserve, super, name, attitude, inner]                    |\n",
      "|14   |[sound, yeah, god, information, attention, responsibility, ton, piece, real, offer, wife, keep, online, smart, figure]                  |\n",
      "+-----+----------------------------------------------------------------------------------------------------------------------------------------+\n",
      "\n"
     ]
    }
   ],
   "source": [
    "num_top_words = 15\n",
    "\n",
    "topics = lda_model.describeTopics(num_top_words).withColumn('topicWords', udf_to_words(F.col('termIndices')))\n",
    "topics.select('topic', 'topicWords').show(truncate=False)"
   ]
  },
  {
   "cell_type": "code",
   "execution_count": 11,
   "id": "65d4c87b-466e-4cb8-a523-24ed912feb72",
   "metadata": {},
   "outputs": [
    {
     "name": "stdout",
     "output_type": "stream",
     "text": [
      "24/11/20 20:59:15 WARN OnlineLDAOptimizer: The input data is not directly cached, which may hurt performance if its parent RDDs are also uncached.\n"
     ]
    },
    {
     "name": "stderr",
     "output_type": "stream",
     "text": [
      "                                                                                \r"
     ]
    }
   ],
   "source": [
    "## LDA\n",
    "lda = LDA(k=10, maxIter=50, learningDecay=0.5, learningOffset = 50, featuresCol='tf_idf_features', seed=2503)\n",
    "lda_model = lda.fit(tfidf_result)"
   ]
  },
  {
   "cell_type": "code",
   "execution_count": 12,
   "id": "98a1193f-020d-42ef-a12b-a458ae46a58f",
   "metadata": {},
   "outputs": [
    {
     "name": "stderr",
     "output_type": "stream",
     "text": [
      "                                                                                \r"
     ]
    },
    {
     "data": {
      "text/plain": [
       "(-176111174.9392809, 5.895375759585099)"
      ]
     },
     "execution_count": 12,
     "metadata": {},
     "output_type": "execute_result"
    }
   ],
   "source": [
    "evaluate_model(lda_model, tfidf_result)"
   ]
  },
  {
   "cell_type": "code",
   "execution_count": 13,
   "id": "3527c0b4-7449-40c2-8926-43e123213eb7",
   "metadata": {},
   "outputs": [
    {
     "name": "stdout",
     "output_type": "stream",
     "text": [
      "+-----+------------------------------------------------------------------------------------------------------------------------------------------+\n",
      "|topic|topicWords                                                                                                                                |\n",
      "+-----+------------------------------------------------------------------------------------------------------------------------------------------+\n",
      "|0    |[brain, anxiety, depression, stress, energy, emotion, tired, mental, drug, health, feeling, smoke, motivation, effect, anger]             |\n",
      "|1    |[game, video, story, shit, play, family, fine, mental, hair, brother, fix, health, wife, boundaries, weird]                               |\n",
      "|2    |[job, school, college, parent, money, kid, class, home, high, house, degree, mom, study, family, dad]                                     |\n",
      "|3    |[fear, comment, choice, happy, appreciate, project, version, sad, internet, grateful, amazing, perfect, piece, joy, miserable]            |\n",
      "|4    |[book, read, skill, learn, hobby, information, op, knowledgeable, passion, journal, language, early, test, pick, useful]                  |\n",
      "|5    |[media, phone, task, social, meditation, bed, list, app, routine, productive, plan, schedule, break, room, youtube]                       |\n",
      "|6    |[value, happiness, path, success, decision, purpose, worth, happy, future, comfort, direction, important, relationship, successful, money]|\n",
      "|7    |[woman, man, gym, weight, body, porn, sex, food, water, healthy, diet, cold, workout, muscle, eat]                                        |\n",
      "|8    |[word, ampxb, behavior, pain, mistakes, feeling, belief, mind, aware, therapy, truth, view, response, opinion, therapist]                 |\n",
      "|9    |[girl, guy, relationship, group, talk, conversation, confidence, friend, date, social, meet, nice, confident, interest, partner]          |\n",
      "+-----+------------------------------------------------------------------------------------------------------------------------------------------+\n",
      "\n"
     ]
    }
   ],
   "source": [
    "num_top_words = 15\n",
    "\n",
    "topics = lda_model.describeTopics(num_top_words).withColumn('topicWords', udf_to_words(F.col('termIndices')))\n",
    "topics.select('topic', 'topicWords').show(truncate=False)"
   ]
  },
  {
   "cell_type": "code",
   "execution_count": 14,
   "id": "18546dcc-13c2-4a6e-a6a8-fc5fcdfb254d",
   "metadata": {},
   "outputs": [
    {
     "name": "stdout",
     "output_type": "stream",
     "text": [
      "24/11/20 21:08:38 WARN OnlineLDAOptimizer: The input data is not directly cached, which may hurt performance if its parent RDDs are also uncached.\n"
     ]
    },
    {
     "name": "stderr",
     "output_type": "stream",
     "text": [
      "                                                                                \r"
     ]
    }
   ],
   "source": [
    "## LDA\n",
    "lda3 = LDA(k=10, maxIter=50, learningDecay=0.5, learningOffset = 50, featuresCol='tf_idf_features', topicConcentration= 0.1, seed=2503)\n",
    "lda_model3 = lda3.fit(tfidf_result)"
   ]
  },
  {
   "cell_type": "code",
   "execution_count": 15,
   "id": "129c6c73-28f0-44b9-b722-427908284e70",
   "metadata": {},
   "outputs": [
    {
     "name": "stderr",
     "output_type": "stream",
     "text": [
      "                                                                                \r"
     ]
    },
    {
     "data": {
      "text/plain": [
       "(-176111174.939281, 5.895375759585102)"
      ]
     },
     "execution_count": 15,
     "metadata": {},
     "output_type": "execute_result"
    }
   ],
   "source": [
    "evaluate_model(lda_model3, tfidf_result)"
   ]
  },
  {
   "cell_type": "code",
   "execution_count": 16,
   "id": "1572aed9-4e50-42ee-b76f-20c7515426fd",
   "metadata": {},
   "outputs": [
    {
     "name": "stdout",
     "output_type": "stream",
     "text": [
      "+-----+------------------------------------------------------------------------------------------------------------------------------------------+\n",
      "|topic|topicWords                                                                                                                                |\n",
      "+-----+------------------------------------------------------------------------------------------------------------------------------------------+\n",
      "|0    |[brain, anxiety, depression, stress, energy, emotion, tired, mental, drug, health, feeling, smoke, motivation, effect, anger]             |\n",
      "|1    |[game, video, story, shit, play, family, fine, mental, hair, brother, fix, health, wife, boundaries, weird]                               |\n",
      "|2    |[job, school, college, parent, money, kid, class, home, high, house, degree, mom, study, family, dad]                                     |\n",
      "|3    |[fear, comment, choice, happy, appreciate, project, version, sad, internet, grateful, amazing, perfect, piece, joy, miserable]            |\n",
      "|4    |[book, read, skill, learn, hobby, information, op, knowledgeable, passion, journal, language, early, test, pick, useful]                  |\n",
      "|5    |[media, phone, task, social, meditation, bed, list, app, routine, productive, plan, schedule, break, room, youtube]                       |\n",
      "|6    |[value, happiness, path, success, decision, purpose, worth, happy, future, comfort, direction, important, relationship, successful, money]|\n",
      "|7    |[woman, man, gym, weight, body, porn, sex, food, water, healthy, diet, cold, workout, muscle, eat]                                        |\n",
      "|8    |[word, ampxb, behavior, pain, mistakes, feeling, belief, mind, aware, therapy, truth, view, response, opinion, therapist]                 |\n",
      "|9    |[girl, guy, relationship, group, talk, conversation, confidence, friend, date, social, meet, nice, confident, interest, partner]          |\n",
      "+-----+------------------------------------------------------------------------------------------------------------------------------------------+\n",
      "\n"
     ]
    }
   ],
   "source": [
    "num_top_words = 15\n",
    "\n",
    "topics = lda_model3.describeTopics(num_top_words).withColumn('topicWords', udf_to_words(F.col('termIndices')))\n",
    "topics.select('topic', 'topicWords').show(truncate=False)"
   ]
  },
  {
   "cell_type": "code",
   "execution_count": 17,
   "id": "8e9ba11f-6e5c-4b4d-81d9-0e91949f224c",
   "metadata": {},
   "outputs": [
    {
     "name": "stdout",
     "output_type": "stream",
     "text": [
      "24/11/20 21:12:12 WARN OnlineLDAOptimizer: The input data is not directly cached, which may hurt performance if its parent RDDs are also uncached.\n"
     ]
    },
    {
     "name": "stderr",
     "output_type": "stream",
     "text": [
      "                                                                                \r"
     ]
    },
    {
     "name": "stdout",
     "output_type": "stream",
     "text": [
      "+-----+------------------------------------------------------------------------------------------------------------------------------------------+\n",
      "|topic|topicWords                                                                                                                                |\n",
      "+-----+------------------------------------------------------------------------------------------------------------------------------------------+\n",
      "|0    |[brain, anxiety, emotion, stress, feeling, depression, emotional, drug, effect, anxious, anger, memory, tired, mood, alcohol]             |\n",
      "|1    |[family, story, support, hair, mother, dream, brother, weird, young, balance, call, accept, friend, girlfriend, sign]                     |\n",
      "|2    |[job, school, college, class, kid, parent, high, study, money, degree, home, career, university, grade, student]                          |\n",
      "|3    |[fear, choice, comment, decision, project, appreciate, growth, pressure, perspective, adult, nature, exact, understanding, buy, edit]     |\n",
      "|4    |[face, car, successful, drive, light, passion, fall, slow, process, trouble, half, pattern, pick, specific, skill]                        |\n",
      "|5    |[phone, meditation, practice, break, room, app, task, fight, plan, track, apps, tip, busy, present, list]                                 |\n",
      "|6    |[value, happiness, worth, path, money, happy, success, direction, esteem, connection, future, achieve, company, lead, quality]            |\n",
      "|7    |[woman, man, sex, porn, cold, addiction, skin, attractive, male, average, bro, fat, beautiful, dude, guy]                                 |\n",
      "|8    |[word, ampxb, mistakes, belief, pain, aware, desire, truth, view, perfect, true, moment, reality, mind, hold]                             |\n",
      "|9    |[girl, guy, conversation, group, talk, confidence, nice, meet, date, friend, eye, contact, joke, party, confident]                        |\n",
      "|10   |[social, game, video, media, hobbies, music, youtube, hobby, play, fun, comfort, sport, activity, zone, watch]                            |\n",
      "|11   |[effort, mindset, knowledgeable, push, struggle, useful, suggestion, training, muscle, result, learn, skill, basic, strength, shame]      |\n",
      "|12   |[therapy, drink, therapist, partner, health, mental, water, op, relationship, energy, grateful, trauma, version, challenge, force]        |\n",
      "|13   |[fuck, sad, personality, voice, response, respect, regret, deserve, attitude, childhood, several, poor, inner, anyways, terrible]         |\n",
      "|14   |[sound, attention, interest, responsibility, ton, willing, information, improve, offer, wife, keep, figure, confident, interested, online]|\n",
      "|15   |[okay, shit, wrong, lol, suck, stupid, fix, god, yeah, heart, purpose, awesome, random, hate, crazy]                                      |\n",
      "|16   |[opinion, child, failure, behavior, toxic, proud, system, complete, boundaries, environment, tend, doubt, task, necessary, parent]        |\n",
      "|17   |[food, weight, gym, sleep, exercise, body, bed, wake, routine, healthy, diet, eat, early, workout, meal]                                  |\n",
      "|18   |[area, smoke, solution, quit, doctor, test, professional, list, rule, line, progress, development, lazy, resource, research]              |\n",
      "|19   |[book, read, mom, dad, language, recommend, journal, message, content, account, picture, note, miserable, search, instagram]              |\n",
      "+-----+------------------------------------------------------------------------------------------------------------------------------------------+\n",
      "\n"
     ]
    }
   ],
   "source": [
    "## LDA\n",
    "lda4 = LDA(k=20, maxIter=50, learningDecay=0.5, learningOffset = 50, featuresCol='tf_idf_features', topicConcentration= 0.1, seed=2503)\n",
    "lda_model4 = lda4.fit(tfidf_result)\n",
    "evaluate_model(lda_model4, tfidf_result)\n",
    "num_top_words = 15\n",
    "topics = lda_model4.describeTopics(num_top_words).withColumn('topicWords', udf_to_words(F.col('termIndices')))\n",
    "topics.select('topic', 'topicWords').show(truncate=False)"
   ]
  },
  {
   "cell_type": "code",
   "execution_count": 19,
   "id": "2b5e291c-d7a8-4181-9743-e6e97350871b",
   "metadata": {},
   "outputs": [
    {
     "name": "stdout",
     "output_type": "stream",
     "text": [
      "24/11/20 21:17:02 WARN OnlineLDAOptimizer: The input data is not directly cached, which may hurt performance if its parent RDDs are also uncached.\n"
     ]
    },
    {
     "name": "stderr",
     "output_type": "stream",
     "text": [
      "                                                                                \r"
     ]
    },
    {
     "name": "stdout",
     "output_type": "stream",
     "text": [
      "+-----+-------------------------------------------------------------------------------------------------------------------------------------------+\n",
      "|topic|topicWords                                                                                                                                 |\n",
      "+-----+-------------------------------------------------------------------------------------------------------------------------------------------+\n",
      "|0    |[brain, emotion, anxiety, stress, tired, feeling, drug, motivation, effect, emotional, anger, memory, depression, lazy, alcohol]           |\n",
      "|1    |[story, family, fine, child, young, brother, hair, okay, support, friend, wife, fix, mother, everything, accept]                           |\n",
      "|2    |[job, school, college, parent, class, money, kid, home, high, study, degree, mom, dad, house, university]                                  |\n",
      "|3    |[fear, choice, comment, project, appreciate, responsibility, pressure, grateful, perspective, piece, nature, miserable, growth, joy, exact]|\n",
      "|4    |[book, read, sleep, wake, bed, early, information, light, failure, passion, skill, journal, research, knowledgeable, car]                  |\n",
      "|5    |[phone, list, task, meditation, plan, routine, app, practice, break, room, schedule, apps, track, present, check]                          |\n",
      "|6    |[value, happiness, path, purpose, decision, happy, worth, success, money, direction, future, relationship, company, important, esteem]     |\n",
      "|7    |[woman, man, sex, weight, porn, gym, body, cold, workout, fat, skin, male, average, shape, attractive]                                     |\n",
      "|8    |[word, ampxb, behavior, belief, mistakes, aware, truth, pain, view, desire, opinion, true, reality, heart, mind]                           |\n",
      "|9    |[girl, guy, conversation, group, talk, confidence, nice, meet, date, confident, friend, relationship, interest, interested, eye]           |\n",
      "|10   |[game, social, video, media, youtube, hobbies, music, smoke, hobby, content, play, sport, fun, watch, activity]                            |\n",
      "|11   |[mental, health, toxic, solution, doctor, mindset, push, effort, training, useful, physical, strength, shame, struggle, result]            |\n",
      "|12   |[food, therapy, drink, therapist, partner, water, healthy, op, energy, eat, diet, meal, trauma, relationship, coffee]                      |\n",
      "|13   |[fuck, sad, voice, shit, regret, respect, stupid, response, personality, idk, deserve, name, wrong, attitude, inner]                       |\n",
      "+-----+-------------------------------------------------------------------------------------------------------------------------------------------+\n",
      "\n"
     ]
    }
   ],
   "source": [
    "## LDA\n",
    "lda5 = LDA(k=14, maxIter=50, learningDecay=0.5, learningOffset = 50, featuresCol='tf_idf_features', topicConcentration= 0.05, seed=2503)\n",
    "lda_model5 = lda5.fit(tfidf_result)\n",
    "evaluate_model(lda_model5, tfidf_result)\n",
    "num_top_words = 15\n",
    "topics = lda_model5.describeTopics(num_top_words).withColumn('topicWords', udf_to_words(F.col('termIndices')))\n",
    "topics.select('topic', 'topicWords').show(truncate=False)"
   ]
  },
  {
   "cell_type": "code",
   "execution_count": 20,
   "id": "b1bde30a-4732-4758-b851-8fa355fc7dd9",
   "metadata": {},
   "outputs": [
    {
     "name": "stderr",
     "output_type": "stream",
     "text": [
      "                                                                                \r"
     ]
    },
    {
     "data": {
      "text/plain": [
       "(-174559259.25745088, 5.843424904707576)"
      ]
     },
     "execution_count": 20,
     "metadata": {},
     "output_type": "execute_result"
    }
   ],
   "source": [
    "evaluate_model(lda_model5, tfidf_result)"
   ]
  },
  {
   "cell_type": "code",
   "execution_count": 21,
   "id": "ff81b8a4-6ea9-4f39-aaf3-d6ad16cd5342",
   "metadata": {},
   "outputs": [
    {
     "name": "stdout",
     "output_type": "stream",
     "text": [
      "24/11/20 21:29:22 WARN OnlineLDAOptimizer: The input data is not directly cached, which may hurt performance if its parent RDDs are also uncached.\n"
     ]
    },
    {
     "name": "stderr",
     "output_type": "stream",
     "text": [
      "[Stage 1110:=============================================>        (20 + 4) / 24]\r"
     ]
    },
    {
     "name": "stdout",
     "output_type": "stream",
     "text": [
      "(-175076379.82733393, 5.860735674870358)\n",
      "+-----+--------------------------------------------------------------------------------------------------------------------------------------+\n",
      "|topic|topicWords                                                                                                                            |\n",
      "+-----+--------------------------------------------------------------------------------------------------------------------------------------+\n",
      "|0    |[brain, emotion, energy, food, stress, tired, anxiety, drug, effect, anger, anxious, feeling, motivation, drink, memory]              |\n",
      "|1    |[shit, family, story, fine, fuck, child, weird, brother, hair, young, friend, everything, wife, fix, boundaries]                      |\n",
      "|2    |[job, school, college, parent, class, money, kid, home, high, degree, mom, study, house, dad, university]                             |\n",
      "|3    |[choice, fear, comment, appreciate, project, happy, grateful, responsibility, lol, version, pressure, piece, miserable, deserve, joy] |\n",
      "|4    |[book, read, sleep, skill, wake, information, early, light, knowledgeable, passion, learn, research, journal, note, pick]             |\n",
      "|5    |[phone, list, task, meditation, plan, bed, routine, app, break, room, schedule, practice, apps, track, tip]                           |\n",
      "|6    |[value, happiness, path, success, purpose, decision, happy, worth, money, comfort, direction, future, important, dream, expectation]  |\n",
      "|7    |[woman, man, weight, gym, sex, body, porn, water, cold, muscle, workout, fat, diet, healthy, skin]                                    |\n",
      "|8    |[word, ampxb, behavior, belief, mistakes, aware, truth, view, opinion, mind, response, true, desire, reality, feeling]                |\n",
      "|9    |[girl, guy, conversation, talk, group, relationship, confidence, date, meet, friend, nice, confident, personality, social, attractive]|\n",
      "|10   |[game, social, video, media, youtube, hobbies, hobby, music, smoke, content, play, sport, watch, fun, movie]                          |\n",
      "|11   |[therapy, mental, health, therapist, depression, toxic, solution, professional, op, trauma, regret, anxiety, doctor, shame, glad]     |\n",
      "+-----+--------------------------------------------------------------------------------------------------------------------------------------+\n",
      "\n"
     ]
    },
    {
     "name": "stderr",
     "output_type": "stream",
     "text": [
      "                                                                                \r"
     ]
    }
   ],
   "source": [
    "## LDA\n",
    "lda5 = LDA(k=12, maxIter=50, learningDecay=0.5, learningOffset = 50, featuresCol='tf_idf_features', topicConcentration= 0.05, seed=2503)\n",
    "lda_model5 = lda5.fit(tfidf_result)\n",
    "print(evaluate_model(lda_model5, tfidf_result))\n",
    "num_top_words = 15\n",
    "topics = lda_model5.describeTopics(num_top_words).withColumn('topicWords', udf_to_words(F.col('termIndices')))\n",
    "topics.select('topic', 'topicWords').show(truncate=False)"
   ]
  },
  {
   "cell_type": "code",
   "execution_count": null,
   "id": "9985f7dc-cc6b-4e7b-9c30-5b4e60d057a1",
   "metadata": {},
   "outputs": [],
   "source": []
  }
 ],
 "metadata": {
  "kernelspec": {
   "display_name": "Python 3 (ipykernel)",
   "language": "python",
   "name": "python3"
  },
  "language_info": {
   "codemirror_mode": {
    "name": "ipython",
    "version": 3
   },
   "file_extension": ".py",
   "mimetype": "text/x-python",
   "name": "python",
   "nbconvert_exporter": "python",
   "pygments_lexer": "ipython3",
   "version": "3.9.19"
  }
 },
 "nbformat": 4,
 "nbformat_minor": 5
}
