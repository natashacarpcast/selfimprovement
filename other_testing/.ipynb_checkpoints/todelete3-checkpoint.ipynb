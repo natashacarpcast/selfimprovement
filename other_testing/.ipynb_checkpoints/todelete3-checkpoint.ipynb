{
 "cells": [
  {
   "cell_type": "markdown",
   "metadata": {},
   "source": [
    "\n",
    "# Community Detection using Girvan-Newman\n",
    "\n",
    "This example shows the detection of communities in the Zachary Karate\n",
    "Club dataset using the Girvan-Newman method.\n",
    "\n",
    "We plot the change in modularity as important edges are removed.\n",
    "Graph is coloured and plotted based on community detection when number\n",
    "of iterations are 1 and 4 respectively.\n"
   ]
  },
  {
   "cell_type": "code",
   "execution_count": 1,
   "metadata": {
    "collapsed": false,
    "jupyter": {
     "outputs_hidden": false
    }
   },
   "outputs": [
    {
     "name": "stdout",
     "output_type": "stream",
     "text": [
      "24/11/24 20:58:34 WARN SparkSession: Using an existing Spark session; only runtime SQL configurations will take effect.\n"
     ]
    }
   ],
   "source": [
    "from pyspark.sql import SparkSession\n",
    "import sparknlp\n",
    "import networkx as nx\n",
    "import pandas as pd\n",
    "import matplotlib.pyplot as plt\n",
    "\n",
    "spark = SparkSession \\\n",
    "        .builder \\\n",
    "        .appName(\"network\") \\\n",
    "        .getOrCreate()"
   ]
  },
  {
   "cell_type": "code",
   "execution_count": 2,
   "metadata": {},
   "outputs": [],
   "source": [
    "#Asked ChatGPT: How can I create a graph from two csv files? (one with nodes and one with edges)\n",
    "\n",
    "# File paths (replace with your file paths)\n",
    "nodes_file = \"vertices/vertices.csv\"  # CSV with one column, no header\n",
    "edges_file = \"edges/edges.csv\"  # CSV with two columns, no header\n",
    "\n",
    "# Load nodes\n",
    "nodes_df = pd.read_csv(nodes_file, header=None, names=[\"node\"])\n",
    "nodes = nodes_df[\"node\"].tolist()  # Convert to a list of nodes\n",
    "\n",
    "# Load edges\n",
    "edges_df = pd.read_csv(edges_file, header=None, names=[\"source\", \"target\"])\n",
    "edges = edges_df.values.tolist()  # Convert to a list of edge tuples"
   ]
  },
  {
   "cell_type": "code",
   "execution_count": 3,
   "metadata": {},
   "outputs": [],
   "source": [
    "# Create graph\n",
    "G = nx.DiGraph()  \n",
    "G.add_nodes_from(nodes)  \n",
    "G.add_edges_from(edges) "
   ]
  },
  {
   "cell_type": "code",
   "execution_count": null,
   "metadata": {},
   "outputs": [],
   "source": [
    "communities = list(nx.community.girvan_newman(G))"
   ]
  },
  {
   "cell_type": "code",
   "execution_count": null,
   "metadata": {},
   "outputs": [],
   "source": [
    "# Modularity -> measures the strength of division of a network into modules\n",
    "modularity_df = pd.DataFrame(\n",
    "    [\n",
    "        [k + 1, nx.community.modularity(G, communities[k])]\n",
    "        for k in range(len(communities))\n",
    "    ],\n",
    "    columns=[\"k\", \"modularity\"],\n",
    ")\n",
    "\n",
    "\n"
   ]
  },
  {
   "cell_type": "code",
   "execution_count": null,
   "metadata": {},
   "outputs": [],
   "source": [
    "# function to create node colour list\n",
    "def create_community_node_colors(graph, communities):\n",
    "    number_of_colors = len(communities)\n",
    "    colors = [\"#D4FCB1\", \"#CDC5FC\", \"#FFC2C4\", \"#F2D140\", \"#BCC6C8\"][:number_of_colors]\n",
    "    node_colors = []\n",
    "    for node in graph:\n",
    "        current_community_index = 0\n",
    "        for community in communities:\n",
    "            if node in community:\n",
    "                node_colors.append(colors[current_community_index])\n",
    "                break\n",
    "            current_community_index += 1\n",
    "    return node_colors\n",
    "\n",
    "\n",
    "# function to plot graph with node colouring based on communities\n",
    "def visualize_communities(graph, communities, i):\n",
    "    node_colors = create_community_node_colors(graph, communities)\n",
    "    modularity = round(nx.community.modularity(graph, communities), 6)\n",
    "    title = f\"Community Visualization of {len(communities)} communities with modularity of {modularity}\"\n",
    "    pos = nx.spring_layout(graph, k=0.3, iterations=50, seed=2)\n",
    "    plt.subplot(3, 1, i)\n",
    "    plt.title(title)\n",
    "    nx.draw(\n",
    "        graph,\n",
    "        pos=pos,\n",
    "        node_size=1000,\n",
    "        node_color=node_colors,\n",
    "        with_labels=True,\n",
    "        font_size=20,\n",
    "        font_color=\"black\",\n",
    "    )\n",
    "\n",
    "\n",
    "fig, ax = plt.subplots(3, figsize=(15, 20))\n",
    "\n",
    "# Plot graph with colouring based on communities\n",
    "visualize_communities(G, communities[0], 1)\n",
    "visualize_communities(G, communities[3], 2)\n",
    "\n",
    "# Plot change in modularity as the important edges are removed\n",
    "modularity_df.plot.bar(\n",
    "    x=\"k\",\n",
    "    ax=ax[2],\n",
    "    color=\"#F2D140\",\n",
    "    title=\"Modularity Trend for Girvan-Newman Community Detection\",\n",
    ")\n",
    "plt.show()"
   ]
  }
 ],
 "metadata": {
  "kernelspec": {
   "display_name": "Python 3 (ipykernel)",
   "language": "python",
   "name": "python3"
  },
  "language_info": {
   "codemirror_mode": {
    "name": "ipython",
    "version": 3
   },
   "file_extension": ".py",
   "mimetype": "text/x-python",
   "name": "python",
   "nbconvert_exporter": "python",
   "pygments_lexer": "ipython3",
   "version": "3.9.19"
  }
 },
 "nbformat": 4,
 "nbformat_minor": 4
}
