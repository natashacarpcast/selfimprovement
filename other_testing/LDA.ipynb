{
 "cells": [
  {
   "cell_type": "markdown",
   "id": "35b6aa00-eeb1-46d2-9970-0cc7142d605d",
   "metadata": {},
   "source": [
    "Used tutorial https://github.com/maobedkova/TopicModelling_PySpark_SparkNLP/blob/master/Topic_Modelling_with_PySpark_and_Spark_NLP.ipynb for reference"
   ]
  },
  {
   "cell_type": "code",
   "execution_count": 1,
   "id": "80dfe811-6044-456b-9b67-1dd90f647207",
   "metadata": {},
   "outputs": [
    {
     "name": "stdout",
     "output_type": "stream",
     "text": [
      "Warning::Spark Session already created, some configs may not take.\n",
      "24/11/10 17:46:33 WARN SparkSession: Using an existing Spark session; only runtime SQL configurations will take effect.\n"
     ]
    }
   ],
   "source": [
    "import sparknlp\n",
    "from sparknlp.annotator import Tokenizer, PerceptronModel\n",
    "from sparknlp.base import DocumentAssembler\n",
    "from pyspark.ml import Pipeline\n",
    "from sparknlp.pretrained import PretrainedPipeline\n",
    "from sparknlp.annotator import *\n",
    "from sparknlp.base import *\n",
    "from pyspark.ml.feature import CountVectorizer\n",
    "from pyspark.ml.feature import IDF\n",
    "from pyspark.ml.clustering import LDA\n",
    "from pyspark.sql import types as T\n",
    "\n",
    "spark = sparknlp.start()"
   ]
  },
  {
   "cell_type": "code",
   "execution_count": 2,
   "id": "c18ccc18-b119-472f-af9c-19a44eeea279",
   "metadata": {},
   "outputs": [],
   "source": [
    "og_data = spark.read.csv(\"../data_topicmodel.csv\", header= True).select([\"id\", \"cleaned_text\"])"
   ]
  },
  {
   "cell_type": "code",
   "execution_count": 3,
   "id": "e156a53b-e98c-488a-bd55-4d9028bad129",
   "metadata": {},
   "outputs": [
    {
     "name": "stdout",
     "output_type": "stream",
     "text": [
      "+-----+--------------------+\n",
      "|   id|        cleaned_text|\n",
      "+-----+--------------------+\n",
      "|hk5r2|i had an appointm...|\n",
      "|iqimz|i created this si...|\n",
      "|pfzt5|hello everyone  i...|\n",
      "|pk714|i grew up with bo...|\n",
      "|q0q8x|i have to ask whe...|\n",
      "+-----+--------------------+\n",
      "only showing top 5 rows\n",
      "\n"
     ]
    }
   ],
   "source": [
    "#Remove sample\n",
    "og_data.show(5)\n",
    "sample_data = og_data.sample(0.001)"
   ]
  },
  {
   "cell_type": "markdown",
   "id": "c3d856c9-673a-4d0b-a03f-732af6820a65",
   "metadata": {},
   "source": [
    "## Preprocessing"
   ]
  },
  {
   "cell_type": "code",
   "execution_count": 4,
   "id": "7911044e-82b5-4034-a43b-16e1306cc590",
   "metadata": {},
   "outputs": [],
   "source": [
    "documentAssembler = DocumentAssembler()\\\n",
    "     .setInputCol(\"cleaned_text\")\\\n",
    "     .setOutputCol('document')"
   ]
  },
  {
   "cell_type": "code",
   "execution_count": 5,
   "id": "12b99eb0-aaee-49e6-accd-8382b9778873",
   "metadata": {},
   "outputs": [],
   "source": [
    "tokenizer = Tokenizer() \\\n",
    "            .setInputCols(['document'])\\\n",
    "            .setOutputCol('tokenized')"
   ]
  },
  {
   "cell_type": "code",
   "execution_count": 6,
   "id": "e08506b3-9c85-4b12-915c-179501a1fe55",
   "metadata": {},
   "outputs": [],
   "source": [
    "normalizer = Normalizer() \\\n",
    "     .setInputCols(['tokenized']) \\\n",
    "     .setOutputCol('normalized') "
   ]
  },
  {
   "cell_type": "code",
   "execution_count": 7,
   "id": "a7785596-e18b-44b5-a57a-602da0c6c05c",
   "metadata": {},
   "outputs": [],
   "source": [
    "english = [\n",
    "    \"a\", \"about\", \"above\", \"after\", \"again\", \"against\", \"all\", \"am\", \"an\", \"and\", \"any\", \"are\", \"as\", \"at\", \"be\", \n",
    "    \"because\", \"been\", \"before\", \"being\", \"below\", \"between\", \"both\", \"but\", \"by\", \"can\", \"cannot\", \"could\", \"did\", \n",
    "    \"do\", \"does\", \"doing\", \"down\", \"during\", \"each\", \"few\", \"for\", \"from\", \"further\", \"had\", \"has\", \"have\", \"having\", \n",
    "    \"he\", \"her\", \"here\", \"hers\", \"herself\", \"him\", \"himself\", \"his\", \"how\", \"i\", \"if\", \"in\", \"into\", \"is\", \"it\", \n",
    "    \"its\", \"itself\", \"let\", \"me\", \"more\", \"most\", \"must\", \"my\", \"myself\", \"no\", \"nor\", \"not\", \"of\", \"off\", \"on\", \n",
    "    \"once\", \"only\", \"or\", \"other\", \"our\", \"ours\", \"ourselves\", \"out\", \"over\", \"own\", \"same\", \"she\", \"some\", \"such\", \n",
    "    \"than\", \"that\", \"the\", \"their\", \"theirs\", \"them\", \"themselves\", \"then\", \"there\", \"these\", \"they\", \"this\", \"those\", \n",
    "    \"through\", \"to\", \"too\", \"under\", \"until\", \"up\", \"very\", \"was\", \"we\", \"were\", \"what\", \"when\", \"where\", \"which\", \n",
    "    \"while\", \"who\", \"whom\", \"why\", \"with\", \"would\", \"you\", \"your\", \"yours\", \"yourself\", \"yourselves\", \"will\", \"ll\", \n",
    "    \"re\", \"ve\", \"d\", \"s\", \"m\", \"b\", \"c\", \"d\", \"e\", \"f\", \"g\", \"h\", \"i\", \"j\", \"k\", \"l\", \"m\", \"n\", \"o\", \"p\", \"q\", \"r\", \n",
    "    \"s\", \"t\", \"u\", \"v\", \"w\", \"x\", \"y\", \"z\", \"many\", \"us\", \"ok\", \"hows\", \"ive\", \"ill\", \"im\", \"cant\", \"topics\", \"topic\",\n",
    "    \"discuss\", \"thoughts\", \"yo\", \"thats\", \"whats\", \"lets\", \"nothing\", \"oh\", \"omg\", \n",
    "         \"things\", \"stuff\", \"yall\", \"haha\", \"yes\", \"no\", \"wo\", \"like\", 'good', \n",
    "         'work', 'got', 'going', 'dont', 'really', 'want', 'make', 'think', \n",
    "         'know', 'feel', 'people', 'life', \"getting\", \"lot\" \"great\", \"i\", \"me\", \n",
    "         \"my\", \"myself\", \"we\", \"our\", \"ours\", \"ourselves\", \n",
    "        \"you\", \"your\", \"yours\", \"yourself\", \"yourselves\", \"he\", \"him\", \"his\", \n",
    "        \"himself\", \"she\", \"her\", \"hers\", \"herself\", \"it\", \"its\", \"itself\", \n",
    "        \"they\", \"them\", \"their\", \"theirs\",\"themselves\", \"what\", \"which\", \"who\", \n",
    "        \"whom\", \"this\", \"that\", \"these\", \"those\", \"am\", \"is\", \"are\", \"was\", \n",
    "        \"were\", \"be\", \"been\", \"being\", \"have\", \"has\", \"had\", \"having\", \"do\", \n",
    "        \"does\", \"did\", \"doing\", \"will\", \"would\", \"should\", \"can\", \"could\", \"may\",\n",
    "        \"might\", \"must\", \"shall\", \"ought\", \"about\", \"above\", \"across\", \"after\", \n",
    "        \"against\", \"along\", \"amid\", \"among\", \"around\", \"as\", \"at\", \"before\", \"behind\",\n",
    "        \"below\", \"beneath\", \"beside\", \"between\", \"beyond\", \"but\", \"by\", \n",
    "        \"concerning\", \"considering\", \"despite\", \"down\", \"during\", \"except\", \"for\",\n",
    "        \"from\", \"in\", \"inside\", \"into\", \"like\", \"near\", \"next\", \"notwithstanding\",\n",
    "        \"of\", \"off\", \"on\", \"onto\", \"opposite\", \"out\", \"outside\", \"over\", \"past\",\n",
    "        \"regarding\", \"round\", \"since\", \"than\", \"through\", \"throughout\", \"till\", \n",
    "        \"to\", \"toward\", \"towards\", \"under\", \"underneath\", \"unlike\", \"until\", \"up\",\n",
    "        \"upon\", \"versus\", \"via\", \"with\", \"within\", \"without\", \"cant\", \"cannot\", \n",
    "        \"couldve\", \"couldnt\", \"didnt\", \"doesnt\", \"dont\", \"hadnt\", \"hasnt\", \n",
    "        \"havent\", \"hed\", \"hell\", \"hes\", \"howd\", \"howll\", \"hows\", \"id\", \"ill\", \n",
    "        \"im\", \"ive\", \"isnt\", \"itd\", \"itll\", \"its\", \"lets\", \"mightve\", \"mustve\", \n",
    "        \"mustnt\", \"shant\", \"shed\", \"shell\", \"shes\", \"shouldve\", \"shouldnt\", \n",
    "        \"thatll\", \"thats\", \"thered\", \"therell\", \"therere\", \"theres\", \"theyd\", \n",
    "        \"theyll\", \"theyre\", \"theyve\", \"wed\", \"well\", \"were\", \"weve\", \"werent\", \n",
    "        \"whatd\", \"whatll\", \"whatre\", \"whats\", \"whatve\", \"whend\", \"whenll\", \n",
    "        \"whens\", \"whered\", \"wherell\", \"wheres\", \"whichd\", \"whichll\", \"whichre\", \n",
    "        \"whichs\", \"whod\", \"wholl\", \"whore\", \"whos\", \"whove\", \"whyd\", \"whyll\", \n",
    "        \"whys\", \"wont\", \"wouldve\", \"wouldnt\", \"youd\", \"youll\", \"youre\", \"youve\",\n",
    "        \"f\", \"m\", \"because\", \"go\", \"lot\", \"get\", \"still\", \"way\", \"something\", \"much\",\n",
    "        \"thing\", \"someone\", \"person\", \"anything\", \"goes\", \"ok\", \"so\", \"just\", \"mostly\", \n",
    "        \"put\", \"also\", \"lots\", \"yet\"]\n",
    "\n",
    "time = [\"monday\", \"tuesday\", \"wednesday\", \"thursday\", \"friday\", \"saturday\", \n",
    "        \"sunday\", \"morning\", \"noon\", \"afternoon\", \"evening\", \"night\", \"midnight\",\n",
    "        \"dawn\", \"dusk\", \"week\", \"weekend\", \"weekends\",\"weekly\", \"today\", \n",
    "        \"yesterday\", \"tomorrow\", \"yesterdays\", \"todays\", \"mondays\", \"tuesdays\",\n",
    "        \"wednesdays\", \"thursdays\", \"fridays\", \"saturdays\", \"sundays\", \"day\",\n",
    "        \"everyday\", \"daily\", \"workday\", 'time', 'month', 'year', 'pm', 'am', \"ago\",\n",
    "        \"year\"]\n",
    "\n",
    "reddit = [\"welcome\", \"hi\", \"hello\", \"sub\", \"reddit\", \"thanks\", \"thank\", \"maybe\",\n",
    "          \"wo30\", \"mods\", \"mod\", \"moderators\", \"subreddit\", \"btw\", \"aw\", \"aww\", \n",
    "          \"aww\", \"hey\", \"hello\", \"join\", \"joined\", \"post\", \"rselfimprovement\"]\n",
    "\n",
    "topic_specific = [\"self\", \"improvement\", \"change\", \"action\",\n",
    "    'change', 'start', 'goal', 'habit', 'new', 'old', \n",
    "    'care', 'world', 'everyone', 'love', 'u', 'right', 'mean', 'matter',\n",
    "    'best', 'step', 'focus', 'hard', 'small',\n",
    "    'bad', 'help', 'time', 'problem', 'issue', 'advice',\n",
    "    'bit', 'experience', 'different',\n",
    "    'point', 'situation', 'negative', 'control', 'positive',\n",
    "    'use', 'question', 'idea', 'amp', 'medium', 'hour', 'day', 'minute',\n",
    "    'aaaaloot']\n",
    "\n",
    "stopwords = english + time + reddit + topic_specific\n",
    "\n",
    "from sparknlp.annotator import StopWordsCleaner\n",
    "\n",
    "stopwords_cleaner = StopWordsCleaner() \\\n",
    "     .setInputCols(['normalized']) \\\n",
    "     .setOutputCol('unigrams') \\\n",
    "     .setStopWords(stopwords)"
   ]
  },
  {
   "cell_type": "code",
   "execution_count": 8,
   "id": "95e33a63-8c34-4a81-8fa1-157c86492364",
   "metadata": {},
   "outputs": [],
   "source": [
    "from sparknlp.annotator import NGramGenerator\n",
    "\n",
    "ngrammer = NGramGenerator() \\\n",
    "    .setInputCols(['normalized']) \\\n",
    "    .setOutputCol('ngrams') \\\n",
    "    .setN(3) \\\n",
    "    .setEnableCumulative(True) \\\n",
    "    .setDelimiter('_')"
   ]
  },
  {
   "cell_type": "code",
   "execution_count": 9,
   "id": "d5843616-767e-448f-8943-006848263e6f",
   "metadata": {},
   "outputs": [
    {
     "name": "stderr",
     "output_type": "stream",
     "text": [
      "                                                                                \r"
     ]
    }
   ],
   "source": [
    "pos = PerceptronModel.load(\"/project/macs40123/spark-jars/pos_anc_en_3.0.0_3.0_1614962126490/\")\\\n",
    "      .setInputCols(\"document\", \"unigrams\")\\\n",
    "      .setOutputCol(\"pos\")"
   ]
  },
  {
   "cell_type": "code",
   "execution_count": 10,
   "id": "20199976-1358-47e2-8685-a8e54cc73200",
   "metadata": {},
   "outputs": [],
   "source": [
    "from sparknlp.base import Finisher\n",
    "\n",
    "finisher = Finisher().setInputCols(['unigrams', 'ngrams', 'pos'])"
   ]
  },
  {
   "cell_type": "code",
   "execution_count": 11,
   "id": "50a9dbb2-1f65-4c5b-826e-feedefbf682a",
   "metadata": {},
   "outputs": [],
   "source": [
    "my_pipeline = Pipeline(\n",
    "      stages = [\n",
    "          documentAssembler,\n",
    "          tokenizer,\n",
    "          normalizer,\n",
    "          stopwords_cleaner,\n",
    "          ngrammer,\n",
    "          pos,\n",
    "          finisher\n",
    "      ])"
   ]
  },
  {
   "cell_type": "code",
   "execution_count": 12,
   "id": "680ea3cb-e5cf-4de6-aae3-c8e4ac8a3258",
   "metadata": {},
   "outputs": [
    {
     "name": "stderr",
     "output_type": "stream",
     "text": [
      "WARNING: An illegal reflective access operation has occurred\n",
      "WARNING: Illegal reflective access by org.apache.spark.util.SizeEstimator$ (file:/software/spark-3.3.2-el8-x86_64/jars/spark-core_2.12-3.3.2.jar) to field java.util.regex.Pattern.pattern\n",
      "WARNING: Please consider reporting this to the maintainers of org.apache.spark.util.SizeEstimator$\n",
      "WARNING: Use --illegal-access=warn to enable warnings of further illegal reflective access operations\n",
      "WARNING: All illegal access operations will be denied in a future release\n"
     ]
    },
    {
     "name": "stdout",
     "output_type": "stream",
     "text": [
      "+------+--------------------+--------------------+--------------------+--------------------+\n",
      "|    id|        cleaned_text|   finished_unigrams|     finished_ngrams|        finished_pos|\n",
      "+------+--------------------+--------------------+--------------------+--------------------+\n",
      "|27k4y3|i am not a fan of...|[fan, honey, boo,...|[i, am, not, a, f...|[NN, NN, NN, NN, ...|\n",
      "+------+--------------------+--------------------+--------------------+--------------------+\n",
      "only showing top 1 row\n",
      "\n"
     ]
    }
   ],
   "source": [
    "pipelineModel = my_pipeline.fit(sample_data)\n",
    "processed_data = pipelineModel.transform(sample_data)\n",
    "processed_data.show(1)"
   ]
  },
  {
   "cell_type": "code",
   "execution_count": 13,
   "id": "198344d1-7dcc-4258-b5a1-4bba2466aac7",
   "metadata": {},
   "outputs": [
    {
     "data": {
      "text/plain": [
       "['id', 'cleaned_text', 'finished_unigrams', 'finished_ngrams', 'finished_pos']"
      ]
     },
     "execution_count": 13,
     "metadata": {},
     "output_type": "execute_result"
    }
   ],
   "source": [
    "processed_data.columns"
   ]
  },
  {
   "cell_type": "code",
   "execution_count": 14,
   "id": "87fb8dd9-18a7-453a-969a-6000f42d6057",
   "metadata": {},
   "outputs": [],
   "source": [
    "#data.select('document').show(5, truncate = 100)"
   ]
  },
  {
   "cell_type": "code",
   "execution_count": 15,
   "id": "3772846d-a5b0-4164-a7f3-adb696119d2c",
   "metadata": {},
   "outputs": [],
   "source": [
    "#data.select('tokenized').show(1, truncate = 100)"
   ]
  },
  {
   "cell_type": "code",
   "execution_count": 16,
   "id": "393e8e4f-fbdc-4537-88d9-2e928217322e",
   "metadata": {},
   "outputs": [],
   "source": [
    "#data.select('normalized').show(1, truncate = 100)"
   ]
  },
  {
   "cell_type": "code",
   "execution_count": 17,
   "id": "53c04957-b85f-4f0b-8d02-6667a4e45cf8",
   "metadata": {},
   "outputs": [],
   "source": [
    "#data.select('lemmatized').show(1, truncate = 1000)"
   ]
  },
  {
   "cell_type": "code",
   "execution_count": 18,
   "id": "7598af2e-4e59-4115-877d-95bf5fe8552e",
   "metadata": {},
   "outputs": [
    {
     "name": "stdout",
     "output_type": "stream",
     "text": [
      "+----------------------------------------------------------------------------------------------------+\n",
      "|                                                                                   finished_unigrams|\n",
      "+----------------------------------------------------------------------------------------------------+\n",
      "|[fan, honey, boo, boo, actually, putting, politely, however, journey, see, learn, anybody, surfin...|\n",
      "|[recently, met, renita, kalhorn, performance, coach, discussion, productivity, inspired, write, b...|\n",
      "|[chances, read, portion, articles, books, perhaps, watched, movies, videos, meditation, notice, p...|\n",
      "|[title, years, female, job, living, parents, squatters, condition, depressed, vent, late, ashamed...|\n",
      "|[advance, read, appreciate, sure, guess, shadow, dad, honestly, amazing, parents, letting, dad, s...|\n",
      "|[last, months, spending, even, though, thread, stands, end, spending, readingthinkinggetting, wor...|\n",
      "|[ironically, value, often, revealed, asking, jealous, rather, asking, directly, value, latter, of...|\n",
      "|[concept, fittingly, called, feedback, meaning, donereleased, happens, example, childbirth, femal...|\n",
      "|[seem, follow, emotions, follow, decide, happy, lie, based, delusion, anyone, see, npcs, slaves, ...|\n",
      "|[little, background, female, job, retail, retail, years, now, internships, history, borderline, d...|\n",
      "+----------------------------------------------------------------------------------------------------+\n",
      "only showing top 10 rows\n",
      "\n"
     ]
    }
   ],
   "source": [
    "processed_data.select('finished_unigrams').show(10, truncate = 100)"
   ]
  },
  {
   "cell_type": "markdown",
   "id": "18a3ca69-28c3-4747-86d5-ff4e3ab15af8",
   "metadata": {},
   "source": [
    "Create pos-tags n-grams that correspond to words n-grams"
   ]
  },
  {
   "cell_type": "code",
   "execution_count": 19,
   "id": "14d85977-59fb-4c78-913c-4a5aa465389b",
   "metadata": {},
   "outputs": [],
   "source": [
    "#Merge POS tags as just one string to be able to take it as a document in the Spark NLP Pipeline\n",
    "from pyspark.sql import functions as F\n",
    "pos_as_string = F.udf(lambda x: ' '.join(x), T.StringType())\n",
    "processed_data = processed_data.withColumn('finished_pos', pos_as_string(F.col('finished_pos')))"
   ]
  },
  {
   "cell_type": "code",
   "execution_count": 20,
   "id": "9c9dbe0a-f678-4a30-b0be-52677577fea7",
   "metadata": {},
   "outputs": [
    {
     "name": "stderr",
     "output_type": "stream",
     "text": [
      "[Stage 8:>                                                          (0 + 1) / 1]\r"
     ]
    },
    {
     "name": "stdout",
     "output_type": "stream",
     "text": [
      "+------+--------------------+--------------------+--------------------+--------------------+\n",
      "|    id|        cleaned_text|   finished_unigrams|     finished_ngrams|        finished_pos|\n",
      "+------+--------------------+--------------------+--------------------+--------------------+\n",
      "|27k4y3|i am not a fan of...|[fan, honey, boo,...|[i, am, not, a, f...|NN NN NN NN RB VB...|\n",
      "|2y0h7e|i recently met wi...|[recently, met, r...|[i, recently, met...|RB VBD NN NN NN N...|\n",
      "|48mxoh|chances are youve...|[chances, read, p...|[chances, are, yo...|NNS VBP NN NNS NN...|\n",
      "+------+--------------------+--------------------+--------------------+--------------------+\n",
      "only showing top 3 rows\n",
      "\n"
     ]
    },
    {
     "name": "stderr",
     "output_type": "stream",
     "text": [
      "                                                                                \r"
     ]
    }
   ],
   "source": [
    "processed_data.show(3)"
   ]
  },
  {
   "cell_type": "markdown",
   "id": "2526f892-a934-4101-a8f1-044479b473fd",
   "metadata": {},
   "source": [
    "New pipeline for pos-tags"
   ]
  },
  {
   "cell_type": "code",
   "execution_count": 21,
   "id": "e13efe3f-256a-4261-93c2-d19b2c735785",
   "metadata": {},
   "outputs": [],
   "source": [
    "pos_documentAssembler = DocumentAssembler() \\\n",
    "     .setInputCol('finished_pos') \\\n",
    "     .setOutputCol('pos_document')\n",
    "\n",
    "pos_tokenizer = Tokenizer() \\\n",
    "     .setInputCols(['pos_document']) \\\n",
    "     .setOutputCol('pos')\n",
    "     \n",
    "    \n",
    "pos_ngrammer = NGramGenerator() \\\n",
    "    .setInputCols(['pos']) \\\n",
    "    .setOutputCol('pos_ngrams') \\\n",
    "    .setN(3) \\\n",
    "    .setEnableCumulative(True) \\\n",
    "    .setDelimiter('_')\n",
    "\n",
    "pos_finisher = Finisher() \\\n",
    "     .setInputCols(['pos', 'pos_ngrams']) \\\n",
    "\n",
    "pos_pipeline = Pipeline() \\\n",
    "     .setStages([pos_documentAssembler,                  \n",
    "                 pos_tokenizer,\n",
    "                 pos_ngrammer,  \n",
    "                 pos_finisher])\n",
    "\n",
    "processed_data = pos_pipeline.fit(processed_data).transform(processed_data)"
   ]
  },
  {
   "cell_type": "code",
   "execution_count": 22,
   "id": "3b5f3238-a48b-4632-bb35-c5c796163816",
   "metadata": {},
   "outputs": [
    {
     "data": {
      "text/plain": [
       "['id',\n",
       " 'cleaned_text',\n",
       " 'finished_unigrams',\n",
       " 'finished_ngrams',\n",
       " 'finished_pos',\n",
       " 'finished_pos_ngrams']"
      ]
     },
     "execution_count": 22,
     "metadata": {},
     "output_type": "execute_result"
    }
   ],
   "source": [
    "processed_data.columns"
   ]
  },
  {
   "cell_type": "code",
   "execution_count": 23,
   "id": "0dcb5892-a1a6-486a-9845-faa5f8b3780a",
   "metadata": {},
   "outputs": [
    {
     "name": "stdout",
     "output_type": "stream",
     "text": [
      "+------+--------------------+--------------------+--------------------+--------------------+--------------------+\n",
      "|    id|        cleaned_text|   finished_unigrams|     finished_ngrams|        finished_pos| finished_pos_ngrams|\n",
      "+------+--------------------+--------------------+--------------------+--------------------+--------------------+\n",
      "|27k4y3|i am not a fan of...|[fan, honey, boo,...|[i, am, not, a, f...|[NN, NN, NN, NN, ...|[NN, NN, NN, NN, ...|\n",
      "+------+--------------------+--------------------+--------------------+--------------------+--------------------+\n",
      "only showing top 1 row\n",
      "\n"
     ]
    },
    {
     "name": "stderr",
     "output_type": "stream",
     "text": [
      "                                                                                \r"
     ]
    }
   ],
   "source": [
    "processed_data.show(1)"
   ]
  },
  {
   "cell_type": "code",
   "execution_count": 24,
   "id": "a88ada38-b7f7-43d9-a593-93b7ed787514",
   "metadata": {},
   "outputs": [],
   "source": [
    "def filter_unigrams(finished_unigrams, finished_pos):\n",
    "    '''Filters individual words based on their POS tag'''\n",
    "    return [word for word, pos in zip(finished_unigrams, finished_pos)\n",
    "            if pos in ['JJ', 'NN', 'NNS', 'NNPS']]\n",
    "\n",
    "udf_filter_unigrams = F.udf(filter_unigrams, T.ArrayType(T.StringType()))"
   ]
  },
  {
   "cell_type": "code",
   "execution_count": 25,
   "id": "f4ebd6c8-ba26-47bf-9db8-f761f1a0e921",
   "metadata": {},
   "outputs": [
    {
     "name": "stdout",
     "output_type": "stream",
     "text": [
      "+------+--------------------+--------------------+--------------------+--------------------+--------------------+------------------------+\n",
      "|    id|        cleaned_text|   finished_unigrams|     finished_ngrams|        finished_pos| finished_pos_ngrams|filtered_unigrams_by_pos|\n",
      "+------+--------------------+--------------------+--------------------+--------------------+--------------------+------------------------+\n",
      "|27k4y3|i am not a fan of...|[fan, honey, boo,...|[i, am, not, a, f...|[NN, NN, NN, NN, ...|[NN, NN, NN, NN, ...|    [fan, honey, boo,...|\n",
      "|2y0h7e|i recently met wi...|[recently, met, r...|[i, recently, met...|[RB, VBD, NN, NN,...|[RB, VBD, NN, NN,...|    [renita, kalhorn,...|\n",
      "|48mxoh|chances are youve...|[chances, read, p...|[chances, are, yo...|[NNS, VBP, NN, NN...|[NNS, VBP, NN, NN...|    [chances, portion...|\n",
      "|4zi2fb|title 24 12 years...|[title, years, fe...|[title, years, ol...|[NN, NNS, JJ, NN,...|[NN, NNS, JJ, NN,...|    [title, years, fe...|\n",
      "|63jvt5|in advance if you...|[advance, read, a...|[in, advance, if,...|[NN, NN, NN, JJ, ...|[NN, NN, NN, JJ, ...|    [advance, read, a...|\n",
      "+------+--------------------+--------------------+--------------------+--------------------+--------------------+------------------------+\n",
      "only showing top 5 rows\n",
      "\n"
     ]
    },
    {
     "name": "stderr",
     "output_type": "stream",
     "text": [
      "                                                                                \r"
     ]
    }
   ],
   "source": [
    "processed_data = processed_data.withColumn('filtered_unigrams_by_pos', udf_filter_unigrams(\n",
    "                                                   F.col('finished_unigrams'),\n",
    "                                                   F.col('finished_pos')))\n",
    "\n",
    "processed_data.show(5)"
   ]
  },
  {
   "cell_type": "code",
   "execution_count": 26,
   "id": "1327c68b-1ba7-432f-96a5-e83a4ce36933",
   "metadata": {},
   "outputs": [],
   "source": [
    "def filter_pos_ngrams(finished_ngrams, finished_pos_tags):\n",
    "    return [word for word, pos in zip(finished_ngrams, finished_pos_tags) \n",
    "            if (len(pos.split('_')) == 2 and \\\n",
    "                pos.split('_')[0] in ['JJ', 'NN', 'NNS', 'VB', 'VBP'] and \\\n",
    "                 pos.split('_')[1] in ['JJ', 'NN', 'NNS'])\n",
    "            or (len(pos.split('_')) == 3 and \\\n",
    "                pos.split('_')[0] in ['JJ', 'NN', 'NNS', 'VB', 'VBP'] and \\\n",
    "                 pos.split('_')[1] in ['JJ', 'NN', 'NNS', 'VB', 'VBP'] and \\\n",
    "                  pos.split('_')[2] in ['NN', 'NNS'])]\n",
    "    \n",
    "udf_filter_pos_ngrams = F.udf(filter_pos_ngrams, T.ArrayType(T.StringType()))"
   ]
  },
  {
   "cell_type": "code",
   "execution_count": 27,
   "id": "32c8fd55-67eb-420a-b66e-0be30b932898",
   "metadata": {},
   "outputs": [],
   "source": [
    "processed_data = processed_data.withColumn('filtered_ngrams_by_pos',\n",
    "                       udf_filter_pos_ngrams(F.col('finished_ngrams'),\n",
    "                                             F.col('finished_pos_ngrams')))"
   ]
  },
  {
   "cell_type": "code",
   "execution_count": 28,
   "id": "0cee6080-5f1b-43b9-a7c3-d1f8573c8f0e",
   "metadata": {},
   "outputs": [
    {
     "name": "stdout",
     "output_type": "stream",
     "text": [
      "+------+--------------------+--------------------+--------------------+--------------------+--------------------+------------------------+----------------------+\n",
      "|    id|        cleaned_text|   finished_unigrams|     finished_ngrams|        finished_pos| finished_pos_ngrams|filtered_unigrams_by_pos|filtered_ngrams_by_pos|\n",
      "+------+--------------------+--------------------+--------------------+--------------------+--------------------+------------------------+----------------------+\n",
      "|27k4y3|i am not a fan of...|[fan, honey, boo,...|[i, am, not, a, f...|[NN, NN, NN, NN, ...|[NN, NN, NN, NN, ...|    [fan, honey, boo,...|  [from, anybody, i...|\n",
      "|2y0h7e|i recently met wi...|[recently, met, r...|[i, recently, met...|[RB, VBD, NN, NN,...|[RB, VBD, NN, NN,...|    [renita, kalhorn,...|  [is, to, learn, h...|\n",
      "|48mxoh|chances are youve...|[chances, read, p...|[chances, are, yo...|[NNS, VBP, NN, NN...|[NNS, VBP, NN, NN...|    [chances, portion...|  [physical, state,...|\n",
      "|4zi2fb|title 24 12 years...|[title, years, fe...|[title, years, ol...|[NN, NNS, JJ, NN,...|[NN, NNS, JJ, NN,...|    [title, years, fe...|  [etc, constant, f...|\n",
      "|63jvt5|in advance if you...|[advance, read, a...|[in, advance, if,...|[NN, NN, NN, JJ, ...|[NN, NN, NN, JJ, ...|    [advance, read, a...|  [keep, focused, l...|\n",
      "+------+--------------------+--------------------+--------------------+--------------------+--------------------+------------------------+----------------------+\n",
      "only showing top 5 rows\n",
      "\n"
     ]
    },
    {
     "name": "stderr",
     "output_type": "stream",
     "text": [
      "                                                                                \r"
     ]
    }
   ],
   "source": [
    "processed_data.show(5)"
   ]
  },
  {
   "cell_type": "code",
   "execution_count": 29,
   "id": "0479f4ba-a6a8-4278-a1d7-0d212602da71",
   "metadata": {},
   "outputs": [
    {
     "name": "stdout",
     "output_type": "stream",
     "text": [
      "+------+----------------------------------------------------------------------------------------------------+\n",
      "|    id|                                                                              filtered_ngrams_by_pos|\n",
      "+------+----------------------------------------------------------------------------------------------------+\n",
      "|27k4y3|[from, anybody, in, the, a, real, cool, surfer, on, the, channel, blazing, the, new, am_not, of_h...|\n",
      "|2y0h7e|[is, to, learn, how, to, the, tasks, at, control, how, to, first, stop, annoyances, that, happen,...|\n",
      "|48mxoh|[physical, state, matters, doing, the, task, itself, then, upon, seeing, ought, to, finish, an, t...|\n",
      "|4zi2fb|[etc, constant, fights, that, no, resentment, betrayal, anger, sadnessmixed, feelings, towards, p...|\n",
      "|63jvt5|[keep, focused, long, enough, to, study, and, fucking, of, them, i, little, year, ago, about, mon...|\n",
      "|7d4nth|[something, at, all, the, potentially, getting, in, more, that, is, far, greater, i, accrue, by, ...|\n",
      "|8b5o93|[superego, and, you, are, aware, should, want, rather, than, what, you, really, want, and, your, ...|\n",
      "|8c68w6|[oxytocin, to, be, placenta, hence, contractions, even, more, stronger, in, rise, of, its, unprod...|\n",
      "|8rik2t|[it, ive, about, two, people, and, just, up, with, the, last, one, good, and, is, decided, feel, ...|\n",
      "|92dnl1|[pulling, themselves, through, it, even, though, toll, on, their, mental, health, and, i, has, a,...|\n",
      "+------+----------------------------------------------------------------------------------------------------+\n",
      "only showing top 10 rows\n",
      "\n"
     ]
    },
    {
     "name": "stderr",
     "output_type": "stream",
     "text": [
      "                                                                                \r"
     ]
    }
   ],
   "source": [
    "processed_data.select('id','filtered_ngrams_by_pos').show(10, truncate=100)"
   ]
  },
  {
   "cell_type": "code",
   "execution_count": 30,
   "id": "b7690a15-09ef-4158-b492-9bd5c5e8eaa0",
   "metadata": {},
   "outputs": [
    {
     "name": "stdout",
     "output_type": "stream",
     "text": [
      "+------+----------------------------------------------------------------------------------------------------+\n",
      "|    id|                                                                            filtered_unigrams_by_pos|\n",
      "+------+----------------------------------------------------------------------------------------------------+\n",
      "|27k4y3|[fan, honey, boo, boo, journey, anybody, channels, real, cool, surfer, dude, channel, episode, ho...|\n",
      "|2y0h7e|[renita, kalhorn, performance, coach, discussion, productivity, blog, improve, productivity, self...|\n",
      "|48mxoh|[chances, portion, articles, books, movies, meditation, notice, portray, meditation, golden, path...|\n",
      "|4zi2fb|[title, years, female, job, parents, squatters, condition, vent, regret, chest, hella, long, appr...|\n",
      "|63jvt5|[advance, read, appreciate, sure, guess, shadow, dad, amazing, parents, dad, successful, guy, lau...|\n",
      "|7d4nth|[last, months, thread, end, spending, petty, idiotic, virtue, notsogreat, threads, example, tend,...|\n",
      "|8b5o93|[value, jealous, value, latter, taps, society, expects, value, superego, aware, envy, jealousy, h...|\n",
      "|8c68w6|[concept, feedback, donereleased, example, childbirth, female, placenta, foetus, releases, hormon...|\n",
      "|8rik2t|[follow, emotions, happy, lie, based, delusion, anyone, npcs, slaves, human, programming, stand, ...|\n",
      "|92dnl1|[little, background, female, job, retail, retail, years, history, borderline, depression, feeling...|\n",
      "+------+----------------------------------------------------------------------------------------------------+\n",
      "only showing top 10 rows\n",
      "\n"
     ]
    }
   ],
   "source": [
    "processed_data.select('id','filtered_unigrams_by_pos').show(10, truncate=100)"
   ]
  },
  {
   "cell_type": "code",
   "execution_count": 31,
   "id": "817d0b5a-ff0d-4f00-bfb7-2fc8a993e388",
   "metadata": {},
   "outputs": [
    {
     "data": {
      "text/plain": [
       "['id',\n",
       " 'cleaned_text',\n",
       " 'finished_unigrams',\n",
       " 'finished_ngrams',\n",
       " 'finished_pos',\n",
       " 'finished_pos_ngrams',\n",
       " 'filtered_unigrams_by_pos',\n",
       " 'filtered_ngrams_by_pos']"
      ]
     },
     "execution_count": 31,
     "metadata": {},
     "output_type": "execute_result"
    }
   ],
   "source": [
    "processed_data.columns"
   ]
  },
  {
   "cell_type": "code",
   "execution_count": 32,
   "id": "241ee1e3-18af-4c54-95d9-d717e5cde253",
   "metadata": {},
   "outputs": [],
   "source": [
    "#Now that POS was done, lemmatization makes more sense at this point\n",
    "\n",
    "#Merge tokens as just one string to be able to take it as a document in the new Pipeline\n",
    "from pyspark.sql import functions as F\n",
    "tokens_as_string = F.udf(lambda x: ' '.join(x), T.StringType())\n",
    "processed_data = processed_data.withColumn('joined_tokens', tokens_as_string(F.col('filtered_unigrams_by_pos')))\n",
    "\n",
    "last_documentAssembler = DocumentAssembler() \\\n",
    "     .setInputCol('joined_tokens') \\\n",
    "     .setOutputCol('joined_document')\n",
    "\n",
    "last_tokenizer = Tokenizer() \\\n",
    "     .setInputCols(['joined_document']) \\\n",
    "     .setOutputCol('tokenized')\n",
    "     \n",
    "lemmatizer = LemmatizerModel.load(\"../models/lemma_ewt_en_3.4.3_3.0_1651416655397/\")\\\n",
    "      .setInputCols(\"tokenized\")\\\n",
    "      .setOutputCol(\"lemmatized\")\n",
    "\n",
    "#Delete these tokens that remained from the lemmatizer model and topic's n grams\n",
    "last_stopwords = [\"_\", \"self_improvement\"]\n",
    "\n",
    "last_stopwords_cleaner1 = StopWordsCleaner() \\\n",
    "     .setInputCols(['lemmatized']) \\\n",
    "     .setOutputCol('cleaned_unigrams') \\\n",
    "     .setStopWords(last_stopwords)\n",
    "\n",
    "last_finisher = Finisher() \\\n",
    "     .setInputCols(['cleaned_unigrams']) \\\n",
    "\n",
    "last_pipeline = Pipeline() \\\n",
    "     .setStages([last_documentAssembler,                  \n",
    "                 last_tokenizer,\n",
    "                 lemmatizer,\n",
    "                 last_stopwords_cleaner1,\n",
    "                 last_finisher])\n",
    "\n",
    "final_data = last_pipeline.fit(processed_data).transform(processed_data)\n"
   ]
  },
  {
   "cell_type": "markdown",
   "id": "f0d9d0f1-ee07-4f52-829d-f1f01c44d96e",
   "metadata": {},
   "source": [
    "Create one column merging unigrams and ngrams"
   ]
  },
  {
   "cell_type": "code",
   "execution_count": 33,
   "id": "4a1a0d7a-f91f-4ba5-89d4-68a5f2aaf873",
   "metadata": {},
   "outputs": [],
   "source": [
    "from pyspark.sql.functions import concat\n",
    "final_data = final_data.withColumn('final', concat(F.col('finished_cleaned_unigrams'), \\\n",
    "                                                   F.col('filtered_ngrams_by_pos')))\\\n",
    "                                                   .select('id','cleaned_text','final')\n",
    "                                                                                                                          "
   ]
  },
  {
   "cell_type": "code",
   "execution_count": 34,
   "id": "7deb738d-484f-45f8-b6a4-12430b06111a",
   "metadata": {},
   "outputs": [
    {
     "name": "stderr",
     "output_type": "stream",
     "text": [
      "                                                                                \r"
     ]
    },
    {
     "name": "stdout",
     "output_type": "stream",
     "text": [
      "+----------------------------------------------------------------------------------------------------+\n",
      "|                                                                                               final|\n",
      "+----------------------------------------------------------------------------------------------------+\n",
      "|[fan, honey, boo, boo, journey, anybody, channel, real, cool, surfer, dude, channel, episode, hon...|\n",
      "|[renita, kalhorn, performance, coach, discussion, productivity, blog, improve, productivity, self...|\n",
      "|[chance, portion, article, book, movie, meditation, notice, portray, meditation, golden, path, ev...|\n",
      "|[title, year, female, job, parent, squatters, condition, vent, regret, chest, hella, long, apprec...|\n",
      "|[advance, read, appreciate, sure, guess, shadow, dad, amazing, parent, dad, successful, guy, laug...|\n",
      "|[last, month, thread, end, spend, petty, idiotic, virtue, notsogreat, threads, example, tend, neu...|\n",
      "|[value, jealous, value, latter, taps, society, expect, value, superego, aware, envy, jealousy, ha...|\n",
      "|[concept, feedback, donereleased, example, childbirth, female, placenta, foetus, release, hormone...|\n",
      "|[follow, emotion, happy, lie, base, delusion, anyone, npcs, slave, human, programming, stand, obs...|\n",
      "|[little, background, female, job, retail, retail, year, history, borderline, depression, feeling,...|\n",
      "|[hoops, local, basketball, court, epiphany, score, double, amount, shot, roll, simple, shift, min...|\n",
      "|[sure, belong, buuuuuuut, college, due, major, significant, amount, man, woman, guy, long, relati...|\n",
      "|[guy, first, sorry, communication, poor, book, purpose, purpose, value, personal, growth, fear, c...|\n",
      "|[ampxb, day, terrible, pain, family, member, family, siblings, brother, sister, ampxb, heres, bac...|\n",
      "|[from, opinion, simple, narrow, absent, brain, smart, other, loser, smart, creative, idea, funny,...|\n",
      "|[crossposted, rrelationships, context, fifth, final, university, last, competition, varsity, fenc...|\n",
      "|[conscious, face, hair, look, mirror, other, selfies, iphone, other, call, job, earns, age, dress...|\n",
      "|[normal, kid, school, group, school, th, grade, anxiety, meet, reason, anxiety, part, group, fami...|\n",
      "|[anxiety, other, mental, health, issue, empathise, cause, young, mental, health, issue, real, sup...|\n",
      "|[spread, other, alot, difficulty, from, motivation, year, decision, goal, aspirations, goal, head...|\n",
      "|[rmadover, general, discussion, mental, health, issue, age, year, month, community, rmentalillnes...|\n",
      "|[eg, skin, issue, overweight, stick, middle, formulating, sentence, critical, moment, silentlynon...|\n",
      "|[call, destruction, type, need, downfall, manage, kitchen, school, mid, amazing, circle, family, ...|\n",
      "|[part, school, year, ugly, clothing, shop, wear, shirts, full, face, hair, cover, half, lol, stop...|\n",
      "|[male, significant, female, half, reverted, stop, woman, online, account, model, truth, short, bc...|\n",
      "|[mode, balance, software, engineer, husband, father, valid, strategy, career, physical, family, d...|\n",
      "|                                                            [addicted, phone, phone, real, toll, it]|\n",
      "|[first, last, couple, month, journey, happy, progress, resolution, exercise, gym, pole, dancing, ...|\n",
      "|[first, hope, rule, familiar, rule, habit, accountability, partner, share, journey, talk, aspect,...|\n",
      "|[selfimprovement, community, family, alarm, clock, wasnt, wake, minute, usual, tired, child, arri...|\n",
      "|[miss, couple, day, cousin, helpful, realize, progress, wokeup, little, late, great, talk, therap...|\n",
      "|[shift, shift, ampm, shift, pmam, week, shift, great, bed, home, hw, exercise, chore, shift, bed,...|\n",
      "|[guy, share, help, concentration, level, productive, youtube, read, article, web, speed, video, s...|\n",
      "|[simple, fact, confidence, mindfulness, skill, therapy, med, progress, fraud, overcome, entire, f...|\n",
      "|[social, media, account, instagram, twitter, toll, mental, health, unproductive, study, detox, pr...|\n",
      "|[context, town, painful, condition, teenager, sport, drug, addict, manic, episode, hold, job, bat...|\n",
      "|[possible, overcome, natural, mindsetsolution, hobbies, certain, day, sharp, needle, deep, skin, ...|\n",
      "|[keep, conversation, long, mind, blank, minute, interaction, time, attention, long, build, trust,...|\n",
      "|[anyone, calendar, apps, plan, productive, reason, heavy, open, calendar, planning, anyone, overc...|\n",
      "|[super, overwhelmed, single, study, important, exam, week, prep, second, text, phone, overwhelmed...|\n",
      "|[girlfriend, month, moment, age, gap, ready, home, settle, pump, baby, attractive, strong, feelin...|\n",
      "|[journey, social, interaction, learn, date, future, idk, tinder, bio, idk, match, date, ie, phase...|\n",
      "|[goal, surmountable, income, money, somebody, enjoy, name, stupid, stupid, feeling, dont, want, t...|\n",
      "|[jump, happy, various, aspect, general, intention, task, from, achievement, kind, happy, joy, try...|\n",
      "|[somebody, goal, personal, able, compare, super, famous, musician, super, smart, scientist, other...|\n",
      "|[development, journey, huge, breakthrough, respect, big, long, fog, contemplation, meditation, ps...|\n",
      "|[awareness, anger, angry, awareness, fear, fearful, awareness, boredom, part, spacious, hold, par...|\n",
      "|[year, college, comic, book, artist, concept, artist, video, game, awful, math, polynomial, expre...|\n",
      "|[kinda, feeling, infront, pc, productive, barber, haircut, look, messy, gym, workout, reagulary, ...|\n",
      "|[anyone, struggle, praise, praise, family, gf, engrained, appreciate, moment, insecure, mental, s...|\n",
      "+----------------------------------------------------------------------------------------------------+\n",
      "only showing top 50 rows\n",
      "\n"
     ]
    },
    {
     "name": "stderr",
     "output_type": "stream",
     "text": [
      "                                                                                \r"
     ]
    }
   ],
   "source": [
    "final_data.select('final').show(50, truncate=100)"
   ]
  },
  {
   "cell_type": "code",
   "execution_count": 35,
   "id": "5d8812d7-fd39-46ab-889d-ed86ceba27e7",
   "metadata": {},
   "outputs": [
    {
     "data": {
      "text/plain": [
       "['id', 'cleaned_text', 'final']"
      ]
     },
     "execution_count": 35,
     "metadata": {},
     "output_type": "execute_result"
    }
   ],
   "source": [
    "final_data.columns"
   ]
  },
  {
   "cell_type": "markdown",
   "id": "db230604-f5c6-447a-9b01-57976afeab68",
   "metadata": {},
   "source": [
    "## Vectorization"
   ]
  },
  {
   "cell_type": "code",
   "execution_count": 36,
   "id": "5fd16dff-01c4-43ff-ab72-f6824f2d8a7b",
   "metadata": {},
   "outputs": [
    {
     "name": "stderr",
     "output_type": "stream",
     "text": [
      "                                                                                \r"
     ]
    }
   ],
   "source": [
    "#Apply TF-IDF filtering\n",
    "tfizer = CountVectorizer(inputCol='final', outputCol='tf_features', minDF=0.01, maxDF=0.80)\n",
    "tf_model = tfizer.fit(final_data)\n",
    "tf_result = tf_model.transform(final_data)\n",
    "\n",
    "idfizer = IDF(inputCol='tf_features', outputCol='tf_idf_features')\n",
    "idf_model = idfizer.fit(tf_result)\n",
    "tfidf_result = idf_model.transform(tf_result)"
   ]
  },
  {
   "cell_type": "markdown",
   "id": "21437e2e-eb3e-4138-96c0-e14c164ea335",
   "metadata": {},
   "source": [
    "## LDA"
   ]
  },
  {
   "cell_type": "code",
   "execution_count": 37,
   "id": "84caf9a8-3db1-47b0-867f-2b53bc791b6e",
   "metadata": {},
   "outputs": [
    {
     "name": "stderr",
     "output_type": "stream",
     "text": [
      "                                                                                \r"
     ]
    },
    {
     "name": "stdout",
     "output_type": "stream",
     "text": [
      "24/11/10 17:46:54 WARN BLAS: Failed to load implementation from: com.github.fommil.netlib.NativeSystemBLAS\n",
      "24/11/10 17:46:54 WARN BLAS: Failed to load implementation from: com.github.fommil.netlib.NativeRefBLAS\n"
     ]
    },
    {
     "data": {
      "text/plain": [
       "LocalLDAModel: uid=LDA_bfad32ef4411, k=10, numFeatures=820"
      ]
     },
     "execution_count": 37,
     "metadata": {},
     "output_type": "execute_result"
    }
   ],
   "source": [
    "num_topics = 10\n",
    "max_iter = 100\n",
    "\n",
    "lda = LDA(k=num_topics, maxIter=max_iter, featuresCol='tf_idf_features', seed=2503)\n",
    "lda_model = lda.fit(tfidf_result)\n",
    "lda_model.setSeed(2503)"
   ]
  },
  {
   "cell_type": "code",
   "execution_count": 38,
   "id": "5c9fae7f-a3cf-41c3-98b6-f9fecb709a7d",
   "metadata": {},
   "outputs": [],
   "source": [
    "vocab = tf_model.vocabulary\n",
    "\n",
    "def get_words(token_list):\n",
    "     return [vocab[token_id] for token_id in token_list]\n",
    "       \n",
    "udf_to_words = F.udf(get_words, T.ArrayType(T.StringType()))"
   ]
  },
  {
   "cell_type": "code",
   "execution_count": 39,
   "id": "e4214784-d38e-49f4-ac19-59b0c40d4969",
   "metadata": {},
   "outputs": [
    {
     "name": "stdout",
     "output_type": "stream",
     "text": [
      "+-----+------------------------------------------------------------------------------------------+\n",
      "|topic|                                                                                topicWords|\n",
      "+-----+------------------------------------------------------------------------------------------+\n",
      "|    0|[meditation, anxiety, read, respect, level, trust, perfect, issue, look, alcohol, young...|\n",
      "|    1|[exercise, diet, food, weight, training, fair, stop, eat, better, push, program, slow, ...|\n",
      "|    2|[hobbies, skill, sugar, goal, whole, social, folk, relate, public, edit, lose, communic...|\n",
      "|    3|[relationship, social, money, i, confidence, media, my, sleep, sure, college, conversat...|\n",
      "|    4|[your, book, workout, effort, hobby, read, habit, move, yourself, the, home, specific, ...|\n",
      "|    5|[country, gym, she, easier, hate, miss, commitment, full, once, message, pay, car, inco...|\n",
      "|    6|[shit, forgive, emotion, wake, group, happy, sound, school, stupid, hope, sad, kid, gir...|\n",
      "|    7|[woman, leave, wrong, environment, order, mate, porn, man, male, healthy, type, romanti...|\n",
      "|    8|[helpful, aware, picture, op, tool, perspective, lazy, idk, game, language, course, und...|\n",
      "|    9| [ampxb, i, big, take, you, the, and, body, parent, family, brother, room, have, is, this]|\n",
      "+-----+------------------------------------------------------------------------------------------+\n",
      "\n"
     ]
    }
   ],
   "source": [
    "num_top_words = 15\n",
    "\n",
    "topics = lda_model.describeTopics(num_top_words).withColumn('topicWords', udf_to_words(F.col('termIndices')))\n",
    "topics.select('topic', 'topicWords').show(truncate=90)"
   ]
  },
  {
   "cell_type": "markdown",
   "id": "6b9e34f3-6f1f-45db-a828-4e7453032713",
   "metadata": {},
   "source": [
    "# REMEMBER TO CHANGE DATASET TO COMPLETE ONE\n",
    "# NEED TO SEE WHAT'S GOING ON WITH THE STOP WORDS\n",
    "# FIT MULTIPLE OPTION IN PYSPARK\n",
    "# INSTALL GENSIM\n"
   ]
  },
  {
   "cell_type": "code",
   "execution_count": 42,
   "id": "fb18b857-5d49-4da2-af3b-07e641c49775",
   "metadata": {},
   "outputs": [
    {
     "name": "stderr",
     "output_type": "stream",
     "text": [
      "                                                                                \r"
     ]
    },
    {
     "data": {
      "text/plain": [
       "6.43423806599125"
      ]
     },
     "execution_count": 42,
     "metadata": {},
     "output_type": "execute_result"
    }
   ],
   "source": [
    "lda_model.logPerplexity(tfidf_result)\n"
   ]
  },
  {
   "cell_type": "code",
   "execution_count": 43,
   "id": "8186833c-1d1c-473d-b404-cdc241b2590c",
   "metadata": {},
   "outputs": [
    {
     "name": "stderr",
     "output_type": "stream",
     "text": [
      "                                                                                \r"
     ]
    },
    {
     "data": {
      "text/plain": [
       "-382223.7916829407"
      ]
     },
     "execution_count": 43,
     "metadata": {},
     "output_type": "execute_result"
    }
   ],
   "source": [
    "lda_model.logLikelihood(tfidf_result)"
   ]
  },
  {
   "cell_type": "code",
   "execution_count": null,
   "id": "7d4f7532-b4e4-4436-bfcc-e3f54375769d",
   "metadata": {},
   "outputs": [],
   "source": []
  }
 ],
 "metadata": {
  "kernelspec": {
   "display_name": "Python 3 (ipykernel)",
   "language": "python",
   "name": "python3"
  },
  "language_info": {
   "codemirror_mode": {
    "name": "ipython",
    "version": 3
   },
   "file_extension": ".py",
   "mimetype": "text/x-python",
   "name": "python",
   "nbconvert_exporter": "python",
   "pygments_lexer": "ipython3",
   "version": "3.9.19"
  }
 },
 "nbformat": 4,
 "nbformat_minor": 5
}
