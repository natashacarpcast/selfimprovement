{
 "cells": [
  {
   "cell_type": "markdown",
   "id": "35b6aa00-eeb1-46d2-9970-0cc7142d605d",
   "metadata": {},
   "source": [
    "Used tutorial https://github.com/maobedkova/TopicModelling_PySpark_SparkNLP/blob/master/Topic_Modelling_with_PySpark_and_Spark_NLP.ipynb for reference"
   ]
  },
  {
   "cell_type": "code",
   "execution_count": 1,
   "id": "80dfe811-6044-456b-9b67-1dd90f647207",
   "metadata": {},
   "outputs": [
    {
     "name": "stdout",
     "output_type": "stream",
     "text": [
      "Warning::Spark Session already created, some configs may not take.\n",
      "24/11/05 14:22:30 WARN SparkSession: Using an existing Spark session; only runtime SQL configurations will take effect.\n"
     ]
    }
   ],
   "source": [
    "import sparknlp\n",
    "from sparknlp.annotator import Tokenizer, PerceptronModel\n",
    "from sparknlp.base import DocumentAssembler\n",
    "from pyspark.ml import Pipeline\n",
    "from sparknlp.pretrained import PretrainedPipeline\n",
    "from sparknlp.annotator import *\n",
    "from sparknlp.base import *\n",
    "from pyspark.ml.feature import CountVectorizer\n",
    "from pyspark.ml.feature import IDF\n",
    "from pyspark.ml.clustering import LDA\n",
    "from pyspark.sql import types as T\n",
    "\n",
    "spark = sparknlp.start()"
   ]
  },
  {
   "cell_type": "code",
   "execution_count": 2,
   "id": "c18ccc18-b119-472f-af9c-19a44eeea279",
   "metadata": {},
   "outputs": [],
   "source": [
    "data = spark.read.csv(\"../data_topicmodel.csv\", header= True).select([\"id\", \"cleaned_text\"])"
   ]
  },
  {
   "cell_type": "code",
   "execution_count": 3,
   "id": "e156a53b-e98c-488a-bd55-4d9028bad129",
   "metadata": {},
   "outputs": [
    {
     "name": "stdout",
     "output_type": "stream",
     "text": [
      "+-----+--------------------+\n",
      "|   id|        cleaned_text|\n",
      "+-----+--------------------+\n",
      "|hk5r2|i had an appointm...|\n",
      "|iqimz|i created this si...|\n",
      "|pfzt5|hello everyone  i...|\n",
      "|pk714|i grew up with bo...|\n",
      "|q0q8x|i have to ask whe...|\n",
      "+-----+--------------------+\n",
      "only showing top 5 rows\n",
      "\n"
     ]
    }
   ],
   "source": [
    "#Remove sample\n",
    "data.show(5)\n",
    "data = data.sample(0.001)"
   ]
  },
  {
   "cell_type": "code",
   "execution_count": 4,
   "id": "7911044e-82b5-4034-a43b-16e1306cc590",
   "metadata": {},
   "outputs": [],
   "source": [
    "documentAssembler = DocumentAssembler()\\\n",
    "     .setInputCol(\"cleaned_text\")\\\n",
    "     .setOutputCol('document')"
   ]
  },
  {
   "cell_type": "code",
   "execution_count": 5,
   "id": "12b99eb0-aaee-49e6-accd-8382b9778873",
   "metadata": {},
   "outputs": [],
   "source": [
    "tokenizer = Tokenizer() \\\n",
    "            .setInputCols(['document'])\\\n",
    "            .setOutputCol('tokenized')"
   ]
  },
  {
   "cell_type": "code",
   "execution_count": 6,
   "id": "e08506b3-9c85-4b12-915c-179501a1fe55",
   "metadata": {},
   "outputs": [],
   "source": [
    "normalizer = Normalizer() \\\n",
    "     .setInputCols(['tokenized']) \\\n",
    "     .setOutputCol('normalized') "
   ]
  },
  {
   "cell_type": "code",
   "execution_count": 7,
   "id": "30c66633-606d-462a-8854-9443ac46d9ac",
   "metadata": {},
   "outputs": [],
   "source": [
    "lemmatizer = LemmatizerModel.load(\"../models/lemma_ewt_en_3.4.3_3.0_1651416655397/\")\\\n",
    "      .setInputCols(\"normalized\")\\\n",
    "      .setOutputCol(\"lemmatized\")"
   ]
  },
  {
   "cell_type": "code",
   "execution_count": 8,
   "id": "a7785596-e18b-44b5-a57a-602da0c6c05c",
   "metadata": {},
   "outputs": [],
   "source": [
    "english = [\n",
    "    \"a\", \"about\", \"above\", \"after\", \"again\", \"against\", \"all\", \"am\", \"an\", \"and\", \"any\", \"are\", \"as\", \"at\", \"be\", \n",
    "    \"because\", \"been\", \"before\", \"being\", \"below\", \"between\", \"both\", \"but\", \"by\", \"can\", \"cannot\", \"could\", \"did\", \n",
    "    \"do\", \"does\", \"doing\", \"down\", \"during\", \"each\", \"few\", \"for\", \"from\", \"further\", \"had\", \"has\", \"have\", \"having\", \n",
    "    \"he\", \"her\", \"here\", \"hers\", \"herself\", \"him\", \"himself\", \"his\", \"how\", \"i\", \"if\", \"in\", \"into\", \"is\", \"it\", \n",
    "    \"its\", \"itself\", \"let\", \"me\", \"more\", \"most\", \"must\", \"my\", \"myself\", \"no\", \"nor\", \"not\", \"of\", \"off\", \"on\", \n",
    "    \"once\", \"only\", \"or\", \"other\", \"our\", \"ours\", \"ourselves\", \"out\", \"over\", \"own\", \"same\", \"she\", \"some\", \"such\", \n",
    "    \"than\", \"that\", \"the\", \"their\", \"theirs\", \"them\", \"themselves\", \"then\", \"there\", \"these\", \"they\", \"this\", \"those\", \n",
    "    \"through\", \"to\", \"too\", \"under\", \"until\", \"up\", \"very\", \"was\", \"we\", \"were\", \"what\", \"when\", \"where\", \"which\", \n",
    "    \"while\", \"who\", \"whom\", \"why\", \"with\", \"would\", \"you\", \"your\", \"yours\", \"yourself\", \"yourselves\", \"will\", \"ll\", \n",
    "    \"re\", \"ve\", \"d\", \"s\", \"m\", \n",
    "    \"b\", \"c\", \"d\", \"e\", \"f\", \"g\", \"h\", \"i\", \"j\", \"k\", \"l\", \"m\", \"n\", \"o\", \"p\", \"q\", \"r\", \"s\", \"t\", \"u\", \"v\", \"w\", \n",
    "    \"x\", \"y\", \"z\"]\n",
    "\n",
    "time = [\"monday\", \"tuesday\", \"wednesday\", \"thursday\", \"friday\", \"saturday\", \n",
    "        \"sunday\", \"morning\", \"noon\", \"afternoon\", \"evening\", \"night\", \"midnight\",\n",
    "        \"dawn\", \"dusk\", \"week\", \"weekend\", \"weekends\",\"weekly\", \"today\", \n",
    "        \"yesterday\", \"tomorrow\", \"yesterdays\", \"todays\", \"mondays\", \"tuesdays\",\n",
    "        \"wednesdays\", \"thursdays\", \"fridays\", \"saturdays\", \"sundays\", \"day\",\n",
    "        \"everyday\", \"daily\", \"workday\", 'time', 'month', 'year', 'pm', 'am', \"ago\",\n",
    "        \"year\"]\n",
    "\n",
    "reddit = [\"welcome\", \"hi\", \"hello\", \"sub\", \"reddit\", \"thanks\", \"thank\", \"maybe\",\n",
    "          \"wo30\", \"mods\", \"mod\", \"moderators\", \"subreddit\", \"btw\", \"aw\", \"aww\", \n",
    "          \"aww\", \"hey\", \"hello\", \"join\", \"joined\", \"post\", \"rselfimprovement]\n",
    "\n",
    "topic_specific = [\"self\", \"improvement\", \"change\", \"action\",\n",
    "    'change', 'start', 'goal', 'habit', 'new', 'old', \n",
    "    'care', 'world', 'everyone', 'love', 'u', 'right', 'mean', 'matter',\n",
    "    'best', 'step', 'focus', 'hard', 'small',\n",
    "    'bad', 'help', 'time', 'problem', 'issue', 'advice',\n",
    "    'bit', 'experience', 'different',\n",
    "    'point', 'situation', 'negative', 'control', 'positive',\n",
    "    'use', 'question', 'idea', 'amp', 'medium', 'hour', 'day', 'minute']\n",
    "\n",
    "other = [\"hows\", \"ive\", \"ill\", \"im\", \"cant\", \"topics\", \"topic\", \"discuss\", \n",
    "         \"thoughts\", \"yo\", \"thats\", \"whats\", \"lets\", \"nothing\", \"oh\", \"omg\", \n",
    "         \"things\", \"stuff\", \"yall\", \"haha\", \"yes\", \"no\", \"wo\", \"like\", 'good', \n",
    "         'work', 'got', 'going', 'dont', 'really', 'want', 'make', 'think', \n",
    "         'know', 'feel', 'people', 'life', \"getting\", \"lot\" \"great\", \"i\", \"me\", \n",
    "         \"my\", \"myself\", \"we\", \"our\", \"ours\", \"ourselves\", \n",
    "        \"you\", \"your\", \"yours\", \"yourself\", \"yourselves\", \"he\", \"him\", \"his\", \n",
    "        \"himself\", \"she\", \"her\", \"hers\", \"herself\", \"it\", \"its\", \"itself\", \n",
    "        \"they\", \"them\", \"their\", \"theirs\",\"themselves\", \"what\", \"which\", \"who\", \n",
    "        \"whom\", \"this\", \"that\", \"these\", \"those\", \"am\", \"is\", \"are\", \"was\", \n",
    "        \"were\", \"be\", \"been\", \"being\", \"have\", \"has\", \"had\", \"having\", \"do\", \n",
    "        \"does\", \"did\", \"doing\", \"will\", \"would\", \"should\", \"can\", \"could\", \"may\",\n",
    "        \"might\", \"must\", \"shall\", \"ought\", \"about\", \"above\", \"across\", \"after\", \n",
    "        \"against\", \"along\", \"amid\", \"among\", \"around\", \"as\", \"at\", \"before\", \"behind\",\n",
    "        \"below\", \"beneath\", \"beside\", \"between\", \"beyond\", \"but\", \"by\", \n",
    "        \"concerning\", \"considering\", \"despite\", \"down\", \"during\", \"except\", \"for\",\n",
    "        \"from\", \"in\", \"inside\", \"into\", \"like\", \"near\", \"next\", \"notwithstanding\",\n",
    "        \"of\", \"off\", \"on\", \"onto\", \"opposite\", \"out\", \"outside\", \"over\", \"past\",\n",
    "        \"regarding\", \"round\", \"since\", \"than\", \"through\", \"throughout\", \"till\", \n",
    "        \"to\", \"toward\", \"towards\", \"under\", \"underneath\", \"unlike\", \"until\", \"up\",\n",
    "        \"upon\", \"versus\", \"via\", \"with\", \"within\", \"without\", \"cant\", \"cannot\", \n",
    "        \"couldve\", \"couldnt\", \"didnt\", \"doesnt\", \"dont\", \"hadnt\", \"hasnt\", \n",
    "        \"havent\", \"hed\", \"hell\", \"hes\", \"howd\", \"howll\", \"hows\", \"id\", \"ill\", \n",
    "        \"im\", \"ive\", \"isnt\", \"itd\", \"itll\", \"its\", \"lets\", \"mightve\", \"mustve\", \n",
    "        \"mustnt\", \"shant\", \"shed\", \"shell\", \"shes\", \"shouldve\", \"shouldnt\", \n",
    "        \"thatll\", \"thats\", \"thered\", \"therell\", \"therere\", \"theres\", \"theyd\", \n",
    "        \"theyll\", \"theyre\", \"theyve\", \"wed\", \"well\", \"were\", \"weve\", \"werent\", \n",
    "        \"whatd\", \"whatll\", \"whatre\", \"whats\", \"whatve\", \"whend\", \"whenll\", \n",
    "        \"whens\", \"whered\", \"wherell\", \"wheres\", \"whichd\", \"whichll\", \"whichre\", \n",
    "        \"whichs\", \"whod\", \"wholl\", \"whore\", \"whos\", \"whove\", \"whyd\", \"whyll\", \n",
    "        \"whys\", \"wont\", \"wouldve\", \"wouldnt\", \"youd\", \"youll\", \"youre\", \"youve\",\n",
    "        \"f\", \"m\", \"because\", \"go\", \"lot\", \"get\", \"still\", \"way\", \"something\", \"much\",\n",
    "        \"thing\", \"someone\", \"person\", \"anything\"]\n",
    "\n",
    "stopwords = english + time + reddit + topic_specific + other\n",
    "\n",
    "from sparknlp.annotator import StopWordsCleaner\n",
    "\n",
    "stopwords_cleaner = StopWordsCleaner() \\\n",
    "     .setInputCols(['lemmatized']) \\\n",
    "     .setOutputCol('unigrams') \\\n",
    "     .setStopWords(stopwords)"
   ]
  },
  {
   "cell_type": "code",
   "execution_count": 9,
   "id": "95e33a63-8c34-4a81-8fa1-157c86492364",
   "metadata": {},
   "outputs": [],
   "source": [
    "from sparknlp.annotator import NGramGenerator\n",
    "\n",
    "ngrammer = NGramGenerator() \\\n",
    "    .setInputCols(['lemmatized']) \\\n",
    "    .setOutputCol('ngrams') \\\n",
    "    .setN(3) \\\n",
    "    .setEnableCumulative(True) \\\n",
    "    .setDelimiter('_')"
   ]
  },
  {
   "cell_type": "code",
   "execution_count": 10,
   "id": "d5843616-767e-448f-8943-006848263e6f",
   "metadata": {},
   "outputs": [
    {
     "name": "stderr",
     "output_type": "stream",
     "text": [
      "                                                                                \r"
     ]
    }
   ],
   "source": [
    "pos = PerceptronModel.load(\"/project/macs40123/spark-jars/pos_anc_en_3.0.0_3.0_1614962126490/\")\\\n",
    "      .setInputCols(\"document\", \"lemmatized\")\\\n",
    "      .setOutputCol(\"pos\")"
   ]
  },
  {
   "cell_type": "code",
   "execution_count": 11,
   "id": "20199976-1358-47e2-8685-a8e54cc73200",
   "metadata": {},
   "outputs": [],
   "source": [
    "#from sparknlp.base import Finisher\n",
    "\n",
    "#finisher = Finisher().setInputCols(['unigrams', 'ngrams', 'pos'])"
   ]
  },
  {
   "cell_type": "code",
   "execution_count": 12,
   "id": "50a9dbb2-1f65-4c5b-826e-feedefbf682a",
   "metadata": {},
   "outputs": [],
   "source": [
    "my_pipeline = Pipeline(\n",
    "      stages = [\n",
    "          documentAssembler,\n",
    "          tokenizer,\n",
    "          normalizer,\n",
    "          lemmatizer,\n",
    "          stopwords_cleaner,\n",
    "          ngrammer,\n",
    "          pos #,\n",
    "          #finisher\n",
    "      ])"
   ]
  },
  {
   "cell_type": "code",
   "execution_count": 13,
   "id": "680ea3cb-e5cf-4de6-aae3-c8e4ac8a3258",
   "metadata": {},
   "outputs": [
    {
     "name": "stderr",
     "output_type": "stream",
     "text": [
      "WARNING: An illegal reflective access operation has occurred\n",
      "WARNING: Illegal reflective access by org.apache.spark.util.SizeEstimator$ (file:/software/spark-3.3.2-el8-x86_64/jars/spark-core_2.12-3.3.2.jar) to field java.util.regex.Pattern.pattern\n",
      "WARNING: Please consider reporting this to the maintainers of org.apache.spark.util.SizeEstimator$\n",
      "WARNING: Use --illegal-access=warn to enable warnings of further illegal reflective access operations\n",
      "WARNING: All illegal access operations will be denied in a future release\n"
     ]
    },
    {
     "name": "stdout",
     "output_type": "stream",
     "text": [
      "+------+--------------------+--------------------+--------------------+--------------------+--------------------+--------------------+--------------------+--------------------+\n",
      "|    id|        cleaned_text|            document|           tokenized|          normalized|          lemmatized|            unigrams|              ngrams|                 pos|\n",
      "+------+--------------------+--------------------+--------------------+--------------------+--------------------+--------------------+--------------------+--------------------+\n",
      "|2wlzcy|gtthe focus it do...|[{document, 0, 53...|[{token, 0, 4, gt...|[{token, 0, 4, gt...|[{token, 0, 4, gt...|[{token, 0, 4, gt...|[{chunk, 0, 4, gt...|[{pos, 0, 4, NN, ...|\n",
      "+------+--------------------+--------------------+--------------------+--------------------+--------------------+--------------------+--------------------+--------------------+\n",
      "only showing top 1 row\n",
      "\n"
     ]
    }
   ],
   "source": [
    "pipelineModel = my_pipeline.fit(data)\n",
    "data = pipelineModel.transform(data)\n",
    "data.show(1)"
   ]
  },
  {
   "cell_type": "code",
   "execution_count": 15,
   "id": "198344d1-7dcc-4258-b5a1-4bba2466aac7",
   "metadata": {},
   "outputs": [
    {
     "data": {
      "text/plain": [
       "['id',\n",
       " 'cleaned_text',\n",
       " 'document',\n",
       " 'tokenized',\n",
       " 'normalized',\n",
       " 'lemmatized',\n",
       " 'unigrams',\n",
       " 'ngrams',\n",
       " 'pos']"
      ]
     },
     "execution_count": 15,
     "metadata": {},
     "output_type": "execute_result"
    }
   ],
   "source": [
    "data.columns"
   ]
  },
  {
   "cell_type": "code",
   "execution_count": 18,
   "id": "87fb8dd9-18a7-453a-969a-6000f42d6057",
   "metadata": {},
   "outputs": [
    {
     "name": "stdout",
     "output_type": "stream",
     "text": [
      "+----------------------------------------------------------------------------------------------------+\n",
      "|                                                                                            document|\n",
      "+----------------------------------------------------------------------------------------------------+\n",
      "|[{document, 0, 5304, gtthe focus it doesnt matter how many changes you try to make if none of the...|\n",
      "|[{document, 0, 1477, so first off id like to say that im totally new to reddit and this is my fir...|\n",
      "|[{document, 0, 7798, for some of us it is difficult to come up with ideas to excel in the current...|\n",
      "|[{document, 0, 1762, hi rselfimprovement  for a while ive noticed that i really hate being the in...|\n",
      "|[{document, 0, 515, title is pretty much selfexplanority  when im sober i find myself caring too ...|\n",
      "+----------------------------------------------------------------------------------------------------+\n",
      "only showing top 5 rows\n",
      "\n"
     ]
    }
   ],
   "source": [
    "data.select('document').show(5, truncate = 100)"
   ]
  },
  {
   "cell_type": "code",
   "execution_count": 27,
   "id": "3772846d-a5b0-4164-a7f3-adb696119d2c",
   "metadata": {},
   "outputs": [
    {
     "name": "stdout",
     "output_type": "stream",
     "text": [
      "+----------------------------------------------------------------------------------------------------+\n",
      "|                                                                                           tokenized|\n",
      "+----------------------------------------------------------------------------------------------------+\n",
      "|[{token, 0, 4, gtthe, {sentence -> 0}, []}, {token, 6, 10, focus, {sentence -> 0}, []}, {token, 1...|\n",
      "+----------------------------------------------------------------------------------------------------+\n",
      "only showing top 1 row\n",
      "\n"
     ]
    }
   ],
   "source": [
    "data.select('tokenized').show(1, truncate = 100)"
   ]
  },
  {
   "cell_type": "code",
   "execution_count": 30,
   "id": "393e8e4f-fbdc-4537-88d9-2e928217322e",
   "metadata": {},
   "outputs": [
    {
     "name": "stdout",
     "output_type": "stream",
     "text": [
      "+----------------------------------------------------------------------------------------------------+\n",
      "|                                                                                          normalized|\n",
      "+----------------------------------------------------------------------------------------------------+\n",
      "|[{token, 0, 4, gtthe, {sentence -> 0}, []}, {token, 6, 10, focus, {sentence -> 0}, []}, {token, 1...|\n",
      "+----------------------------------------------------------------------------------------------------+\n",
      "only showing top 1 row\n",
      "\n"
     ]
    }
   ],
   "source": [
    "data.select('normalized').show(1, truncate = 100)"
   ]
  },
  {
   "cell_type": "code",
   "execution_count": 33,
   "id": "53c04957-b85f-4f0b-8d02-6667a4e45cf8",
   "metadata": {},
   "outputs": [
    {
     "name": "stdout",
     "output_type": "stream",
     "text": [
      "+----------------------------------------------------------------------------------------------------------------------------------------------------------------------------------------------------------------------------------------------------------------------------------------------------------------------------------------------------------------------------------------------------------------------------------------------------------------------------------------------------------------------------------------------------------------------------------------------------------------------------------------------------------------------------------------------------------------------------------------------------------------------------------------------------------------------------------------------------------------------------------------------------------------------------------------------------------------------------------------------------------------------------------------+\n",
      "|                                                                                                                                                                                                                                                                                                                                                                                                                                                                                                                                                                                                                                                                                                                                                                                                                                                                                                                                                                                                                              lemmatized|\n",
      "+----------------------------------------------------------------------------------------------------------------------------------------------------------------------------------------------------------------------------------------------------------------------------------------------------------------------------------------------------------------------------------------------------------------------------------------------------------------------------------------------------------------------------------------------------------------------------------------------------------------------------------------------------------------------------------------------------------------------------------------------------------------------------------------------------------------------------------------------------------------------------------------------------------------------------------------------------------------------------------------------------------------------------------------+\n",
      "|[{token, 0, 4, gtthe, {sentence -> 0}, []}, {token, 6, 10, focus, {sentence -> 0}, []}, {token, 12, 13, if, {sentence -> 0}, []}, {token, 15, 20, _, {sentence -> 0}, []}, {token, 22, 27, matter, {sentence -> 0}, []}, {token, 29, 31, how, {sentence -> 0}, []}, {token, 33, 36, many, {sentence -> 0}, []}, {token, 38, 44, change, {sentence -> 0}, []}, {token, 46, 48, your, {sentence -> 0}, []}, {token, 50, 52, try, {sentence -> 0}, []}, {token, 54, 55, to, {sentence -> 0}, []}, {token, 57, 60, make, {sentence -> 0}, []}, {token, 62, 63, if, {sentence -> 0}, []}, {token, 65, 68, none, {sentence -> 0}, []}, {token, 70, 71, or, {sentence -> 0}, []}, {token, 73, 76, them, {sentence -> 0}, []}, {token, 78, 82, stick, {sentence -> 0}, []}, {token, 85, 88, this, {sentence -> 0}, []}, {token, 90, 91, it, {sentence -> 0}, []}, {token, 93, 97, going, {sentence -> 0}, []}, {token, 99, 100, to, {sentence -> 0}, []}, {token, 102, 103, be, {sentence -> 0}, []}, {token, 105, 107, to, {sentence -> 0}, ...|\n",
      "+----------------------------------------------------------------------------------------------------------------------------------------------------------------------------------------------------------------------------------------------------------------------------------------------------------------------------------------------------------------------------------------------------------------------------------------------------------------------------------------------------------------------------------------------------------------------------------------------------------------------------------------------------------------------------------------------------------------------------------------------------------------------------------------------------------------------------------------------------------------------------------------------------------------------------------------------------------------------------------------------------------------------------------------+\n",
      "only showing top 1 row\n",
      "\n"
     ]
    }
   ],
   "source": [
    "data.select('lemmatized').show(1, truncate = 1000)"
   ]
  },
  {
   "cell_type": "code",
   "execution_count": 32,
   "id": "7598af2e-4e59-4115-877d-95bf5fe8552e",
   "metadata": {},
   "outputs": [
    {
     "name": "stdout",
     "output_type": "stream",
     "text": [
      "+----------------------------------------------------------------------------------------------------+\n",
      "|                                                                                            unigrams|\n",
      "+----------------------------------------------------------------------------------------------------+\n",
      "|[{token, 0, 4, gtthe, {sentence -> 0}, []}, {token, 15, 20, _, {sentence -> 0}, []}, {token, 33, ...|\n",
      "+----------------------------------------------------------------------------------------------------+\n",
      "only showing top 1 row\n",
      "\n"
     ]
    }
   ],
   "source": [
    "data.select('unigrams').show(1, truncate = 100)"
   ]
  },
  {
   "cell_type": "markdown",
   "id": "18a3ca69-28c3-4747-86d5-ff4e3ab15af8",
   "metadata": {},
   "source": [
    "Create pos-tags n-grams that correspond to words n-grams"
   ]
  },
  {
   "cell_type": "code",
   "execution_count": 14,
   "id": "14d85977-59fb-4c78-913c-4a5aa465389b",
   "metadata": {},
   "outputs": [
    {
     "ename": "AnalysisException",
     "evalue": "Column 'finished_pos' does not exist. Did you mean one of the following? [pos, unigrams, cleaned_text, id, ngrams, tokenized, document, normalized, lemmatized];\n'Project [id#19, cleaned_text#24, document#79, tokenized#88, normalized#95, lemmatized#103, unigrams#112, ngrams#122, pos#133, <lambda>('finished_pos)#182 AS finished_pos#183]\n+- Project [id#19, cleaned_text#24, document#79, tokenized#88, normalized#95, lemmatized#103, unigrams#112, ngrams#122, UDF(array(document#79, lemmatized#103)) AS pos#133]\n   +- Project [id#19, cleaned_text#24, document#79, tokenized#88, normalized#95, lemmatized#103, unigrams#112, UDF(array(lemmatized#103)) AS ngrams#122]\n      +- Project [id#19, cleaned_text#24, document#79, tokenized#88, normalized#95, lemmatized#103, UDF(array(lemmatized#103)) AS unigrams#112]\n         +- Project [id#19, cleaned_text#24, document#79, tokenized#88, normalized#95, UDF(array(normalized#95)) AS lemmatized#103]\n            +- Project [id#19, cleaned_text#24, document#79, tokenized#88, UDF(array(tokenized#88)) AS normalized#95]\n               +- Project [id#19, cleaned_text#24, document#79, UDF(array(document#79)) AS tokenized#88]\n                  +- Project [id#19, cleaned_text#24, UDF(cleaned_text#24) AS document#79]\n                     +- Sample 0.0, 0.001, false, -3362232977550251825\n                        +- Project [id#19, cleaned_text#24]\n                           +- Relation [_c0#17,type#18,id#19,extracted_link_id#20,author#21,year#22,month#23,cleaned_text#24,score#25,num_comments#26] csv\n",
     "output_type": "error",
     "traceback": [
      "\u001b[0;31m---------------------------------------------------------------------------\u001b[0m",
      "\u001b[0;31mAnalysisException\u001b[0m                         Traceback (most recent call last)",
      "Input \u001b[0;32mIn [14]\u001b[0m, in \u001b[0;36m<cell line: 4>\u001b[0;34m()\u001b[0m\n\u001b[1;32m      2\u001b[0m \u001b[38;5;28;01mfrom\u001b[39;00m \u001b[38;5;21;01mpyspark\u001b[39;00m\u001b[38;5;21;01m.\u001b[39;00m\u001b[38;5;21;01msql\u001b[39;00m \u001b[38;5;28;01mimport\u001b[39;00m functions \u001b[38;5;28;01mas\u001b[39;00m F\n\u001b[1;32m      3\u001b[0m pos_as_string \u001b[38;5;241m=\u001b[39m F\u001b[38;5;241m.\u001b[39mudf(\u001b[38;5;28;01mlambda\u001b[39;00m x: \u001b[38;5;124m'\u001b[39m\u001b[38;5;124m \u001b[39m\u001b[38;5;124m'\u001b[39m\u001b[38;5;241m.\u001b[39mjoin(x), T\u001b[38;5;241m.\u001b[39mStringType())\n\u001b[0;32m----> 4\u001b[0m data \u001b[38;5;241m=\u001b[39m \u001b[43mdata\u001b[49m\u001b[38;5;241;43m.\u001b[39;49m\u001b[43mwithColumn\u001b[49m\u001b[43m(\u001b[49m\u001b[38;5;124;43m'\u001b[39;49m\u001b[38;5;124;43mfinished_pos\u001b[39;49m\u001b[38;5;124;43m'\u001b[39;49m\u001b[43m,\u001b[49m\u001b[43m \u001b[49m\u001b[43mpos_as_string\u001b[49m\u001b[43m(\u001b[49m\u001b[43mF\u001b[49m\u001b[38;5;241;43m.\u001b[39;49m\u001b[43mcol\u001b[49m\u001b[43m(\u001b[49m\u001b[38;5;124;43m'\u001b[39;49m\u001b[38;5;124;43mfinished_pos\u001b[39;49m\u001b[38;5;124;43m'\u001b[39;49m\u001b[43m)\u001b[49m\u001b[43m)\u001b[49m\u001b[43m)\u001b[49m\n",
      "File \u001b[0;32m/software/spark-3.3.2-el8-x86_64/python/pyspark/sql/dataframe.py:3036\u001b[0m, in \u001b[0;36mDataFrame.withColumn\u001b[0;34m(self, colName, col)\u001b[0m\n\u001b[1;32m   3034\u001b[0m \u001b[38;5;28;01mif\u001b[39;00m \u001b[38;5;129;01mnot\u001b[39;00m \u001b[38;5;28misinstance\u001b[39m(col, Column):\n\u001b[1;32m   3035\u001b[0m     \u001b[38;5;28;01mraise\u001b[39;00m \u001b[38;5;167;01mTypeError\u001b[39;00m(\u001b[38;5;124m\"\u001b[39m\u001b[38;5;124mcol should be Column\u001b[39m\u001b[38;5;124m\"\u001b[39m)\n\u001b[0;32m-> 3036\u001b[0m \u001b[38;5;28;01mreturn\u001b[39;00m DataFrame(\u001b[38;5;28;43mself\u001b[39;49m\u001b[38;5;241;43m.\u001b[39;49m\u001b[43m_jdf\u001b[49m\u001b[38;5;241;43m.\u001b[39;49m\u001b[43mwithColumn\u001b[49m\u001b[43m(\u001b[49m\u001b[43mcolName\u001b[49m\u001b[43m,\u001b[49m\u001b[43m \u001b[49m\u001b[43mcol\u001b[49m\u001b[38;5;241;43m.\u001b[39;49m\u001b[43m_jc\u001b[49m\u001b[43m)\u001b[49m, \u001b[38;5;28mself\u001b[39m\u001b[38;5;241m.\u001b[39msparkSession)\n",
      "File \u001b[0;32m/software/spark-3.3.2-el8-x86_64/python/lib/py4j-0.10.9.5-src.zip/py4j/java_gateway.py:1321\u001b[0m, in \u001b[0;36mJavaMember.__call__\u001b[0;34m(self, *args)\u001b[0m\n\u001b[1;32m   1315\u001b[0m command \u001b[38;5;241m=\u001b[39m proto\u001b[38;5;241m.\u001b[39mCALL_COMMAND_NAME \u001b[38;5;241m+\u001b[39m\\\n\u001b[1;32m   1316\u001b[0m     \u001b[38;5;28mself\u001b[39m\u001b[38;5;241m.\u001b[39mcommand_header \u001b[38;5;241m+\u001b[39m\\\n\u001b[1;32m   1317\u001b[0m     args_command \u001b[38;5;241m+\u001b[39m\\\n\u001b[1;32m   1318\u001b[0m     proto\u001b[38;5;241m.\u001b[39mEND_COMMAND_PART\n\u001b[1;32m   1320\u001b[0m answer \u001b[38;5;241m=\u001b[39m \u001b[38;5;28mself\u001b[39m\u001b[38;5;241m.\u001b[39mgateway_client\u001b[38;5;241m.\u001b[39msend_command(command)\n\u001b[0;32m-> 1321\u001b[0m return_value \u001b[38;5;241m=\u001b[39m \u001b[43mget_return_value\u001b[49m\u001b[43m(\u001b[49m\n\u001b[1;32m   1322\u001b[0m \u001b[43m    \u001b[49m\u001b[43manswer\u001b[49m\u001b[43m,\u001b[49m\u001b[43m \u001b[49m\u001b[38;5;28;43mself\u001b[39;49m\u001b[38;5;241;43m.\u001b[39;49m\u001b[43mgateway_client\u001b[49m\u001b[43m,\u001b[49m\u001b[43m \u001b[49m\u001b[38;5;28;43mself\u001b[39;49m\u001b[38;5;241;43m.\u001b[39;49m\u001b[43mtarget_id\u001b[49m\u001b[43m,\u001b[49m\u001b[43m \u001b[49m\u001b[38;5;28;43mself\u001b[39;49m\u001b[38;5;241;43m.\u001b[39;49m\u001b[43mname\u001b[49m\u001b[43m)\u001b[49m\n\u001b[1;32m   1324\u001b[0m \u001b[38;5;28;01mfor\u001b[39;00m temp_arg \u001b[38;5;129;01min\u001b[39;00m temp_args:\n\u001b[1;32m   1325\u001b[0m     temp_arg\u001b[38;5;241m.\u001b[39m_detach()\n",
      "File \u001b[0;32m/software/spark-3.3.2-el8-x86_64/python/pyspark/sql/utils.py:196\u001b[0m, in \u001b[0;36mcapture_sql_exception.<locals>.deco\u001b[0;34m(*a, **kw)\u001b[0m\n\u001b[1;32m    192\u001b[0m converted \u001b[38;5;241m=\u001b[39m convert_exception(e\u001b[38;5;241m.\u001b[39mjava_exception)\n\u001b[1;32m    193\u001b[0m \u001b[38;5;28;01mif\u001b[39;00m \u001b[38;5;129;01mnot\u001b[39;00m \u001b[38;5;28misinstance\u001b[39m(converted, UnknownException):\n\u001b[1;32m    194\u001b[0m     \u001b[38;5;66;03m# Hide where the exception came from that shows a non-Pythonic\u001b[39;00m\n\u001b[1;32m    195\u001b[0m     \u001b[38;5;66;03m# JVM exception message.\u001b[39;00m\n\u001b[0;32m--> 196\u001b[0m     \u001b[38;5;28;01mraise\u001b[39;00m converted \u001b[38;5;28;01mfrom\u001b[39;00m \u001b[38;5;28mNone\u001b[39m\n\u001b[1;32m    197\u001b[0m \u001b[38;5;28;01melse\u001b[39;00m:\n\u001b[1;32m    198\u001b[0m     \u001b[38;5;28;01mraise\u001b[39;00m\n",
      "\u001b[0;31mAnalysisException\u001b[0m: Column 'finished_pos' does not exist. Did you mean one of the following? [pos, unigrams, cleaned_text, id, ngrams, tokenized, document, normalized, lemmatized];\n'Project [id#19, cleaned_text#24, document#79, tokenized#88, normalized#95, lemmatized#103, unigrams#112, ngrams#122, pos#133, <lambda>('finished_pos)#182 AS finished_pos#183]\n+- Project [id#19, cleaned_text#24, document#79, tokenized#88, normalized#95, lemmatized#103, unigrams#112, ngrams#122, UDF(array(document#79, lemmatized#103)) AS pos#133]\n   +- Project [id#19, cleaned_text#24, document#79, tokenized#88, normalized#95, lemmatized#103, unigrams#112, UDF(array(lemmatized#103)) AS ngrams#122]\n      +- Project [id#19, cleaned_text#24, document#79, tokenized#88, normalized#95, lemmatized#103, UDF(array(lemmatized#103)) AS unigrams#112]\n         +- Project [id#19, cleaned_text#24, document#79, tokenized#88, normalized#95, UDF(array(normalized#95)) AS lemmatized#103]\n            +- Project [id#19, cleaned_text#24, document#79, tokenized#88, UDF(array(tokenized#88)) AS normalized#95]\n               +- Project [id#19, cleaned_text#24, document#79, UDF(array(document#79)) AS tokenized#88]\n                  +- Project [id#19, cleaned_text#24, UDF(cleaned_text#24) AS document#79]\n                     +- Sample 0.0, 0.001, false, -3362232977550251825\n                        +- Project [id#19, cleaned_text#24]\n                           +- Relation [_c0#17,type#18,id#19,extracted_link_id#20,author#21,year#22,month#23,cleaned_text#24,score#25,num_comments#26] csv\n"
     ]
    }
   ],
   "source": [
    "#Merge POS tags as just one string to be able to take it as a document in the Spark NLP Pipeline\n",
    "from pyspark.sql import functions as F\n",
    "pos_as_string = F.udf(lambda x: ' '.join(x), T.StringType())\n",
    "data = data.withColumn('finished_pos', pos_as_string(F.col('finished_pos')))"
   ]
  },
  {
   "cell_type": "code",
   "execution_count": null,
   "id": "9c9dbe0a-f678-4a30-b0be-52677577fea7",
   "metadata": {},
   "outputs": [],
   "source": [
    "data.show(3)"
   ]
  },
  {
   "cell_type": "markdown",
   "id": "2526f892-a934-4101-a8f1-044479b473fd",
   "metadata": {},
   "source": [
    "New pipeline for pos-tags"
   ]
  },
  {
   "cell_type": "code",
   "execution_count": null,
   "id": "e13efe3f-256a-4261-93c2-d19b2c735785",
   "metadata": {},
   "outputs": [],
   "source": [
    "pos_documentAssembler = DocumentAssembler() \\\n",
    "     .setInputCol('finished_pos') \\\n",
    "     .setOutputCol('pos_document')\n",
    "\n",
    "pos_tokenizer = Tokenizer() \\\n",
    "     .setInputCols(['pos_document']) \\\n",
    "     .setOutputCol('pos')\n",
    "     \n",
    "    \n",
    "pos_ngrammer = NGramGenerator() \\\n",
    "    .setInputCols(['pos']) \\\n",
    "    .setOutputCol('pos_ngrams') \\\n",
    "    .setN(3) \\\n",
    "    .setEnableCumulative(True) \\\n",
    "    .setDelimiter('_')\n",
    "\n",
    "pos_finisher = Finisher() \\\n",
    "     .setInputCols(['pos', 'pos_ngrams']) \\\n",
    "\n",
    "pos_pipeline = Pipeline() \\\n",
    "     .setStages([pos_documentAssembler,                  \n",
    "                 pos_tokenizer,\n",
    "                 pos_ngrammer,  \n",
    "                 pos_finisher])\n",
    "\n",
    "data = pos_pipeline.fit(data).transform(data)"
   ]
  },
  {
   "cell_type": "code",
   "execution_count": null,
   "id": "3b5f3238-a48b-4632-bb35-c5c796163816",
   "metadata": {},
   "outputs": [],
   "source": [
    "data.columns"
   ]
  },
  {
   "cell_type": "code",
   "execution_count": null,
   "id": "0dcb5892-a1a6-486a-9845-faa5f8b3780a",
   "metadata": {},
   "outputs": [],
   "source": [
    "data.show(1)"
   ]
  },
  {
   "cell_type": "code",
   "execution_count": null,
   "id": "a88ada38-b7f7-43d9-a593-93b7ed787514",
   "metadata": {},
   "outputs": [],
   "source": [
    "def filter_unigrams(finished_unigrams, finished_pos):\n",
    "    '''Filters individual words based on their POS tag'''\n",
    "    return [word for word, pos in zip(finished_unigrams, finished_pos)\n",
    "            if pos in ['JJ', 'NN', 'NNS', 'NNPS', 'VB', 'VBP', 'VBD',\n",
    "                      'VBG', 'VBN', 'VNZ']]\n",
    "\n",
    "udf_filter_unigrams = F.udf(filter_unigrams, T.ArrayType(T.StringType()))"
   ]
  },
  {
   "cell_type": "code",
   "execution_count": null,
   "id": "f4ebd6c8-ba26-47bf-9db8-f761f1a0e921",
   "metadata": {},
   "outputs": [],
   "source": [
    "data = data.withColumn('filtered_unigrams_by_pos', udf_filter_unigrams(\n",
    "                                                   F.col('finished_unigrams'),\n",
    "                                                   F.col('finished_pos')))\n",
    "\n",
    "data.show(5)"
   ]
  },
  {
   "cell_type": "code",
   "execution_count": null,
   "id": "1327c68b-1ba7-432f-96a5-e83a4ce36933",
   "metadata": {},
   "outputs": [],
   "source": [
    "def filter_pos_ngrams(finished_ngrams, finished_pos_tags):\n",
    "    return [word for word, pos in zip(finished_ngrams, finished_pos_tags) \n",
    "            if (len(pos.split('_')) == 2 and \\\n",
    "                pos.split('_')[0] in ['JJ', 'NN', 'NNS', 'VB', 'VBP'] and \\\n",
    "                 pos.split('_')[1] in ['JJ', 'NN', 'NNS']) \\\n",
    "            or (len(pos.split('_')) == 3 and \\\n",
    "                pos.split('_')[0] in ['JJ', 'NN', 'NNS', 'VB', 'VBP'] and \\\n",
    "                 pos.split('_')[1] in ['JJ', 'NN', 'NNS', 'VB', 'VBP'] and \\\n",
    "                  pos.split('_')[2] in ['NN', 'NNS'])]\n",
    "    \n",
    "udf_filter_pos_ngrams = F.udf(filter_pos_ngrams, T.ArrayType(T.StringType()))"
   ]
  },
  {
   "cell_type": "code",
   "execution_count": null,
   "id": "32c8fd55-67eb-420a-b66e-0be30b932898",
   "metadata": {},
   "outputs": [],
   "source": [
    "data = data.withColumn('filtered_ngrams_by_pos',\n",
    "                       udf_filter_pos_ngrams(F.col('finished_ngrams'),\n",
    "                                             F.col('finished_pos_ngrams')))"
   ]
  },
  {
   "cell_type": "code",
   "execution_count": null,
   "id": "0cee6080-5f1b-43b9-a7c3-d1f8573c8f0e",
   "metadata": {},
   "outputs": [],
   "source": [
    "data.show(5)"
   ]
  },
  {
   "cell_type": "code",
   "execution_count": null,
   "id": "0479f4ba-a6a8-4278-a1d7-0d212602da71",
   "metadata": {},
   "outputs": [],
   "source": [
    "data.select('id','filtered_ngrams_by_pos').show(10, truncate=100)"
   ]
  },
  {
   "cell_type": "code",
   "execution_count": null,
   "id": "b7690a15-09ef-4158-b492-9bd5c5e8eaa0",
   "metadata": {},
   "outputs": [],
   "source": [
    "data.select('id','filtered_unigrams_by_pos').show(10, truncate=100)"
   ]
  },
  {
   "cell_type": "code",
   "execution_count": null,
   "id": "241ee1e3-18af-4c54-95d9-d717e5cde253",
   "metadata": {},
   "outputs": [],
   "source": [
    "data.columns"
   ]
  },
  {
   "cell_type": "code",
   "execution_count": null,
   "id": "71381836-f71c-46fd-aac9-8870e2d8828e",
   "metadata": {},
   "outputs": [],
   "source": [
    "data.select('cleaned_text').show(10, truncate=100)"
   ]
  },
  {
   "cell_type": "code",
   "execution_count": null,
   "id": "3c5b8627-e80c-4272-a9c7-6d18040b5a02",
   "metadata": {},
   "outputs": [],
   "source": []
  }
 ],
 "metadata": {
  "kernelspec": {
   "display_name": "Python 3 (ipykernel)",
   "language": "python",
   "name": "python3"
  },
  "language_info": {
   "codemirror_mode": {
    "name": "ipython",
    "version": 3
   },
   "file_extension": ".py",
   "mimetype": "text/x-python",
   "name": "python",
   "nbconvert_exporter": "python",
   "pygments_lexer": "ipython3",
   "version": "3.9.19"
  }
 },
 "nbformat": 4,
 "nbformat_minor": 5
}
