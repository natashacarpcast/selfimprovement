{
 "cells": [
  {
   "cell_type": "markdown",
   "id": "35b6aa00-eeb1-46d2-9970-0cc7142d605d",
   "metadata": {},
   "source": [
    "Used tutorial https://github.com/maobedkova/TopicModelling_PySpark_SparkNLP/blob/master/Topic_Modelling_with_PySpark_and_Spark_NLP.ipynb for reference"
   ]
  },
  {
   "cell_type": "code",
   "execution_count": 1,
   "id": "80dfe811-6044-456b-9b67-1dd90f647207",
   "metadata": {},
   "outputs": [
    {
     "name": "stdout",
     "output_type": "stream",
     "text": [
      "Warning::Spark Session already created, some configs may not take.\n",
      "24/11/05 18:39:48 WARN SparkSession: Using an existing Spark session; only runtime SQL configurations will take effect.\n"
     ]
    }
   ],
   "source": [
    "import sparknlp\n",
    "from sparknlp.annotator import Tokenizer, PerceptronModel\n",
    "from sparknlp.base import DocumentAssembler\n",
    "from pyspark.ml import Pipeline\n",
    "from sparknlp.pretrained import PretrainedPipeline\n",
    "from sparknlp.annotator import *\n",
    "from sparknlp.base import *\n",
    "from pyspark.ml.feature import CountVectorizer\n",
    "from pyspark.ml.feature import IDF\n",
    "from pyspark.ml.clustering import LDA\n",
    "from pyspark.sql import types as T\n",
    "\n",
    "spark = sparknlp.start()"
   ]
  },
  {
   "cell_type": "code",
   "execution_count": 2,
   "id": "c18ccc18-b119-472f-af9c-19a44eeea279",
   "metadata": {},
   "outputs": [],
   "source": [
    "data = spark.read.csv(\"../data_topicmodel.csv\", header= True).select([\"id\", \"cleaned_text\"])"
   ]
  },
  {
   "cell_type": "code",
   "execution_count": 3,
   "id": "e156a53b-e98c-488a-bd55-4d9028bad129",
   "metadata": {},
   "outputs": [
    {
     "name": "stdout",
     "output_type": "stream",
     "text": [
      "+-----+--------------------+\n",
      "|   id|        cleaned_text|\n",
      "+-----+--------------------+\n",
      "|hk5r2|i had an appointm...|\n",
      "|iqimz|i created this si...|\n",
      "|pfzt5|hello everyone  i...|\n",
      "|pk714|i grew up with bo...|\n",
      "|q0q8x|i have to ask whe...|\n",
      "+-----+--------------------+\n",
      "only showing top 5 rows\n",
      "\n"
     ]
    }
   ],
   "source": [
    "#Remove sample\n",
    "data.show(5)\n",
    "data = data.sample(0.001)"
   ]
  },
  {
   "cell_type": "code",
   "execution_count": 4,
   "id": "7911044e-82b5-4034-a43b-16e1306cc590",
   "metadata": {},
   "outputs": [],
   "source": [
    "documentAssembler = DocumentAssembler()\\\n",
    "     .setInputCol(\"cleaned_text\")\\\n",
    "     .setOutputCol('document')"
   ]
  },
  {
   "cell_type": "code",
   "execution_count": 5,
   "id": "12b99eb0-aaee-49e6-accd-8382b9778873",
   "metadata": {},
   "outputs": [],
   "source": [
    "tokenizer = Tokenizer() \\\n",
    "            .setInputCols(['document'])\\\n",
    "            .setOutputCol('tokenized')"
   ]
  },
  {
   "cell_type": "code",
   "execution_count": 6,
   "id": "e08506b3-9c85-4b12-915c-179501a1fe55",
   "metadata": {},
   "outputs": [],
   "source": [
    "normalizer = Normalizer() \\\n",
    "     .setInputCols(['tokenized']) \\\n",
    "     .setOutputCol('normalized') "
   ]
  },
  {
   "cell_type": "code",
   "execution_count": 7,
   "id": "30c66633-606d-462a-8854-9443ac46d9ac",
   "metadata": {},
   "outputs": [],
   "source": [
    "lemmatizer = LemmatizerModel.load(\"../models/lemma_ewt_en_3.4.3_3.0_1651416655397/\")\\\n",
    "      .setInputCols(\"normalized\")\\\n",
    "      .setOutputCol(\"lemmatized\")"
   ]
  },
  {
   "cell_type": "code",
   "execution_count": 15,
   "id": "a7785596-e18b-44b5-a57a-602da0c6c05c",
   "metadata": {},
   "outputs": [],
   "source": [
    "english = [\n",
    "    \"a\", \"about\", \"above\", \"after\", \"again\", \"against\", \"all\", \"am\", \"an\", \"and\", \"any\", \"are\", \"as\", \"at\", \"be\", \n",
    "    \"because\", \"been\", \"before\", \"being\", \"below\", \"between\", \"both\", \"but\", \"by\", \"can\", \"cannot\", \"could\", \"did\", \n",
    "    \"do\", \"does\", \"doing\", \"down\", \"during\", \"each\", \"few\", \"for\", \"from\", \"further\", \"had\", \"has\", \"have\", \"having\", \n",
    "    \"he\", \"her\", \"here\", \"hers\", \"herself\", \"him\", \"himself\", \"his\", \"how\", \"i\", \"if\", \"in\", \"into\", \"is\", \"it\", \n",
    "    \"its\", \"itself\", \"let\", \"me\", \"more\", \"most\", \"must\", \"my\", \"myself\", \"no\", \"nor\", \"not\", \"of\", \"off\", \"on\", \n",
    "    \"once\", \"only\", \"or\", \"other\", \"our\", \"ours\", \"ourselves\", \"out\", \"over\", \"own\", \"same\", \"she\", \"some\", \"such\", \n",
    "    \"than\", \"that\", \"the\", \"their\", \"theirs\", \"them\", \"themselves\", \"then\", \"there\", \"these\", \"they\", \"this\", \"those\", \n",
    "    \"through\", \"to\", \"too\", \"under\", \"until\", \"up\", \"very\", \"was\", \"we\", \"were\", \"what\", \"when\", \"where\", \"which\", \n",
    "    \"while\", \"who\", \"whom\", \"why\", \"with\", \"would\", \"you\", \"your\", \"yours\", \"yourself\", \"yourselves\", \"will\", \"ll\", \n",
    "    \"re\", \"ve\", \"d\", \"s\", \"m\", \n",
    "    \"b\", \"c\", \"d\", \"e\", \"f\", \"g\", \"h\", \"i\", \"j\", \"k\", \"l\", \"m\", \"n\", \"o\", \"p\", \"q\", \"r\", \"s\", \"t\", \"u\", \"v\", \"w\", \n",
    "    \"x\", \"y\", \"z\", \"many\", \"us\"]\n",
    "\n",
    "time = [\"monday\", \"tuesday\", \"wednesday\", \"thursday\", \"friday\", \"saturday\", \n",
    "        \"sunday\", \"morning\", \"noon\", \"afternoon\", \"evening\", \"night\", \"midnight\",\n",
    "        \"dawn\", \"dusk\", \"week\", \"weekend\", \"weekends\",\"weekly\", \"today\", \n",
    "        \"yesterday\", \"tomorrow\", \"yesterdays\", \"todays\", \"mondays\", \"tuesdays\",\n",
    "        \"wednesdays\", \"thursdays\", \"fridays\", \"saturdays\", \"sundays\", \"day\",\n",
    "        \"everyday\", \"daily\", \"workday\", 'time', 'month', 'year', 'pm', 'am', \"ago\",\n",
    "        \"year\"]\n",
    "\n",
    "reddit = [\"welcome\", \"hi\", \"hello\", \"sub\", \"reddit\", \"thanks\", \"thank\", \"maybe\",\n",
    "          \"wo30\", \"mods\", \"mod\", \"moderators\", \"subreddit\", \"btw\", \"aw\", \"aww\", \n",
    "          \"aww\", \"hey\", \"hello\", \"join\", \"joined\", \"post\", \"rselfimprovement\"]\n",
    "\n",
    "topic_specific = [\"self\", \"improvement\", \"change\", \"action\",\n",
    "    'change', 'start', 'goal', 'habit', 'new', 'old', \n",
    "    'care', 'world', 'everyone', 'love', 'u', 'right', 'mean', 'matter',\n",
    "    'best', 'step', 'focus', 'hard', 'small',\n",
    "    'bad', 'help', 'time', 'problem', 'issue', 'advice',\n",
    "    'bit', 'experience', 'different',\n",
    "    'point', 'situation', 'negative', 'control', 'positive',\n",
    "    'use', 'question', 'idea', 'amp', 'medium', 'hour', 'day', 'minute']\n",
    "\n",
    "other = [\"hows\", \"ive\", \"ill\", \"im\", \"cant\", \"topics\", \"topic\", \"discuss\", \n",
    "         \"thoughts\", \"yo\", \"thats\", \"whats\", \"lets\", \"nothing\", \"oh\", \"omg\", \n",
    "         \"things\", \"stuff\", \"yall\", \"haha\", \"yes\", \"no\", \"wo\", \"like\", 'good', \n",
    "         'work', 'got', 'going', 'dont', 'really', 'want', 'make', 'think', \n",
    "         'know', 'feel', 'people', 'life', \"getting\", \"lot\" \"great\", \"i\", \"me\", \n",
    "         \"my\", \"myself\", \"we\", \"our\", \"ours\", \"ourselves\", \n",
    "        \"you\", \"your\", \"yours\", \"yourself\", \"yourselves\", \"he\", \"him\", \"his\", \n",
    "        \"himself\", \"she\", \"her\", \"hers\", \"herself\", \"it\", \"its\", \"itself\", \n",
    "        \"they\", \"them\", \"their\", \"theirs\",\"themselves\", \"what\", \"which\", \"who\", \n",
    "        \"whom\", \"this\", \"that\", \"these\", \"those\", \"am\", \"is\", \"are\", \"was\", \n",
    "        \"were\", \"be\", \"been\", \"being\", \"have\", \"has\", \"had\", \"having\", \"do\", \n",
    "        \"does\", \"did\", \"doing\", \"will\", \"would\", \"should\", \"can\", \"could\", \"may\",\n",
    "        \"might\", \"must\", \"shall\", \"ought\", \"about\", \"above\", \"across\", \"after\", \n",
    "        \"against\", \"along\", \"amid\", \"among\", \"around\", \"as\", \"at\", \"before\", \"behind\",\n",
    "        \"below\", \"beneath\", \"beside\", \"between\", \"beyond\", \"but\", \"by\", \n",
    "        \"concerning\", \"considering\", \"despite\", \"down\", \"during\", \"except\", \"for\",\n",
    "        \"from\", \"in\", \"inside\", \"into\", \"like\", \"near\", \"next\", \"notwithstanding\",\n",
    "        \"of\", \"off\", \"on\", \"onto\", \"opposite\", \"out\", \"outside\", \"over\", \"past\",\n",
    "        \"regarding\", \"round\", \"since\", \"than\", \"through\", \"throughout\", \"till\", \n",
    "        \"to\", \"toward\", \"towards\", \"under\", \"underneath\", \"unlike\", \"until\", \"up\",\n",
    "        \"upon\", \"versus\", \"via\", \"with\", \"within\", \"without\", \"cant\", \"cannot\", \n",
    "        \"couldve\", \"couldnt\", \"didnt\", \"doesnt\", \"dont\", \"hadnt\", \"hasnt\", \n",
    "        \"havent\", \"hed\", \"hell\", \"hes\", \"howd\", \"howll\", \"hows\", \"id\", \"ill\", \n",
    "        \"im\", \"ive\", \"isnt\", \"itd\", \"itll\", \"its\", \"lets\", \"mightve\", \"mustve\", \n",
    "        \"mustnt\", \"shant\", \"shed\", \"shell\", \"shes\", \"shouldve\", \"shouldnt\", \n",
    "        \"thatll\", \"thats\", \"thered\", \"therell\", \"therere\", \"theres\", \"theyd\", \n",
    "        \"theyll\", \"theyre\", \"theyve\", \"wed\", \"well\", \"were\", \"weve\", \"werent\", \n",
    "        \"whatd\", \"whatll\", \"whatre\", \"whats\", \"whatve\", \"whend\", \"whenll\", \n",
    "        \"whens\", \"whered\", \"wherell\", \"wheres\", \"whichd\", \"whichll\", \"whichre\", \n",
    "        \"whichs\", \"whod\", \"wholl\", \"whore\", \"whos\", \"whove\", \"whyd\", \"whyll\", \n",
    "        \"whys\", \"wont\", \"wouldve\", \"wouldnt\", \"youd\", \"youll\", \"youre\", \"youve\",\n",
    "        \"f\", \"m\", \"because\", \"go\", \"lot\", \"get\", \"still\", \"way\", \"something\", \"much\",\n",
    "        \"thing\", \"someone\", \"person\", \"anything\"]\n",
    "\n",
    "stopwords = english + time + reddit + topic_specific + other\n",
    "\n",
    "from sparknlp.annotator import StopWordsCleaner\n",
    "\n",
    "stopwords_cleaner = StopWordsCleaner() \\\n",
    "     .setInputCols(['normalized']) \\\n",
    "     .setOutputCol('unigrams') \\\n",
    "     .setStopWords(stopwords)"
   ]
  },
  {
   "cell_type": "code",
   "execution_count": 16,
   "id": "95e33a63-8c34-4a81-8fa1-157c86492364",
   "metadata": {},
   "outputs": [],
   "source": [
    "from sparknlp.annotator import NGramGenerator\n",
    "\n",
    "ngrammer = NGramGenerator() \\\n",
    "    .setInputCols(['normalized']) \\\n",
    "    .setOutputCol('ngrams') \\\n",
    "    .setN(3) \\\n",
    "    .setEnableCumulative(True) \\\n",
    "    .setDelimiter('_')"
   ]
  },
  {
   "cell_type": "code",
   "execution_count": 17,
   "id": "d5843616-767e-448f-8943-006848263e6f",
   "metadata": {},
   "outputs": [
    {
     "name": "stderr",
     "output_type": "stream",
     "text": [
      "                                                                                \r"
     ]
    }
   ],
   "source": [
    "pos = PerceptronModel.load(\"/project/macs40123/spark-jars/pos_anc_en_3.0.0_3.0_1614962126490/\")\\\n",
    "      .setInputCols(\"document\", \"normalized\")\\\n",
    "      .setOutputCol(\"pos\")"
   ]
  },
  {
   "cell_type": "code",
   "execution_count": 18,
   "id": "20199976-1358-47e2-8685-a8e54cc73200",
   "metadata": {},
   "outputs": [],
   "source": [
    "from sparknlp.base import Finisher\n",
    "\n",
    "finisher = Finisher().setInputCols(['unigrams', 'ngrams', 'pos'])"
   ]
  },
  {
   "cell_type": "code",
   "execution_count": 19,
   "id": "50a9dbb2-1f65-4c5b-826e-feedefbf682a",
   "metadata": {},
   "outputs": [],
   "source": [
    "my_pipeline = Pipeline(\n",
    "      stages = [\n",
    "          documentAssembler,\n",
    "          tokenizer,\n",
    "          normalizer,\n",
    "          stopwords_cleaner,\n",
    "          ngrammer,\n",
    "          pos ,\n",
    "          finisher\n",
    "      ])"
   ]
  },
  {
   "cell_type": "code",
   "execution_count": 20,
   "id": "680ea3cb-e5cf-4de6-aae3-c8e4ac8a3258",
   "metadata": {},
   "outputs": [
    {
     "name": "stdout",
     "output_type": "stream",
     "text": [
      "+------+--------------------+--------------------+--------------------+--------------------+\n",
      "|    id|        cleaned_text|   finished_unigrams|     finished_ngrams|        finished_pos|\n",
      "+------+--------------------+--------------------+--------------------+--------------------+\n",
      "|2bcm2o|many of us tend t...|[many, us, tend, ...|[many, of, us, te...|[JJ, IN, PRP, VBP...|\n",
      "+------+--------------------+--------------------+--------------------+--------------------+\n",
      "only showing top 1 row\n",
      "\n"
     ]
    }
   ],
   "source": [
    "pipelineModel = my_pipeline.fit(data)\n",
    "data = pipelineModel.transform(data)\n",
    "data.show(1)"
   ]
  },
  {
   "cell_type": "code",
   "execution_count": 21,
   "id": "198344d1-7dcc-4258-b5a1-4bba2466aac7",
   "metadata": {},
   "outputs": [
    {
     "data": {
      "text/plain": [
       "['id', 'cleaned_text', 'finished_unigrams', 'finished_ngrams', 'finished_pos']"
      ]
     },
     "execution_count": 21,
     "metadata": {},
     "output_type": "execute_result"
    }
   ],
   "source": [
    "data.columns"
   ]
  },
  {
   "cell_type": "code",
   "execution_count": 22,
   "id": "87fb8dd9-18a7-453a-969a-6000f42d6057",
   "metadata": {},
   "outputs": [],
   "source": [
    "#data.select('document').show(5, truncate = 100)"
   ]
  },
  {
   "cell_type": "code",
   "execution_count": 23,
   "id": "3772846d-a5b0-4164-a7f3-adb696119d2c",
   "metadata": {},
   "outputs": [],
   "source": [
    "#data.select('tokenized').show(1, truncate = 100)"
   ]
  },
  {
   "cell_type": "code",
   "execution_count": 24,
   "id": "393e8e4f-fbdc-4537-88d9-2e928217322e",
   "metadata": {},
   "outputs": [],
   "source": [
    "#data.select('normalized').show(1, truncate = 100)"
   ]
  },
  {
   "cell_type": "code",
   "execution_count": 25,
   "id": "53c04957-b85f-4f0b-8d02-6667a4e45cf8",
   "metadata": {},
   "outputs": [],
   "source": [
    "#data.select('lemmatized').show(1, truncate = 1000)"
   ]
  },
  {
   "cell_type": "code",
   "execution_count": 26,
   "id": "7598af2e-4e59-4115-877d-95bf5fe8552e",
   "metadata": {},
   "outputs": [],
   "source": [
    "#data.select('unigrams').show(1, truncate = 100)"
   ]
  },
  {
   "cell_type": "markdown",
   "id": "18a3ca69-28c3-4747-86d5-ff4e3ab15af8",
   "metadata": {},
   "source": [
    "Create pos-tags n-grams that correspond to words n-grams"
   ]
  },
  {
   "cell_type": "code",
   "execution_count": 27,
   "id": "14d85977-59fb-4c78-913c-4a5aa465389b",
   "metadata": {},
   "outputs": [],
   "source": [
    "#Merge POS tags as just one string to be able to take it as a document in the Spark NLP Pipeline\n",
    "from pyspark.sql import functions as F\n",
    "pos_as_string = F.udf(lambda x: ' '.join(x), T.StringType())\n",
    "data = data.withColumn('finished_pos', pos_as_string(F.col('finished_pos')))"
   ]
  },
  {
   "cell_type": "code",
   "execution_count": 28,
   "id": "9c9dbe0a-f678-4a30-b0be-52677577fea7",
   "metadata": {},
   "outputs": [
    {
     "name": "stderr",
     "output_type": "stream",
     "text": [
      "[Stage 13:>                                                         (0 + 1) / 1]\r"
     ]
    },
    {
     "name": "stdout",
     "output_type": "stream",
     "text": [
      "+------+--------------------+--------------------+--------------------+--------------------+\n",
      "|    id|        cleaned_text|   finished_unigrams|     finished_ngrams|        finished_pos|\n",
      "+------+--------------------+--------------------+--------------------+--------------------+\n",
      "|2bcm2o|many of us tend t...|[many, us, tend, ...|[many, of, us, te...|JJ IN PRP VBP TO ...|\n",
      "|2f9zxg|ive had difficult...|[difficulty, foll...|[ive, had, diffic...|JJ VBD NN VBG DT ...|\n",
      "|2zq5iu|ever get stuck  p...|[ever, stuck, par...|[ever, get, stuck...|RB VB VBN JJ IN P...|\n",
      "+------+--------------------+--------------------+--------------------+--------------------+\n",
      "only showing top 3 rows\n",
      "\n"
     ]
    },
    {
     "name": "stderr",
     "output_type": "stream",
     "text": [
      "                                                                                \r"
     ]
    }
   ],
   "source": [
    "data.show(3)"
   ]
  },
  {
   "cell_type": "markdown",
   "id": "2526f892-a934-4101-a8f1-044479b473fd",
   "metadata": {},
   "source": [
    "New pipeline for pos-tags"
   ]
  },
  {
   "cell_type": "code",
   "execution_count": 29,
   "id": "e13efe3f-256a-4261-93c2-d19b2c735785",
   "metadata": {},
   "outputs": [],
   "source": [
    "pos_documentAssembler = DocumentAssembler() \\\n",
    "     .setInputCol('finished_pos') \\\n",
    "     .setOutputCol('pos_document')\n",
    "\n",
    "pos_tokenizer = Tokenizer() \\\n",
    "     .setInputCols(['pos_document']) \\\n",
    "     .setOutputCol('pos')\n",
    "     \n",
    "    \n",
    "pos_ngrammer = NGramGenerator() \\\n",
    "    .setInputCols(['pos']) \\\n",
    "    .setOutputCol('pos_ngrams') \\\n",
    "    .setN(3) \\\n",
    "    .setEnableCumulative(True) \\\n",
    "    .setDelimiter('_')\n",
    "\n",
    "pos_finisher = Finisher() \\\n",
    "     .setInputCols(['pos', 'pos_ngrams']) \\\n",
    "\n",
    "pos_pipeline = Pipeline() \\\n",
    "     .setStages([pos_documentAssembler,                  \n",
    "                 pos_tokenizer,\n",
    "                 pos_ngrammer,  \n",
    "                 pos_finisher])\n",
    "\n",
    "data = pos_pipeline.fit(data).transform(data)"
   ]
  },
  {
   "cell_type": "code",
   "execution_count": 30,
   "id": "3b5f3238-a48b-4632-bb35-c5c796163816",
   "metadata": {},
   "outputs": [
    {
     "data": {
      "text/plain": [
       "['id',\n",
       " 'cleaned_text',\n",
       " 'finished_unigrams',\n",
       " 'finished_ngrams',\n",
       " 'finished_pos',\n",
       " 'finished_pos_ngrams']"
      ]
     },
     "execution_count": 30,
     "metadata": {},
     "output_type": "execute_result"
    }
   ],
   "source": [
    "data.columns"
   ]
  },
  {
   "cell_type": "code",
   "execution_count": 31,
   "id": "0dcb5892-a1a6-486a-9845-faa5f8b3780a",
   "metadata": {},
   "outputs": [
    {
     "name": "stderr",
     "output_type": "stream",
     "text": [
      "[Stage 14:>                                                         (0 + 1) / 1]\r"
     ]
    },
    {
     "name": "stdout",
     "output_type": "stream",
     "text": [
      "+------+--------------------+--------------------+--------------------+--------------------+--------------------+\n",
      "|    id|        cleaned_text|   finished_unigrams|     finished_ngrams|        finished_pos| finished_pos_ngrams|\n",
      "+------+--------------------+--------------------+--------------------+--------------------+--------------------+\n",
      "|2bcm2o|many of us tend t...|[many, us, tend, ...|[many, of, us, te...|[JJ, IN, PRP, VBP...|[JJ, IN, PRP, VBP...|\n",
      "+------+--------------------+--------------------+--------------------+--------------------+--------------------+\n",
      "only showing top 1 row\n",
      "\n"
     ]
    },
    {
     "name": "stderr",
     "output_type": "stream",
     "text": [
      "                                                                                \r"
     ]
    }
   ],
   "source": [
    "data.show(1)"
   ]
  },
  {
   "cell_type": "code",
   "execution_count": 32,
   "id": "a88ada38-b7f7-43d9-a593-93b7ed787514",
   "metadata": {},
   "outputs": [],
   "source": [
    "def filter_unigrams(finished_unigrams, finished_pos):\n",
    "    '''Filters individual words based on their POS tag'''\n",
    "    return [word for word, pos in zip(finished_unigrams, finished_pos)\n",
    "            if pos in ['JJ', 'NN', 'NNS', 'NNPS', 'VB', 'VBP', 'VBD',\n",
    "                      'VBG', 'VBN', 'VNZ']]\n",
    "\n",
    "udf_filter_unigrams = F.udf(filter_unigrams, T.ArrayType(T.StringType()))"
   ]
  },
  {
   "cell_type": "code",
   "execution_count": 33,
   "id": "f4ebd6c8-ba26-47bf-9db8-f761f1a0e921",
   "metadata": {},
   "outputs": [
    {
     "name": "stderr",
     "output_type": "stream",
     "text": [
      "[Stage 15:>                                                         (0 + 1) / 1]\r"
     ]
    },
    {
     "name": "stdout",
     "output_type": "stream",
     "text": [
      "+------+--------------------+--------------------+--------------------+--------------------+--------------------+------------------------+\n",
      "|    id|        cleaned_text|   finished_unigrams|     finished_ngrams|        finished_pos| finished_pos_ngrams|filtered_unigrams_by_pos|\n",
      "+------+--------------------+--------------------+--------------------+--------------------+--------------------+------------------------+\n",
      "|2bcm2o|many of us tend t...|[many, us, tend, ...|[many, of, us, te...|[JJ, IN, PRP, VBP...|[JJ, IN, PRP, VBP...|    [many, read, expr...|\n",
      "|2f9zxg|ive had difficult...|[difficulty, foll...|[ive, had, diffic...|[JJ, VBD, NN, VBG...|[JJ, VBD, NN, VBG...|    [difficulty, foll...|\n",
      "|2zq5iu|ever get stuck  p...|[ever, stuck, par...|[ever, get, stuck...|[RB, VB, VBN, JJ,...|[RB, VB, VBN, JJ,...|    [stuck, paralyzed...|\n",
      "|39i2bo|lately i have bec...|[lately, become, ...|[lately, i, have,...|[RB, NNP, VBP, VB...|[RB, NNP, VBP, VB...|    [aware, thought, ...|\n",
      "|3dug8l|hi all  bit about...|[graduated, last,...|[hi, all, bit, ab...|[NN, DT, NN, IN, ...|[NN, DT, NN, IN, ...|    [graduated, bsc, ...|\n",
      "+------+--------------------+--------------------+--------------------+--------------------+--------------------+------------------------+\n",
      "only showing top 5 rows\n",
      "\n"
     ]
    },
    {
     "name": "stderr",
     "output_type": "stream",
     "text": [
      "                                                                                \r"
     ]
    }
   ],
   "source": [
    "data = data.withColumn('filtered_unigrams_by_pos', udf_filter_unigrams(\n",
    "                                                   F.col('finished_unigrams'),\n",
    "                                                   F.col('finished_pos')))\n",
    "\n",
    "data.show(5)"
   ]
  },
  {
   "cell_type": "code",
   "execution_count": 34,
   "id": "1327c68b-1ba7-432f-96a5-e83a4ce36933",
   "metadata": {},
   "outputs": [],
   "source": [
    "def filter_pos_ngrams(finished_ngrams, finished_pos_tags):\n",
    "    return [word for word, pos in zip(finished_ngrams, finished_pos_tags) \n",
    "            if (len(pos.split('_')) == 2 and \\\n",
    "                pos.split('_')[0] in ['JJ', 'NN', 'NNS', 'VB', 'VBP'] and \\\n",
    "                 pos.split('_')[1] in ['JJ', 'NN', 'NNS']) \\\n",
    "            or (len(pos.split('_')) == 3 and \\\n",
    "                pos.split('_')[0] in ['JJ', 'NN', 'NNS', 'VB', 'VBP'] and \\\n",
    "                 pos.split('_')[1] in ['JJ', 'NN', 'NNS', 'VB', 'VBP'] and \\\n",
    "                  pos.split('_')[2] in ['NN', 'NNS'])]\n",
    "    \n",
    "udf_filter_pos_ngrams = F.udf(filter_pos_ngrams, T.ArrayType(T.StringType()))"
   ]
  },
  {
   "cell_type": "code",
   "execution_count": 35,
   "id": "32c8fd55-67eb-420a-b66e-0be30b932898",
   "metadata": {},
   "outputs": [],
   "source": [
    "data = data.withColumn('filtered_ngrams_by_pos',\n",
    "                       udf_filter_pos_ngrams(F.col('finished_ngrams'),\n",
    "                                             F.col('finished_pos_ngrams')))"
   ]
  },
  {
   "cell_type": "code",
   "execution_count": 36,
   "id": "0cee6080-5f1b-43b9-a7c3-d1f8573c8f0e",
   "metadata": {},
   "outputs": [
    {
     "name": "stderr",
     "output_type": "stream",
     "text": [
      "[Stage 16:>                                                         (0 + 1) / 1]\r"
     ]
    },
    {
     "name": "stdout",
     "output_type": "stream",
     "text": [
      "+------+--------------------+--------------------+--------------------+--------------------+--------------------+------------------------+----------------------+\n",
      "|    id|        cleaned_text|   finished_unigrams|     finished_ngrams|        finished_pos| finished_pos_ngrams|filtered_unigrams_by_pos|filtered_ngrams_by_pos|\n",
      "+------+--------------------+--------------------+--------------------+--------------------+--------------------+------------------------+----------------------+\n",
      "|2bcm2o|many of us tend t...|[many, us, tend, ...|[many, of, us, te...|[JJ, IN, PRP, VBP...|[JJ, IN, PRP, VBP...|    [many, read, expr...|  [self_expression,...|\n",
      "|2f9zxg|ive had difficult...|[difficulty, foll...|[ive, had, diffic...|[JJ, VBD, NN, VBG...|[JJ, VBD, NN, VBG...|    [difficulty, foll...|  [have_goals, goal...|\n",
      "|2zq5iu|ever get stuck  p...|[ever, stuck, par...|[ever, get, stuck...|[RB, VB, VBN, JJ,...|[RB, VB, VBN, JJ,...|    [stuck, paralyzed...|  [creative_work, w...|\n",
      "|39i2bo|lately i have bec...|[lately, become, ...|[lately, i, have,...|[RB, NNP, VBP, VB...|[RB, NNP, VBP, VB...|    [aware, thought, ...|  [thought_patterns...|\n",
      "|3dug8l|hi all  bit about...|[graduated, last,...|[hi, all, bit, ab...|[NN, DT, NN, IN, ...|[NN, DT, NN, IN, ...|    [graduated, bsc, ...|  [last_year, diffe...|\n",
      "+------+--------------------+--------------------+--------------------+--------------------+--------------------+------------------------+----------------------+\n",
      "only showing top 5 rows\n",
      "\n"
     ]
    },
    {
     "name": "stderr",
     "output_type": "stream",
     "text": [
      "                                                                                \r"
     ]
    }
   ],
   "source": [
    "data.show(5)"
   ]
  },
  {
   "cell_type": "code",
   "execution_count": 37,
   "id": "0479f4ba-a6a8-4278-a1d7-0d212602da71",
   "metadata": {},
   "outputs": [
    {
     "name": "stderr",
     "output_type": "stream",
     "text": [
      "[Stage 17:>                                                         (0 + 1) / 1]\r"
     ]
    },
    {
     "name": "stdout",
     "output_type": "stream",
     "text": [
      "+------+----------------------------------------------------------------------------------------------------+\n",
      "|    id|                                                                              filtered_ngrams_by_pos|\n",
      "+------+----------------------------------------------------------------------------------------------------+\n",
      "|2bcm2o|                                                                      [self_expression, true_selves]|\n",
      "|2f9zxg|[have_goals, goals_dreams, personal_passions, close_relationships, powerful_motivating, motivatin...|\n",
      "|2zq5iu|[creative_work, work_wont, be_good, good_good, be_good, good_right, same_time, full_potential, en...|\n",
      "|39i2bo|[thought_patterns, other_negative, negative_thought, thought_patterns, patterns_background, socia...|\n",
      "|3dug8l|[last_year, different_location, location_clsoe, live_pay, pay_rent, gfs_wage, fgirlfriends_famiyl...|\n",
      "|3gr7i8|[nice_emotion, feel_strong, successful_first, successful_people, certain_type, theyre_failures, o...|\n",
      "|3x6351|[right_sub, sub_reddit, be_long, full_story, people_dont, do_im, im_someone, someone_whos, whos_d...|\n",
      "|504xzm|[amp_didnt, depression_mixed, mixed_feelings, have_mixed, mixed_feelings, particular_conversation...|\n",
      "|59k3cm|[job_interviews, be_able, make_friends, have_success, im_kind, be_im, picky_person, feel_free, me...|\n",
      "|5j8qgo|[sleep_early, lifestyle_situation, have_events, anything_genuine, genuine_non, non_avoidable, avo...|\n",
      "+------+----------------------------------------------------------------------------------------------------+\n",
      "only showing top 10 rows\n",
      "\n"
     ]
    },
    {
     "name": "stderr",
     "output_type": "stream",
     "text": [
      "                                                                                \r"
     ]
    }
   ],
   "source": [
    "data.select('id','filtered_ngrams_by_pos').show(10, truncate=100)"
   ]
  },
  {
   "cell_type": "code",
   "execution_count": 38,
   "id": "b7690a15-09ef-4158-b492-9bd5c5e8eaa0",
   "metadata": {},
   "outputs": [
    {
     "name": "stderr",
     "output_type": "stream",
     "text": [
      "[Stage 18:>                                                         (0 + 1) / 1]\r"
     ]
    },
    {
     "name": "stdout",
     "output_type": "stream",
     "text": [
      "+------+----------------------------------------------------------------------------------------------------+\n",
      "|    id|                                                                            filtered_unigrams_by_pos|\n",
      "+------+----------------------------------------------------------------------------------------------------+\n",
      "|2bcm2o|                              [many, read, expression, discover, selves, costing, money, just, need]|\n",
      "|2f9zxg|[difficulty, following, path, productive, mids, dreams, desires, personal, motivating, knowledge,...|\n",
      "|2zq5iu|[stuck, paralyzed, creative, even, living, full, potential, artist, creating, great, just, starte...|\n",
      "|39i2bo|[aware, thought, entirely, theme, either, underestimates, cut, aggressive, act, apologise, repres...|\n",
      "|3dug8l|[graduated, bsc, study, so, worked, masters, clsoe, live, bought, pretty, study, us, cheaper, mov...|\n",
      "|3gr7i8|[feeling, nice, sucks, forgotten, worthy, sometimes, coming, strong, first, failures, even, accom...|\n",
      "|3x6351|[posting, told, anyone, full, made, regardless, hurt, many, years, deserve, trouble, fitting, als...|\n",
      "|504xzm|[title, depression, almost, years, believe, mixed, one, ventsrants, anyway, title, diagnosed, rev...|\n",
      "|59k3cm|[yeah, job, able, girls, biggest, just, happy, picky, find, entertaining, broaden, horizons, proc...|\n",
      "|5j8qgo|[yea, early, sleep, days, events, genuine, avoidable, events, early, kicking, body, heard, fixed,...|\n",
      "+------+----------------------------------------------------------------------------------------------------+\n",
      "only showing top 10 rows\n",
      "\n"
     ]
    },
    {
     "name": "stderr",
     "output_type": "stream",
     "text": [
      "                                                                                \r"
     ]
    }
   ],
   "source": [
    "data.select('id','filtered_unigrams_by_pos').show(10, truncate=100)"
   ]
  },
  {
   "cell_type": "code",
   "execution_count": 39,
   "id": "241ee1e3-18af-4c54-95d9-d717e5cde253",
   "metadata": {},
   "outputs": [
    {
     "data": {
      "text/plain": [
       "['id',\n",
       " 'cleaned_text',\n",
       " 'finished_unigrams',\n",
       " 'finished_ngrams',\n",
       " 'finished_pos',\n",
       " 'finished_pos_ngrams',\n",
       " 'filtered_unigrams_by_pos',\n",
       " 'filtered_ngrams_by_pos']"
      ]
     },
     "execution_count": 39,
     "metadata": {},
     "output_type": "execute_result"
    }
   ],
   "source": [
    "data.columns"
   ]
  },
  {
   "cell_type": "markdown",
   "id": "f0d9d0f1-ee07-4f52-829d-f1f01c44d96e",
   "metadata": {},
   "source": [
    "Create one column merging unigrams and ngrams"
   ]
  },
  {
   "cell_type": "code",
   "execution_count": 40,
   "id": "4a1a0d7a-f91f-4ba5-89d4-68a5f2aaf873",
   "metadata": {},
   "outputs": [],
   "source": [
    "from pyspark.sql.functions import concat\n",
    "data = data.withColumn('final', concat(F.col('filtered_unigrams_by_pos'), F.col('filtered_ngrams_by_pos')))"
   ]
  },
  {
   "cell_type": "code",
   "execution_count": 43,
   "id": "7deb738d-484f-45f8-b6a4-12430b06111a",
   "metadata": {},
   "outputs": [
    {
     "name": "stderr",
     "output_type": "stream",
     "text": [
      "[Stage 22:>                                                         (0 + 1) / 1]\r"
     ]
    },
    {
     "name": "stdout",
     "output_type": "stream",
     "text": [
      "+----------------------------------------------------------------------------------------------------+\n",
      "|                                                                                               final|\n",
      "+----------------------------------------------------------------------------------------------------+\n",
      "|[many, read, expression, discover, selves, costing, money, just, need, self_expression, true_selves]|\n",
      "|[difficulty, following, path, productive, mids, dreams, desires, personal, motivating, knowledge,...|\n",
      "|[stuck, paralyzed, creative, even, living, full, potential, artist, creating, great, just, starte...|\n",
      "|[aware, thought, entirely, theme, either, underestimates, cut, aggressive, act, apologise, repres...|\n",
      "|[graduated, bsc, study, so, worked, masters, clsoe, live, bought, pretty, study, us, cheaper, mov...|\n",
      "|[feeling, nice, sucks, forgotten, worthy, sometimes, coming, strong, first, failures, even, accom...|\n",
      "|[posting, told, anyone, full, made, regardless, hurt, many, years, deserve, trouble, fitting, als...|\n",
      "|[title, depression, almost, years, believe, mixed, one, ventsrants, anyway, title, diagnosed, rev...|\n",
      "|[yeah, job, able, girls, biggest, just, happy, picky, find, entertaining, broaden, horizons, proc...|\n",
      "|[yea, early, sleep, days, events, genuine, avoidable, events, early, kicking, body, heard, fixed,...|\n",
      "|[talk, consider, challenge, complaining, easy, managed, narrate, incidents, learnt, sentences, bu...|\n",
      "|[boyfriend, little, weeks, mainly, always, alonewithout, able, always, obsess, least, quick, jump...|\n",
      "|[lately, always, lack, matters, anxiety, age, tell, just, one, example, ended, just, say, resulte...|\n",
      "|[grandma, gay, humiliating, couple, friends, gym, never, bothered, even, recognizes, felt, ashame...|\n",
      "|[currently, social, due, respect, friends, wrong, critical, gaming, video, so, talk, anyone, soci...|\n",
      "|[january, wanted, result, even, remember, places, docs, folders, google, keep, trello, app, anyon...|\n",
      "|[so, hefty, dip, consistend, sadness, one, first, months, heavy, ups, downs, rud, now, anymore, e...|\n",
      "|[due, hygiene, dying, disgusting, back, important, brush, set, number, appointment, using, brushe...|\n",
      "|[consider, average, size, depending, length, never, taken, paper, roll, so, assuming, never, seem...|\n",
      "|[waste, sure, also, pursing, build, skills, purpose, devote, so, decide, decide, mention, interne...|\n",
      "|[never, content, accomplished, part, inconsistent, live, live, heart, workout, occasionally, acco...|\n",
      "|[rid, vast, friends, followers, used, school, move, adulthood, unnecessary, grand, scheme, reckon...|\n",
      "|[always, perfectionist, struggle, times, acne, years, relationship, angry, anxious, including, al...|\n",
      "|[sorry, terrified, just, just, lazy, undisciplined, anxious, sensitive, secondary, ampxb, horribl...|\n",
      "|[dramatically, improve, many, problems, family, financial, tons, need, scanned, uncluttered, plus...|\n",
      "|[write, considered, one, stated, also, considered, taken, seriously, borderline, easily, upset, a...|\n",
      "|[whole, find, passionate, came, hobbies, teenager, berated, sure, none, stuck, destroys, possibil...|\n",
      "|[platform, logging, require, able, features, back, need, create, account, many, youtube, seeing, ...|\n",
      "|[preparing, entrance, exams, gotten, toxic, schedule, tried, fix, tired, nowadays, less, worried,...|\n",
      "|                            [two, now, worse, ever, depressed, mansion, own_mansion, different_life]|\n",
      "|[title, says, moment, sat, procrastinate, need, cleaning, properly, fall, hours, games, browsing,...|\n",
      "|[title, unless, part, type, become, so, friends, death, find, dialogue, fake, talking, normal, an...|\n",
      "|[years, indian, india, live, states, raised, guy, makes, indian, indian, imagine, worse, hand, he...|\n",
      "|[first, find, surrounded, said, often, behaviour, glad, hear, first_time, post_something, get_str...|\n",
      "|[painless, just, exist, gain, losing, endure, pain, walk, away, find, heart, strong, enough, obst...|\n",
      "|[thinking, making, app, journeys, posting, journey, aiming, professional, starting, sport, profes...|\n",
      "|[cigarettes, marijuana, december, able, stopped, pot, counting, overweight, able, loose, pounds, ...|\n",
      "|[gamification, decided, tasks, accumulate, points, dragons, character, now, tasklist, habits, sti...|\n",
      "|[seen, videos, dopamine, increase, rewire, brainive, heard, talk, context, choose, even, actually...|\n",
      "|[almost, completely, habits, even, though, live, high, live, dreams, soulkilling, level, however,...|\n",
      "|                               [caring, so, forward, stop, fking, years, be_okay, max_year, case_id]|\n",
      "|[freshman, lazy, blessed, great, fat, just, so, weak, so, back, weaker, look, defend, everything,...|\n",
      "|[just, learns, decision, anyone, long, two, kinda, sat, feels, just, happens, relationship, intro...|\n",
      "|[never, so, knowing, tldr, better, communicator, improving, noticed, visible, chin, need, biggest...|\n",
      "|[jonny, ultimate, amazing, strong, men, grew, dad, abused, mom, little, jonny, waken, dad, break,...|\n",
      "|[school, wanting, believed, educationdegree, better, future, caring, subjects, least, college, pa...|\n",
      "|[last, whim, personalities, mediator, majority, rang, true, part, interest, selfexpression, gtmed...|\n",
      "|[progress, share, progress, feelings, struggles, share, app, streaks, learn, think_progress, dail...|\n",
      "|[long, story, cancer, remission, years, became, depressed, treatment, so, support, esteem, sudden...|\n",
      "|[guy, us, graduated, high, biggest, liked, high, school, july, behaviors, stand, posts, mature, a...|\n",
      "+----------------------------------------------------------------------------------------------------+\n",
      "only showing top 50 rows\n",
      "\n"
     ]
    },
    {
     "name": "stderr",
     "output_type": "stream",
     "text": [
      "                                                                                \r"
     ]
    }
   ],
   "source": [
    "data.select('final').show(50, truncate= 100)"
   ]
  },
  {
   "cell_type": "code",
   "execution_count": null,
   "id": "c02cb1ae-49ad-4637-8ab9-51c2992c9486",
   "metadata": {},
   "outputs": [],
   "source": []
  }
 ],
 "metadata": {
  "kernelspec": {
   "display_name": "Python 3 (ipykernel)",
   "language": "python",
   "name": "python3"
  },
  "language_info": {
   "codemirror_mode": {
    "name": "ipython",
    "version": 3
   },
   "file_extension": ".py",
   "mimetype": "text/x-python",
   "name": "python",
   "nbconvert_exporter": "python",
   "pygments_lexer": "ipython3",
   "version": "3.9.19"
  }
 },
 "nbformat": 4,
 "nbformat_minor": 5
}
