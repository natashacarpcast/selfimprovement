{
 "cells": [
  {
   "cell_type": "markdown",
   "id": "35b6aa00-eeb1-46d2-9970-0cc7142d605d",
   "metadata": {},
   "source": [
    "Used tutorial https://github.com/maobedkova/TopicModelling_PySpark_SparkNLP/blob/master/Topic_Modelling_with_PySpark_and_Spark_NLP.ipynb for reference"
   ]
  },
  {
   "cell_type": "code",
   "execution_count": 1,
   "id": "80dfe811-6044-456b-9b67-1dd90f647207",
   "metadata": {},
   "outputs": [
    {
     "name": "stdout",
     "output_type": "stream",
     "text": [
      "Warning::Spark Session already created, some configs may not take.\n",
      "24/11/10 16:01:37 WARN SparkSession: Using an existing Spark session; only runtime SQL configurations will take effect.\n"
     ]
    }
   ],
   "source": [
    "import sparknlp\n",
    "from sparknlp.annotator import Tokenizer, PerceptronModel\n",
    "from sparknlp.base import DocumentAssembler\n",
    "from pyspark.ml import Pipeline\n",
    "from sparknlp.pretrained import PretrainedPipeline\n",
    "from sparknlp.annotator import *\n",
    "from sparknlp.base import *\n",
    "from pyspark.ml.feature import CountVectorizer\n",
    "from pyspark.ml.feature import IDF\n",
    "from pyspark.ml.clustering import LDA\n",
    "from pyspark.sql import types as T\n",
    "\n",
    "spark = sparknlp.start()"
   ]
  },
  {
   "cell_type": "code",
   "execution_count": 2,
   "id": "c18ccc18-b119-472f-af9c-19a44eeea279",
   "metadata": {},
   "outputs": [],
   "source": [
    "og_data = spark.read.csv(\"../data_topicmodel.csv\", header= True).select([\"id\", \"cleaned_text\"])"
   ]
  },
  {
   "cell_type": "code",
   "execution_count": 3,
   "id": "e156a53b-e98c-488a-bd55-4d9028bad129",
   "metadata": {},
   "outputs": [
    {
     "name": "stdout",
     "output_type": "stream",
     "text": [
      "+-----+--------------------+\n",
      "|   id|        cleaned_text|\n",
      "+-----+--------------------+\n",
      "|hk5r2|i had an appointm...|\n",
      "|iqimz|i created this si...|\n",
      "|pfzt5|hello everyone  i...|\n",
      "|pk714|i grew up with bo...|\n",
      "|q0q8x|i have to ask whe...|\n",
      "+-----+--------------------+\n",
      "only showing top 5 rows\n",
      "\n"
     ]
    }
   ],
   "source": [
    "#Remove sample\n",
    "og_data.show(5)\n",
    "sample_data = og_data.sample(0.001)"
   ]
  },
  {
   "cell_type": "code",
   "execution_count": 4,
   "id": "7911044e-82b5-4034-a43b-16e1306cc590",
   "metadata": {},
   "outputs": [],
   "source": [
    "documentAssembler = DocumentAssembler()\\\n",
    "     .setInputCol(\"cleaned_text\")\\\n",
    "     .setOutputCol('document')"
   ]
  },
  {
   "cell_type": "code",
   "execution_count": 5,
   "id": "12b99eb0-aaee-49e6-accd-8382b9778873",
   "metadata": {},
   "outputs": [],
   "source": [
    "tokenizer = Tokenizer() \\\n",
    "            .setInputCols(['document'])\\\n",
    "            .setOutputCol('tokenized')"
   ]
  },
  {
   "cell_type": "code",
   "execution_count": 6,
   "id": "e08506b3-9c85-4b12-915c-179501a1fe55",
   "metadata": {},
   "outputs": [],
   "source": [
    "normalizer = Normalizer() \\\n",
    "     .setInputCols(['tokenized']) \\\n",
    "     .setOutputCol('normalized') "
   ]
  },
  {
   "cell_type": "code",
   "execution_count": 7,
   "id": "30c66633-606d-462a-8854-9443ac46d9ac",
   "metadata": {},
   "outputs": [],
   "source": [
    "lemmatizer = LemmatizerModel.load(\"../models/lemma_ewt_en_3.4.3_3.0_1651416655397/\")\\\n",
    "      .setInputCols(\"normalized\")\\\n",
    "      .setOutputCol(\"lemmatized\")"
   ]
  },
  {
   "cell_type": "code",
   "execution_count": 8,
   "id": "a7785596-e18b-44b5-a57a-602da0c6c05c",
   "metadata": {},
   "outputs": [],
   "source": [
    "english = [\n",
    "    \"a\", \"about\", \"above\", \"after\", \"again\", \"against\", \"all\", \"am\", \"an\", \"and\", \"any\", \"are\", \"as\", \"at\", \"be\", \n",
    "    \"because\", \"been\", \"before\", \"being\", \"below\", \"between\", \"both\", \"but\", \"by\", \"can\", \"cannot\", \"could\", \"did\", \n",
    "    \"do\", \"does\", \"doing\", \"down\", \"during\", \"each\", \"few\", \"for\", \"from\", \"further\", \"had\", \"has\", \"have\", \"having\", \n",
    "    \"he\", \"her\", \"here\", \"hers\", \"herself\", \"him\", \"himself\", \"his\", \"how\", \"i\", \"if\", \"in\", \"into\", \"is\", \"it\", \n",
    "    \"its\", \"itself\", \"let\", \"me\", \"more\", \"most\", \"must\", \"my\", \"myself\", \"no\", \"nor\", \"not\", \"of\", \"off\", \"on\", \n",
    "    \"once\", \"only\", \"or\", \"other\", \"our\", \"ours\", \"ourselves\", \"out\", \"over\", \"own\", \"same\", \"she\", \"some\", \"such\", \n",
    "    \"than\", \"that\", \"the\", \"their\", \"theirs\", \"them\", \"themselves\", \"then\", \"there\", \"these\", \"they\", \"this\", \"those\", \n",
    "    \"through\", \"to\", \"too\", \"under\", \"until\", \"up\", \"very\", \"was\", \"we\", \"were\", \"what\", \"when\", \"where\", \"which\", \n",
    "    \"while\", \"who\", \"whom\", \"why\", \"with\", \"would\", \"you\", \"your\", \"yours\", \"yourself\", \"yourselves\", \"will\", \"ll\", \n",
    "    \"re\", \"ve\", \"d\", \"s\", \"m\", \"b\", \"c\", \"d\", \"e\", \"f\", \"g\", \"h\", \"i\", \"j\", \"k\", \"l\", \"m\", \"n\", \"o\", \"p\", \"q\", \"r\", \n",
    "    \"s\", \"t\", \"u\", \"v\", \"w\", \"x\", \"y\", \"z\", \"many\", \"us\", \"ok\", \"hows\", \"ive\", \"ill\", \"im\", \"cant\", \"topics\", \"topic\",\n",
    "    \"discuss\", \"thoughts\", \"yo\", \"thats\", \"whats\", \"lets\", \"nothing\", \"oh\", \"omg\", \n",
    "         \"things\", \"stuff\", \"yall\", \"haha\", \"yes\", \"no\", \"wo\", \"like\", 'good', \n",
    "         'work', 'got', 'going', 'dont', 'really', 'want', 'make', 'think', \n",
    "         'know', 'feel', 'people', 'life', \"getting\", \"lot\" \"great\", \"i\", \"me\", \n",
    "         \"my\", \"myself\", \"we\", \"our\", \"ours\", \"ourselves\", \n",
    "        \"you\", \"your\", \"yours\", \"yourself\", \"yourselves\", \"he\", \"him\", \"his\", \n",
    "        \"himself\", \"she\", \"her\", \"hers\", \"herself\", \"it\", \"its\", \"itself\", \n",
    "        \"they\", \"them\", \"their\", \"theirs\",\"themselves\", \"what\", \"which\", \"who\", \n",
    "        \"whom\", \"this\", \"that\", \"these\", \"those\", \"am\", \"is\", \"are\", \"was\", \n",
    "        \"were\", \"be\", \"been\", \"being\", \"have\", \"has\", \"had\", \"having\", \"do\", \n",
    "        \"does\", \"did\", \"doing\", \"will\", \"would\", \"should\", \"can\", \"could\", \"may\",\n",
    "        \"might\", \"must\", \"shall\", \"ought\", \"about\", \"above\", \"across\", \"after\", \n",
    "        \"against\", \"along\", \"amid\", \"among\", \"around\", \"as\", \"at\", \"before\", \"behind\",\n",
    "        \"below\", \"beneath\", \"beside\", \"between\", \"beyond\", \"but\", \"by\", \n",
    "        \"concerning\", \"considering\", \"despite\", \"down\", \"during\", \"except\", \"for\",\n",
    "        \"from\", \"in\", \"inside\", \"into\", \"like\", \"near\", \"next\", \"notwithstanding\",\n",
    "        \"of\", \"off\", \"on\", \"onto\", \"opposite\", \"out\", \"outside\", \"over\", \"past\",\n",
    "        \"regarding\", \"round\", \"since\", \"than\", \"through\", \"throughout\", \"till\", \n",
    "        \"to\", \"toward\", \"towards\", \"under\", \"underneath\", \"unlike\", \"until\", \"up\",\n",
    "        \"upon\", \"versus\", \"via\", \"with\", \"within\", \"without\", \"cant\", \"cannot\", \n",
    "        \"couldve\", \"couldnt\", \"didnt\", \"doesnt\", \"dont\", \"hadnt\", \"hasnt\", \n",
    "        \"havent\", \"hed\", \"hell\", \"hes\", \"howd\", \"howll\", \"hows\", \"id\", \"ill\", \n",
    "        \"im\", \"ive\", \"isnt\", \"itd\", \"itll\", \"its\", \"lets\", \"mightve\", \"mustve\", \n",
    "        \"mustnt\", \"shant\", \"shed\", \"shell\", \"shes\", \"shouldve\", \"shouldnt\", \n",
    "        \"thatll\", \"thats\", \"thered\", \"therell\", \"therere\", \"theres\", \"theyd\", \n",
    "        \"theyll\", \"theyre\", \"theyve\", \"wed\", \"well\", \"were\", \"weve\", \"werent\", \n",
    "        \"whatd\", \"whatll\", \"whatre\", \"whats\", \"whatve\", \"whend\", \"whenll\", \n",
    "        \"whens\", \"whered\", \"wherell\", \"wheres\", \"whichd\", \"whichll\", \"whichre\", \n",
    "        \"whichs\", \"whod\", \"wholl\", \"whore\", \"whos\", \"whove\", \"whyd\", \"whyll\", \n",
    "        \"whys\", \"wont\", \"wouldve\", \"wouldnt\", \"youd\", \"youll\", \"youre\", \"youve\",\n",
    "        \"f\", \"m\", \"because\", \"go\", \"lot\", \"get\", \"still\", \"way\", \"something\", \"much\",\n",
    "        \"thing\", \"someone\", \"person\", \"anything\", \"goes\", \"ok\", \"so\", \"just\", \"mostly\", \n",
    "        \"put\", \"also\", \"lots\", \"yet\"]\n",
    "\n",
    "time = [\"monday\", \"tuesday\", \"wednesday\", \"thursday\", \"friday\", \"saturday\", \n",
    "        \"sunday\", \"morning\", \"noon\", \"afternoon\", \"evening\", \"night\", \"midnight\",\n",
    "        \"dawn\", \"dusk\", \"week\", \"weekend\", \"weekends\",\"weekly\", \"today\", \n",
    "        \"yesterday\", \"tomorrow\", \"yesterdays\", \"todays\", \"mondays\", \"tuesdays\",\n",
    "        \"wednesdays\", \"thursdays\", \"fridays\", \"saturdays\", \"sundays\", \"day\",\n",
    "        \"everyday\", \"daily\", \"workday\", 'time', 'month', 'year', 'pm', 'am', \"ago\",\n",
    "        \"year\"]\n",
    "\n",
    "reddit = [\"welcome\", \"hi\", \"hello\", \"sub\", \"reddit\", \"thanks\", \"thank\", \"maybe\",\n",
    "          \"wo30\", \"mods\", \"mod\", \"moderators\", \"subreddit\", \"btw\", \"aw\", \"aww\", \n",
    "          \"aww\", \"hey\", \"hello\", \"join\", \"joined\", \"post\", \"rselfimprovement\"]\n",
    "\n",
    "topic_specific = [\"self\", \"improvement\", \"change\", \"action\",\n",
    "    'change', 'start', 'goal', 'habit', 'new', 'old', \n",
    "    'care', 'world', 'everyone', 'love', 'u', 'right', 'mean', 'matter',\n",
    "    'best', 'step', 'focus', 'hard', 'small',\n",
    "    'bad', 'help', 'time', 'problem', 'issue', 'advice',\n",
    "    'bit', 'experience', 'different',\n",
    "    'point', 'situation', 'negative', 'control', 'positive',\n",
    "    'use', 'question', 'idea', 'amp', 'medium', 'hour', 'day', 'minute',\n",
    "    'aaaaloot']\n",
    "\n",
    "stopwords = english + time + reddit + topic_specific\n",
    "\n",
    "from sparknlp.annotator import StopWordsCleaner\n",
    "\n",
    "stopwords_cleaner = StopWordsCleaner() \\\n",
    "     .setInputCols(['normalized']) \\\n",
    "     .setOutputCol('unigrams') \\\n",
    "     .setStopWords(stopwords)"
   ]
  },
  {
   "cell_type": "code",
   "execution_count": 9,
   "id": "95e33a63-8c34-4a81-8fa1-157c86492364",
   "metadata": {},
   "outputs": [],
   "source": [
    "from sparknlp.annotator import NGramGenerator\n",
    "\n",
    "ngrammer = NGramGenerator() \\\n",
    "    .setInputCols(['normalized']) \\\n",
    "    .setOutputCol('ngrams') \\\n",
    "    .setN(3) \\\n",
    "    .setEnableCumulative(True) \\\n",
    "    .setDelimiter('_')"
   ]
  },
  {
   "cell_type": "code",
   "execution_count": 10,
   "id": "d5843616-767e-448f-8943-006848263e6f",
   "metadata": {},
   "outputs": [
    {
     "name": "stderr",
     "output_type": "stream",
     "text": [
      "                                                                                \r"
     ]
    }
   ],
   "source": [
    "pos = PerceptronModel.load(\"/project/macs40123/spark-jars/pos_anc_en_3.0.0_3.0_1614962126490/\")\\\n",
    "      .setInputCols(\"document\", \"normalized\")\\\n",
    "      .setOutputCol(\"pos\")"
   ]
  },
  {
   "cell_type": "code",
   "execution_count": 11,
   "id": "20199976-1358-47e2-8685-a8e54cc73200",
   "metadata": {},
   "outputs": [],
   "source": [
    "from sparknlp.base import Finisher\n",
    "\n",
    "finisher = Finisher().setInputCols(['unigrams', 'ngrams', 'pos'])"
   ]
  },
  {
   "cell_type": "code",
   "execution_count": 12,
   "id": "50a9dbb2-1f65-4c5b-826e-feedefbf682a",
   "metadata": {},
   "outputs": [],
   "source": [
    "my_pipeline = Pipeline(\n",
    "      stages = [\n",
    "          documentAssembler,\n",
    "          tokenizer,\n",
    "          normalizer,\n",
    "          stopwords_cleaner,\n",
    "          ngrammer,\n",
    "          pos,\n",
    "          finisher\n",
    "      ])"
   ]
  },
  {
   "cell_type": "code",
   "execution_count": 13,
   "id": "680ea3cb-e5cf-4de6-aae3-c8e4ac8a3258",
   "metadata": {},
   "outputs": [
    {
     "name": "stderr",
     "output_type": "stream",
     "text": [
      "WARNING: An illegal reflective access operation has occurred\n",
      "WARNING: Illegal reflective access by org.apache.spark.util.SizeEstimator$ (file:/software/spark-3.3.2-el8-x86_64/jars/spark-core_2.12-3.3.2.jar) to field java.util.regex.Pattern.pattern\n",
      "WARNING: Please consider reporting this to the maintainers of org.apache.spark.util.SizeEstimator$\n",
      "WARNING: Use --illegal-access=warn to enable warnings of further illegal reflective access operations\n",
      "WARNING: All illegal access operations will be denied in a future release\n"
     ]
    },
    {
     "name": "stdout",
     "output_type": "stream",
     "text": [
      "+------+--------------------+--------------------+--------------------+--------------------+\n",
      "|    id|        cleaned_text|   finished_unigrams|     finished_ngrams|        finished_pos|\n",
      "+------+--------------------+--------------------+--------------------+--------------------+\n",
      "|1to3a6|can people sugges...|[suggest, courses...|[can, people, sug...|[MD, NNS, VB, NNS...|\n",
      "+------+--------------------+--------------------+--------------------+--------------------+\n",
      "only showing top 1 row\n",
      "\n"
     ]
    }
   ],
   "source": [
    "pipelineModel = my_pipeline.fit(sample_data)\n",
    "processed_data = pipelineModel.transform(sample_data)\n",
    "processed_data.show(1)"
   ]
  },
  {
   "cell_type": "code",
   "execution_count": 14,
   "id": "198344d1-7dcc-4258-b5a1-4bba2466aac7",
   "metadata": {},
   "outputs": [
    {
     "data": {
      "text/plain": [
       "['id', 'cleaned_text', 'finished_unigrams', 'finished_ngrams', 'finished_pos']"
      ]
     },
     "execution_count": 14,
     "metadata": {},
     "output_type": "execute_result"
    }
   ],
   "source": [
    "processed_data.columns"
   ]
  },
  {
   "cell_type": "code",
   "execution_count": 15,
   "id": "87fb8dd9-18a7-453a-969a-6000f42d6057",
   "metadata": {},
   "outputs": [],
   "source": [
    "#data.select('document').show(5, truncate = 100)"
   ]
  },
  {
   "cell_type": "code",
   "execution_count": 16,
   "id": "3772846d-a5b0-4164-a7f3-adb696119d2c",
   "metadata": {},
   "outputs": [],
   "source": [
    "#data.select('tokenized').show(1, truncate = 100)"
   ]
  },
  {
   "cell_type": "code",
   "execution_count": 17,
   "id": "393e8e4f-fbdc-4537-88d9-2e928217322e",
   "metadata": {},
   "outputs": [],
   "source": [
    "#data.select('normalized').show(1, truncate = 100)"
   ]
  },
  {
   "cell_type": "code",
   "execution_count": 18,
   "id": "53c04957-b85f-4f0b-8d02-6667a4e45cf8",
   "metadata": {},
   "outputs": [],
   "source": [
    "#data.select('lemmatized').show(1, truncate = 1000)"
   ]
  },
  {
   "cell_type": "code",
   "execution_count": 19,
   "id": "7598af2e-4e59-4115-877d-95bf5fe8552e",
   "metadata": {},
   "outputs": [
    {
     "name": "stdout",
     "output_type": "stream",
     "text": [
      "+----------------------------------------------------------------------------------------------------+\n",
      "|                                                                                   finished_unigrams|\n",
      "+----------------------------------------------------------------------------------------------------+\n",
      "|[suggest, courses, one, quick, courses, meaning, hours, improve, ones, worth, heres, couple, firs...|\n",
      "|[already, come, long, super, shy, borderline, shutin, guy, highschool, obvious, boring, actually,...|\n",
      "|[accomplished, hours, worth, coursework, first, awake, apart, biology, lab, lecture, done, else, ...|\n",
      "|[guys, seems, flake, urban, dictionary, defines, rather, gtadjto, unreliable, andor, absentminded...|\n",
      "|[spend, playing, computer, games, form, escapism, playing, happy, stop, wasting, playing, games, ...|\n",
      "|[selfconfidence, great, terms, personality, ability, academic, pretty, happy, look, mirror, see, ...|\n",
      "|[friends, speaking, food, server, sometimes, repeat, resort, pointing, tried, speaking, louder, s...|\n",
      "|[years, unhappy, especially, overthink, everything, happens, one, likes, one, wants, always, othe...|\n",
      "|[plans, important, done, meticulously, planned, even, though, planned, ahead, end, thinking, enti...|\n",
      "|[beginning, sense, trying, anymore, terrible, outlook, legitimately, makes, sense, limited, earth...|\n",
      "+----------------------------------------------------------------------------------------------------+\n",
      "only showing top 10 rows\n",
      "\n"
     ]
    }
   ],
   "source": [
    "processed_data.select('finished_unigrams').show(10, truncate = 100)"
   ]
  },
  {
   "cell_type": "markdown",
   "id": "18a3ca69-28c3-4747-86d5-ff4e3ab15af8",
   "metadata": {},
   "source": [
    "Create pos-tags n-grams that correspond to words n-grams"
   ]
  },
  {
   "cell_type": "code",
   "execution_count": 20,
   "id": "14d85977-59fb-4c78-913c-4a5aa465389b",
   "metadata": {},
   "outputs": [],
   "source": [
    "#Merge POS tags as just one string to be able to take it as a document in the Spark NLP Pipeline\n",
    "from pyspark.sql import functions as F\n",
    "pos_as_string = F.udf(lambda x: ' '.join(x), T.StringType())\n",
    "processed_data = processed_data.withColumn('finished_pos', pos_as_string(F.col('finished_pos')))"
   ]
  },
  {
   "cell_type": "code",
   "execution_count": 21,
   "id": "9c9dbe0a-f678-4a30-b0be-52677577fea7",
   "metadata": {},
   "outputs": [
    {
     "name": "stderr",
     "output_type": "stream",
     "text": [
      "[Stage 10:>                                                         (0 + 1) / 1]\r"
     ]
    },
    {
     "name": "stdout",
     "output_type": "stream",
     "text": [
      "+------+--------------------+--------------------+--------------------+--------------------+\n",
      "|    id|        cleaned_text|   finished_unigrams|     finished_ngrams|        finished_pos|\n",
      "+------+--------------------+--------------------+--------------------+--------------------+\n",
      "|1to3a6|can people sugges...|[suggest, courses...|[can, people, sug...|MD NNS VB NNS PRP...|\n",
      "|21d7io|ive already come ...|[already, come, l...|[ive, already, co...|JJ RB VBP DT JJ N...|\n",
      "|2tx2ga|today i accomplis...|[accomplished, ho...|[today, i, accomp...|NN NNP VBD IN DT ...|\n",
      "+------+--------------------+--------------------+--------------------+--------------------+\n",
      "only showing top 3 rows\n",
      "\n"
     ]
    },
    {
     "name": "stderr",
     "output_type": "stream",
     "text": [
      "                                                                                \r"
     ]
    }
   ],
   "source": [
    "processed_data.show(3)"
   ]
  },
  {
   "cell_type": "markdown",
   "id": "2526f892-a934-4101-a8f1-044479b473fd",
   "metadata": {},
   "source": [
    "New pipeline for pos-tags"
   ]
  },
  {
   "cell_type": "code",
   "execution_count": 22,
   "id": "e13efe3f-256a-4261-93c2-d19b2c735785",
   "metadata": {},
   "outputs": [],
   "source": [
    "pos_documentAssembler = DocumentAssembler() \\\n",
    "     .setInputCol('finished_pos') \\\n",
    "     .setOutputCol('pos_document')\n",
    "\n",
    "pos_tokenizer = Tokenizer() \\\n",
    "     .setInputCols(['pos_document']) \\\n",
    "     .setOutputCol('pos')\n",
    "     \n",
    "    \n",
    "pos_ngrammer = NGramGenerator() \\\n",
    "    .setInputCols(['pos']) \\\n",
    "    .setOutputCol('pos_ngrams') \\\n",
    "    .setN(3) \\\n",
    "    .setEnableCumulative(True) \\\n",
    "    .setDelimiter('_')\n",
    "\n",
    "pos_finisher = Finisher() \\\n",
    "     .setInputCols(['pos', 'pos_ngrams']) \\\n",
    "\n",
    "pos_pipeline = Pipeline() \\\n",
    "     .setStages([pos_documentAssembler,                  \n",
    "                 pos_tokenizer,\n",
    "                 pos_ngrammer,  \n",
    "                 pos_finisher])\n",
    "\n",
    "processed_data = pos_pipeline.fit(processed_data).transform(processed_data)"
   ]
  },
  {
   "cell_type": "code",
   "execution_count": 23,
   "id": "3b5f3238-a48b-4632-bb35-c5c796163816",
   "metadata": {},
   "outputs": [
    {
     "data": {
      "text/plain": [
       "['id',\n",
       " 'cleaned_text',\n",
       " 'finished_unigrams',\n",
       " 'finished_ngrams',\n",
       " 'finished_pos',\n",
       " 'finished_pos_ngrams']"
      ]
     },
     "execution_count": 23,
     "metadata": {},
     "output_type": "execute_result"
    }
   ],
   "source": [
    "processed_data.columns"
   ]
  },
  {
   "cell_type": "code",
   "execution_count": 24,
   "id": "0dcb5892-a1a6-486a-9845-faa5f8b3780a",
   "metadata": {},
   "outputs": [
    {
     "name": "stdout",
     "output_type": "stream",
     "text": [
      "+------+--------------------+--------------------+--------------------+--------------------+--------------------+\n",
      "|    id|        cleaned_text|   finished_unigrams|     finished_ngrams|        finished_pos| finished_pos_ngrams|\n",
      "+------+--------------------+--------------------+--------------------+--------------------+--------------------+\n",
      "|1to3a6|can people sugges...|[suggest, courses...|[can, people, sug...|[MD, NNS, VB, NNS...|[MD, NNS, VB, NNS...|\n",
      "+------+--------------------+--------------------+--------------------+--------------------+--------------------+\n",
      "only showing top 1 row\n",
      "\n"
     ]
    },
    {
     "name": "stderr",
     "output_type": "stream",
     "text": [
      "                                                                                \r"
     ]
    }
   ],
   "source": [
    "processed_data.show(1)"
   ]
  },
  {
   "cell_type": "code",
   "execution_count": 25,
   "id": "a88ada38-b7f7-43d9-a593-93b7ed787514",
   "metadata": {},
   "outputs": [],
   "source": [
    "def filter_unigrams(finished_unigrams, finished_pos):\n",
    "    '''Filters individual words based on their POS tag'''\n",
    "    return [word for word, pos in zip(finished_unigrams, finished_pos)\n",
    "            if pos in ['JJ', 'NN', 'NNS', 'NNPS', 'VB']]\n",
    "\n",
    "udf_filter_unigrams = F.udf(filter_unigrams, T.ArrayType(T.StringType()))"
   ]
  },
  {
   "cell_type": "code",
   "execution_count": 26,
   "id": "f4ebd6c8-ba26-47bf-9db8-f761f1a0e921",
   "metadata": {},
   "outputs": [
    {
     "name": "stdout",
     "output_type": "stream",
     "text": [
      "+------+--------------------+--------------------+--------------------+--------------------+--------------------+------------------------+\n",
      "|    id|        cleaned_text|   finished_unigrams|     finished_ngrams|        finished_pos| finished_pos_ngrams|filtered_unigrams_by_pos|\n",
      "+------+--------------------+--------------------+--------------------+--------------------+--------------------+------------------------+\n",
      "|1to3a6|can people sugges...|[suggest, courses...|[can, people, sug...|[MD, NNS, VB, NNS...|[MD, NNS, VB, NNS...|    [courses, one, qu...|\n",
      "|21d7io|ive already come ...|[already, come, l...|[ive, already, co...|[JJ, RB, VBP, DT,...|[JJ, RB, VBP, DT,...|    [already, shy, bo...|\n",
      "|2tx2ga|today i accomplis...|[accomplished, ho...|[today, i, accomp...|[NN, NNP, VBD, IN...|[NN, NNP, VBD, IN...|    [accomplished, aw...|\n",
      "|3dgbl9|hey guys so it se...|[guys, seems, fla...|[hey, guys, so, i...|[UH, NNS, IN, PRP...|[UH, NNS, IN, PRP...|    [seems, fickle, g...|\n",
      "|4a6bsf|i spend a lot of ...|[spend, playing, ...|[i, spend, a, lot...|[NNP, VB, DT, NN,...|[NNP, VB, DT, NN,...|    [playing, games, ...|\n",
      "+------+--------------------+--------------------+--------------------+--------------------+--------------------+------------------------+\n",
      "only showing top 5 rows\n",
      "\n"
     ]
    },
    {
     "name": "stderr",
     "output_type": "stream",
     "text": [
      "                                                                                \r"
     ]
    }
   ],
   "source": [
    "processed_data = processed_data.withColumn('filtered_unigrams_by_pos', udf_filter_unigrams(\n",
    "                                                   F.col('finished_unigrams'),\n",
    "                                                   F.col('finished_pos')))\n",
    "\n",
    "processed_data.show(5)"
   ]
  },
  {
   "cell_type": "code",
   "execution_count": 27,
   "id": "1327c68b-1ba7-432f-96a5-e83a4ce36933",
   "metadata": {},
   "outputs": [],
   "source": [
    "def filter_pos_ngrams(finished_ngrams, finished_pos_tags):\n",
    "    return [word for word, pos in zip(finished_ngrams, finished_pos_tags) \n",
    "            if (len(pos.split('_')) == 2 and \\\n",
    "                pos.split('_')[0] in ['JJ', 'NN', 'NNS', 'VB', 'VBP'] and \\\n",
    "                 pos.split('_')[1] in ['JJ', 'NN', 'NNS']) \\\n",
    "            or (len(pos.split('_')) == 3 and \\\n",
    "                pos.split('_')[0] in ['JJ', 'NN', 'NNS', 'VB', 'VBP'] and \\\n",
    "                 pos.split('_')[1] in ['JJ', 'NN', 'NNS', 'VB', 'VBP'] and \\\n",
    "                  pos.split('_')[2] in ['NN', 'NNS'])]\n",
    "    \n",
    "udf_filter_pos_ngrams = F.udf(filter_pos_ngrams, T.ArrayType(T.StringType()))"
   ]
  },
  {
   "cell_type": "code",
   "execution_count": 28,
   "id": "32c8fd55-67eb-420a-b66e-0be30b932898",
   "metadata": {},
   "outputs": [],
   "source": [
    "processed_data = processed_data.withColumn('filtered_ngrams_by_pos',\n",
    "                       udf_filter_pos_ngrams(F.col('finished_ngrams'),\n",
    "                                             F.col('finished_pos_ngrams')))"
   ]
  },
  {
   "cell_type": "code",
   "execution_count": 29,
   "id": "0cee6080-5f1b-43b9-a7c3-d1f8573c8f0e",
   "metadata": {},
   "outputs": [
    {
     "name": "stderr",
     "output_type": "stream",
     "text": [
      "[Stage 13:>                                                         (0 + 1) / 1]\r"
     ]
    },
    {
     "name": "stdout",
     "output_type": "stream",
     "text": [
      "+------+--------------------+--------------------+--------------------+--------------------+--------------------+------------------------+----------------------+\n",
      "|    id|        cleaned_text|   finished_unigrams|     finished_ngrams|        finished_pos| finished_pos_ngrams|filtered_unigrams_by_pos|filtered_ngrams_by_pos|\n",
      "+------+--------------------+--------------------+--------------------+--------------------+--------------------+------------------------+----------------------+\n",
      "|1to3a6|can people sugges...|[suggest, courses...|[can, people, sug...|[MD, NNS, VB, NNS...|[MD, NNS, VB, NNS...|    [courses, one, qu...|  [suggest_courses,...|\n",
      "|21d7io|ive already come ...|[already, come, l...|[ive, already, co...|[JJ, RB, VBP, DT,...|[JJ, RB, VBP, DT,...|    [already, shy, bo...|  [long_way, super_...|\n",
      "|2tx2ga|today i accomplis...|[accomplished, ho...|[today, i, accomp...|[NN, NNP, VBD, IN...|[NN, NNP, VBD, IN...|    [accomplished, aw...|  [hours_worth, fir...|\n",
      "|3dgbl9|hey guys so it se...|[guys, seems, fla...|[hey, guys, so, i...|[UH, NNS, IN, PRP...|[UH, NNS, IN, PRP...|    [seems, fickle, g...|  [flake_urban, urb...|\n",
      "|4a6bsf|i spend a lot of ...|[spend, playing, ...|[i, spend, a, lot...|[NNP, VB, DT, NN,...|[NNP, VB, DT, NN,...|    [playing, games, ...|  [computer_games, ...|\n",
      "+------+--------------------+--------------------+--------------------+--------------------+--------------------+------------------------+----------------------+\n",
      "only showing top 5 rows\n",
      "\n"
     ]
    },
    {
     "name": "stderr",
     "output_type": "stream",
     "text": [
      "                                                                                \r"
     ]
    }
   ],
   "source": [
    "processed_data.show(5)"
   ]
  },
  {
   "cell_type": "code",
   "execution_count": 30,
   "id": "0479f4ba-a6a8-4278-a1d7-0d212602da71",
   "metadata": {},
   "outputs": [
    {
     "name": "stdout",
     "output_type": "stream",
     "text": [
      "+------+----------------------------------------------------------------------------------------------------+\n",
      "|    id|                                                                              filtered_ngrams_by_pos|\n",
      "+------+----------------------------------------------------------------------------------------------------+\n",
      "|1to3a6|[suggest_courses, do_quick, quick_courses, few_hours, improve_ones, ones_self, self_worth, worth_...|\n",
      "|21d7io|[long_way, super_shy, shy_borderline, borderline_shutin, shutin_guy, obvious_im, meet_people, peo...|\n",
      "|2tx2ga|[hours_worth, first_hour, hour_biology, biology_lab, hour_lecture, algorithms_book, cs_course, co...|\n",
      "|3dgbl9|[flake_urban, urban_dictionary, dictionary_defines, be_unreliable, unreliable_andor, flighty_fick...|\n",
      "|4a6bsf|                                                  [computer_games, things_im, be_happy, easy_option]|\n",
      "|4t19a7|[academic_stuff, stuff_im, ugly_face, other_areas, low_selfesteem, selfesteem_due, looks_overwhel...|\n",
      "|5l87qp|                           [have_problem, food_server, think_thats, main_issue, commutation_problem]|\n",
      "|5mx0c6|[im_years, years_old, overthink_everything, put_others, others_feelings, work_something, somethin...|\n",
      "|6r1m4x|                                           [important_work, didnt_end, entire_day, constant_pattern]|\n",
      "|957c7u|[beginning_theres, terrible_outlook, spend_years, be_mediocre, artistic_endeavour, endeavour_ive,...|\n",
      "+------+----------------------------------------------------------------------------------------------------+\n",
      "only showing top 10 rows\n",
      "\n"
     ]
    },
    {
     "name": "stderr",
     "output_type": "stream",
     "text": [
      "                                                                                \r"
     ]
    }
   ],
   "source": [
    "processed_data.select('id','filtered_ngrams_by_pos').show(10, truncate=100)"
   ]
  },
  {
   "cell_type": "code",
   "execution_count": 31,
   "id": "b7690a15-09ef-4158-b492-9bd5c5e8eaa0",
   "metadata": {},
   "outputs": [
    {
     "name": "stdout",
     "output_type": "stream",
     "text": [
      "+------+----------------------------------------------------------------------------------------------------+\n",
      "|    id|                                                                            filtered_unigrams_by_pos|\n",
      "+------+----------------------------------------------------------------------------------------------------+\n",
      "|1to3a6|[courses, one, quick, hours, improve, ones, couple, first, save, serving, course, takes, hours, s...|\n",
      "|21d7io|[already, shy, borderline, highschool, obvious, boring, actually, boring, games, bitter, asshole,...|\n",
      "|2tx2ga|[accomplished, awake, apart, lab, worthwhile, open, hardly, now, type, enter, code, online, late,...|\n",
      "|3dgbl9|[seems, fickle, gtgenerally, unresponsible, now, solid, trying, find, real, absentminded, flighty...|\n",
      "|4a6bsf|                                          [playing, games, escapism, happy, stop, easy, turn, break]|\n",
      "|4t19a7|[terms, academic, mirror, ugly, suddenly, areas, gone, low, due, putting, mental, say, depressed,...|\n",
      "|5l87qp|                                             [speaking, sometimes, tried, sound, angry, commutation]|\n",
      "|5mx0c6|                                                   [years, unhappy, especially, likes, always, mine]|\n",
      "|6r1m4x|                       [done, planned, though, planned, end, laundry, internet, urgency, importance]|\n",
      "|957c7u|[sense, anymore, outlook, sense, limited, spend, mediocre, every, endeavour, try, wasnt, greatnes...|\n",
      "+------+----------------------------------------------------------------------------------------------------+\n",
      "only showing top 10 rows\n",
      "\n"
     ]
    }
   ],
   "source": [
    "processed_data.select('id','filtered_unigrams_by_pos').show(10, truncate=100)"
   ]
  },
  {
   "cell_type": "code",
   "execution_count": 32,
   "id": "241ee1e3-18af-4c54-95d9-d717e5cde253",
   "metadata": {},
   "outputs": [
    {
     "data": {
      "text/plain": [
       "['id',\n",
       " 'cleaned_text',\n",
       " 'finished_unigrams',\n",
       " 'finished_ngrams',\n",
       " 'finished_pos',\n",
       " 'finished_pos_ngrams',\n",
       " 'filtered_unigrams_by_pos',\n",
       " 'filtered_ngrams_by_pos']"
      ]
     },
     "execution_count": 32,
     "metadata": {},
     "output_type": "execute_result"
    }
   ],
   "source": [
    "processed_data.columns"
   ]
  },
  {
   "cell_type": "markdown",
   "id": "f0d9d0f1-ee07-4f52-829d-f1f01c44d96e",
   "metadata": {},
   "source": [
    "Create one column merging unigrams and ngrams"
   ]
  },
  {
   "cell_type": "code",
   "execution_count": 33,
   "id": "4a1a0d7a-f91f-4ba5-89d4-68a5f2aaf873",
   "metadata": {},
   "outputs": [],
   "source": [
    "from pyspark.sql.functions import concat\n",
    "processed_data = processed_data.withColumn('final', concat(F.col('filtered_unigrams_by_pos'), F.col('filtered_ngrams_by_pos')))"
   ]
  },
  {
   "cell_type": "code",
   "execution_count": 34,
   "id": "7deb738d-484f-45f8-b6a4-12430b06111a",
   "metadata": {},
   "outputs": [
    {
     "name": "stderr",
     "output_type": "stream",
     "text": [
      "[Stage 17:>                                                         (0 + 1) / 1]\r"
     ]
    },
    {
     "name": "stdout",
     "output_type": "stream",
     "text": [
      "+----------------------------------------------------------------------------------------------------+\n",
      "|                                                                                               final|\n",
      "+----------------------------------------------------------------------------------------------------+\n",
      "|[courses, one, quick, hours, improve, ones, couple, first, save, serving, course, takes, hours, s...|\n",
      "|[already, shy, borderline, highschool, obvious, boring, actually, boring, games, bitter, asshole,...|\n",
      "|[accomplished, awake, apart, lab, worthwhile, open, hardly, now, type, enter, code, online, late,...|\n",
      "|[seems, fickle, gtgenerally, unresponsible, now, solid, trying, find, real, absentminded, flighty...|\n",
      "|[playing, games, escapism, happy, stop, easy, turn, break, computer_games, things_im, be_happy, e...|\n",
      "|[terms, academic, mirror, ugly, suddenly, areas, gone, low, due, putting, mental, say, depressed,...|\n",
      "|[speaking, sometimes, tried, sound, angry, commutation, have_problem, food_server, think_thats, m...|\n",
      "|[years, unhappy, especially, likes, always, mine, im_years, years_old, overthink_everything, put_...|\n",
      "|[done, planned, though, planned, end, laundry, internet, urgency, importance, important_work, did...|\n",
      "|[sense, anymore, outlook, sense, limited, spend, mediocre, every, endeavour, try, wasnt, greatnes...|\n",
      "|[guys, last, years, pretty, tough, started, suffer, suffering, worse, became, sad, impatient, beh...|\n",
      "|[quite, familiar, speaking, student, living, stepdad, ignorant, trouble, studying, overall, perfo...|\n",
      "|[school, now, starting, talk, subject, class, corridors, take, even, say, friends, high_school, s...|\n",
      "|[first, university, uk, social, clubbing, fat, gym, sociable, charismatic, guy, first_year, year_...|\n",
      "|[wanted, ask, invest, basically, invest, invest, quit, living, months, gap_year, be_smart, long_t...|\n",
      "|[studying, now, lab, phone, kind, enjoys, sake, learned, coding, automate, adobe, better, skills,...|\n",
      "|[hate, pressure, feels, high, exploding, sometimes, wish, sometimes, street, years, death, aggres...|\n",
      "|[awful, interacting, treats, logically, already, limited, dont_respect, like_shit, shouldnt_care,...|\n",
      "|               [try, made, flaws, friends, fix, do_something, someone_go, am_ignorant, other_things]|\n",
      "|[wellmy, now, kept, academics, touched, syllabus, fat, height, cover, expectations, disappointing...|\n",
      "|[rather, body, worth, come, appearance, articles, gender, neutral, body_image, image_im, right_su...|\n",
      "|[guys, mentioned, test, normal, notified, vitamin, mentioned, bed, subsequently, hi_guys, get_mor...|\n",
      "|                                                 [try, wasnt, physically, think_straight, while_ive]|\n",
      "|[improve, always, rough, always, autism, school, style, seem, trying, months, lucky, smothered, t...|\n",
      "|[breakdowns, every, cloud, head, conclusion, disagreeable, man, begin, completely, though, vow, b...|\n",
      "|[ashamed, embarrassed, battle, fighting, days, mourn, losses, picture, never, see, able, tough, b...|\n",
      "|[coast, one, third, phase, making, emt, paper, stopped, brag, bummed, received, news, failure, ru...|\n",
      "|[app, mental, googling, available, community, build_mental, mental_toughnessdiscipline, toughness...|\n",
      "|[barring, death, family, friend, years, job, money, receive, mental, others, weeks, fuck, pain, m...|\n",
      "|[never, wondering, general, possible, workout_routines, help_whats, good_workout, workout_routine...|\n",
      "|[improving, every, aspect, books, communication, relationship, folks_im, im_new, sub_im, im_m, re...|\n",
      "|[unfortunately, encountered, changed, remember, never, anywhere, esteem, horrible_experiences, pa...|\n",
      "|[fall, turned, ocd, therapist, last, hyper, figure, first, wind, accomplishing, even, happens, oc...|\n",
      "|[little, hopefully, started, toxic, similarly, depressed, harmed, late, gradually, worse, weeks, ...|\n",
      "|[ever, pushing, exhausting, sometimes, creates, self_improvement, something_productive, other_adv...|\n",
      "|[last, went, gotten, now, last, told, pump, anymore, everything, last, feeling, longing, real, la...|\n",
      "|[stand, losing, video, games, esteem, antisocial, perfectionist, far, perfect, never, satisfactio...|\n",
      "|[others, anxiety, stay, days, unable, barley, job, friends, days, face, head, goals, achieve, exa...|\n",
      "|[confidence, say, dating, dating, due, fact, creeps, otherwise, another, almost, undesirable, bla...|\n",
      "|[alright, makes, loved, random, however, gained, friends, called, probably, made, fast, great, ho...|\n",
      "|[try, sorry, dated, feelings, always, tired, lonely, appealing, take, dates, area, skills, super,...|\n",
      "|[degree, looking, money, consist, surfing, music, festivals, spending, lol, wish, years, wasting,...|\n",
      "|[worked, meaningless, possessions, better, pages, notes, taken, meaningless_material, material_po...|\n",
      "|[back, april, live, happier, now, due, job, allowed, take, slip, close, trying, anymore, become, ...|\n",
      "|[moving, alone, parents, siblings, wanted, move, wonder, living, even, healthy, routine, home, tr...|\n",
      "|[turn, else, escape, escapism, escape, consider, away, reality, video_games, games_sports, daily_...|\n",
      "|[often, applies, consistency, whether, talking, careers, else, areas, drive_progress, others_pati...|\n",
      "|                       [long, suffered, makes, thinking, improve, friendships_suffered, know_people]|\n",
      "|[realise, reading, actions, conditioning, parents, measure, spent, blind, even, probably, surface...|\n",
      "|[motivation, feels, trick, brain, working, understand, never, try, brain, trick, acting, evil, co...|\n",
      "+----------------------------------------------------------------------------------------------------+\n",
      "only showing top 50 rows\n",
      "\n"
     ]
    },
    {
     "name": "stderr",
     "output_type": "stream",
     "text": [
      "                                                                                \r"
     ]
    }
   ],
   "source": [
    "processed_data.select('final').show(50, truncate= 100)"
   ]
  },
  {
   "cell_type": "code",
   "execution_count": null,
   "id": "c02cb1ae-49ad-4637-8ab9-51c2992c9486",
   "metadata": {},
   "outputs": [],
   "source": []
  }
 ],
 "metadata": {
  "kernelspec": {
   "display_name": "Python 3 (ipykernel)",
   "language": "python",
   "name": "python3"
  },
  "language_info": {
   "codemirror_mode": {
    "name": "ipython",
    "version": 3
   },
   "file_extension": ".py",
   "mimetype": "text/x-python",
   "name": "python",
   "nbconvert_exporter": "python",
   "pygments_lexer": "ipython3",
   "version": "3.9.19"
  }
 },
 "nbformat": 4,
 "nbformat_minor": 5
}
