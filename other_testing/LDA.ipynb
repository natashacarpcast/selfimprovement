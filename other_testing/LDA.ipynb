{
 "cells": [
  {
   "cell_type": "markdown",
   "id": "35b6aa00-eeb1-46d2-9970-0cc7142d605d",
   "metadata": {},
   "source": [
    "Used tutorial https://github.com/maobedkova/TopicModelling_PySpark_SparkNLP/blob/master/Topic_Modelling_with_PySpark_and_Spark_NLP.ipynb for reference"
   ]
  },
  {
   "cell_type": "code",
   "execution_count": 1,
   "id": "80dfe811-6044-456b-9b67-1dd90f647207",
   "metadata": {},
   "outputs": [
    {
     "name": "stdout",
     "output_type": "stream",
     "text": [
      "Warning::Spark Session already created, some configs may not take.\n",
      "24/11/10 16:18:08 WARN SparkSession: Using an existing Spark session; only runtime SQL configurations will take effect.\n"
     ]
    }
   ],
   "source": [
    "import sparknlp\n",
    "from sparknlp.annotator import Tokenizer, PerceptronModel\n",
    "from sparknlp.base import DocumentAssembler\n",
    "from pyspark.ml import Pipeline\n",
    "from sparknlp.pretrained import PretrainedPipeline\n",
    "from sparknlp.annotator import *\n",
    "from sparknlp.base import *\n",
    "from pyspark.ml.feature import CountVectorizer\n",
    "from pyspark.ml.feature import IDF\n",
    "from pyspark.ml.clustering import LDA\n",
    "from pyspark.sql import types as T\n",
    "\n",
    "spark = sparknlp.start()"
   ]
  },
  {
   "cell_type": "code",
   "execution_count": 2,
   "id": "c18ccc18-b119-472f-af9c-19a44eeea279",
   "metadata": {},
   "outputs": [],
   "source": [
    "og_data = spark.read.csv(\"../data_topicmodel.csv\", header= True).select([\"id\", \"cleaned_text\"])"
   ]
  },
  {
   "cell_type": "code",
   "execution_count": 3,
   "id": "e156a53b-e98c-488a-bd55-4d9028bad129",
   "metadata": {},
   "outputs": [
    {
     "name": "stdout",
     "output_type": "stream",
     "text": [
      "+-----+--------------------+\n",
      "|   id|        cleaned_text|\n",
      "+-----+--------------------+\n",
      "|hk5r2|i had an appointm...|\n",
      "|iqimz|i created this si...|\n",
      "|pfzt5|hello everyone  i...|\n",
      "|pk714|i grew up with bo...|\n",
      "|q0q8x|i have to ask whe...|\n",
      "+-----+--------------------+\n",
      "only showing top 5 rows\n",
      "\n"
     ]
    }
   ],
   "source": [
    "#Remove sample\n",
    "og_data.show(5)\n",
    "sample_data = og_data.sample(0.001)"
   ]
  },
  {
   "cell_type": "code",
   "execution_count": 4,
   "id": "7911044e-82b5-4034-a43b-16e1306cc590",
   "metadata": {},
   "outputs": [],
   "source": [
    "documentAssembler = DocumentAssembler()\\\n",
    "     .setInputCol(\"cleaned_text\")\\\n",
    "     .setOutputCol('document')"
   ]
  },
  {
   "cell_type": "code",
   "execution_count": 5,
   "id": "12b99eb0-aaee-49e6-accd-8382b9778873",
   "metadata": {},
   "outputs": [],
   "source": [
    "tokenizer = Tokenizer() \\\n",
    "            .setInputCols(['document'])\\\n",
    "            .setOutputCol('tokenized')"
   ]
  },
  {
   "cell_type": "code",
   "execution_count": 6,
   "id": "e08506b3-9c85-4b12-915c-179501a1fe55",
   "metadata": {},
   "outputs": [],
   "source": [
    "normalizer = Normalizer() \\\n",
    "     .setInputCols(['tokenized']) \\\n",
    "     .setOutputCol('normalized') "
   ]
  },
  {
   "cell_type": "code",
   "execution_count": 7,
   "id": "a7785596-e18b-44b5-a57a-602da0c6c05c",
   "metadata": {},
   "outputs": [],
   "source": [
    "english = [\n",
    "    \"a\", \"about\", \"above\", \"after\", \"again\", \"against\", \"all\", \"am\", \"an\", \"and\", \"any\", \"are\", \"as\", \"at\", \"be\", \n",
    "    \"because\", \"been\", \"before\", \"being\", \"below\", \"between\", \"both\", \"but\", \"by\", \"can\", \"cannot\", \"could\", \"did\", \n",
    "    \"do\", \"does\", \"doing\", \"down\", \"during\", \"each\", \"few\", \"for\", \"from\", \"further\", \"had\", \"has\", \"have\", \"having\", \n",
    "    \"he\", \"her\", \"here\", \"hers\", \"herself\", \"him\", \"himself\", \"his\", \"how\", \"i\", \"if\", \"in\", \"into\", \"is\", \"it\", \n",
    "    \"its\", \"itself\", \"let\", \"me\", \"more\", \"most\", \"must\", \"my\", \"myself\", \"no\", \"nor\", \"not\", \"of\", \"off\", \"on\", \n",
    "    \"once\", \"only\", \"or\", \"other\", \"our\", \"ours\", \"ourselves\", \"out\", \"over\", \"own\", \"same\", \"she\", \"some\", \"such\", \n",
    "    \"than\", \"that\", \"the\", \"their\", \"theirs\", \"them\", \"themselves\", \"then\", \"there\", \"these\", \"they\", \"this\", \"those\", \n",
    "    \"through\", \"to\", \"too\", \"under\", \"until\", \"up\", \"very\", \"was\", \"we\", \"were\", \"what\", \"when\", \"where\", \"which\", \n",
    "    \"while\", \"who\", \"whom\", \"why\", \"with\", \"would\", \"you\", \"your\", \"yours\", \"yourself\", \"yourselves\", \"will\", \"ll\", \n",
    "    \"re\", \"ve\", \"d\", \"s\", \"m\", \"b\", \"c\", \"d\", \"e\", \"f\", \"g\", \"h\", \"i\", \"j\", \"k\", \"l\", \"m\", \"n\", \"o\", \"p\", \"q\", \"r\", \n",
    "    \"s\", \"t\", \"u\", \"v\", \"w\", \"x\", \"y\", \"z\", \"many\", \"us\", \"ok\", \"hows\", \"ive\", \"ill\", \"im\", \"cant\", \"topics\", \"topic\",\n",
    "    \"discuss\", \"thoughts\", \"yo\", \"thats\", \"whats\", \"lets\", \"nothing\", \"oh\", \"omg\", \n",
    "         \"things\", \"stuff\", \"yall\", \"haha\", \"yes\", \"no\", \"wo\", \"like\", 'good', \n",
    "         'work', 'got', 'going', 'dont', 'really', 'want', 'make', 'think', \n",
    "         'know', 'feel', 'people', 'life', \"getting\", \"lot\" \"great\", \"i\", \"me\", \n",
    "         \"my\", \"myself\", \"we\", \"our\", \"ours\", \"ourselves\", \n",
    "        \"you\", \"your\", \"yours\", \"yourself\", \"yourselves\", \"he\", \"him\", \"his\", \n",
    "        \"himself\", \"she\", \"her\", \"hers\", \"herself\", \"it\", \"its\", \"itself\", \n",
    "        \"they\", \"them\", \"their\", \"theirs\",\"themselves\", \"what\", \"which\", \"who\", \n",
    "        \"whom\", \"this\", \"that\", \"these\", \"those\", \"am\", \"is\", \"are\", \"was\", \n",
    "        \"were\", \"be\", \"been\", \"being\", \"have\", \"has\", \"had\", \"having\", \"do\", \n",
    "        \"does\", \"did\", \"doing\", \"will\", \"would\", \"should\", \"can\", \"could\", \"may\",\n",
    "        \"might\", \"must\", \"shall\", \"ought\", \"about\", \"above\", \"across\", \"after\", \n",
    "        \"against\", \"along\", \"amid\", \"among\", \"around\", \"as\", \"at\", \"before\", \"behind\",\n",
    "        \"below\", \"beneath\", \"beside\", \"between\", \"beyond\", \"but\", \"by\", \n",
    "        \"concerning\", \"considering\", \"despite\", \"down\", \"during\", \"except\", \"for\",\n",
    "        \"from\", \"in\", \"inside\", \"into\", \"like\", \"near\", \"next\", \"notwithstanding\",\n",
    "        \"of\", \"off\", \"on\", \"onto\", \"opposite\", \"out\", \"outside\", \"over\", \"past\",\n",
    "        \"regarding\", \"round\", \"since\", \"than\", \"through\", \"throughout\", \"till\", \n",
    "        \"to\", \"toward\", \"towards\", \"under\", \"underneath\", \"unlike\", \"until\", \"up\",\n",
    "        \"upon\", \"versus\", \"via\", \"with\", \"within\", \"without\", \"cant\", \"cannot\", \n",
    "        \"couldve\", \"couldnt\", \"didnt\", \"doesnt\", \"dont\", \"hadnt\", \"hasnt\", \n",
    "        \"havent\", \"hed\", \"hell\", \"hes\", \"howd\", \"howll\", \"hows\", \"id\", \"ill\", \n",
    "        \"im\", \"ive\", \"isnt\", \"itd\", \"itll\", \"its\", \"lets\", \"mightve\", \"mustve\", \n",
    "        \"mustnt\", \"shant\", \"shed\", \"shell\", \"shes\", \"shouldve\", \"shouldnt\", \n",
    "        \"thatll\", \"thats\", \"thered\", \"therell\", \"therere\", \"theres\", \"theyd\", \n",
    "        \"theyll\", \"theyre\", \"theyve\", \"wed\", \"well\", \"were\", \"weve\", \"werent\", \n",
    "        \"whatd\", \"whatll\", \"whatre\", \"whats\", \"whatve\", \"whend\", \"whenll\", \n",
    "        \"whens\", \"whered\", \"wherell\", \"wheres\", \"whichd\", \"whichll\", \"whichre\", \n",
    "        \"whichs\", \"whod\", \"wholl\", \"whore\", \"whos\", \"whove\", \"whyd\", \"whyll\", \n",
    "        \"whys\", \"wont\", \"wouldve\", \"wouldnt\", \"youd\", \"youll\", \"youre\", \"youve\",\n",
    "        \"f\", \"m\", \"because\", \"go\", \"lot\", \"get\", \"still\", \"way\", \"something\", \"much\",\n",
    "        \"thing\", \"someone\", \"person\", \"anything\", \"goes\", \"ok\", \"so\", \"just\", \"mostly\", \n",
    "        \"put\", \"also\", \"lots\", \"yet\"]\n",
    "\n",
    "time = [\"monday\", \"tuesday\", \"wednesday\", \"thursday\", \"friday\", \"saturday\", \n",
    "        \"sunday\", \"morning\", \"noon\", \"afternoon\", \"evening\", \"night\", \"midnight\",\n",
    "        \"dawn\", \"dusk\", \"week\", \"weekend\", \"weekends\",\"weekly\", \"today\", \n",
    "        \"yesterday\", \"tomorrow\", \"yesterdays\", \"todays\", \"mondays\", \"tuesdays\",\n",
    "        \"wednesdays\", \"thursdays\", \"fridays\", \"saturdays\", \"sundays\", \"day\",\n",
    "        \"everyday\", \"daily\", \"workday\", 'time', 'month', 'year', 'pm', 'am', \"ago\",\n",
    "        \"year\"]\n",
    "\n",
    "reddit = [\"welcome\", \"hi\", \"hello\", \"sub\", \"reddit\", \"thanks\", \"thank\", \"maybe\",\n",
    "          \"wo30\", \"mods\", \"mod\", \"moderators\", \"subreddit\", \"btw\", \"aw\", \"aww\", \n",
    "          \"aww\", \"hey\", \"hello\", \"join\", \"joined\", \"post\", \"rselfimprovement\"]\n",
    "\n",
    "topic_specific = [\"self\", \"improvement\", \"change\", \"action\",\n",
    "    'change', 'start', 'goal', 'habit', 'new', 'old', \n",
    "    'care', 'world', 'everyone', 'love', 'u', 'right', 'mean', 'matter',\n",
    "    'best', 'step', 'focus', 'hard', 'small',\n",
    "    'bad', 'help', 'time', 'problem', 'issue', 'advice',\n",
    "    'bit', 'experience', 'different',\n",
    "    'point', 'situation', 'negative', 'control', 'positive',\n",
    "    'use', 'question', 'idea', 'amp', 'medium', 'hour', 'day', 'minute',\n",
    "    'aaaaloot']\n",
    "\n",
    "stopwords = english + time + reddit + topic_specific\n",
    "\n",
    "from sparknlp.annotator import StopWordsCleaner\n",
    "\n",
    "stopwords_cleaner = StopWordsCleaner() \\\n",
    "     .setInputCols(['normalized']) \\\n",
    "     .setOutputCol('unigrams') \\\n",
    "     .setStopWords(stopwords)"
   ]
  },
  {
   "cell_type": "code",
   "execution_count": 8,
   "id": "95e33a63-8c34-4a81-8fa1-157c86492364",
   "metadata": {},
   "outputs": [],
   "source": [
    "from sparknlp.annotator import NGramGenerator\n",
    "\n",
    "ngrammer = NGramGenerator() \\\n",
    "    .setInputCols(['normalized']) \\\n",
    "    .setOutputCol('ngrams') \\\n",
    "    .setN(3) \\\n",
    "    .setEnableCumulative(True) \\\n",
    "    .setDelimiter('_')"
   ]
  },
  {
   "cell_type": "code",
   "execution_count": 9,
   "id": "d5843616-767e-448f-8943-006848263e6f",
   "metadata": {},
   "outputs": [
    {
     "name": "stderr",
     "output_type": "stream",
     "text": [
      "                                                                                \r"
     ]
    }
   ],
   "source": [
    "pos = PerceptronModel.load(\"/project/macs40123/spark-jars/pos_anc_en_3.0.0_3.0_1614962126490/\")\\\n",
    "      .setInputCols(\"document\", \"normalized\")\\\n",
    "      .setOutputCol(\"pos\")"
   ]
  },
  {
   "cell_type": "code",
   "execution_count": 10,
   "id": "20199976-1358-47e2-8685-a8e54cc73200",
   "metadata": {},
   "outputs": [],
   "source": [
    "from sparknlp.base import Finisher\n",
    "\n",
    "finisher = Finisher().setInputCols(['unigrams', 'ngrams', 'pos'])"
   ]
  },
  {
   "cell_type": "code",
   "execution_count": 11,
   "id": "50a9dbb2-1f65-4c5b-826e-feedefbf682a",
   "metadata": {},
   "outputs": [],
   "source": [
    "my_pipeline = Pipeline(\n",
    "      stages = [\n",
    "          documentAssembler,\n",
    "          tokenizer,\n",
    "          normalizer,\n",
    "          stopwords_cleaner,\n",
    "          ngrammer,\n",
    "          pos,\n",
    "          finisher\n",
    "      ])"
   ]
  },
  {
   "cell_type": "code",
   "execution_count": 12,
   "id": "680ea3cb-e5cf-4de6-aae3-c8e4ac8a3258",
   "metadata": {},
   "outputs": [
    {
     "name": "stderr",
     "output_type": "stream",
     "text": [
      "WARNING: An illegal reflective access operation has occurred\n",
      "WARNING: Illegal reflective access by org.apache.spark.util.SizeEstimator$ (file:/software/spark-3.3.2-el8-x86_64/jars/spark-core_2.12-3.3.2.jar) to field java.util.regex.Pattern.pattern\n",
      "WARNING: Please consider reporting this to the maintainers of org.apache.spark.util.SizeEstimator$\n",
      "WARNING: Use --illegal-access=warn to enable warnings of further illegal reflective access operations\n",
      "WARNING: All illegal access operations will be denied in a future release\n"
     ]
    },
    {
     "name": "stdout",
     "output_type": "stream",
     "text": [
      "+------+--------------------+--------------------+--------------------+--------------------+\n",
      "|    id|        cleaned_text|   finished_unigrams|     finished_ngrams|        finished_pos|\n",
      "+------+--------------------+--------------------+--------------------+--------------------+\n",
      "|19iv7g|i feel great when...|[great, office, r...|[i, feel, great, ...|[NNP, VBP, JJ, WR...|\n",
      "+------+--------------------+--------------------+--------------------+--------------------+\n",
      "only showing top 1 row\n",
      "\n"
     ]
    }
   ],
   "source": [
    "pipelineModel = my_pipeline.fit(sample_data)\n",
    "processed_data = pipelineModel.transform(sample_data)\n",
    "processed_data.show(1)"
   ]
  },
  {
   "cell_type": "code",
   "execution_count": 13,
   "id": "198344d1-7dcc-4258-b5a1-4bba2466aac7",
   "metadata": {},
   "outputs": [
    {
     "data": {
      "text/plain": [
       "['id', 'cleaned_text', 'finished_unigrams', 'finished_ngrams', 'finished_pos']"
      ]
     },
     "execution_count": 13,
     "metadata": {},
     "output_type": "execute_result"
    }
   ],
   "source": [
    "processed_data.columns"
   ]
  },
  {
   "cell_type": "code",
   "execution_count": 14,
   "id": "87fb8dd9-18a7-453a-969a-6000f42d6057",
   "metadata": {},
   "outputs": [],
   "source": [
    "#data.select('document').show(5, truncate = 100)"
   ]
  },
  {
   "cell_type": "code",
   "execution_count": 15,
   "id": "3772846d-a5b0-4164-a7f3-adb696119d2c",
   "metadata": {},
   "outputs": [],
   "source": [
    "#data.select('tokenized').show(1, truncate = 100)"
   ]
  },
  {
   "cell_type": "code",
   "execution_count": 16,
   "id": "393e8e4f-fbdc-4537-88d9-2e928217322e",
   "metadata": {},
   "outputs": [],
   "source": [
    "#data.select('normalized').show(1, truncate = 100)"
   ]
  },
  {
   "cell_type": "code",
   "execution_count": 17,
   "id": "53c04957-b85f-4f0b-8d02-6667a4e45cf8",
   "metadata": {},
   "outputs": [],
   "source": [
    "#data.select('lemmatized').show(1, truncate = 1000)"
   ]
  },
  {
   "cell_type": "code",
   "execution_count": 18,
   "id": "7598af2e-4e59-4115-877d-95bf5fe8552e",
   "metadata": {},
   "outputs": [
    {
     "name": "stdout",
     "output_type": "stream",
     "text": [
      "+----------------------------------------------------------------------------------------------------+\n",
      "|                                                                                   finished_unigrams|\n",
      "+----------------------------------------------------------------------------------------------------+\n",
      "|[great, office, rarely, distracted, productive, useful, company, usually, hours, working, spent, ...|\n",
      "|[dive, straight, need, learn, moderation, usually, tend, completely, overdo, always, quite, usefu...|\n",
      "|[years, male, liked, girl, now, started, interested, impression, coming, recently, felt, complete...|\n",
      "|[room, home, cause, chronical, pain, find, depressed, felling, terribly, lonely, made, wonder, ar...|\n",
      "|[actually, due, current, circumstances, trying, draw, though, seem, skill, give, satisfaction, fo...|\n",
      "|[log, th, september, current, oi, boys, back, another, log, completely, biked, now, decided, rewa...|\n",
      "|[long, lurker, seeking, understand, feedback, repeatedly, given, several, years, stop, focusing, ...|\n",
      "|[lately, sort, depressed, dystopian, view, future, rise, ai, machine, learning, etc, even, worth,...|\n",
      "|[lurker, aroud, guess, noticed, felt, better, normally, came, back, trainings, delay, shower, min...|\n",
      "|[seem, strange, bear, thinking, lately, long, now, middle, school, now, never, concept, completel...|\n",
      "+----------------------------------------------------------------------------------------------------+\n",
      "only showing top 10 rows\n",
      "\n"
     ]
    }
   ],
   "source": [
    "processed_data.select('finished_unigrams').show(10, truncate = 100)"
   ]
  },
  {
   "cell_type": "markdown",
   "id": "18a3ca69-28c3-4747-86d5-ff4e3ab15af8",
   "metadata": {},
   "source": [
    "Create pos-tags n-grams that correspond to words n-grams"
   ]
  },
  {
   "cell_type": "code",
   "execution_count": 19,
   "id": "14d85977-59fb-4c78-913c-4a5aa465389b",
   "metadata": {},
   "outputs": [],
   "source": [
    "#Merge POS tags as just one string to be able to take it as a document in the Spark NLP Pipeline\n",
    "from pyspark.sql import functions as F\n",
    "pos_as_string = F.udf(lambda x: ' '.join(x), T.StringType())\n",
    "processed_data = processed_data.withColumn('finished_pos', pos_as_string(F.col('finished_pos')))"
   ]
  },
  {
   "cell_type": "code",
   "execution_count": 20,
   "id": "9c9dbe0a-f678-4a30-b0be-52677577fea7",
   "metadata": {},
   "outputs": [
    {
     "name": "stderr",
     "output_type": "stream",
     "text": [
      "[Stage 8:>                                                          (0 + 1) / 1]\r"
     ]
    },
    {
     "name": "stdout",
     "output_type": "stream",
     "text": [
      "+------+--------------------+--------------------+--------------------+--------------------+\n",
      "|    id|        cleaned_text|   finished_unigrams|     finished_ngrams|        finished_pos|\n",
      "+------+--------------------+--------------------+--------------------+--------------------+\n",
      "|19iv7g|i feel great when...|[great, office, r...|[i, feel, great, ...|NNP VBP JJ WRB NN...|\n",
      "|38n8kl|hello all  ill ju...|[dive, straight, ...|[hello, all, ill,...|UH DT JJ RB JJ NN...|\n",
      "|4ueopy|hey im 19 years o...|[years, male, lik...|[hey, im, years, ...|UH NN NNS JJ CC D...|\n",
      "+------+--------------------+--------------------+--------------------+--------------------+\n",
      "only showing top 3 rows\n",
      "\n"
     ]
    },
    {
     "name": "stderr",
     "output_type": "stream",
     "text": [
      "                                                                                \r"
     ]
    }
   ],
   "source": [
    "processed_data.show(3)"
   ]
  },
  {
   "cell_type": "markdown",
   "id": "2526f892-a934-4101-a8f1-044479b473fd",
   "metadata": {},
   "source": [
    "New pipeline for pos-tags"
   ]
  },
  {
   "cell_type": "code",
   "execution_count": 21,
   "id": "e13efe3f-256a-4261-93c2-d19b2c735785",
   "metadata": {},
   "outputs": [],
   "source": [
    "pos_documentAssembler = DocumentAssembler() \\\n",
    "     .setInputCol('finished_pos') \\\n",
    "     .setOutputCol('pos_document')\n",
    "\n",
    "pos_tokenizer = Tokenizer() \\\n",
    "     .setInputCols(['pos_document']) \\\n",
    "     .setOutputCol('pos')\n",
    "     \n",
    "    \n",
    "pos_ngrammer = NGramGenerator() \\\n",
    "    .setInputCols(['pos']) \\\n",
    "    .setOutputCol('pos_ngrams') \\\n",
    "    .setN(3) \\\n",
    "    .setEnableCumulative(True) \\\n",
    "    .setDelimiter('_')\n",
    "\n",
    "pos_finisher = Finisher() \\\n",
    "     .setInputCols(['pos', 'pos_ngrams']) \\\n",
    "\n",
    "pos_pipeline = Pipeline() \\\n",
    "     .setStages([pos_documentAssembler,                  \n",
    "                 pos_tokenizer,\n",
    "                 pos_ngrammer,  \n",
    "                 pos_finisher])\n",
    "\n",
    "processed_data = pos_pipeline.fit(processed_data).transform(processed_data)"
   ]
  },
  {
   "cell_type": "code",
   "execution_count": 22,
   "id": "3b5f3238-a48b-4632-bb35-c5c796163816",
   "metadata": {},
   "outputs": [
    {
     "data": {
      "text/plain": [
       "['id',\n",
       " 'cleaned_text',\n",
       " 'finished_unigrams',\n",
       " 'finished_ngrams',\n",
       " 'finished_pos',\n",
       " 'finished_pos_ngrams']"
      ]
     },
     "execution_count": 22,
     "metadata": {},
     "output_type": "execute_result"
    }
   ],
   "source": [
    "processed_data.columns"
   ]
  },
  {
   "cell_type": "code",
   "execution_count": 23,
   "id": "0dcb5892-a1a6-486a-9845-faa5f8b3780a",
   "metadata": {},
   "outputs": [
    {
     "name": "stderr",
     "output_type": "stream",
     "text": [
      "[Stage 9:>                                                          (0 + 1) / 1]\r"
     ]
    },
    {
     "name": "stdout",
     "output_type": "stream",
     "text": [
      "+------+--------------------+--------------------+--------------------+--------------------+--------------------+\n",
      "|    id|        cleaned_text|   finished_unigrams|     finished_ngrams|        finished_pos| finished_pos_ngrams|\n",
      "+------+--------------------+--------------------+--------------------+--------------------+--------------------+\n",
      "|19iv7g|i feel great when...|[great, office, r...|[i, feel, great, ...|[NNP, VBP, JJ, WR...|[NNP, VBP, JJ, WR...|\n",
      "+------+--------------------+--------------------+--------------------+--------------------+--------------------+\n",
      "only showing top 1 row\n",
      "\n"
     ]
    },
    {
     "name": "stderr",
     "output_type": "stream",
     "text": [
      "                                                                                \r"
     ]
    }
   ],
   "source": [
    "processed_data.show(1)"
   ]
  },
  {
   "cell_type": "code",
   "execution_count": 24,
   "id": "a88ada38-b7f7-43d9-a593-93b7ed787514",
   "metadata": {},
   "outputs": [],
   "source": [
    "def filter_unigrams(finished_unigrams, finished_pos):\n",
    "    '''Filters individual words based on their POS tag'''\n",
    "    return [word for word, pos in zip(finished_unigrams, finished_pos)\n",
    "            if pos in ['JJ', 'NN', 'NNS', 'NNPS', 'VB']]\n",
    "\n",
    "udf_filter_unigrams = F.udf(filter_unigrams, T.ArrayType(T.StringType()))"
   ]
  },
  {
   "cell_type": "code",
   "execution_count": 25,
   "id": "f4ebd6c8-ba26-47bf-9db8-f761f1a0e921",
   "metadata": {},
   "outputs": [
    {
     "name": "stderr",
     "output_type": "stream",
     "text": [
      "[Stage 10:>                                                         (0 + 1) / 1]\r"
     ]
    },
    {
     "name": "stdout",
     "output_type": "stream",
     "text": [
      "+------+--------------------+--------------------+--------------------+--------------------+--------------------+------------------------+\n",
      "|    id|        cleaned_text|   finished_unigrams|     finished_ngrams|        finished_pos| finished_pos_ngrams|filtered_unigrams_by_pos|\n",
      "+------+--------------------+--------------------+--------------------+--------------------+--------------------+------------------------+\n",
      "|19iv7g|i feel great when...|[great, office, r...|[i, feel, great, ...|[NNP, VBP, JJ, WR...|[NNP, VBP, JJ, WR...|    [rarely, producti...|\n",
      "|38n8kl|hello all  ill ju...|[dive, straight, ...|[hello, all, ill,...|[UH, DT, JJ, RB, ...|[UH, DT, JJ, RB, ...|    [need, moderation...|\n",
      "|4ueopy|hey im 19 years o...|[years, male, lik...|[hey, im, years, ...|[UH, NN, NNS, JJ,...|[UH, NN, NNS, JJ,...|    [male, liked, gir...|\n",
      "|9a0lsx|most of my time i...|[room, home, caus...|[most, of, my, ti...|[JJS, IN, PRP$, N...|[JJS, IN, PRP$, N...|    [chronical, pain,...|\n",
      "|9cehdm|i cant do things ...|[actually, due, c...|[i, cant, do, thi...|[NNP, NN, VBP, NN...|[NNP, NN, VBP, NN...|    [due, circumstanc...|\n",
      "+------+--------------------+--------------------+--------------------+--------------------+--------------------+------------------------+\n",
      "only showing top 5 rows\n",
      "\n"
     ]
    },
    {
     "name": "stderr",
     "output_type": "stream",
     "text": [
      "                                                                                \r"
     ]
    }
   ],
   "source": [
    "processed_data = processed_data.withColumn('filtered_unigrams_by_pos', udf_filter_unigrams(\n",
    "                                                   F.col('finished_unigrams'),\n",
    "                                                   F.col('finished_pos')))\n",
    "\n",
    "processed_data.show(5)"
   ]
  },
  {
   "cell_type": "code",
   "execution_count": 26,
   "id": "1327c68b-1ba7-432f-96a5-e83a4ce36933",
   "metadata": {},
   "outputs": [],
   "source": [
    "def filter_pos_ngrams(finished_ngrams, finished_pos_tags):\n",
    "    return [word for word, pos in zip(finished_ngrams, finished_pos_tags) \n",
    "            if (len(pos.split('_')) == 2 and \\\n",
    "                pos.split('_')[0] in ['JJ', 'NN', 'NNS', 'VB', 'VBP'] and \\\n",
    "                 pos.split('_')[1] in ['JJ', 'NN', 'NNS']) \\\n",
    "            or (len(pos.split('_')) == 3 and \\\n",
    "                pos.split('_')[0] in ['JJ', 'NN', 'NNS', 'VB', 'VBP'] and \\\n",
    "                 pos.split('_')[1] in ['JJ', 'NN', 'NNS', 'VB', 'VBP'] and \\\n",
    "                  pos.split('_')[2] in ['NN', 'NNS'])]\n",
    "    \n",
    "udf_filter_pos_ngrams = F.udf(filter_pos_ngrams, T.ArrayType(T.StringType()))"
   ]
  },
  {
   "cell_type": "code",
   "execution_count": 27,
   "id": "32c8fd55-67eb-420a-b66e-0be30b932898",
   "metadata": {},
   "outputs": [],
   "source": [
    "processed_data = processed_data.withColumn('filtered_ngrams_by_pos',\n",
    "                       udf_filter_pos_ngrams(F.col('finished_ngrams'),\n",
    "                                             F.col('finished_pos_ngrams')))"
   ]
  },
  {
   "cell_type": "code",
   "execution_count": 28,
   "id": "0cee6080-5f1b-43b9-a7c3-d1f8573c8f0e",
   "metadata": {},
   "outputs": [
    {
     "name": "stderr",
     "output_type": "stream",
     "text": [
      "[Stage 11:>                                                         (0 + 1) / 1]\r"
     ]
    },
    {
     "name": "stdout",
     "output_type": "stream",
     "text": [
      "+------+--------------------+--------------------+--------------------+--------------------+--------------------+------------------------+----------------------+\n",
      "|    id|        cleaned_text|   finished_unigrams|     finished_ngrams|        finished_pos| finished_pos_ngrams|filtered_unigrams_by_pos|filtered_ngrams_by_pos|\n",
      "+------+--------------------+--------------------+--------------------+--------------------+--------------------+------------------------+----------------------+\n",
      "|19iv7g|i feel great when...|[great, office, r...|[i, feel, great, ...|[NNP, VBP, JJ, WR...|[NNP, VBP, JJ, WR...|    [rarely, producti...|  [feel_great, do_t...|\n",
      "|38n8kl|hello all  ill ju...|[dive, straight, ...|[hello, all, ill,...|[UH, DT, JJ, RB, ...|[UH, DT, JJ, RB, ...|    [need, moderation...|  [dive_straight, d...|\n",
      "|4ueopy|hey im 19 years o...|[years, male, lik...|[hey, im, years, ...|[UH, NN, NNS, JJ,...|[UH, NN, NNS, JJ,...|    [male, liked, gir...|  [im_years, years_...|\n",
      "|9a0lsx|most of my time i...|[room, home, caus...|[most, of, my, ti...|[JJS, IN, PRP$, N...|[JJS, IN, PRP$, N...|    [chronical, pain,...|  [time_im, home_ca...|\n",
      "|9cehdm|i cant do things ...|[actually, due, c...|[i, cant, do, thi...|[NNP, NN, VBP, NN...|[NNP, NN, VBP, NN...|    [due, circumstanc...|  [do_things, curre...|\n",
      "+------+--------------------+--------------------+--------------------+--------------------+--------------------+------------------------+----------------------+\n",
      "only showing top 5 rows\n",
      "\n"
     ]
    },
    {
     "name": "stderr",
     "output_type": "stream",
     "text": [
      "                                                                                \r"
     ]
    }
   ],
   "source": [
    "processed_data.show(5)"
   ]
  },
  {
   "cell_type": "code",
   "execution_count": 29,
   "id": "0479f4ba-a6a8-4278-a1d7-0d212602da71",
   "metadata": {},
   "outputs": [
    {
     "name": "stderr",
     "output_type": "stream",
     "text": [
      "[Stage 12:>                                                         (0 + 1) / 1]\r"
     ]
    },
    {
     "name": "stdout",
     "output_type": "stream",
     "text": [
      "+------+----------------------------------------------------------------------------------------------------+\n",
      "|    id|                                                                              filtered_ngrams_by_pos|\n",
      "+------+----------------------------------------------------------------------------------------------------+\n",
      "|19iv7g|[feel_great, do_today, hours_im, moocs_im, watch_movies, free_time, avoid_distractions, reddit_lt...|\n",
      "|38n8kl|[dive_straight, do_things, overdo_things, bad_thing, other_aspects, drunk_coffee, first_americano...|\n",
      "|4ueopy|[im_years, years_old, male_ive, other_way, meet_sometime, hours_albeit, cuff_quick, quick_quip, d...|\n",
      "|9a0lsx|[time_im, home_cause, chronical_pain, wonder_arnt, same_situation, learn_feeling, feeling_good, b...|\n",
      "|9cehdm|[do_things, current_circumstances, circumstances_im, get_angry, cant_do_things, current_circumsta...|\n",
      "|9ert24|[current_time, am_oi, oi_boys, boys_im, past_week, elon_musk, rogan_podcast, bet_elon, elon_musk,...|\n",
      "|9vyu3n|[reddit_long, long_time, time_lurker, past_several, several_years, many_years, years_top, top_per...|\n",
      "|ad8r05|[dystopian_view, ai_machine, try_hard, say_screw, be_able, be_symbiotic, ai_creative, creative_de...|\n",
      "|akvmct|[lurker_aroud, something_different, useless_stuff, time_today, many_people, many_people, be_usefu...|\n",
      "|alk97c|[strange_question, something_ive, good_year, long_time, time_im, middle_school, good_year, good_y...|\n",
      "+------+----------------------------------------------------------------------------------------------------+\n",
      "only showing top 10 rows\n",
      "\n"
     ]
    },
    {
     "name": "stderr",
     "output_type": "stream",
     "text": [
      "                                                                                \r"
     ]
    }
   ],
   "source": [
    "processed_data.select('id','filtered_ngrams_by_pos').show(10, truncate=100)"
   ]
  },
  {
   "cell_type": "code",
   "execution_count": 30,
   "id": "b7690a15-09ef-4158-b492-9bd5c5e8eaa0",
   "metadata": {},
   "outputs": [
    {
     "name": "stderr",
     "output_type": "stream",
     "text": [
      "[Stage 13:>                                                         (0 + 1) / 1]\r"
     ]
    },
    {
     "name": "stdout",
     "output_type": "stream",
     "text": [
      "+------+----------------------------------------------------------------------------------------------------+\n",
      "|    id|                                                                            filtered_unigrams_by_pos|\n",
      "+------+----------------------------------------------------------------------------------------------------+\n",
      "|19iv7g|      [rarely, productive, usually, basically, movie, hours, enrolled, watch, dissolving, fix, free]|\n",
      "|38n8kl|[need, moderation, usually, useful, example, aspects, type, coffee, half, now, never, chewed, mon...|\n",
      "|4ueopy|[male, liked, girl, interested, impression, felt, finally, wanted, one, hours, talk, least, quip,...|\n",
      "|9a0lsx|                                    [chronical, pain, felling, lonely, made, actually, course, even]|\n",
      "|9cehdm|                                      [due, circumstances, skill, satisfaction, force, angry, worth]|\n",
      "|9ert24|[log, september, boys, back, log, completely, biked, working, chilling, smoking, rogan, barely, r...|\n",
      "|9vyu3n|[lurker, seeking, understand, feedback, several, stop, several, years, running, promotions, enjoy...|\n",
      "|ad8r05|             [sort, view, even, worth, whatever, screw, ai, destruction, happen, history, die, even]|\n",
      "|akvmct|[felt, better, delay, using, phone, showered, shower, training, keep, end, ampxb, useful, couple,...|\n",
      "|alk97c|[bear, long, now, school, completely, foreign, years, failure, disappointments, feeling, accompli...|\n",
      "+------+----------------------------------------------------------------------------------------------------+\n",
      "only showing top 10 rows\n",
      "\n"
     ]
    },
    {
     "name": "stderr",
     "output_type": "stream",
     "text": [
      "                                                                                \r"
     ]
    }
   ],
   "source": [
    "processed_data.select('id','filtered_unigrams_by_pos').show(10, truncate=100)"
   ]
  },
  {
   "cell_type": "code",
   "execution_count": 31,
   "id": "817d0b5a-ff0d-4f00-bfb7-2fc8a993e388",
   "metadata": {},
   "outputs": [
    {
     "data": {
      "text/plain": [
       "['id',\n",
       " 'cleaned_text',\n",
       " 'finished_unigrams',\n",
       " 'finished_ngrams',\n",
       " 'finished_pos',\n",
       " 'finished_pos_ngrams',\n",
       " 'filtered_unigrams_by_pos',\n",
       " 'filtered_ngrams_by_pos']"
      ]
     },
     "execution_count": 31,
     "metadata": {},
     "output_type": "execute_result"
    }
   ],
   "source": [
    "processed_data.columns"
   ]
  },
  {
   "cell_type": "code",
   "execution_count": 50,
   "id": "241ee1e3-18af-4c54-95d9-d717e5cde253",
   "metadata": {},
   "outputs": [],
   "source": [
    "#Now that POS was done, lemmatization makes more sense at this point\n",
    "\n",
    "#Merge tokens as just one string to be able to take it as a document in the new Pipeline\n",
    "from pyspark.sql import functions as F\n",
    "tokens_as_string = F.udf(lambda x: ' '.join(x), T.StringType())\n",
    "processed_data = processed_data.withColumn('joined_tokens', tokens_as_string(F.col('filtered_unigrams_by_pos')))\n",
    "\n",
    "last_documentAssembler = DocumentAssembler() \\\n",
    "     .setInputCol('joined_tokens') \\\n",
    "     .setOutputCol('joined_document')\n",
    "\n",
    "last_tokenizer = Tokenizer() \\\n",
    "     .setInputCols(['joined_document']) \\\n",
    "     .setOutputCol('tokenized')\n",
    "     \n",
    "lemmatizer = LemmatizerModel.load(\"../models/lemma_ewt_en_3.4.3_3.0_1651416655397/\")\\\n",
    "      .setInputCols(\"tokenized\")\\\n",
    "      .setOutputCol(\"lemmatized\")\n",
    "\n",
    "#Delete these tokens that remained from the lemmatizer model\n",
    "space = [\"_\"]\n",
    "\n",
    "last_stopwords_cleaner = StopWordsCleaner() \\\n",
    "     .setInputCols(['lemmatized']) \\\n",
    "     .setOutputCol('cleaned_unigrams') \\\n",
    "     .setStopWords(space)\n",
    "\n",
    "last_finisher = Finisher() \\\n",
    "     .setInputCols(['cleaned_unigrams']) \\\n",
    "\n",
    "last_pipeline = Pipeline() \\\n",
    "     .setStages([last_documentAssembler,                  \n",
    "                 last_tokenizer,\n",
    "                 lemmatizer,\n",
    "                 last_stopwords_cleaner,\n",
    "                 last_finisher])\n",
    "\n",
    "final_data = last_pipeline.fit(processed_data).transform(processed_data)\n"
   ]
  },
  {
   "cell_type": "markdown",
   "id": "f0d9d0f1-ee07-4f52-829d-f1f01c44d96e",
   "metadata": {},
   "source": [
    "Create one column merging unigrams and ngrams"
   ]
  },
  {
   "cell_type": "code",
   "execution_count": 52,
   "id": "4a1a0d7a-f91f-4ba5-89d4-68a5f2aaf873",
   "metadata": {},
   "outputs": [],
   "source": [
    "from pyspark.sql.functions import concat\n",
    "final_data = final_data.withColumn('final', concat(F.col('finished_cleaned_unigrams'), \\\n",
    "                                                   F.col('filtered_ngrams_by_pos')))\\\n",
    "                                                   .select('id','cleaned_text','final')\n",
    "                                                                                                                          "
   ]
  },
  {
   "cell_type": "code",
   "execution_count": 53,
   "id": "7deb738d-484f-45f8-b6a4-12430b06111a",
   "metadata": {},
   "outputs": [
    {
     "name": "stderr",
     "output_type": "stream",
     "text": [
      "[Stage 37:>                                                         (0 + 2) / 2]\r"
     ]
    },
    {
     "name": "stdout",
     "output_type": "stream",
     "text": [
      "+----------------------------------------------------------------------------------------------------+\n",
      "|                                                                                               final|\n",
      "+----------------------------------------------------------------------------------------------------+\n",
      "|[rarely, productive, usually, basically, movie, hour, enrol, watch, dissolving, fix, free, feel_g...|\n",
      "|[need, moderation, usually, useful, example, aspect, type, coffee, half, now, never, chew, month,...|\n",
      "|[male, like, girl, interested, impression, feel, finally, want, one, hour, talk, least, quip, sna...|\n",
      "|[chronical, pain, felling, lonely, made, actually, course, even, time_im, home_cause, chronical_p...|\n",
      "|[due, circumstance, skill, satisfaction, force, angry, worth, do_things, current_circumstances, c...|\n",
      "|[log, september, back, log, completely, biked, working, chill, smoke, rogan, barely, reward, achi...|\n",
      "|[lurker, seek, understand, feedback, several, stop, several, year, run, promotions, enjoy, employ...|\n",
      "|[sort, view, even, worth, whatever, screw, be, destruction, happen, history, die, even, dystopian...|\n",
      "|[feel, good, delay, use, phone, showered, shower, training, keep, end, ampxb, useful, couple, was...|\n",
      "|[bear, long, now, school, completely, foreign, year, failure, disappointments, feeling, accomplis...|\n",
      "|[meet, as, major, understanding, as, as, become, new_people, friends_ill, major_theyre, theyre_un...|\n",
      "|[want, truly, left, take, slope, rock, want, completely, see, post, hire, hear, surely, wasnt, fi...|\n",
      "|[admit, area, literally, three, hope, idea, head, interesting, happen, combination, least, find, ...|\n",
      "|[head, quote, look, killer, lords, man, idiolozed, escobar, chase, edmund, man, parent, basement,...|\n",
      "|[habit, cultivate, monotonous, lazy, lie, phone, keep, give, whole, even, stooped, reddits, consi...|\n",
      "|[lose, slack, procrastinate, track, counter, another, hopefully, answer, now, reason, simple, mak...|\n",
      "|                   [turn, youth, gone, miss, sit, computer, regret_ive, many_experiences, much_time]|\n",
      "|[lose, ability, least, lose, sometimes, funny, deliver, land, feel, laugh, funny, trap, frustrati...|\n",
      "|[entertain, spend, thinking, bother, situation, friend, do_something, much_id, cant_help, friend_...|\n",
      "|[racist, races, black, year, start, white, masai, extremely, jelaous, other_races, black_ones, fe...|\n",
      "|[sell, fizz, expensive, alert, run, probably, stop, sleep, medical, cant_hack, arbonne_fizz, fizz...|\n",
      "|[sure, couple, coworker, enjoy, sure, feel, social, familiar, culture, case, year, back, able, tr...|\n",
      "|[overpowered, memory, disrespectful, think, think, see, one, example, live, short_today, mine_yea...|\n",
      "|[childhood, fear, ampxb, article, aware, describe, childhood, sign, abuse, first, explain, term, ...|\n",
      "|[day, everything, sad, figure, discipline, early, household, enjoy, try, meaningful, discipline, ...|\n",
      "|[stress, nonchalance, deadlines, workteam, one, extremely, seriously, try, push, do, other, other...|\n",
      "|[manifestation, whole, laziness, depression, spend, watch, manifest, laughter, spend, woman, spen...|\n",
      "|[honours, burned, depressed, anxious, awful, degree, Recovery, explain, graduate, do, graduate, i...|\n",
      "|[filter, make, sense, research, eg, often, create, anxiety, depression, chopping, board, absolute...|\n",
      "|[male, realize, turn, lowered, manageable, fine, emotion, know, happen, mechanism, made, feeling,...|\n",
      "|[linear, back, habit, extremely, basically, happen, able, move, forward, isnt_linear, old_habits,...|\n",
      "|[method, sure, first, place, amount, maximize, arrive, early, big, conclusion, leave, usually, re...|\n",
      "|[note, gone, progress, fullest, fuck, cannot_change, have_faith, learn_new, new_things, meet_new,...|\n",
      "|[come, selfrealization, turn, turn, need, stem, pandemic, lazing, live, vulnerable, graduate, hs,...|\n",
      "|[hear, suggestion, see, minute, ever, custody, apartment, oodles, day, tell, youmesses, home, cle...|\n",
      "|                                                    [clue, im_interestedpassionate, something_wrong]|\n",
      "|    [weight, bt, lost, lb, one, loose, weight_bt, month_good, good_start, dont_go, month_good_start]|\n",
      "|[ish, month, abusive, almost, enough, treat, come, ex, support, fair, alone, abuse, cut, talk, he...|\n",
      "|[human, being, creature, essentially, largely, dictate, beautiful, dirty, rag, loud, show, effort...|\n",
      "|[seem, happy, anymore, overall_im, interesting_im, different_things, id_love, do_things, have_any...|\n",
      "|[happy, depression, cause, disconnect, importantly, consistent, happy_ive, other_people, feeling_...|\n",
      "|[try, lookinginterestingfun, focus, improve, play, video, try, affected, ever, goal, anyone, cryi...|\n",
      "|[entirely, wrong, damn, drastically, limit, phone, online, take, long, realize, cause, xbox, rare...|\n",
      "|[pour, text, outloud, genuine, loud, try, talk, articulate, private, actively, close, one, contac...|\n",
      "|[overindulge, acquire, company, spend, recharging, tv, recommend, relax, end, rapid_personalprofe...|\n",
      "|[autistic, male, try, month, working, give, effort, hi_im, year_old, old_autistic, autistic_male,...|\n",
      "|[regularly, food, sleep, apnea, untreated, unconfirmed, year, hopefully, doctor, appointment, fir...|\n",
      "|[hear, making, say, large, pizzamost, common, feel, weak, bowl, fruit, fullstrong, happy, half, e...|\n",
      "|[stay, need, game, iq, use, mobile, calculator, English, find, responsei_stay, do_reddit, reddit_...|\n",
      "|[speak, time, breathe, stomach, made, enormous, face, audience, tired, thinking, thankfully, show...|\n",
      "+----------------------------------------------------------------------------------------------------+\n",
      "only showing top 50 rows\n",
      "\n"
     ]
    },
    {
     "name": "stderr",
     "output_type": "stream",
     "text": [
      "                                                                                \r"
     ]
    }
   ],
   "source": [
    "final_data.select('final').show(50, truncate=100)"
   ]
  },
  {
   "cell_type": "code",
   "execution_count": null,
   "id": "5d8812d7-fd39-46ab-889d-ed86ceba27e7",
   "metadata": {},
   "outputs": [],
   "source": []
  }
 ],
 "metadata": {
  "kernelspec": {
   "display_name": "Python 3 (ipykernel)",
   "language": "python",
   "name": "python3"
  },
  "language_info": {
   "codemirror_mode": {
    "name": "ipython",
    "version": 3
   },
   "file_extension": ".py",
   "mimetype": "text/x-python",
   "name": "python",
   "nbconvert_exporter": "python",
   "pygments_lexer": "ipython3",
   "version": "3.9.19"
  }
 },
 "nbformat": 4,
 "nbformat_minor": 5
}
