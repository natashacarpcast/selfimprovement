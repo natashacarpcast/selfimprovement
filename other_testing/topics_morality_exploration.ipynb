{
 "cells": [
  {
   "cell_type": "code",
   "execution_count": 1,
   "id": "b78974fe-47f5-409a-88f5-1bf2bcf1f595",
   "metadata": {},
   "outputs": [
    {
     "name": "stdout",
     "output_type": "stream",
     "text": [
      "24/12/03 21:09:28 WARN SparkSession: Using an existing Spark session; only runtime SQL configurations will take effect.\n"
     ]
    }
   ],
   "source": [
    "from pyspark.sql import SparkSession\n",
    "\n",
    "spark = SparkSession \\\n",
    "        .builder \\\n",
    "        .appName(\"exploration\") \\\n",
    "        .getOrCreate()"
   ]
  },
  {
   "cell_type": "code",
   "execution_count": 2,
   "id": "cc7c9aab-1f42-42c0-b704-19cab8cee7d8",
   "metadata": {},
   "outputs": [],
   "source": [
    "from pyspark.sql.functions import array_contains\n",
    "from pyspark.sql.functions import mean"
   ]
  },
  {
   "cell_type": "code",
   "execution_count": 3,
   "id": "f1f52dee-8dc8-4b6e-afe5-891d61efb06a",
   "metadata": {},
   "outputs": [
    {
     "name": "stderr",
     "output_type": "stream",
     "text": [
      "                                                                                \r"
     ]
    }
   ],
   "source": [
    "data = spark.read.parquet(\"../data/data_with_attributes.parquet\").select('id', 'cleaned_text', 'relevant_attr', 'moral').dropna()"
   ]
  },
  {
   "cell_type": "code",
   "execution_count": 4,
   "id": "407d22d3-b1cb-4e2b-9f82-8667d110d551",
   "metadata": {},
   "outputs": [
    {
     "name": "stderr",
     "output_type": "stream",
     "text": [
      "[Stage 1:>                                                          (0 + 1) / 1]\r"
     ]
    },
    {
     "name": "stdout",
     "output_type": "stream",
     "text": [
      "+-------+--------------------+------------------+-----+\n",
      "|     id|        cleaned_text|     relevant_attr|moral|\n",
      "+-------+--------------------+------------------+-----+\n",
      "|1001mlo|hi im a 24 f who ...|       [8, 12, 13]| 0.67|\n",
      "|1001vtv|ive been on self ...|[0, 4, 11, 12, 13]|  0.7|\n",
      "|1002gvr|hey guys bit of a...|[1, 7, 11, 12, 13]| 1.09|\n",
      "|1002unz|i tried to make p...|        [3, 7, 11]|  0.0|\n",
      "|1008r6k|i am planning on ...|            [6, 8]|  0.0|\n",
      "|100co8s|20mi write this a...|           [8, 11]|  0.0|\n",
      "|100i773|looking back at t...|        [1, 4, 13]| 0.62|\n",
      "|100mcvr|happy new year th...|     [0, 3, 5, 11]|  0.0|\n",
      "|100oo5c|want to devote 6 ...|    [3, 5, 12, 13]|  1.2|\n",
      "|100w0cv|hi all  although ...|            [1, 2]|  0.0|\n",
      "+-------+--------------------+------------------+-----+\n",
      "only showing top 10 rows\n",
      "\n"
     ]
    },
    {
     "name": "stderr",
     "output_type": "stream",
     "text": [
      "                                                                                \r"
     ]
    }
   ],
   "source": [
    "data.show(10)"
   ]
  },
  {
   "cell_type": "markdown",
   "id": "78da8612-c452-4222-884a-e1f7102f6925",
   "metadata": {},
   "source": [
    "## Means per topic"
   ]
  },
  {
   "cell_type": "markdown",
   "id": "cbdebc63-4f3a-48af-87aa-7c5477415820",
   "metadata": {},
   "source": [
    "Mental Health and Emotions"
   ]
  },
  {
   "cell_type": "code",
   "execution_count": 31,
   "id": "23b95146-a975-4786-b3eb-f3665bbef3cd",
   "metadata": {},
   "outputs": [
    {
     "name": "stdout",
     "output_type": "stream",
     "text": [
      "+------------------+\n",
      "|        avg(moral)|\n",
      "+------------------+\n",
      "|0.4173098331810638|\n",
      "+------------------+\n",
      "\n"
     ]
    }
   ],
   "source": [
    "data.filter(array_contains(data['relevant_attr'], 0)).select(mean(\"moral\")).show()"
   ]
  },
  {
   "cell_type": "markdown",
   "id": "261eb028-e80c-4f9d-b62d-df42fbe544a5",
   "metadata": {},
   "source": [
    "Learning and Knowledge"
   ]
  },
  {
   "cell_type": "code",
   "execution_count": 6,
   "id": "908efa4f-bdee-41fe-986a-3d8e4b6de80f",
   "metadata": {},
   "outputs": [
    {
     "name": "stderr",
     "output_type": "stream",
     "text": [
      "[Stage 2:===================================================>     (10 + 1) / 11]\r"
     ]
    },
    {
     "name": "stdout",
     "output_type": "stream",
     "text": [
      "+-------------------+\n",
      "|         avg(moral)|\n",
      "+-------------------+\n",
      "|0.30639371673874954|\n",
      "+-------------------+\n",
      "\n"
     ]
    },
    {
     "name": "stderr",
     "output_type": "stream",
     "text": [
      "                                                                                \r"
     ]
    }
   ],
   "source": [
    "data.filter(array_contains(data['relevant_attr'], 1)).select(mean(\"moral\")).show()"
   ]
  },
  {
   "cell_type": "markdown",
   "id": "6aa20718-0ebe-40c3-8e34-2ff0dd2686c4",
   "metadata": {},
   "source": [
    "Relationships and Issues"
   ]
  },
  {
   "cell_type": "code",
   "execution_count": 7,
   "id": "d13e205b-03e3-4ca7-8cd5-e43929dbe120",
   "metadata": {},
   "outputs": [
    {
     "name": "stderr",
     "output_type": "stream",
     "text": [
      "[Stage 5:===============================================>          (9 + 2) / 11]\r"
     ]
    },
    {
     "name": "stdout",
     "output_type": "stream",
     "text": [
      "+------------------+\n",
      "|        avg(moral)|\n",
      "+------------------+\n",
      "|0.3612543706857617|\n",
      "+------------------+\n",
      "\n"
     ]
    },
    {
     "name": "stderr",
     "output_type": "stream",
     "text": [
      "                                                                                \r"
     ]
    }
   ],
   "source": [
    "data.filter(array_contains(data['relevant_attr'], 2)).select(mean(\"moral\")).show()"
   ]
  },
  {
   "cell_type": "markdown",
   "id": "8f7dbf68-009e-4836-bc8e-021b8a4032b7",
   "metadata": {},
   "source": [
    "Hobbies and Interests"
   ]
  },
  {
   "cell_type": "code",
   "execution_count": 8,
   "id": "5d5c4341-b11f-4507-8a58-ad6963ba1a5c",
   "metadata": {},
   "outputs": [
    {
     "name": "stderr",
     "output_type": "stream",
     "text": [
      "[Stage 8:===================================================>     (10 + 1) / 11]\r"
     ]
    },
    {
     "name": "stdout",
     "output_type": "stream",
     "text": [
      "+-------------------+\n",
      "|         avg(moral)|\n",
      "+-------------------+\n",
      "|0.26110522605597536|\n",
      "+-------------------+\n",
      "\n"
     ]
    },
    {
     "name": "stderr",
     "output_type": "stream",
     "text": [
      "                                                                                \r"
     ]
    }
   ],
   "source": [
    "data.filter(array_contains(data['relevant_attr'], 3)).select(mean(\"moral\")).show()"
   ]
  },
  {
   "cell_type": "markdown",
   "id": "38b43519-50e6-4ee2-91ff-cd3b02ea9cbd",
   "metadata": {},
   "source": [
    "Mindset"
   ]
  },
  {
   "cell_type": "code",
   "execution_count": 9,
   "id": "dd631a29-bced-4114-b2fb-4a7c228eacff",
   "metadata": {},
   "outputs": [
    {
     "name": "stderr",
     "output_type": "stream",
     "text": [
      "[Stage 11:==============================================>          (9 + 2) / 11]\r"
     ]
    },
    {
     "name": "stdout",
     "output_type": "stream",
     "text": [
      "+-----------------+\n",
      "|       avg(moral)|\n",
      "+-----------------+\n",
      "|0.361265251589833|\n",
      "+-----------------+\n",
      "\n"
     ]
    },
    {
     "name": "stderr",
     "output_type": "stream",
     "text": [
      "                                                                                \r"
     ]
    }
   ],
   "source": [
    "data.filter(array_contains(data['relevant_attr'], 4)).select(mean(\"moral\")).show()"
   ]
  },
  {
   "cell_type": "markdown",
   "id": "0247e374-45cc-40c7-86e2-0bce292cef0d",
   "metadata": {},
   "source": [
    "Personal struggles"
   ]
  },
  {
   "cell_type": "code",
   "execution_count": 10,
   "id": "fc825494-54fa-4ccb-a862-d778c7e00fbf",
   "metadata": {},
   "outputs": [
    {
     "name": "stdout",
     "output_type": "stream",
     "text": [
      "+------------------+\n",
      "|        avg(moral)|\n",
      "+------------------+\n",
      "|0.4992281630492318|\n",
      "+------------------+\n",
      "\n"
     ]
    }
   ],
   "source": [
    "data.filter(array_contains(data['relevant_attr'], 5)).select(mean(\"moral\")).show()"
   ]
  },
  {
   "cell_type": "markdown",
   "id": "09137178-0509-403a-8697-1d2b333568ba",
   "metadata": {},
   "source": [
    "Health and Fitness "
   ]
  },
  {
   "cell_type": "code",
   "execution_count": 27,
   "id": "6d428aee-b22c-4b7b-a5bf-807f7463420f",
   "metadata": {},
   "outputs": [
    {
     "name": "stdout",
     "output_type": "stream",
     "text": [
      "+------------------+\n",
      "|        avg(moral)|\n",
      "+------------------+\n",
      "|0.2018994116589965|\n",
      "+------------------+\n",
      "\n"
     ]
    }
   ],
   "source": [
    "data.filter(array_contains(data['relevant_attr'], 6)).select(mean(\"moral\")).show()"
   ]
  },
  {
   "cell_type": "markdown",
   "id": "9401c414-aaa3-42be-a26c-524b614b6b9b",
   "metadata": {},
   "source": [
    "Social Interaction"
   ]
  },
  {
   "cell_type": "code",
   "execution_count": 11,
   "id": "4c7d1252-c21e-45bf-9481-fb6ce4476682",
   "metadata": {},
   "outputs": [
    {
     "name": "stdout",
     "output_type": "stream",
     "text": [
      "+-------------------+\n",
      "|         avg(moral)|\n",
      "+-------------------+\n",
      "|0.32326955300725413|\n",
      "+-------------------+\n",
      "\n"
     ]
    }
   ],
   "source": [
    "data.filter(array_contains(data['relevant_attr'], 7)).select(mean(\"moral\")).show()"
   ]
  },
  {
   "cell_type": "markdown",
   "id": "663313fa-6089-49aa-8c55-4922e5953dc8",
   "metadata": {},
   "source": [
    "Career and Education"
   ]
  },
  {
   "cell_type": "code",
   "execution_count": 12,
   "id": "0b6fdb24-2b40-4d4d-9eba-0c389c85f94b",
   "metadata": {},
   "outputs": [
    {
     "name": "stdout",
     "output_type": "stream",
     "text": [
      "+------------------+\n",
      "|        avg(moral)|\n",
      "+------------------+\n",
      "|0.2610162969880921|\n",
      "+------------------+\n",
      "\n"
     ]
    }
   ],
   "source": [
    "data.filter(array_contains(data['relevant_attr'], 8)).select(mean(\"moral\")).show()"
   ]
  },
  {
   "cell_type": "code",
   "execution_count": null,
   "id": "17c81172-daf2-4679-add9-4c96c4be4222",
   "metadata": {},
   "outputs": [],
   "source": []
  }
 ],
 "metadata": {
  "kernelspec": {
   "display_name": "Python 3 (ipykernel)",
   "language": "python",
   "name": "python3"
  },
  "language_info": {
   "codemirror_mode": {
    "name": "ipython",
    "version": 3
   },
   "file_extension": ".py",
   "mimetype": "text/x-python",
   "name": "python",
   "nbconvert_exporter": "python",
   "pygments_lexer": "ipython3",
   "version": "3.9.19"
  }
 },
 "nbformat": 4,
 "nbformat_minor": 5
}
