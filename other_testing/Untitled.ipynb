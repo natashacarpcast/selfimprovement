{
 "cells": [
  {
   "cell_type": "code",
   "execution_count": 2,
   "id": "0bb7775c-2841-4261-8488-2fb8d7eb8d59",
   "metadata": {},
   "outputs": [],
   "source": [
    "# Install required packages.\n",
    "import os\n",
    "import torch\n",
    "import networkx as nx\n",
    "import matplotlib.pyplot as plt\n",
    "import pandas as pd\n",
    "\n",
    "def visualize_graph(G, color):\n",
    "    plt.figure(figsize=(7,7))\n",
    "    plt.xticks([])\n",
    "    plt.yticks([])\n",
    "    nx.draw_networkx(G, pos=nx.spring_layout(G, seed=42), with_labels=False,\n",
    "                     node_color=color, cmap=\"Set2\")\n",
    "    plt.show()\n",
    "\n",
    "\n",
    "def visualize_embedding(h, color, epoch=None, loss=None):\n",
    "    plt.figure(figsize=(7,7))\n",
    "    plt.xticks([])\n",
    "    plt.yticks([])\n",
    "    h = h.detach().cpu().numpy()\n",
    "    plt.scatter(h[:, 0], h[:, 1], s=140, c=color, cmap=\"Set2\")\n",
    "    if epoch is not None and loss is not None:\n",
    "        plt.xlabel(f'Epoch: {epoch}, Loss: {loss.item():.4f}', fontsize=16)\n",
    "    plt.show()"
   ]
  },
  {
   "cell_type": "code",
   "execution_count": 15,
   "id": "aad1ecda-dfa1-4fbf-bf8a-6fe6699e1fe1",
   "metadata": {},
   "outputs": [],
   "source": [
    "#Asked ChatGPT: How can I create a graph from two csv files? (one with nodes and one with edges)\n",
    "\n",
    "# File paths (replace with your file paths)\n",
    "nodes_file = \"vertices/part-00000-1a965171-247a-42ab-995a-72b1ffc34126-c000.csv\"  # CSV with one column, no header\n",
    "edges_file = \"edges/part-00000-f84e624a-d36a-4b03-a3a6-48cdf97e2c72-c000.csv\"  # CSV with two columns, no header\n",
    "\n",
    "# Load nodes\n",
    "nodes_df = pd.read_csv(nodes_file, header=None, names=[\"node\"])\n",
    "nodes = nodes_df[\"node\"].tolist()  # Convert to a list of nodes\n",
    "\n",
    "# Load edges\n",
    "edges_df = pd.read_csv(edges_file, header=None, names=[\"source\", \"target\"])\n",
    "edges = edges_df.values.tolist()  # Convert to a list of edge tuples\n",
    "\n",
    "# Create graph\n",
    "G = nx.DiGraph()  \n",
    "G.add_nodes_from(nodes)  \n",
    "G.add_edges_from(edges)  \n"
   ]
  },
  {
   "cell_type": "code",
   "execution_count": 16,
   "id": "caceb00f-4030-4d17-9519-32421c92f906",
   "metadata": {},
   "outputs": [
    {
     "data": {
      "text/plain": [
       "4002"
      ]
     },
     "execution_count": 16,
     "metadata": {},
     "output_type": "execute_result"
    }
   ],
   "source": [
    "nx.number_of_nodes(G)"
   ]
  },
  {
   "cell_type": "code",
   "execution_count": 17,
   "id": "e424c748-5dc4-4489-9f3d-7551a60b1fb3",
   "metadata": {},
   "outputs": [
    {
     "data": {
      "text/plain": [
       "5809"
      ]
     },
     "execution_count": 17,
     "metadata": {},
     "output_type": "execute_result"
    }
   ],
   "source": [
    "nx.number_of_edges(G)"
   ]
  },
  {
   "cell_type": "code",
   "execution_count": 10,
   "id": "49be1d5f-4619-4a26-a246-194028f13ba4",
   "metadata": {},
   "outputs": [
    {
     "data": {
      "text/plain": [
       "0.0007224580661431344"
      ]
     },
     "execution_count": 10,
     "metadata": {},
     "output_type": "execute_result"
    }
   ],
   "source": [
    "nx.density(G)"
   ]
  },
  {
   "cell_type": "code",
   "execution_count": 20,
   "id": "cbca92e1-bb2f-48c5-8615-62cf353e8f5f",
   "metadata": {},
   "outputs": [],
   "source": [
    "from networkx.algorithms.community import girvan_newman"
   ]
  },
  {
   "cell_type": "code",
   "execution_count": 22,
   "id": "76bcbc98-d281-414a-9525-7ba04dad503d",
   "metadata": {},
   "outputs": [],
   "source": [
    "communities = nx.community.girvan_newman(G)"
   ]
  },
  {
   "cell_type": "code",
   "execution_count": null,
   "id": "28c457bd-e4b0-4188-8eb9-c077f4c94c66",
   "metadata": {},
   "outputs": [],
   "source": [
    "import itertools\n",
    "for communities in itertools.islice(communities, 4):\n",
    "    print(tuple(sorted(c) for c in communities))"
   ]
  },
  {
   "cell_type": "code",
   "execution_count": null,
   "id": "d6f42b62-a1c0-46ad-a70e-03630d5ab0cf",
   "metadata": {},
   "outputs": [],
   "source": []
  }
 ],
 "metadata": {
  "kernelspec": {
   "display_name": "Python 3 (ipykernel)",
   "language": "python",
   "name": "python3"
  },
  "language_info": {
   "codemirror_mode": {
    "name": "ipython",
    "version": 3
   },
   "file_extension": ".py",
   "mimetype": "text/x-python",
   "name": "python",
   "nbconvert_exporter": "python",
   "pygments_lexer": "ipython3",
   "version": "3.9.19"
  }
 },
 "nbformat": 4,
 "nbformat_minor": 5
}
