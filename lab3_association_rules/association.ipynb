{
 "cells": [
  {
   "cell_type": "code",
   "execution_count": 1,
   "id": "e14e9af9-5a8c-4376-b95d-b798f2b2ea33",
   "metadata": {},
   "outputs": [
    {
     "name": "stdout",
     "output_type": "stream",
     "text": [
      "24/10/31 09:27:07 WARN SparkSession: Using an existing Spark session; only runtime SQL configurations will take effect.\n"
     ]
    }
   ],
   "source": [
    "from pyspark.sql import SparkSession\n",
    "from pyspark.sql import functions as F\n",
    "from pyspark.sql.types import ArrayType, IntegerType, FloatType, StringType\n",
    "\n",
    "spark = SparkSession \\\n",
    "        .builder \\\n",
    "        .appName(\"frequent_itemsets\") \\\n",
    "        .getOrCreate()"
   ]
  },
  {
   "cell_type": "markdown",
   "id": "8572651d-a75d-4315-ac96-3fa683beae60",
   "metadata": {},
   "source": [
    "Load data"
   ]
  },
  {
   "cell_type": "code",
   "execution_count": 2,
   "id": "24e10651-daa7-465b-936d-f68e769de4ec",
   "metadata": {},
   "outputs": [
    {
     "name": "stderr",
     "output_type": "stream",
     "text": [
      "                                                                                \r"
     ]
    }
   ],
   "source": [
    "df_preds = spark.read.parquet(\"lab2_clustering/data_and_predictions\").select([\"id\", \"prediction\"])\n",
    "df_scores = spark.read.csv(\"clean_mfd2+liwc.csv\", header= True).select([\"id\",'emo_pos',\n",
    "       'emo_anx', 'emo_anger', 'emo_sad', 'Care_Virtue', 'Care_Vice',\n",
    "       'Fairness_Virtue', 'Fairness_Vice', 'Loyalty_Virtue', 'Loyalty_Vice',\n",
    "       'Authority_Virtue', 'Authority_Vice', 'Sanctity_Virtue',\n",
    "       'Sanctity_Vice'])\n",
    "\n",
    "\n",
    "scores_cols = ['emo_pos',\n",
    "       'emo_anx', 'emo_anger', 'emo_sad', 'Care_Virtue', 'Care_Vice',\n",
    "       'Fairness_Virtue', 'Fairness_Vice', 'Loyalty_Virtue', 'Loyalty_Vice',\n",
    "       'Authority_Virtue', 'Authority_Vice', 'Sanctity_Virtue',\n",
    "       'Sanctity_Vice']\n",
    "\n",
    "df_scores = df_scores.select(*(F.col(c).cast(\"float\").alias(c) for c in scores_cols), \"id\").dropna()"
   ]
  },
  {
   "cell_type": "code",
   "execution_count": 3,
   "id": "5bb88afb-f668-456a-b4c9-a8e59a2ff824",
   "metadata": {},
   "outputs": [
    {
     "name": "stdout",
     "output_type": "stream",
     "text": [
      "+-----+----------+\n",
      "|   id|prediction|\n",
      "+-----+----------+\n",
      "|r02b5|         0|\n",
      "|r89qc|         0|\n",
      "|rrhg8|         0|\n",
      "|rtji7|         0|\n",
      "|s0ruk|         0|\n",
      "+-----+----------+\n",
      "only showing top 5 rows\n",
      "\n",
      "+-------+-------+---------+-------+-----------+---------+---------------+-------------+--------------+------------+----------------+--------------+---------------+-------------+-----+\n",
      "|emo_pos|emo_anx|emo_anger|emo_sad|Care_Virtue|Care_Vice|Fairness_Virtue|Fairness_Vice|Loyalty_Virtue|Loyalty_Vice|Authority_Virtue|Authority_Vice|Sanctity_Virtue|Sanctity_Vice|   id|\n",
      "+-------+-------+---------+-------+-----------+---------+---------------+-------------+--------------+------------+----------------+--------------+---------------+-------------+-----+\n",
      "|    0.0|    0.0|      0.0|    0.0|        0.0|      0.0|            0.0|          0.0|           0.0|         0.0|             0.0|           0.0|            0.0|          0.0|hk5r2|\n",
      "|   2.56|    0.0|      0.0|    0.0|       2.56|      0.0|            0.0|          0.0|          0.85|         0.0|             0.0|           0.0|            0.0|          0.0|iqimz|\n",
      "|   2.06|    0.0|      0.0|    0.0|       2.06|      0.0|            0.0|          0.0|           0.0|         0.0|             0.0|           0.0|            0.0|          0.0|pfzt5|\n",
      "|   1.71|   0.34|      0.0|   0.51|       1.71|     0.51|           0.17|          0.0|          0.34|         0.0|             0.0|           0.0|           0.51|         0.17|pk714|\n",
      "|   1.25|   0.18|     0.18|    0.9|       0.36|     1.08|            0.0|          0.0|           0.0|         0.0|             0.0|           0.0|           0.54|         0.54|q0q8x|\n",
      "+-------+-------+---------+-------+-----------+---------+---------------+-------------+--------------+------------+----------------+--------------+---------------+-------------+-----+\n",
      "only showing top 5 rows\n",
      "\n"
     ]
    }
   ],
   "source": [
    "#Check they're ok\n",
    "df_preds.show(5)\n",
    "df_scores.show(5)"
   ]
  },
  {
   "cell_type": "markdown",
   "id": "a7bacd91-3b07-44e8-ac2e-4b8635907cff",
   "metadata": {},
   "source": [
    "Create one merged dataframe and one additional dataframe for each cluster obtained in Lab2. Recall that cluster 1 exhibited stronger moral language and had more negative words on their top 100 words"
   ]
  },
  {
   "cell_type": "code",
   "execution_count": 4,
   "id": "7ef9cc90-4e98-4695-a4b5-2a74e52032c7",
   "metadata": {},
   "outputs": [
    {
     "name": "stdout",
     "output_type": "stream",
     "text": [
      "+-----+----------+-------+-------+---------+-------+-----------+---------+---------------+-------------+--------------+------------+----------------+--------------+---------------+-------------+\n",
      "|   id|prediction|emo_pos|emo_anx|emo_anger|emo_sad|Care_Virtue|Care_Vice|Fairness_Virtue|Fairness_Vice|Loyalty_Virtue|Loyalty_Vice|Authority_Virtue|Authority_Vice|Sanctity_Virtue|Sanctity_Vice|\n",
      "+-----+----------+-------+-------+---------+-------+-----------+---------+---------------+-------------+--------------+------------+----------------+--------------+---------------+-------------+\n",
      "|hk5r2|         0|    0.0|    0.0|      0.0|    0.0|        0.0|      0.0|            0.0|          0.0|           0.0|         0.0|             0.0|           0.0|            0.0|          0.0|\n",
      "|iqimz|         0|   2.56|    0.0|      0.0|    0.0|       2.56|      0.0|            0.0|          0.0|          0.85|         0.0|             0.0|           0.0|            0.0|          0.0|\n",
      "|pfzt5|         0|   2.06|    0.0|      0.0|    0.0|       2.06|      0.0|            0.0|          0.0|           0.0|         0.0|             0.0|           0.0|            0.0|          0.0|\n",
      "|pk714|         0|   1.71|   0.34|      0.0|   0.51|       1.71|     0.51|           0.17|          0.0|          0.34|         0.0|             0.0|           0.0|           0.51|         0.17|\n",
      "|q0q8x|         0|   1.25|   0.18|     0.18|    0.9|       0.36|     1.08|            0.0|          0.0|           0.0|         0.0|             0.0|           0.0|           0.54|         0.54|\n",
      "+-----+----------+-------+-------+---------+-------+-----------+---------+---------------+-------------+--------------+------------+----------------+--------------+---------------+-------------+\n",
      "only showing top 5 rows\n",
      "\n"
     ]
    }
   ],
   "source": [
    "#Merge dataframes \n",
    "df = df_preds.join(df_scores, on=\"id\", how=\"inner\")\n",
    "df.show(5)"
   ]
  },
  {
   "cell_type": "code",
   "execution_count": 5,
   "id": "4431c932-3e37-4506-b066-6ba7de89efbb",
   "metadata": {},
   "outputs": [],
   "source": [
    "#Create df for clusters obtained in lab2 \n",
    "df0 = df.filter(F.col('prediction') == 0) \n",
    "df1 = df.filter(F.col('prediction') == 1)"
   ]
  },
  {
   "cell_type": "markdown",
   "id": "60c2cbbc-e47b-42b3-86da-b8fc79619b16",
   "metadata": {},
   "source": [
    "I asked ChatGPT: I need to create ONE new column that takes the names of all of the columns where the value for a given row is greater than 1\n",
    "\n",
    "\n",
    "I then asked: What if I want that instead of the names, each column is represented as an integer? (e.g. emo pos would be 1, emo_neg 2)\n",
    "\n",
    "It showed me how to do it for a dataframe and then I generalized it myself on a function to use it in the three dataframes\n"
   ]
  },
  {
   "cell_type": "code",
   "execution_count": 6,
   "id": "f7166be6-6a0e-4b09-bf7f-aafa49aa4cbc",
   "metadata": {},
   "outputs": [
    {
     "name": "stdout",
     "output_type": "stream",
     "text": [
      "+--------+\n",
      "|relevant|\n",
      "+--------+\n",
      "|      []|\n",
      "|  [1, 6]|\n",
      "|  [1, 6]|\n",
      "|  [1, 6]|\n",
      "|  [1, 7]|\n",
      "+--------+\n",
      "only showing top 5 rows\n",
      "\n",
      "+--------+\n",
      "|relevant|\n",
      "+--------+\n",
      "|      []|\n",
      "|  [1, 6]|\n",
      "|  [1, 6]|\n",
      "|  [1, 6]|\n",
      "|  [1, 7]|\n",
      "+--------+\n",
      "only showing top 5 rows\n",
      "\n",
      "+--------------------+\n",
      "|            relevant|\n",
      "+--------------------+\n",
      "|[1, 6, 7, 10, 12,...|\n",
      "|                  []|\n",
      "|            [10, 13]|\n",
      "|       [4, 6, 9, 12]|\n",
      "|          [6, 7, 15]|\n",
      "+--------------------+\n",
      "only showing top 5 rows\n",
      "\n"
     ]
    }
   ],
   "source": [
    "column_mapping = {\n",
    "    'emo_pos': 1,\n",
    "    'emo_anx': 3,\n",
    "    'emo_anger': 4,\n",
    "    'emo_sad': 5,\n",
    "    'Care_Virtue': 6,\n",
    "    'Care_Vice': 7,\n",
    "    'Fairness_Virtue': 8,\n",
    "    'Fairness_Vice': 9,\n",
    "    'Loyalty_Virtue': 10,\n",
    "    'Loyalty_Vice': 11,\n",
    "    'Authority_Virtue': 12,\n",
    "    'Authority_Vice': 13,\n",
    "    'Sanctity_Virtue': 14,\n",
    "    'Sanctity_Vice': 15\n",
    "}\n",
    "\n",
    "\n",
    "def create_items(input_df):\n",
    "    # Create a new column 'positive_columns' with the integers where values are greater than 1\n",
    "        df = input_df.withColumn(\n",
    "        \"positive_columns\",\n",
    "        F.array([\n",
    "        F.when(F.col(col) > 1, F.lit(value)).otherwise(None) \n",
    "        for col, value in column_mapping.items()]))\n",
    "\n",
    "        # Filter out None values from the array\n",
    "        df = df.withColumn(\"relevant\", F.expr(\"filter(positive_columns, x -> x is not null)\"))\n",
    "        \n",
    "        return df \n",
    "    \n",
    "df_all = create_items(df)\n",
    "df_all.select(\"relevant\").show(5)\n",
    "\n",
    "df0 = create_items(df0)\n",
    "df0.select(\"relevant\").show(5)\n",
    "\n",
    "df1 = create_items(df1)\n",
    "df1.select(\"relevant\").show(5)"
   ]
  },
  {
   "cell_type": "markdown",
   "id": "4b609a8f-ad4f-4850-874c-3b66423b2cf6",
   "metadata": {},
   "source": [
    "Now, I can look for association rules. First try in the entire dataset"
   ]
  },
  {
   "cell_type": "code",
   "execution_count": 7,
   "id": "5d3a7c0c-bf5c-462a-bf9f-22fb7ce103d5",
   "metadata": {},
   "outputs": [
    {
     "name": "stderr",
     "output_type": "stream",
     "text": [
      "[Stage 18:=====================>                                    (3 + 5) / 8]\r"
     ]
    },
    {
     "name": "stdout",
     "output_type": "stream",
     "text": [
      "+-----------+----------+------------------+------------------+---------------------+\n",
      "|antecedent |consequent|confidence        |lift              |support              |\n",
      "+-----------+----------+------------------+------------------+---------------------+\n",
      "|[10, 14, 1]|[6]       |0.5485254691689008|1.7098797514928963|0.0019627518433175304|\n",
      "|[5, 14, 1] |[6]       |0.5395833333333333|1.6820050622400846|0.001490770461640001 |\n",
      "|[7, 14, 1] |[6]       |0.5333723653395784|1.662644049841184 |0.0017478660110090618|\n",
      "|[12, 14, 1]|[6]       |0.5262515262515263|1.6404467604632673|0.0016538534593741067|\n",
      "|[12, 5, 1] |[6]       |0.525560538116592 |1.6382927918932462|0.001124313372613952 |\n",
      "|[5, 7, 1]  |[6]       |0.5234254992319508|1.6316373857859796|0.0026150838342539526|\n",
      "|[10, 7, 1] |[6]       |0.5193452380952381|1.6189182755702969|0.0013391992049224205|\n",
      "|[12, 7, 1] |[6]       |0.5176752546434991|1.6137125539585304|0.001657690706379615 |\n",
      "|[5, 10, 1] |[6]       |0.5158311345646438|1.6079640085228304|0.0015003635791537718|\n",
      "|[4, 14, 1] |[6]       |0.5107438016528926|1.5921056245026923|0.0011857093247020858|\n",
      "|[4, 7, 1]  |[6]       |0.5               |1.5586147294888817|0.001895600020721134 |\n",
      "|[10, 14, 6]|[1]       |0.6442065491183879|1.3919449583216468|0.0019627518433175304|\n",
      "|[5, 10, 6] |[1]       |0.6394112837285364|1.3815837698296132|0.0015003635791537718|\n",
      "|[4, 14, 6] |[1]       |0.6242424242424243|1.3488082298819386|0.0011857093247020858|\n",
      "|[10, 6]    |[1]       |0.6025974025974026|1.302039567264673 |0.015579222842363974 |\n",
      "|[8, 6]     |[1]       |0.6017975771785854|1.3003113747140327|0.005909360388482887 |\n",
      "|[14, 6]    |[1]       |0.6006894390473206|1.297917007120209 |0.0183880876503961   |\n",
      "|[5, 14, 6] |[1]       |0.5976923076923077|1.2914410687977143|0.001490770461640001 |\n",
      "|[10, 3, 6] |[1]       |0.592463363572924 |1.2801428253782978|0.0016289113538383022|\n",
      "|[12, 14, 6]|[1]       |0.590815627141878 |1.2765825411480674|0.0016538534593741067|\n",
      "+-----------+----------+------------------+------------------+---------------------+\n",
      "only showing top 20 rows\n",
      "\n"
     ]
    },
    {
     "name": "stderr",
     "output_type": "stream",
     "text": [
      "                                                                                \r"
     ]
    }
   ],
   "source": [
    "from pyspark.ml.fpm import FPGrowth\n",
    "\n",
    "fp = FPGrowth(minConfidence=0.5, minSupport=0.001)\n",
    "fpm = fp.fit(df_all.select(df_all.relevant.alias('items')))\n",
    "fpm.associationRules.orderBy(\"lift\", \"confidence\", ascending=False).show(truncate=False)"
   ]
  },
  {
   "cell_type": "markdown",
   "id": "1bff7c7d-fe00-40b5-a75f-562ccdc4de09",
   "metadata": {},
   "source": [
    "I see there are a lot of rules, I'll put a higher threshold of support to filter even more "
   ]
  },
  {
   "cell_type": "code",
   "execution_count": 8,
   "id": "bb751b1d-7805-4d64-98bd-0a41f30ec33f",
   "metadata": {},
   "outputs": [
    {
     "name": "stderr",
     "output_type": "stream",
     "text": [
      "[Stage 28:=============================>                            (4 + 4) / 8]\r"
     ]
    },
    {
     "name": "stdout",
     "output_type": "stream",
     "text": [
      "+----------+----------+------------------+------------------+--------------------+\n",
      "|antecedent|consequent|confidence        |lift              |support             |\n",
      "+----------+----------+------------------+------------------+--------------------+\n",
      "|[10, 6]   |[1]       |0.6025974025974026|1.302039567264673 |0.015579222842363974|\n",
      "|[14, 6]   |[1]       |0.6006894390473206|1.297917007120209 |0.0183880876503961  |\n",
      "|[5, 6]    |[1]       |0.5903799692510433|1.2756412098226868|0.01547177992620974 |\n",
      "|[6]       |[1]       |0.5862310259446657|1.2666765373498938|0.18806155711646236 |\n",
      "|[4, 6]    |[1]       |0.5828057619965135|1.2592755277046546|0.012187096489494577|\n",
      "|[3, 6]    |[1]       |0.5797829256439333|1.2527440482799832|0.020600260549071676|\n",
      "|[12, 6]   |[1]       |0.572869509967437 |1.2378061465948011|0.01383903132536593 |\n",
      "|[7, 6]    |[1]       |0.5581903915806739|1.2060887962216578|0.015671316770496175|\n",
      "|[15, 6]   |[1]       |0.5528386393899044|1.1945251999025532|0.017524707074156716|\n",
      "+----------+----------+------------------+------------------+--------------------+\n",
      "\n"
     ]
    },
    {
     "name": "stderr",
     "output_type": "stream",
     "text": [
      "                                                                                \r"
     ]
    }
   ],
   "source": [
    "fp = FPGrowth(minConfidence=0.5, minSupport=0.01)\n",
    "fpm = fp.fit(df_all.select(df_all.relevant.alias('items')))\n",
    "fpm.associationRules.orderBy(\"lift\", \"confidence\", ascending=False).show(truncate=False)"
   ]
  },
  {
   "cell_type": "markdown",
   "id": "db0de2c9-e67a-47c2-8ed1-fcb296418bb5",
   "metadata": {},
   "source": [
    "I see (the first time running this) that there are a lot of associations with confidence of 1, which makes sense since the emo_neg scores includes the summation of emo_anx, emo_sad and emo_anger. I think it would be better to drop the emo_neg. I'll do it again from the beginning so what I'm describing here, will dissapear. \n",
    "\n",
    "I can see now that Care_Virtue is somehow (not to strongly) associated with positive emotions, even if there are parts of sad emotions in the text as well. To observe other types of association, It's worthy to go back to the previous run with support of 0.001\n",
    "\n",
    "Now, I'll see if there's any negative association"
   ]
  },
  {
   "cell_type": "code",
   "execution_count": 9,
   "id": "bc948bb6-c6d8-4dc4-b0a0-26ac38500e10",
   "metadata": {},
   "outputs": [
    {
     "name": "stderr",
     "output_type": "stream",
     "text": [
      "[Stage 38:===========================================>              (6 + 2) / 8]\r"
     ]
    },
    {
     "name": "stdout",
     "output_type": "stream",
     "text": [
      "+----------+----------+------------------+------------------+---------------------+\n",
      "|antecedent|consequent|confidence        |lift              |support              |\n",
      "+----------+----------+------------------+------------------+---------------------+\n",
      "|[4, 14]   |[1]       |0.5027004570004154|1.086191016880091 |0.0023215344383325626|\n",
      "|[13, 6]   |[1]       |0.5033492822966508|1.0875929416217165|0.0010091959624487009|\n",
      "|[10, 3]   |[1]       |0.5081018518518519|1.0978618767023802|0.003369102870836347 |\n",
      "|[5, 14]   |[1]       |0.511727078891258 |1.1056949490410244|0.002762817843966025 |\n",
      "|[8, 5]    |[1]       |0.5161887141535615|1.1153352588418677|0.0010705919145368348|\n",
      "+----------+----------+------------------+------------------+---------------------+\n",
      "only showing top 5 rows\n",
      "\n"
     ]
    },
    {
     "name": "stderr",
     "output_type": "stream",
     "text": [
      "                                                                                \r"
     ]
    }
   ],
   "source": [
    "fp = FPGrowth(minConfidence=0.5, minSupport=0.001)\n",
    "fpm = fp.fit(df_all.select(df_all.relevant.alias('items')))\n",
    "fpm.associationRules.orderBy(\"lift\", \"confidence\", ascending=True).show(5,truncate=False)"
   ]
  },
  {
   "cell_type": "markdown",
   "id": "0995e80e-e745-4e70-b435-c121e2207409",
   "metadata": {},
   "source": [
    "There's not. Now, I'll see the associations in each individual cluster"
   ]
  },
  {
   "cell_type": "code",
   "execution_count": 10,
   "id": "dc54f350-5021-4cdb-9029-0ce501f4bda6",
   "metadata": {},
   "outputs": [
    {
     "name": "stderr",
     "output_type": "stream",
     "text": [
      "[Stage 48:=====================>                                    (3 + 5) / 8]\r"
     ]
    },
    {
     "name": "stdout",
     "output_type": "stream",
     "text": [
      "+----------+----------+------------------+------------------+---------------------+\n",
      "|antecedent|consequent|confidence        |lift              |support              |\n",
      "+----------+----------+------------------+------------------+---------------------+\n",
      "|[10, 5, 6]|[1]       |0.6431924882629108|1.3791339251175727|0.0011948473299086858|\n",
      "|[8, 6]    |[1]       |0.6187891440501044|1.3268082520036077|0.0032313206987676503|\n",
      "|[10, 6]   |[1]       |0.6149290309404677|1.3185313939223378|0.013130238358960046 |\n",
      "|[10, 3, 6]|[1]       |0.6127497621313035|1.3138586037366409|0.0014041636504766306|\n",
      "|[14, 6]   |[1]       |0.6098857294711666|1.3077175422716552|0.010007936577154868 |\n",
      "|[14, 3, 6]|[1]       |0.6009732360097324|1.2886073655915007|0.0010771068995892167|\n",
      "|[12, 3, 6]|[1]       |0.5955882352941176|1.277060842102484 |0.0010596638728752213|\n",
      "|[5, 6]    |[1]       |0.5953385942374748|1.2765255615191424|0.014146294665050279 |\n",
      "|[7, 6]    |[1]       |0.5949111470113085|1.275609028783514 |0.00642339458742881  |\n",
      "|[4, 3, 6] |[1]       |0.5941901408450704|1.2740630466984877|0.0014717553789933629|\n",
      "|[4, 6]    |[1]       |0.5939229772700506|1.2734901943151202|0.010995647964834859 |\n",
      "|[6]       |[1]       |0.5922933677123621|1.2699959840021642|0.18030856714257057  |\n",
      "|[7, 5, 6] |[1]       |0.5895096921322691|1.2640272242621433|0.0011272556013919536|\n",
      "|[3, 6]    |[1]       |0.5876722074898131|1.2600872880011684|0.01981091759042029  |\n",
      "|[7, 3, 6] |[1]       |0.5842044134727061|1.2526516408790629|0.0010967303046424616|\n",
      "|[4, 5, 6] |[1]       |0.5812133072407045|1.246238108144368 |0.0012951447335141594|\n",
      "|[12, 6]   |[1]       |0.5801778070464274|1.244017787675063 |0.007683653267514979 |\n",
      "|[5, 15, 6]|[1]       |0.5699797160243407|1.2221510315225135|0.0012253726266581778|\n",
      "|[15, 3, 6]|[1]       |0.5681995323460639|1.2183339600416527|0.001589495809312832 |\n",
      "|[15, 6]   |[1]       |0.564437984496124 |1.210268445680912 |0.01270070382612791  |\n",
      "+----------+----------+------------------+------------------+---------------------+\n",
      "only showing top 20 rows\n",
      "\n"
     ]
    },
    {
     "name": "stderr",
     "output_type": "stream",
     "text": [
      "                                                                                \r"
     ]
    }
   ],
   "source": [
    "#Cluster 0 - less moral language, using the same support as above\n",
    "\n",
    "fp = FPGrowth(minConfidence=0.5, minSupport=0.001)\n",
    "fpm = fp.fit(df0.select(df0.relevant.alias('items')))\n",
    "fpm.associationRules.orderBy(\"lift\", \"confidence\", ascending=False).show(truncate=False)"
   ]
  },
  {
   "cell_type": "code",
   "execution_count": 12,
   "id": "fbe711b7-7910-4a3d-9dd0-83eddace99af",
   "metadata": {},
   "outputs": [
    {
     "name": "stderr",
     "output_type": "stream",
     "text": [
      "[Stage 68:====================================>                     (5 + 3) / 8]\r"
     ]
    },
    {
     "name": "stdout",
     "output_type": "stream",
     "text": [
      "+---------------+----------+------------------+------------------+---------------------+\n",
      "|antecedent     |consequent|confidence        |lift              |support              |\n",
      "+---------------+----------+------------------+------------------+---------------------+\n",
      "|[5, 4, 1, 6]   |[7]       |0.6566265060240963|1.9349963315797925|0.0017420210640712152|\n",
      "|[5, 4, 1]      |[7]       |0.6357388316151202|1.873442962981665 |0.002956641255533714 |\n",
      "|[5, 4, 6]      |[7]       |0.6261980830670927|1.8453275682000216|0.003132441546403286 |\n",
      "|[5, 4]         |[7]       |0.6104651162790697|1.7989644793810424|0.006712374742292755 |\n",
      "|[5, 3, 1]      |[7]       |0.5957943925233645|1.755731688154262 |0.004075370379249173 |\n",
      "|[5, 3, 1, 6]   |[7]       |0.5900383141762452|1.7387692439279347|0.0024612040721740105|\n",
      "|[5, 3]         |[7]       |0.5895833333333333|1.7374284721895163|0.009045724057470714 |\n",
      "|[5, 3, 6]      |[7]       |0.57              |1.679718833890642 |0.00455482571798437  |\n",
      "|[5, 3, 15]     |[7]       |0.5416666666666666|1.5962240380539725|0.002077639801185853 |\n",
      "|[3, 10, 14, 1] |[6]       |0.7               |1.5879812921470522|0.0011187291237154593|\n",
      "|[5, 4, 15]     |[7]       |0.538860103626943 |1.5879534471832268|0.0016621118409486824|\n",
      "|[5, 1]         |[7]       |0.5372029606544605|1.5830700537422997|0.022038963737194547 |\n",
      "|[5, 1, 6]      |[7]       |0.5368020304568528|1.581888562507217 |0.01352064055233255  |\n",
      "|[5, 6]         |[7]       |0.5342267294458529|1.5742994719614027|0.023573220821147177 |\n",
      "|[5, 4, 3]      |[7]       |0.5333333333333333|1.5716667451608346|0.0010228380559684199|\n",
      "|[5]            |[7]       |0.5326185716881701|1.569560431832548 |0.046842786594428726 |\n",
      "|[5, 12, 14, 1] |[6]       |0.6881720430107527|1.5611490429709887|0.0010228380559684199|\n",
      "|[5, 10, 14, 1] |[6]       |0.6880733944954128|1.5609252544040488|0.001198638346837992 |\n",
      "|[4, 3, 6]      |[7]       |0.5176056338028169|1.5253191782920952|0.0023493311598024643|\n",
      "|[4, 3]         |[7]       |0.5167682926829268|1.522851638556182 |0.005417845327707724 |\n",
      "|[4, 3, 1]      |[7]       |0.5147058823529411|1.516773972811467 |0.0022374582474309185|\n",
      "|[4, 3, 1, 6]   |[7]       |0.5103448275862069|1.5039224889039022|0.0011826565022134855|\n",
      "|[8, 14, 6]     |[1]       |0.6555323590814196|1.5011460708565183|0.00501829921209506  |\n",
      "|[5, 10, 1]     |[6]       |0.6610169491525424|1.4995464986376523|0.003739751642134535 |\n",
      "|[5, 12, 7, 1]  |[6]       |0.66              |1.4972395040243638|0.002109603490434866 |\n",
      "|[5, 12, 1]     |[6]       |0.6541666666666667|1.484006326589805 |0.00501829921209506  |\n",
      "|[5, 10, 14, 6] |[1]       |0.646551724137931 |1.4805807323610922|0.001198638346837992 |\n",
      "|[5, 8, 1]      |[6]       |0.6488888888888888|1.472033451768061 |0.0023333493151779577|\n",
      "|[3, 10, 1]     |[6]       |0.6426332288401254|1.4578422073002497|0.003276278148023845 |\n",
      "|[5, 10, 7, 1]  |[6]       |0.6369047619047619|1.444846923977335 |0.001710057374822202 |\n",
      "|[5, 10, 6]     |[1]       |0.6307277628032345|1.4443444168628747|0.003739751642134535 |\n",
      "|[3, 10, 7, 1]  |[6]       |0.635593220338983 |1.4418716333054349|0.001198638346837992 |\n",
      "|[5, 10, 7, 6]  |[1]       |0.622093023255814 |1.4245711666717733|0.001710057374822202 |\n",
      "|[10, 14, 6]    |[1]       |0.6208695652173913|1.4217694907486969|0.011411037061897684 |\n",
      "|[10, 14, 1]    |[6]       |0.6171132238547969|1.3999489351685337|0.011411037061897684 |\n",
      "|[8, 12, 6]     |[1]       |0.6103896103896104|1.3977707623952682|0.0060091735788144664|\n",
      "|[3, 10, 14, 6] |[1]       |0.6086956521739131|1.3938916575967617|0.0011187291237154593|\n",
      "|[5, 1]         |[6]       |0.6139462407479548|1.3927644924168037|0.02518738712822234  |\n",
      "|[10, 15, 14, 6]|[1]       |0.6077586206896551|1.3917458884194265|0.002253440092055425 |\n",
      "|[5, 7, 1]      |[6]       |0.6134880348078318|1.3917250317584235|0.01352064055233255  |\n",
      "|[3, 12, 14, 1] |[6]       |0.6114649681528662|1.3871356146143496|0.0015342570839526298|\n",
      "|[5, 3, 1]      |[6]       |0.6098130841121495|1.3833882418237005|0.0041712614469962125|\n",
      "|[5, 14, 1]     |[6]       |0.609129814550642 |1.3818382142791754|0.006824247654664301 |\n",
      "|[10, 14, 7, 6] |[1]       |0.6025641025641025|1.3798506244158417|0.0015022933947036166|\n",
      "|[5, 3, 7, 1]   |[6]       |0.6039215686274509|1.370023075577849 |0.0024612040721740105|\n",
      "|[4, 14, 6]     |[1]       |0.5963963963963964|1.3657267939876636|0.005289990570711671 |\n",
      "|[3, 12, 14, 6] |[1]       |0.5962732919254659|1.3654448890743787|0.0015342570839526298|\n",
      "|[5, 8, 6]      |[1]       |0.5959183673469388|1.3646321242594535|0.0023333493151779577|\n",
      "|[4, 14, 7, 6]  |[1]       |0.592814371257485 |1.3575240822702421|0.0015822026178261494|\n",
      "|[14, 6]        |[1]       |0.5924783485585479|1.3567546020954802|0.07981333205478576  |\n",
      "+---------------+----------+------------------+------------------+---------------------+\n",
      "only showing top 50 rows\n",
      "\n"
     ]
    },
    {
     "name": "stderr",
     "output_type": "stream",
     "text": [
      "                                                                                \r"
     ]
    }
   ],
   "source": [
    "#Cluster 1 - more moral language\n",
    "fp = FPGrowth(minConfidence=0.5, minSupport=0.001)\n",
    "fpm = fp.fit(df1.select(df1.relevant.alias('items')))\n",
    "fpm.associationRules.orderBy(\"lift\", \"confidence\", ascending=False).show(50,truncate=False)"
   ]
  },
  {
   "cell_type": "code",
   "execution_count": null,
   "id": "9d298387-c867-4782-a47e-a71240395c18",
   "metadata": {},
   "outputs": [],
   "source": []
  }
 ],
 "metadata": {
  "kernelspec": {
   "display_name": "Python 3 (ipykernel)",
   "language": "python",
   "name": "python3"
  },
  "language_info": {
   "codemirror_mode": {
    "name": "ipython",
    "version": 3
   },
   "file_extension": ".py",
   "mimetype": "text/x-python",
   "name": "python",
   "nbconvert_exporter": "python",
   "pygments_lexer": "ipython3",
   "version": "3.9.19"
  }
 },
 "nbformat": 4,
 "nbformat_minor": 5
}
