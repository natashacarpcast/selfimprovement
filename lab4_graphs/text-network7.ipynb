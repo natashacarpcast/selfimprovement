{
 "cells": [
  {
   "cell_type": "code",
   "execution_count": 3,
   "id": "f5a5d646-48ae-4846-87e8-263c15def631",
   "metadata": {},
   "outputs": [],
   "source": [
    "from pyspark.sql.functions import udf\n",
    "from pyspark.sql.types import FloatType\n",
    "from pyspark.sql.types import ArrayType\n",
    "from pyspark.sql.types import StringType\n",
    "from pyspark.sql import functions as F\n",
    "import itertools\n",
    "from pyspark.sql.functions import col, when, least, greatest, lit"
   ]
  },
  {
   "cell_type": "code",
   "execution_count": 1,
   "id": "d1580692-147b-4d89-b6cc-d62dabea2bf9",
   "metadata": {},
   "outputs": [
    {
     "name": "stdout",
     "output_type": "stream",
     "text": [
      "Warning::Spark Session already created, some configs may not take.\n",
      "24/12/03 18:25:35 WARN SparkSession: Using an existing Spark session; only runtime SQL configurations will take effect.\n"
     ]
    },
    {
     "name": "stderr",
     "output_type": "stream",
     "text": [
      "WARNING: An illegal reflective access operation has occurred                    \n",
      "WARNING: Illegal reflective access by org.apache.spark.util.SizeEstimator$ (file:/software/spark-3.3.2-el8-x86_64/jars/spark-core_2.12-3.3.2.jar) to field java.util.regex.Pattern.pattern\n",
      "WARNING: Please consider reporting this to the maintainers of org.apache.spark.util.SizeEstimator$\n",
      "WARNING: Use --illegal-access=warn to enable warnings of further illegal reflective access operations\n",
      "WARNING: All illegal access operations will be denied in a future release\n",
      "                                                                                \r"
     ]
    },
    {
     "data": {
      "text/plain": [
       "DataFrame[id: string, cleaned_text: string, finished_unigrams: array<string>, finished_pos: array<string>, filtered_unigrams_by_pos: array<string>, joined_tokens: string, finished_final: array<string>, tf_features: vector, tf_idf_features: vector]"
      ]
     },
     "execution_count": 1,
     "metadata": {},
     "output_type": "execute_result"
    }
   ],
   "source": [
    "import sparknlp\n",
    "from sparknlp.annotator import Tokenizer, PerceptronModel\n",
    "from sparknlp.base import DocumentAssembler\n",
    "from pyspark.ml import Pipeline\n",
    "from sparknlp.annotator import *\n",
    "from sparknlp.base import *\n",
    "from pyspark.ml.feature import CountVectorizer\n",
    "from pyspark.ml.feature import IDF\n",
    "from pyspark.ml.clustering import LDA\n",
    "from sparknlp.annotator import StopWordsCleaner\n",
    "from pyspark.sql import types as T\n",
    "from pyspark.sql import functions as F\n",
    "from sparknlp.annotator import NGramGenerator\n",
    "from sparknlp.base import Finisher\n",
    "from pyspark.ml.tuning import ParamGridBuilder\n",
    "\n",
    "spark = sparknlp.start()\n",
    "\n",
    "data = spark.read.csv(\"../data/cleaned_moral_scores.csv\", header= True).select([\"id\", \"cleaned_text\"])\n",
    "\n",
    "#Preprocessing\n",
    "documentAssembler = DocumentAssembler()\\\n",
    "     .setInputCol(\"cleaned_text\")\\\n",
    "     .setOutputCol('document')\n",
    "\n",
    "tokenizer = Tokenizer() \\\n",
    "            .setInputCols(['document'])\\\n",
    "            .setOutputCol('tokenized')\n",
    "\n",
    "normalizer = Normalizer() \\\n",
    "     .setInputCols(['tokenized']) \\\n",
    "     .setOutputCol('normalized') \n",
    "\n",
    "english = [\n",
    "    \"a\", \"about\", \"above\", \"after\", \"again\", \"against\", \"all\", \"am\", \"an\", \"and\", \"any\", \"are\", \"as\", \"at\", \"be\", \n",
    "    \"because\", \"been\", \"before\", \"being\", \"below\", \"between\", \"both\", \"but\", \"by\", \"can\", \"cannot\", \"could\", \"did\", \n",
    "    \"do\", \"does\", \"doing\", \"down\", \"during\", \"each\", \"few\", \"for\", \"from\", \"further\", \"had\", \"has\", \"have\", \"having\", \n",
    "    \"he\", \"her\", \"here\", \"hers\", \"herself\", \"him\", \"himself\", \"his\", \"how\", \"i\", \"if\", \"in\", \"into\", \"is\", \"it\", \n",
    "    \"its\", \"itself\", \"let\", \"me\", \"more\", \"most\", \"must\", \"my\", \"myself\", \"no\", \"nor\", \"not\", \"of\", \"off\", \"on\", \n",
    "    \"once\", \"only\", \"or\", \"other\", \"our\", \"ours\", \"ourselves\", \"out\", \"over\", \"own\", \"same\", \"she\", \"some\", \"such\", \n",
    "    \"than\", \"that\", \"the\", \"their\", \"theirs\", \"them\", \"themselves\", \"then\", \"there\", \"these\", \"they\", \"this\", \"those\", \n",
    "    \"through\", \"to\", \"too\", \"under\", \"until\", \"up\", \"very\", \"was\", \"we\", \"were\", \"what\", \"when\", \"where\", \"which\", \n",
    "    \"while\", \"who\", \"whom\", \"why\", \"with\", \"would\", \"you\", \"your\", \"yours\", \"yourself\", \"yourselves\", \"will\", \"ll\", \n",
    "    \"re\", \"ve\", \"d\", \"s\", \"m\", \"b\", \"c\", \"d\", \"e\", \"f\", \"g\", \"h\", \"i\", \"j\", \"k\", \"l\", \"m\", \"n\", \"o\", \"p\", \"q\", \"r\", \n",
    "    \"s\", \"t\", \"u\", \"v\", \"w\", \"x\", \"y\", \"z\", \"many\", \"us\", \"ok\", \"hows\", \"ive\", \"ill\", \"im\", \"cant\", \"topics\", \"topic\",\n",
    "    \"discuss\", \"thoughts\", \"yo\", \"thats\", \"whats\", \"lets\", \"nothing\", \"oh\", \"omg\", \n",
    "         \"things\", \"stuff\", \"yall\", \"haha\", \"yes\", \"no\", \"wo\", \"like\", 'good', \n",
    "         'work', 'got', 'going', 'dont', 'really', 'want', 'make', 'think', \n",
    "         'know', 'feel', 'people', 'life', \"getting\", \"lot\" \"great\", \"i\", \"me\", \n",
    "         \"my\", \"myself\", \"we\", \"our\", \"ours\", \"ourselves\", \n",
    "        \"you\", \"your\", \"yours\", \"yourself\", \"yourselves\", \"he\", \"him\", \"his\", \n",
    "        \"himself\", \"she\", \"her\", \"hers\", \"herself\", \"it\", \"its\", \"itself\", \n",
    "        \"they\", \"them\", \"their\", \"theirs\",\"themselves\", \"what\", \"which\", \"who\", \n",
    "        \"whom\", \"this\", \"that\", \"these\", \"those\", \"am\", \"is\", \"are\", \"was\", \n",
    "        \"were\", \"be\", \"been\", \"being\", \"have\", \"has\", \"had\", \"having\", \"do\", \n",
    "        \"does\", \"did\", \"doing\", \"will\", \"would\", \"can\", \"could\", \"may\",\n",
    "        \"might\", \"shall\", \"ought\", \"about\", \"above\", \"across\", \"after\", \n",
    "        \"against\", \"along\", \"amid\", \"among\", \"around\", \"as\", \"at\", \"before\", \"behind\",\n",
    "        \"below\", \"beneath\", \"beside\", \"between\", \"beyond\", \"but\", \"by\", \n",
    "        \"considering\", \"despite\", \"down\", \"during\", \"except\", \"for\",\n",
    "        \"from\", \"in\", \"inside\", \"into\", \"like\", \"near\", \"next\", \"notwithstanding\",\n",
    "        \"of\", \"off\", \"on\", \"onto\", \"opposite\", \"out\", \"outside\", \"over\", \"past\",\n",
    "        \"regarding\", \"round\", \"since\", \"than\", \"through\", \"throughout\", \"till\", \n",
    "        \"to\", \"toward\", \"towards\", \"under\", \"underneath\", \"unlike\", \"until\", \"up\",\n",
    "        \"upon\", \"versus\", \"via\", \"with\", \"within\", \"without\", \"cant\", \"cannot\", \n",
    "        \"couldve\", \"couldnt\", \"didnt\", \"doesnt\", \"dont\", \"hadnt\", \"hasnt\", \n",
    "        \"havent\", \"hed\", \"hell\", \"hes\", \"howd\", \"howll\", \"hows\", \"id\", \"ill\", \n",
    "        \"im\", \"ive\", \"isnt\", \"itd\", \"itll\", \"its\", \"lets\", \"mightve\", \n",
    "        \"shant\", \"shed\", \"shell\", \"shes\", \n",
    "        \"thatll\", \"thats\", \"thered\", \"therell\", \"therere\", \"theres\", \"theyd\", \n",
    "        \"theyll\", \"theyre\", \"theyve\", \"wed\", \"well\", \"were\", \"weve\", \"werent\", \n",
    "        \"whatd\", \"whatll\", \"whatre\", \"whats\", \"whatve\", \"whend\", \"whenll\", \n",
    "        \"whens\", \"whered\", \"wherell\", \"wheres\", \"whichd\", \"whichll\", \"whichre\", \n",
    "        \"whichs\", \"whod\", \"wholl\", \"whore\", \"whos\", \"whove\", \"whyd\", \"whyll\", \n",
    "        \"whys\", \"wont\", \"wouldve\", \"wouldnt\", \"youd\", \"youll\", \"youre\", \"youve\",\n",
    "        \"f\", \"m\", \"because\", \"go\", \"lot\", \"get\", \"still\", \"way\", \"something\", \"much\",\n",
    "        \"thing\", \"someone\", \"person\", \"anything\", \"goes\", \"ok\", \"so\", \"just\", \"mostly\", \n",
    "        \"put\", \"also\", \"lots\", \"yet\", \"ha\", \"etc\", \"even\", \"one\", \"bye\", \"take\", \"wasnt\"]\n",
    "\n",
    "time = [\"monday\", \"tuesday\", \"wednesday\", \"thursday\", \"friday\", \"saturday\", \n",
    "        \"sunday\", \"morning\", \"noon\", \"afternoon\", \"evening\", \"night\", \"midnight\",\n",
    "        \"dawn\", \"dusk\", \"week\", \"weekend\", \"weekends\",\"weekly\", \"today\", \n",
    "        \"yesterday\", \"tomorrow\", \"yesterdays\", \"todays\", \"mondays\", \"tuesdays\",\n",
    "        \"wednesdays\", \"thursdays\", \"fridays\", \"saturdays\", \"sundays\", \"day\",\n",
    "        \"everyday\", \"daily\", \"workday\", 'time', 'month', 'year', 'pm', 'am', \"ago\",\n",
    "        \"year\", \"now\"]\n",
    "\n",
    "reddit = [\"welcome\", \"hi\", \"hello\", \"sub\", \"reddit\", \"thanks\", \"thank\", \"maybe\",\n",
    "          \"wo30\", \"mods\", \"mod\", \"moderators\", \"subreddit\", \"btw\", \"aw\", \"aww\", \n",
    "          \"aww\", \"hey\", \"hello\", \"join\", \"joined\", \"post\", \"rselfimprovement\", \"blah\"]\n",
    "\n",
    "topic_specific = [\"self\", \"improvement\", \"change\", \"action\",\n",
    "    'change', 'start', 'goal', 'habit', 'new', 'old', \n",
    "    'care', 'world', 'everyone', 'love', 'u', 'right', 'mean', 'matter',\n",
    "    'best', 'step', 'focus', 'hard', 'small',\n",
    "    'bad', 'help', 'time', 'problem', 'issue', 'advice',\n",
    "    'bit', 'experience', 'different',\n",
    "    'point', 'situation', 'negative', 'control', 'positive',\n",
    "    'use', 'question', 'idea', 'amp', 'medium', 'hour', 'day', 'minute',\n",
    "    'aaaaloot', \"selfimprovement\", \"_\", \"ampxb\"]\n",
    "\n",
    "stopwords = english + time + reddit + topic_specific\n",
    "\n",
    "stopwords_cleaner = StopWordsCleaner() \\\n",
    "     .setInputCols(['normalized']) \\\n",
    "     .setOutputCol('unigrams') \\\n",
    "     .setStopWords(stopwords)\n",
    "\n",
    "pos = PerceptronModel.load(\"/project/macs40123/spark-jars/pos_anc_en_3.0.0_3.0_1614962126490/\")\\\n",
    "      .setInputCols(\"document\", \"unigrams\")\\\n",
    "      .setOutputCol(\"pos\")\n",
    "\n",
    "finisher = Finisher().setInputCols(['unigrams', 'pos'])\n",
    "\n",
    "my_pipeline = Pipeline(\n",
    "      stages = [\n",
    "          documentAssembler,\n",
    "          tokenizer,\n",
    "          normalizer,\n",
    "          stopwords_cleaner,\n",
    "          #ngrammer,\n",
    "          pos,\n",
    "          finisher\n",
    "      ])\n",
    "\n",
    "pipelineModel = my_pipeline.fit(data)\n",
    "processed_data = pipelineModel.transform(data)\n",
    "processed_data.persist()\n",
    "\n",
    "#Filter by POS\n",
    "def filter_unigrams(finished_unigrams, finished_pos):\n",
    "    '''Filters individual words based on their POS tag'''\n",
    "    return [word for word, pos in zip(finished_unigrams, finished_pos)\n",
    "            if pos in ['JJ', 'NN', 'NNS', 'NNPS']]\n",
    "\n",
    "udf_filter_unigrams = F.udf(filter_unigrams, T.ArrayType(T.StringType()))\n",
    "\n",
    "processed_data = processed_data.withColumn('filtered_unigrams_by_pos', udf_filter_unigrams(\n",
    "                                                   F.col('finished_unigrams'),\n",
    "                                                   F.col('finished_pos')))\n",
    "\n",
    "#Now that POS was done, lemmatization makes more sense at this point\n",
    "\n",
    "#Merge tokens as just one string to be able to take it as a document in the new Pipeline\n",
    "tokens_as_string = F.udf(lambda x: ' '.join(x), T.StringType())\n",
    "processed_data = processed_data.withColumn('joined_tokens', tokens_as_string(F.col('filtered_unigrams_by_pos')))\n",
    "\n",
    "last_documentAssembler = DocumentAssembler() \\\n",
    "     .setInputCol('joined_tokens') \\\n",
    "     .setOutputCol('joined_document')\n",
    "\n",
    "last_tokenizer = Tokenizer() \\\n",
    "     .setInputCols(['joined_document']) \\\n",
    "     .setOutputCol('tokenized')\n",
    "     \n",
    "lemmatizer = LemmatizerModel.load(\"../models/lemma_ewt_en_3.4.3_3.0_1651416655397/\")\\\n",
    "      .setInputCols(\"tokenized\")\\\n",
    "      .setOutputCol(\"lemmatized\")\n",
    "\n",
    "stopwords_cleaner = StopWordsCleaner() \\\n",
    "     .setInputCols(['lemmatized']) \\\n",
    "     .setOutputCol('final') \\\n",
    "     .setStopWords(stopwords)\n",
    "\n",
    "last_finisher = Finisher() \\\n",
    "     .setInputCols(['final']) \\\n",
    "\n",
    "last_pipeline = Pipeline() \\\n",
    "     .setStages([last_documentAssembler,                  \n",
    "                 last_tokenizer,\n",
    "                 lemmatizer,\n",
    "                 stopwords_cleaner,\n",
    "                 last_finisher])\n",
    "\n",
    "final_data = last_pipeline.fit(processed_data).transform(processed_data)\n",
    "\n",
    "processed_data.unpersist()\n",
    "final_data.persist()\n",
    "\n",
    "## Vectorization\n",
    "#Apply TF-IDF filtering\n",
    "tfizer = CountVectorizer(inputCol='finished_final', outputCol='tf_features', minDF=0.01, maxDF=0.80, vocabSize= 2000)\n",
    "tf_model = tfizer.fit(final_data)\n",
    "tf_result = tf_model.transform(final_data)\n",
    "\n",
    "idfizer = IDF(inputCol='tf_features', outputCol='tf_idf_features')\n",
    "idf_model = idfizer.fit(tf_result)\n",
    "tfidf_result = idf_model.transform(tf_result)\n",
    "\n",
    "final_data.unpersist()\n",
    "tfidf_result.persist()"
   ]
  },
  {
   "cell_type": "markdown",
   "id": "37be0bbd-577d-44a7-acd5-47a893f7b63e",
   "metadata": {},
   "source": [
    "Asked ChatGPT \"how can I filter tokenized words from TF IDF?\""
   ]
  },
  {
   "cell_type": "code",
   "execution_count": 6,
   "id": "153fc1c1-6577-4a76-925a-d42dba5b01e2",
   "metadata": {},
   "outputs": [],
   "source": [
    "vocabulary = tf_model.vocabulary\n",
    "\n",
    "# Define a function to filter words by their TF-IDF score\n",
    "# UDF to map indices to words using the vocabulary\n",
    "def filter_tfidf(features, threshold=1, vocabulary=None):\n",
    "    if features is not None:\n",
    "        # Filter based on TF-IDF score and map indices to actual words\n",
    "        return [vocabulary[features.indices[i]] for i in range(len(features.values)) if features.values[i] >= threshold]\n",
    "    return []\n",
    "\n",
    "# Register the UDF\n",
    "filter_udf = udf(lambda features: filter_tfidf(features, threshold=1, vocabulary=vocabulary), ArrayType(StringType()))\n",
    "\n",
    "# Apply the filtering function\n",
    "df_filtered_tfidf = tfidf_result.withColumn(\"filtered_words_tfidf\", filter_udf(\"tf_idf_features\"))"
   ]
  },
  {
   "cell_type": "code",
   "execution_count": 7,
   "id": "04ef505d-3fcb-48f2-be03-26060f1b01ad",
   "metadata": {},
   "outputs": [
    {
     "name": "stdout",
     "output_type": "stream",
     "text": [
      "+-----+--------------------+--------------------+--------------------+------------------------+--------------------+--------------------+--------------------+--------------------+--------------------+\n",
      "|   id|        cleaned_text|   finished_unigrams|        finished_pos|filtered_unigrams_by_pos|       joined_tokens|      finished_final|         tf_features|     tf_idf_features|filtered_words_tfidf|\n",
      "+-----+--------------------+--------------------+--------------------+------------------------+--------------------+--------------------+--------------------+--------------------+--------------------+\n",
      "|hk5r2|i had an appointm...|[appointment, den...|[NN, NN, JJ, NN, ...|    [appointment, den...|appointment denti...|[appointment, den...|(533,[17,35,99,18...|(533,[17,35,99,18...|[sure, last, phon...|\n",
      "|iqimz|i created this si...|[created, site, s...|[VBN, NN, JJ, NNS...|    [site, several, m...|site several mont...|[site, several, r...|(533,[58,189,190,...|(533,[58,189,190,...|[future, helpful,...|\n",
      "|pfzt5|hello everyone  i...|[recently, took, ...|[RB, VBD, VBN, NN...|    [changes, hope, v...|changes hope visi...|[hope, vision, pl...|(533,[4,24,28,38,...|(533,[4,24,28,38,...|[relationship, mo...|\n",
      "|pk714|i grew up with bo...|[grew, body, dysm...|[VBD, NN, NN, VBG...|    [body, dysmorphia...|body dysmorphia d...|[body, dysmorphia...|(533,[1,3,4,5,7,1...|(533,[1,3,4,5,7,1...|[feeling, first, ...|\n",
      "|q0q8x|i have to ask whe...|[ask, content, ne...|[VB, NN, RB, NN, ...|    [content, process...|content process s...|[content, process...|(533,[0,3,5,9,13,...|(533,[0,3,5,9,13,...|[job, first, soci...|\n",
      "|q412v|nothing but oppor...|[opportunity, exi...|[NN, VBZ, NN, NNS...|    [opportunity, fee...|opportunity feeli...|[opportunity, fee...|(533,[1,7,90,111,...|(533,[1,7,90,111,...|[feeling, mind, m...|\n",
      "|q5mqk|im getting out of...|[comfort, zone, f...|[NN, NN, NNS, NN,...|    [comfort, zone, f...|comfort zone frie...|[comfort, zone, t...|(533,[2,9,19,25,6...|(533,[2,9,19,25,6...|[try, great, part...|\n",
      "|q70xe|hey everyone firs...|[first, posting, ...|[JJ, VBG, NN, JJ,...|    [first, learn, so...|first learn socia...|[first, learn, so...|(533,[3,5,12,15,2...|(533,[3,5,12,15,2...|[first, social, w...|\n",
      "|q7mrn|facebook is great...|[facebook, great,...|[NN, JJ, NN, NNS,...|    [facebook, great,...|facebook great sh...|[facebook, great,...|(533,[5,9,26,154,...|(533,[5,9,26,154,...|[social, great, a...|\n",
      "|qcsyp|okay so im 18 yea...|[okay, years, mal...|[JJ, NNS, JJ, JJ,...|    [okay, years, mal...|okay years male s...|[okay, male, semi...|(533,[20,33,53,69...|(533,[20,33,53,69...|[guy, family, col...|\n",
      "|qu825|well to give ever...|[give, everybody,...|[VB, NN, NN, NNS,...|    [everybody, story...|everybody story y...|[everybody, story...|(533,[15,31,35,82...|(533,[15,31,35,82...|[talk, body, last...|\n",
      "|qxco0|i hate adderall i...|[hate, adderall, ...|[VBP, NN, JJ, NN,...|    [adderall, quick,...|adderall quick fi...|[adderall, quick,...|(533,[42,56,68,87...|(533,[42,56,68,87...|[example, brain, ...|\n",
      "|r89qc|im not sure if th...|[sure, place, any...|[JJ, NN, RB, VBD,...|    [sure, place, com...|sure place comput...|[sure, place, com...|(533,[13,16,17,28...|(533,[13,16,17,28...|[happy, little, s...|\n",
      "|ra0bn|to access your to...|[access, total, s...|[JJ, JJ, NN, NN, ...|    [access, total, s...|access total succ...|[access, total, s...|(533,[9,39,123,14...|(533,[9,39,123,14...|[great, mental, a...|\n",
      "|rbi6h|i beginning to th...|[beginning, infer...|[VBG, NN, NN, VBD...|    [inferiority, com...|inferiority compl...|[inferiority, com...|(533,[5,9,26,31,6...|(533,[5,9,26,31,6...|[social, great, a...|\n",
      "|rd166|ive been working ...|[working, horribl...|[VBG, JJ, NN, CD,...|    [horrible, place,...|horrible place ye...|[horrible, place,...|(533,[0,13,22,28,...|(533,[0,13,22,28,...|[job, happy, long...|\n",
      "|rrhg8|ive tried every d...|[tried, every, ev...|[VBD, DT, NN, NN,...|    [everything, stop...|everything stop g...|[everything, stop...|(533,[6,32,36],[1...|(533,[6,32,36],[2...|[everything, end,...|\n",
      "|rvjcf|context last seme...|[context, last, s...|[NN, JJ, NN, VBG,...|    [context, last, s...|context last seme...|[context, last, s...|(533,[3,8,11,14,1...|(533,[3,8,11,14,1...|[first, book, sch...|\n",
      "|s0ruk|lately ive had th...|[lately, urge, ba...|[RB, VB, RB, NN, ...|    [strength, backgr...|strength backgrou...|[strength, backgr...|(533,[1,22,41,85,...|(533,[1,22,41,85,...|[feeling, long, h...|\n",
      "|sa2de|its at about 1843...|[se, show, surpri...|[FW, NN, VBN, JJ,...|    [show, awesome, s...|show awesome scen...|[show, awesome, s...|(533,[0,26,36,39,...|(533,[0,26,36,39,...|[job, anyone, sto...|\n",
      "+-----+--------------------+--------------------+--------------------+------------------------+--------------------+--------------------+--------------------+--------------------+--------------------+\n",
      "only showing top 20 rows\n",
      "\n"
     ]
    },
    {
     "name": "stderr",
     "output_type": "stream",
     "text": [
      "                                                                                \r"
     ]
    }
   ],
   "source": [
    "df_filtered_tfidf.show()"
   ]
  },
  {
   "cell_type": "code",
   "execution_count": 8,
   "id": "31714a57-04e3-44e2-a9a4-ff95bec2ab09",
   "metadata": {},
   "outputs": [
    {
     "data": {
      "text/plain": [
       "DataFrame[id: string, cleaned_text: string, finished_unigrams: array<string>, finished_pos: array<string>, filtered_unigrams_by_pos: array<string>, joined_tokens: string, finished_final: array<string>, tf_features: vector, tf_idf_features: vector]"
      ]
     },
     "execution_count": 8,
     "metadata": {},
     "output_type": "execute_result"
    }
   ],
   "source": [
    "tfidf_result.unpersist()"
   ]
  },
  {
   "cell_type": "markdown",
   "id": "ef14d51d-c86f-496d-819a-e8e81f0d6739",
   "metadata": {},
   "source": [
    "Create network - Asked chatgpt how to create all possible pair combinations between a list of words"
   ]
  },
  {
   "cell_type": "code",
   "execution_count": 9,
   "id": "f9aa27cd-ae0b-417b-a90b-ea211559dbb8",
   "metadata": {},
   "outputs": [],
   "source": [
    "import itertools\n",
    "def generate_edges(tokens):\n",
    "    return [list(pair) for pair in itertools.combinations(tokens, 2)]\n",
    "\n",
    "generate_edges_udf = udf(generate_edges, ArrayType(ArrayType(StringType())))"
   ]
  },
  {
   "cell_type": "code",
   "execution_count": 10,
   "id": "d6c3e770-99d1-4261-9e8b-05c244ace1a9",
   "metadata": {},
   "outputs": [],
   "source": [
    "df_edges = df_filtered_tfidf.withColumn(\"edges\", generate_edges_udf(F.col(\"filtered_words_tfidf\")))"
   ]
  },
  {
   "cell_type": "code",
   "execution_count": 11,
   "id": "69f14453-f3ba-49a4-a6eb-d920c98ab638",
   "metadata": {},
   "outputs": [],
   "source": [
    "df_flat_edges = df_edges.select(\n",
    "    F.col(\"id\"),\n",
    "    F.explode(F.col(\"edges\")).alias(\"edge\")\n",
    ")"
   ]
  },
  {
   "cell_type": "code",
   "execution_count": 12,
   "id": "4846b876-1579-4583-83e7-c5f4d6473f1c",
   "metadata": {},
   "outputs": [],
   "source": [
    "edges_df = df_flat_edges.select(\n",
    "    F.col(\"id\").alias(\"id_doc\"),\n",
    "    F.col(\"edge\")[0].alias(\"node1\"),\n",
    "    F.col(\"edge\")[1].alias(\"node2\")\n",
    ")\n"
   ]
  },
  {
   "cell_type": "markdown",
   "id": "fd8a6758-f825-4b7a-9f04-0fcb9264700b",
   "metadata": {},
   "source": [
    "Now, need to aggregate edges by count"
   ]
  },
  {
   "cell_type": "code",
   "execution_count": 13,
   "id": "7fb70665-cd3e-4c61-973f-31cbc13e9f8d",
   "metadata": {},
   "outputs": [
    {
     "name": "stderr",
     "output_type": "stream",
     "text": [
      "[Stage 16:>                                                         (0 + 1) / 1]\r"
     ]
    },
    {
     "name": "stdout",
     "output_type": "stream",
     "text": [
      "+------+-----+-----+------+\n",
      "|id_doc|node1|node2|weight|\n",
      "+------+-----+-----+------+\n",
      "| hk5r2| sure| last|     1|\n",
      "| hk5r2| sure|phone|     1|\n",
      "| hk5r2| sure| call|     1|\n",
      "| hk5r2| sure|smoke|     1|\n",
      "| hk5r2| last|phone|     1|\n",
      "| hk5r2| last| call|     1|\n",
      "| hk5r2| last|smoke|     1|\n",
      "| hk5r2|phone| call|     1|\n",
      "| hk5r2|phone|smoke|     1|\n",
      "| hk5r2| call|smoke|     1|\n",
      "+------+-----+-----+------+\n",
      "only showing top 10 rows\n",
      "\n"
     ]
    },
    {
     "name": "stderr",
     "output_type": "stream",
     "text": [
      "                                                                                \r"
     ]
    }
   ],
   "source": [
    "edges_df = edges_df.withColumn(\"weight\", lit(1))\n",
    "edges_df.show(10)"
   ]
  },
  {
   "cell_type": "code",
   "execution_count": 14,
   "id": "8de642c1-5a4b-4cc4-99a1-4dee7f5df76a",
   "metadata": {},
   "outputs": [
    {
     "name": "stderr",
     "output_type": "stream",
     "text": [
      "[Stage 17:>                                                         (0 + 1) / 1]\r"
     ]
    },
    {
     "name": "stdout",
     "output_type": "stream",
     "text": [
      "+------+-----+-----+------+----------+----------+\n",
      "|id_doc|node1|node2|weight|node1_norm|node2_norm|\n",
      "+------+-----+-----+------+----------+----------+\n",
      "| hk5r2| sure| last|     1|      last|      sure|\n",
      "| hk5r2| sure|phone|     1|     phone|      sure|\n",
      "| hk5r2| sure| call|     1|      call|      sure|\n",
      "| hk5r2| sure|smoke|     1|     smoke|      sure|\n",
      "| hk5r2| last|phone|     1|      last|     phone|\n",
      "| hk5r2| last| call|     1|      call|      last|\n",
      "| hk5r2| last|smoke|     1|      last|     smoke|\n",
      "| hk5r2|phone| call|     1|      call|     phone|\n",
      "| hk5r2|phone|smoke|     1|     phone|     smoke|\n",
      "| hk5r2| call|smoke|     1|      call|     smoke|\n",
      "+------+-----+-----+------+----------+----------+\n",
      "only showing top 10 rows\n",
      "\n"
     ]
    },
    {
     "name": "stderr",
     "output_type": "stream",
     "text": [
      "                                                                                \r"
     ]
    }
   ],
   "source": [
    "# Normalize the pairs: ensure node1 is always less than node2, so they can be always on the same order\n",
    "edges_df = edges_df.withColumn(\"node1_norm\", least(col(\"node1\"), col(\"node2\"))) \\\n",
    "             .withColumn(\"node2_norm\", greatest(col(\"node1\"), col(\"node2\")))\n",
    "\n",
    "edges_df.show(10)"
   ]
  },
  {
   "cell_type": "code",
   "execution_count": 16,
   "id": "fb4c72b5-83b3-460c-9450-2af5c0662f1d",
   "metadata": {},
   "outputs": [
    {
     "name": "stderr",
     "output_type": "stream",
     "text": [
      "[Stage 21:===================================================>     (9 + 1) / 10]\r"
     ]
    },
    {
     "name": "stdout",
     "output_type": "stream",
     "text": [
      "+----------+-----------+------+\n",
      "|node1_norm| node2_norm|weight|\n",
      "+----------+-----------+------+\n",
      "|boundaries|   computer|    29|\n",
      "|       bro|     manage|    30|\n",
      "|       bro|       tool|    30|\n",
      "|       bro|       tend|    30|\n",
      "|boundaries|        fat|    33|\n",
      "|       bro|friendships|    33|\n",
      "|   awkward|       meal|    34|\n",
      "|       bro|  unhealthy|    35|\n",
      "|       bro|   computer|    35|\n",
      "|       bro|   horrible|    35|\n",
      "+----------+-----------+------+\n",
      "only showing top 10 rows\n",
      "\n"
     ]
    },
    {
     "name": "stderr",
     "output_type": "stream",
     "text": [
      "                                                                                \r"
     ]
    }
   ],
   "source": [
    "edges_df = edges_df.groupBy(\"node1_norm\", \"node2_norm\").sum(\"weight\") \\\n",
    "                        .withColumnRenamed(\"sum(weight)\", \"weight\")\n",
    "\n",
    "edges_df.orderBy('weight', aescending=False).show(10)"
   ]
  },
  {
   "cell_type": "code",
   "execution_count": 17,
   "id": "ad6d56a5-337f-4a8c-9a22-369808bfeac9",
   "metadata": {},
   "outputs": [
    {
     "name": "stderr",
     "output_type": "stream",
     "text": [
      "                                                                                \r"
     ]
    }
   ],
   "source": [
    "edges_df.write.mode(\"overwrite\").csv(\"edges_network7\", header=True)"
   ]
  },
  {
   "cell_type": "markdown",
   "id": "36881416-8509-4c28-8b11-6a3b8d7874d1",
   "metadata": {},
   "source": [
    "Create nodes"
   ]
  },
  {
   "cell_type": "code",
   "execution_count": 18,
   "id": "be551ec1-459c-4415-a766-3132b3ad2e9c",
   "metadata": {},
   "outputs": [
    {
     "name": "stderr",
     "output_type": "stream",
     "text": [
      "                                                                                \r"
     ]
    }
   ],
   "source": [
    "vertices_df = edges_df.select(F.col(\"node1_norm\").alias(\"node\")).union(edges_df.select(F.col(\"node2_norm\").alias(\"node\"))).distinct()\n",
    "vertices_df.write.mode(\"overwrite\").csv(\"nodes_network7\", header=True)"
   ]
  },
  {
   "cell_type": "code",
   "execution_count": 19,
   "id": "8c73f4f9-6706-47fd-8478-87345ab1b3f9",
   "metadata": {},
   "outputs": [
    {
     "name": "stderr",
     "output_type": "stream",
     "text": [
      "[Stage 37:===================================================>     (9 + 1) / 10]\r"
     ]
    },
    {
     "name": "stdout",
     "output_type": "stream",
     "text": [
      "+------------+\n",
      "|        node|\n",
      "+------------+\n",
      "|      online|\n",
      "|        hope|\n",
      "|       inner|\n",
      "|  productive|\n",
      "|conversation|\n",
      "|     achieve|\n",
      "|      growth|\n",
      "|       watch|\n",
      "| perspective|\n",
      "|   character|\n",
      "+------------+\n",
      "only showing top 10 rows\n",
      "\n"
     ]
    },
    {
     "name": "stderr",
     "output_type": "stream",
     "text": [
      "                                                                                \r"
     ]
    }
   ],
   "source": [
    "vertices_df.show(10)"
   ]
  },
  {
   "cell_type": "code",
   "execution_count": null,
   "id": "3df0126e-739f-403f-88a2-f0e01ee32f45",
   "metadata": {},
   "outputs": [],
   "source": []
  }
 ],
 "metadata": {
  "kernelspec": {
   "display_name": "Python 3 (ipykernel)",
   "language": "python",
   "name": "python3"
  },
  "language_info": {
   "codemirror_mode": {
    "name": "ipython",
    "version": 3
   },
   "file_extension": ".py",
   "mimetype": "text/x-python",
   "name": "python",
   "nbconvert_exporter": "python",
   "pygments_lexer": "ipython3",
   "version": "3.9.19"
  }
 },
 "nbformat": 4,
 "nbformat_minor": 5
}
