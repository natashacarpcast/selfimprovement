{
 "cells": [
  {
   "cell_type": "code",
   "execution_count": 1,
   "id": "5a40b24b-306f-4024-85fd-4dede7c9e8ff",
   "metadata": {},
   "outputs": [
    {
     "name": "stdout",
     "output_type": "stream",
     "text": [
      "24/12/02 16:36:53 WARN SparkSession: Using an existing Spark session; only runtime SQL configurations will take effect.\n"
     ]
    }
   ],
   "source": [
    "from pyspark.sql import SparkSession\n",
    "from graphframes import *\n",
    "import sparknlp\n",
    "from sparknlp.base import DocumentAssembler\n",
    "from pyspark.ml import Pipeline\n",
    "from sparknlp.annotator import *\n",
    "from sparknlp.base import *\n",
    "from pyspark.sql import types as T\n",
    "from pyspark.ml.feature import CountVectorizer\n",
    "from pyspark.ml.clustering import LDA\n",
    "from pyspark.ml.feature import HashingTF, IDF\n",
    "from pyspark.sql.functions import udf\n",
    "from pyspark.sql.types import FloatType\n",
    "from pyspark.sql.types import ArrayType\n",
    "from pyspark.sql.types import StringType\n",
    "from pyspark.sql import functions as F\n",
    "import itertools\n",
    "from pyspark.sql.functions import col, when, least, greatest, lit\n",
    "\n",
    "spark = SparkSession \\\n",
    "        .builder \\\n",
    "        .appName(\"network\") \\\n",
    "        .getOrCreate()"
   ]
  },
  {
   "cell_type": "code",
   "execution_count": 2,
   "id": "c728af7d-9a85-4e6b-ac93-deabc1515641",
   "metadata": {},
   "outputs": [],
   "source": [
    "data = spark.read.csv(\"../1moral_data.csv\", header= True).select([\"id\", \"cleaned_text\"])"
   ]
  },
  {
   "cell_type": "code",
   "execution_count": 3,
   "id": "17cf322f-480c-479f-b5d4-8a8cf55d6172",
   "metadata": {},
   "outputs": [],
   "source": [
    "english = [\n",
    "    \"a\", \"about\", \"above\", \"after\", \"again\", \"against\", \"all\", \"am\", \"an\", \"and\", \"any\", \"are\", \"as\", \"at\", \"be\", \n",
    "    \"because\", \"been\", \"before\", \"being\", \"below\", \"between\", \"both\", \"but\", \"by\", \"can\", \"cannot\", \"could\", \"did\", \n",
    "    \"do\", \"does\", \"doing\", \"down\", \"during\", \"each\", \"few\", \"for\", \"from\", \"further\", \"had\", \"has\", \"have\", \"having\", \n",
    "    \"he\", \"her\", \"here\", \"hers\", \"herself\", \"him\", \"himself\", \"his\", \"how\", \"i\", \"if\", \"in\", \"into\", \"is\", \"it\", \n",
    "    \"its\", \"itself\", \"let\", \"me\", \"more\", \"most\", \"must\", \"my\", \"myself\", \"no\", \"nor\", \"not\", \"of\", \"off\", \"on\", \n",
    "    \"once\", \"only\", \"or\", \"other\", \"our\", \"ours\", \"ourselves\", \"out\", \"over\", \"own\", \"same\", \"she\", \"some\", \"such\", \n",
    "    \"than\", \"that\", \"the\", \"their\", \"theirs\", \"them\", \"themselves\", \"then\", \"there\", \"these\", \"they\", \"this\", \"those\", \n",
    "    \"through\", \"to\", \"too\", \"under\", \"until\", \"up\", \"very\", \"was\", \"we\", \"were\", \"what\", \"when\", \"where\", \"which\", \n",
    "    \"while\", \"who\", \"whom\", \"why\", \"with\", \"would\", \"you\", \"your\", \"yours\", \"yourself\", \"yourselves\", \"will\", \"ll\", \n",
    "    \"re\", \"ve\", \"d\", \"s\", \"m\", \"b\", \"c\", \"d\", \"e\", \"f\", \"g\", \"h\", \"i\", \"j\", \"k\", \"l\", \"m\", \"n\", \"o\", \"p\", \"q\", \"r\", \n",
    "    \"s\", \"t\", \"u\", \"v\", \"w\", \"x\", \"y\", \"z\", \"many\", \"us\", \"ok\", \"hows\", \"ive\", \"ill\", \"im\", \"cant\", \"topics\", \"topic\",\n",
    "    \"discuss\", \"thoughts\", \"yo\", \"thats\", \"whats\", \"lets\", \"nothing\", \"oh\", \"omg\", \n",
    "         \"things\", \"stuff\", \"yall\", \"haha\", \"yes\", \"no\", \"wo\", \"like\", 'good', \n",
    "         'work', 'got', 'going', 'dont', 'really', 'want', 'make', 'think', \n",
    "         'know', 'feel', 'people', 'life', \"getting\", \"lot\" \"great\", \"i\", \"me\", \n",
    "         \"my\", \"myself\", \"we\", \"our\", \"ours\", \"ourselves\", \n",
    "        \"you\", \"your\", \"yours\", \"yourself\", \"yourselves\", \"he\", \"him\", \"his\", \n",
    "        \"himself\", \"she\", \"her\", \"hers\", \"herself\", \"it\", \"its\", \"itself\", \n",
    "        \"they\", \"them\", \"their\", \"theirs\",\"themselves\", \"what\", \"which\", \"who\", \n",
    "        \"whom\", \"this\", \"that\", \"these\", \"those\", \"am\", \"is\", \"are\", \"was\", \n",
    "        \"were\", \"be\", \"been\", \"being\", \"have\", \"has\", \"had\", \"having\", \"do\", \n",
    "        \"does\", \"did\", \"doing\", \"will\", \"would\", \"should\", \"can\", \"could\", \"may\",\n",
    "        \"might\", \"must\", \"shall\", \"ought\", \"about\", \"above\", \"across\", \"after\", \n",
    "        \"against\", \"along\", \"amid\", \"among\", \"around\", \"as\", \"at\", \"before\", \"behind\",\n",
    "        \"below\", \"beneath\", \"beside\", \"between\", \"beyond\", \"but\", \"by\", \n",
    "        \"concerning\", \"considering\", \"despite\", \"down\", \"during\", \"except\", \"for\",\n",
    "        \"from\", \"in\", \"inside\", \"into\", \"like\", \"near\", \"next\", \"notwithstanding\",\n",
    "        \"of\", \"off\", \"on\", \"onto\", \"opposite\", \"out\", \"outside\", \"over\", \"past\",\n",
    "        \"regarding\", \"round\", \"since\", \"than\", \"through\", \"throughout\", \"till\", \n",
    "        \"to\", \"toward\", \"towards\", \"under\", \"underneath\", \"unlike\", \"until\", \"up\",\n",
    "        \"upon\", \"versus\", \"via\", \"with\", \"within\", \"without\", \"cant\", \"cannot\", \n",
    "        \"couldve\", \"couldnt\", \"didnt\", \"doesnt\", \"dont\", \"hadnt\", \"hasnt\", \n",
    "        \"havent\", \"hed\", \"hell\", \"hes\", \"howd\", \"howll\", \"hows\", \"id\", \"ill\", \n",
    "        \"im\", \"ive\", \"isnt\", \"itd\", \"itll\", \"its\", \"lets\", \"mightve\", \"mustve\", \n",
    "        \"mustnt\", \"shant\", \"shed\", \"shell\", \"shes\", \"shouldve\", \"shouldnt\", \n",
    "        \"thatll\", \"thats\", \"thered\", \"therell\", \"therere\", \"theres\", \"theyd\", \n",
    "        \"theyll\", \"theyre\", \"theyve\", \"wed\", \"well\", \"were\", \"weve\", \"werent\", \n",
    "        \"whatd\", \"whatll\", \"whatre\", \"whats\", \"whatve\", \"whend\", \"whenll\", \n",
    "        \"whens\", \"whered\", \"wherell\", \"wheres\", \"whichd\", \"whichll\", \"whichre\", \n",
    "        \"whichs\", \"whod\", \"wholl\", \"whore\", \"whos\", \"whove\", \"whyd\", \"whyll\", \n",
    "        \"whys\", \"wont\", \"wouldve\", \"wouldnt\", \"youd\", \"youll\", \"youre\", \"youve\",\n",
    "        \"f\", \"m\", \"because\", \"go\", \"lot\", \"get\", \"still\", \"way\", \"something\", \"much\",\n",
    "        \"thing\", \"someone\", \"person\", \"anything\", \"goes\", \"ok\", \"so\", \"just\", \"mostly\", \n",
    "        \"put\", \"also\", \"lots\", \"yet\", \"ha\", \"etc\", \"even\", \"one\", \"bye\", \"take\", \"wasnt\"]\n",
    "\n",
    "time = [\"monday\", \"tuesday\", \"wednesday\", \"thursday\", \"friday\", \"saturday\", \n",
    "        \"sunday\", \"morning\", \"noon\", \"afternoon\", \"evening\", \"night\", \"midnight\",\n",
    "        \"dawn\", \"dusk\", \"week\", \"weekend\", \"weekends\",\"weekly\", \"today\", \n",
    "        \"yesterday\", \"tomorrow\", \"yesterdays\", \"todays\", \"mondays\", \"tuesdays\",\n",
    "        \"wednesdays\", \"thursdays\", \"fridays\", \"saturdays\", \"sundays\", \"day\",\n",
    "        \"everyday\", \"daily\", \"workday\", 'time', 'month', 'year', 'pm', 'am', \"ago\",\n",
    "        \"year\", \"now\"]\n",
    "\n",
    "reddit = [\"welcome\", \"hi\", \"hello\", \"sub\", \"reddit\", \"thanks\", \"thank\", \"maybe\",\n",
    "          \"wo30\", \"mods\", \"mod\", \"moderators\", \"subreddit\", \"btw\", \"aw\", \"aww\", \n",
    "          \"aww\", \"hey\", \"hello\", \"join\", \"joined\", \"post\", \"rselfimprovement\", \"blah\"]\n",
    "\n",
    "topic_specific = [\"self\", \"improvement\", \"change\", \"action\",\n",
    "    'change', 'start', 'goal', 'habit', 'new', 'old', \n",
    "    'care', 'world', 'everyone', 'love', 'u', 'right', 'mean', 'matter',\n",
    "    'best', 'step', 'focus', 'hard', 'small',\n",
    "    'bad', 'help', 'time', 'problem', 'issue', 'advice',\n",
    "    'bit', 'experience', 'different',\n",
    "    'point', 'situation', 'negative', 'control', 'positive',\n",
    "    'use', 'question', 'idea', 'amp', 'medium', 'hour', 'day', 'minute',\n",
    "    'aaaaloot', \"selfimprovement\", \"_\", \"ampxb\"]\n",
    "\n",
    "stopwords = english + time + reddit + topic_specific"
   ]
  },
  {
   "cell_type": "code",
   "execution_count": 4,
   "id": "d34f2080-e493-49fb-ba81-338f768943c0",
   "metadata": {},
   "outputs": [],
   "source": [
    "documentAssembler = DocumentAssembler()\\\n",
    "     .setInputCol(\"cleaned_text\")\\\n",
    "     .setOutputCol('document')"
   ]
  },
  {
   "cell_type": "code",
   "execution_count": 5,
   "id": "8be005bb-366c-410e-a11e-310d33b73250",
   "metadata": {},
   "outputs": [],
   "source": [
    "tokenizer = Tokenizer() \\\n",
    "            .setInputCols(['document'])\\\n",
    "            .setOutputCol('tokenized')"
   ]
  },
  {
   "cell_type": "code",
   "execution_count": 6,
   "id": "ac3915ad-cf3c-433d-9b61-894d94c77e1b",
   "metadata": {},
   "outputs": [],
   "source": [
    "normalizer = Normalizer() \\\n",
    "     .setInputCols(['tokenized']) \\\n",
    "     .setOutputCol('normalized')"
   ]
  },
  {
   "cell_type": "code",
   "execution_count": 7,
   "id": "e3185d58-e3db-484b-86f0-99cdb64bf4b8",
   "metadata": {},
   "outputs": [],
   "source": [
    "lemmatizer = LemmatizerModel.load(\"../models/lemma_ewt_en_3.4.3_3.0_1651416655397/\")\\\n",
    "      .setInputCols(\"normalized\")\\\n",
    "      .setOutputCol(\"lemmatized\")"
   ]
  },
  {
   "cell_type": "code",
   "execution_count": 8,
   "id": "bd6d31ab-d314-4b0e-8164-ed4cf9d779bb",
   "metadata": {},
   "outputs": [],
   "source": [
    "stopwords_cleaner = StopWordsCleaner() \\\n",
    "     .setInputCols(['lemmatized']) \\\n",
    "     .setOutputCol('words') \\\n",
    "     .setStopWords(stopwords)"
   ]
  },
  {
   "cell_type": "code",
   "execution_count": 9,
   "id": "51267cb6-f9fd-47e8-871d-5600ef8151de",
   "metadata": {},
   "outputs": [],
   "source": [
    "from sparknlp.base import Finisher\n",
    "\n",
    "finisher = Finisher().setInputCols(['words'])"
   ]
  },
  {
   "cell_type": "code",
   "execution_count": 10,
   "id": "a21456d8-3741-46f4-8373-9a678fc749fd",
   "metadata": {},
   "outputs": [],
   "source": [
    "my_pipeline = Pipeline(\n",
    "      stages = [\n",
    "          documentAssembler,\n",
    "          tokenizer,\n",
    "          normalizer,\n",
    "          lemmatizer,\n",
    "          stopwords_cleaner,\n",
    "          finisher\n",
    "      ])"
   ]
  },
  {
   "cell_type": "code",
   "execution_count": 11,
   "id": "9020de41-7c5d-4ca6-bb02-144cb8770924",
   "metadata": {},
   "outputs": [
    {
     "name": "stderr",
     "output_type": "stream",
     "text": [
      "WARNING: An illegal reflective access operation has occurred\n",
      "WARNING: Illegal reflective access by org.apache.spark.util.SizeEstimator$ (file:/software/spark-3.3.2-el8-x86_64/jars/spark-core_2.12-3.3.2.jar) to field java.util.regex.Pattern.pattern\n",
      "WARNING: Please consider reporting this to the maintainers of org.apache.spark.util.SizeEstimator$\n",
      "WARNING: Use --illegal-access=warn to enable warnings of further illegal reflective access operations\n",
      "WARNING: All illegal access operations will be denied in a future release\n",
      "[Stage 3:>                                                          (0 + 1) / 1]\r"
     ]
    },
    {
     "name": "stdout",
     "output_type": "stream",
     "text": [
      "+-----+--------------------+--------------------+\n",
      "|   id|        cleaned_text|      finished_words|\n",
      "+-----+--------------------+--------------------+\n",
      "|iqimz|i created this si...|[create, site, se...|\n",
      "+-----+--------------------+--------------------+\n",
      "only showing top 1 row\n",
      "\n"
     ]
    },
    {
     "name": "stderr",
     "output_type": "stream",
     "text": [
      "                                                                                \r"
     ]
    }
   ],
   "source": [
    "pipelineModel = my_pipeline.fit(data)\n",
    "processed_data = pipelineModel.transform(data)\n",
    "processed_data.persist()\n",
    "processed_data.show(1)"
   ]
  },
  {
   "cell_type": "code",
   "execution_count": 12,
   "id": "41038ffc-baee-4f81-a739-a37727bd8723",
   "metadata": {},
   "outputs": [
    {
     "name": "stderr",
     "output_type": "stream",
     "text": [
      "                                                                                \r"
     ]
    },
    {
     "data": {
      "text/plain": [
       "DataFrame[id: string, cleaned_text: string, finished_words: array<string>, tf_features: vector, tf_idf_features: vector]"
      ]
     },
     "execution_count": 12,
     "metadata": {},
     "output_type": "execute_result"
    }
   ],
   "source": [
    "#Apply TF-IDF filtering\n",
    "tfizer = CountVectorizer(inputCol='finished_words', outputCol='tf_features', minDF=0.01, vocabSize=1000)\n",
    "tf_model = tfizer.fit(processed_data)\n",
    "tf_result = tf_model.transform(processed_data)\n",
    "vocabulary = tf_model.vocabulary\n",
    "\n",
    "\n",
    "idfizer = IDF(inputCol='tf_features', outputCol='tf_idf_features')\n",
    "idf_model = idfizer.fit(tf_result)\n",
    "tfidf_result = idf_model.transform(tf_result)\n",
    "\n",
    "processed_data.unpersist()\n",
    "tfidf_result.persist()"
   ]
  },
  {
   "cell_type": "code",
   "execution_count": 13,
   "id": "80951065-503f-4b7f-95b5-c0e6ff90567e",
   "metadata": {},
   "outputs": [
    {
     "name": "stdout",
     "output_type": "stream",
     "text": [
      "root\n",
      " |-- id: string (nullable = true)\n",
      " |-- cleaned_text: string (nullable = true)\n",
      " |-- finished_words: array (nullable = true)\n",
      " |    |-- element: string (containsNull = true)\n",
      " |-- tf_features: vector (nullable = true)\n",
      " |-- tf_idf_features: vector (nullable = true)\n",
      "\n"
     ]
    }
   ],
   "source": [
    "tfidf_result.printSchema()"
   ]
  },
  {
   "cell_type": "markdown",
   "id": "37be0bbd-577d-44a7-acd5-47a893f7b63e",
   "metadata": {},
   "source": [
    "Asked ChatGPT \"how can I filter tokenized words from TF IDF?\""
   ]
  },
  {
   "cell_type": "code",
   "execution_count": 17,
   "id": "153fc1c1-6577-4a76-925a-d42dba5b01e2",
   "metadata": {},
   "outputs": [],
   "source": [
    "# Define a function to filter words by their TF-IDF score\n",
    "# UDF to map indices to words using the vocabulary\n",
    "def filter_tfidf(features, threshold=5, vocabulary=None):\n",
    "    if features is not None:\n",
    "        # Filter based on TF-IDF score and map indices to actual words\n",
    "        return [vocabulary[features.indices[i]] for i in range(len(features.values)) if features.values[i] >= threshold]\n",
    "    return []\n",
    "\n",
    "# Register the UDF\n",
    "filter_udf = udf(lambda features: filter_tfidf(features, threshold=5, vocabulary=vocabulary), ArrayType(StringType()))\n",
    "\n",
    "# Apply the filtering function\n",
    "df_filtered_tfidf = tfidf_result.withColumn(\"filtered_words_tfidf\", filter_udf(\"tf_idf_features\"))"
   ]
  },
  {
   "cell_type": "code",
   "execution_count": 18,
   "id": "04ef505d-3fcb-48f2-be03-26060f1b01ad",
   "metadata": {},
   "outputs": [
    {
     "name": "stderr",
     "output_type": "stream",
     "text": [
      "[Stage 11:>                                                         (0 + 1) / 1]\r"
     ]
    },
    {
     "name": "stdout",
     "output_type": "stream",
     "text": [
      "+-----+--------------------+--------------------+--------------------+--------------------+--------------------+\n",
      "|   id|        cleaned_text|      finished_words|         tf_features|     tf_idf_features|filtered_words_tfidf|\n",
      "+-----+--------------------+--------------------+--------------------+--------------------+--------------------+\n",
      "|iqimz|i created this si...|[create, site, se...|(992,[0,4,64,134,...|(992,[0,4,64,134,...|            [please]|\n",
      "|pfzt5|hello everyone  i...|[recently, made, ...|(992,[6,10,17,20,...|(992,[6,10,17,20,...|[grow, mindset, c...|\n",
      "|pk714|i grew up with bo...|[grow, body, dysm...|(992,[0,3,4,5,6,8...|(992,[0,3,4,5,6,8...|[social, high, bo...|\n",
      "|qu825|well to give ever...|[give, everybody,...|(992,[0,7,9,14,17...|(992,[0,7,9,14,17...|             [close]|\n",
      "|rbi6h|i beginning to th...|[begin, inferiori...|(992,[0,1,2,4,6,1...|(992,[0,1,2,4,6,1...|           [usually]|\n",
      "|tpsp4|this might come a...|[come, rant, disj...|(992,[0,1,2,3,6,1...|(992,[0,1,2,3,6,1...|[fuck, conversation]|\n",
      "|u8ury|hey all i hope yo...|[hope, lazy, rout...|(992,[3,30,59,62,...|(992,[3,30,59,62,...|       [open, music]|\n",
      "|ufxst|i have a huge pro...|[huge, sure, over...|(992,[0,2,5,9,10,...|(992,[0,2,5,9,10,...|[example, fear, s...|\n",
      "|umfq3|24 useless colleg...|[useless, college...|(992,[0,3,5,10,21...|(992,[0,3,5,10,21...| [job, live, lesson]|\n",
      "|uov5x|so i am starting ...|[journey, young, ...|(992,[0,3,5,6,8,1...|(992,[0,3,5,6,8,1...|[book, health, me...|\n",
      "|uqxay|now to make a lon...|[long, story, sho...|(992,[0,1,3,6,10,...|(992,[0,1,3,6,10,...|[improve, two, ho...|\n",
      "|v3xws|im a sophmore in ...|[sophmore, high, ...|(992,[0,1,3,5,6,9...|(992,[0,1,3,5,6,9...|[always, school, ...|\n",
      "|v7x38|your persistence ...|[persistence, mea...|(992,[13,32,147,1...|(992,[13,32,147,1...|                  []|\n",
      "|vbh04|for quite awhile ...|[quite, awhile, a...|(992,[2,4,7,12,34...|(992,[2,4,7,12,34...|[answer, interest...|\n",
      "|vew4z|hi guys i really ...|[guy, say, butt, ...|(992,[0,1,2,3,5,6...|(992,[0,1,2,3,5,6...|[butt, learn, liv...|\n",
      "|vt9pd|i want to make fr...|[easy, keep, reco...|(992,[0,1,3,6,9,1...|(992,[0,1,3,6,9,1...|[talk, keep, conf...|\n",
      "|vt7xo|i want to make fr...|[easy, keep, reco...|(992,[0,1,3,6,9,1...|(992,[0,1,3,6,9,1...|[talk, keep, conf...|\n",
      "|vrtwp|hey guys this is ...|[guy, first, time...|(992,[0,1,3,5,9,1...|(992,[0,1,3,5,9,1...|[opinion, strong,...|\n",
      "|vuwba|pardon me if i am...|[pardon, follow, ...|(992,[0,1,3,4,5,7...|(992,[0,1,3,4,5,7...|[find, often, sen...|\n",
      "|vvoxg|work out every da...|[ever, already, p...|(992,[0,1,2,5,7,8...|(992,[0,1,2,5,7,8...|[money, pretty, o...|\n",
      "+-----+--------------------+--------------------+--------------------+--------------------+--------------------+\n",
      "only showing top 20 rows\n",
      "\n"
     ]
    },
    {
     "name": "stderr",
     "output_type": "stream",
     "text": [
      "                                                                                \r"
     ]
    }
   ],
   "source": [
    "df_filtered_tfidf.show()"
   ]
  },
  {
   "cell_type": "code",
   "execution_count": 19,
   "id": "31714a57-04e3-44e2-a9a4-ff95bec2ab09",
   "metadata": {},
   "outputs": [
    {
     "data": {
      "text/plain": [
       "DataFrame[id: string, cleaned_text: string, finished_words: array<string>, tf_features: vector, tf_idf_features: vector]"
      ]
     },
     "execution_count": 19,
     "metadata": {},
     "output_type": "execute_result"
    }
   ],
   "source": [
    "tfidf_result.unpersist()"
   ]
  },
  {
   "cell_type": "markdown",
   "id": "ef14d51d-c86f-496d-819a-e8e81f0d6739",
   "metadata": {},
   "source": [
    "Create network - Asked chatgpt how to create all possible pair combinations between a list of words"
   ]
  },
  {
   "cell_type": "code",
   "execution_count": 20,
   "id": "f9aa27cd-ae0b-417b-a90b-ea211559dbb8",
   "metadata": {},
   "outputs": [],
   "source": [
    "import itertools\n",
    "def generate_edges(tokens):\n",
    "    return [list(pair) for pair in itertools.combinations(tokens, 2)]\n",
    "\n",
    "generate_edges_udf = udf(generate_edges, ArrayType(ArrayType(StringType())))"
   ]
  },
  {
   "cell_type": "code",
   "execution_count": 21,
   "id": "d6c3e770-99d1-4261-9e8b-05c244ace1a9",
   "metadata": {},
   "outputs": [],
   "source": [
    "df_edges = df_filtered_tfidf.withColumn(\"edges\", generate_edges_udf(F.col(\"filtered_words_tfidf\")))"
   ]
  },
  {
   "cell_type": "code",
   "execution_count": 22,
   "id": "69f14453-f3ba-49a4-a6eb-d920c98ab638",
   "metadata": {},
   "outputs": [],
   "source": [
    "df_flat_edges = df_edges.select(\n",
    "    F.col(\"id\"),\n",
    "    F.explode(F.col(\"edges\")).alias(\"edge\")\n",
    ")"
   ]
  },
  {
   "cell_type": "code",
   "execution_count": 23,
   "id": "4846b876-1579-4583-83e7-c5f4d6473f1c",
   "metadata": {},
   "outputs": [],
   "source": [
    "edges_df = df_flat_edges.select(\n",
    "    F.col(\"id\").alias(\"id_doc\"),\n",
    "    F.col(\"edge\")[0].alias(\"node1\"),\n",
    "    F.col(\"edge\")[1].alias(\"node2\")\n",
    ")\n"
   ]
  },
  {
   "cell_type": "markdown",
   "id": "fd8a6758-f825-4b7a-9f04-0fcb9264700b",
   "metadata": {},
   "source": [
    "Now, need to aggregate edges by count"
   ]
  },
  {
   "cell_type": "code",
   "execution_count": 24,
   "id": "7fb70665-cd3e-4c61-973f-31cbc13e9f8d",
   "metadata": {},
   "outputs": [
    {
     "name": "stderr",
     "output_type": "stream",
     "text": [
      "[Stage 12:>                                                         (0 + 1) / 1]\r"
     ]
    },
    {
     "name": "stdout",
     "output_type": "stream",
     "text": [
      "+------+-------+----------+------+\n",
      "|id_doc|  node1|     node2|weight|\n",
      "+------+-------+----------+------+\n",
      "| pfzt5|   grow|   mindset|     1|\n",
      "| pfzt5|   grow| currently|     1|\n",
      "| pfzt5|mindset| currently|     1|\n",
      "| pk714| social|      high|     1|\n",
      "| pk714| social|      body|     1|\n",
      "| pk714| social|   healthy|     1|\n",
      "| pk714| social|       fun|     1|\n",
      "| pk714| social|depression|     1|\n",
      "| pk714| social|   similar|     1|\n",
      "| pk714| social|       low|     1|\n",
      "+------+-------+----------+------+\n",
      "only showing top 10 rows\n",
      "\n"
     ]
    },
    {
     "name": "stderr",
     "output_type": "stream",
     "text": [
      "                                                                                \r"
     ]
    }
   ],
   "source": [
    "edges_df = edges_df.withColumn(\"weight\", lit(1))\n",
    "edges_df.show(10)"
   ]
  },
  {
   "cell_type": "code",
   "execution_count": 25,
   "id": "8de642c1-5a4b-4cc4-99a1-4dee7f5df76a",
   "metadata": {},
   "outputs": [
    {
     "name": "stderr",
     "output_type": "stream",
     "text": [
      "[Stage 13:>                                                         (0 + 1) / 1]\r"
     ]
    },
    {
     "name": "stdout",
     "output_type": "stream",
     "text": [
      "+------+-------+----------+------+----------+----------+\n",
      "|id_doc|  node1|     node2|weight|node1_norm|node2_norm|\n",
      "+------+-------+----------+------+----------+----------+\n",
      "| pfzt5|   grow|   mindset|     1|      grow|   mindset|\n",
      "| pfzt5|   grow| currently|     1| currently|      grow|\n",
      "| pfzt5|mindset| currently|     1| currently|   mindset|\n",
      "| pk714| social|      high|     1|      high|    social|\n",
      "| pk714| social|      body|     1|      body|    social|\n",
      "| pk714| social|   healthy|     1|   healthy|    social|\n",
      "| pk714| social|       fun|     1|       fun|    social|\n",
      "| pk714| social|depression|     1|depression|    social|\n",
      "| pk714| social|   similar|     1|   similar|    social|\n",
      "| pk714| social|       low|     1|       low|    social|\n",
      "+------+-------+----------+------+----------+----------+\n",
      "only showing top 10 rows\n",
      "\n"
     ]
    },
    {
     "name": "stderr",
     "output_type": "stream",
     "text": [
      "                                                                                \r"
     ]
    }
   ],
   "source": [
    "# Normalize the pairs: ensure node1 is always less than node2, so they can be always on the same order\n",
    "edges_df = edges_df.withColumn(\"node1_norm\", least(col(\"node1\"), col(\"node2\"))) \\\n",
    "             .withColumn(\"node2_norm\", greatest(col(\"node1\"), col(\"node2\")))\n",
    "\n",
    "edges_df.show(10)"
   ]
  },
  {
   "cell_type": "code",
   "execution_count": 27,
   "id": "fb4c72b5-83b3-460c-9450-2af5c0662f1d",
   "metadata": {},
   "outputs": [
    {
     "name": "stderr",
     "output_type": "stream",
     "text": [
      "[Stage 17:===================================================>     (9 + 1) / 10]\r"
     ]
    },
    {
     "name": "stdout",
     "output_type": "stream",
     "text": [
      "+------------+----------+------+\n",
      "|  node1_norm|node2_norm|weight|\n",
      "+------------+----------+------+\n",
      "|      escape| lifestyle|     1|\n",
      "|  background|eventually|     1|\n",
      "|       bring|    rarely|     1|\n",
      "|     honesty|   mindset|     1|\n",
      "|         fit| necessary|     1|\n",
      "|        gift|    stress|     1|\n",
      "|    business|  maintain|     1|\n",
      "|      method|    plenty|     1|\n",
      "|     culture|      gift|     1|\n",
      "|consistently|  mistakes|     1|\n",
      "+------------+----------+------+\n",
      "only showing top 10 rows\n",
      "\n"
     ]
    },
    {
     "name": "stderr",
     "output_type": "stream",
     "text": [
      "                                                                                \r"
     ]
    }
   ],
   "source": [
    "edges_df = edges_df.groupBy(\"node1_norm\", \"node2_norm\").sum(\"weight\") \\\n",
    "                        .withColumnRenamed(\"sum(weight)\", \"weight\")\n",
    "\n",
    "edges_df.orderBy('weight', descending=False).show(10)"
   ]
  },
  {
   "cell_type": "code",
   "execution_count": 29,
   "id": "7c2e2245-77e6-4dee-954b-b39251238379",
   "metadata": {},
   "outputs": [
    {
     "name": "stderr",
     "output_type": "stream",
     "text": [
      "[Stage 23:===================================================>     (9 + 1) / 10]\r"
     ]
    },
    {
     "name": "stdout",
     "output_type": "stream",
     "text": [
      "+----------+----------+------+\n",
      "|node1_norm|node2_norm|weight|\n",
      "+----------+----------+------+\n",
      "|      game|      play|   904|\n",
      "|       man|     woman|   889|\n",
      "|      book|      read|   817|\n",
      "|    health|    mental|   718|\n",
      "|      game|     video|   672|\n",
      "|      high|    school|   616|\n",
      "|      fuck|      shit|   554|\n",
      "|     media|    social|   504|\n",
      "|       job|     money|   458|\n",
      "|      date|      girl|   423|\n",
      "+----------+----------+------+\n",
      "only showing top 10 rows\n",
      "\n"
     ]
    },
    {
     "name": "stderr",
     "output_type": "stream",
     "text": [
      "                                                                                \r"
     ]
    }
   ],
   "source": [
    "edges_df.orderBy('weight', ascending=False).show(10)"
   ]
  },
  {
   "cell_type": "code",
   "execution_count": 30,
   "id": "ad6d56a5-337f-4a8c-9a22-369808bfeac9",
   "metadata": {},
   "outputs": [
    {
     "name": "stderr",
     "output_type": "stream",
     "text": [
      "                                                                                \r"
     ]
    }
   ],
   "source": [
    "edges_df.write.mode(\"overwrite\").csv(\"edges_network4\", header=True)"
   ]
  },
  {
   "cell_type": "markdown",
   "id": "36881416-8509-4c28-8b11-6a3b8d7874d1",
   "metadata": {},
   "source": [
    "Create nodes"
   ]
  },
  {
   "cell_type": "code",
   "execution_count": 31,
   "id": "be551ec1-459c-4415-a766-3132b3ad2e9c",
   "metadata": {},
   "outputs": [
    {
     "name": "stderr",
     "output_type": "stream",
     "text": [
      "                                                                                \r"
     ]
    }
   ],
   "source": [
    "vertices_df = edges_df.select(F.col(\"node1_norm\").alias(\"node\")).union(edges_df.select(F.col(\"node2_norm\").alias(\"node\"))).distinct()\n",
    "vertices_df.write.mode(\"overwrite\").csv(\"nodes_network4\", header=True)"
   ]
  },
  {
   "cell_type": "code",
   "execution_count": 32,
   "id": "8c73f4f9-6706-47fd-8478-87345ab1b3f9",
   "metadata": {},
   "outputs": [
    {
     "name": "stderr",
     "output_type": "stream",
     "text": [
      "[Stage 35:===================================================>     (9 + 1) / 10]\r"
     ]
    },
    {
     "name": "stdout",
     "output_type": "stream",
     "text": [
      "+------------+\n",
      "|        node|\n",
      "+------------+\n",
      "|      online|\n",
      "|     embrace|\n",
      "|        hope|\n",
      "|      travel|\n",
      "|       inner|\n",
      "|   recognize|\n",
      "|       often|\n",
      "|  productive|\n",
      "|conversation|\n",
      "|     include|\n",
      "+------------+\n",
      "only showing top 10 rows\n",
      "\n"
     ]
    },
    {
     "name": "stderr",
     "output_type": "stream",
     "text": [
      "                                                                                \r"
     ]
    }
   ],
   "source": [
    "vertices_df.show(10)"
   ]
  },
  {
   "cell_type": "code",
   "execution_count": null,
   "id": "3df0126e-739f-403f-88a2-f0e01ee32f45",
   "metadata": {},
   "outputs": [],
   "source": []
  }
 ],
 "metadata": {
  "kernelspec": {
   "display_name": "Python 3 (ipykernel)",
   "language": "python",
   "name": "python3"
  },
  "language_info": {
   "codemirror_mode": {
    "name": "ipython",
    "version": 3
   },
   "file_extension": ".py",
   "mimetype": "text/x-python",
   "name": "python",
   "nbconvert_exporter": "python",
   "pygments_lexer": "ipython3",
   "version": "3.9.19"
  }
 },
 "nbformat": 4,
 "nbformat_minor": 5
}
