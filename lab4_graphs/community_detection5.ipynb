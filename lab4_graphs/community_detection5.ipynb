{
 "cells": [
  {
   "cell_type": "code",
   "execution_count": 1,
   "id": "d68c25de-c069-44a4-8ccf-3cf66602e996",
   "metadata": {},
   "outputs": [],
   "source": [
    "import networkx as nx\n",
    "import pandas as pd\n",
    "import glob"
   ]
  },
  {
   "cell_type": "code",
   "execution_count": 2,
   "id": "bc523584-aa3d-485f-aa52-7c3bf58fae33",
   "metadata": {},
   "outputs": [],
   "source": [
    "# Load nodes\n",
    "nodes_df = pd.read_csv(\"nodes_network5/nodes5.csv\")\n",
    "nodes = nodes_df[\"node\"].tolist()  # Convert to a list of nodes"
   ]
  },
  {
   "cell_type": "code",
   "execution_count": 3,
   "id": "5ac8764d-9018-469b-9f6f-62cf13c4108a",
   "metadata": {},
   "outputs": [],
   "source": [
    "# Load edges\n",
    "path_edges = \"edges_network5/\"\n",
    "files_edges = glob.glob(path_edges + \"part-*.csv\")\n",
    "edges_df = pd.concat((pd.read_csv(f) for f in files_edges))"
   ]
  },
  {
   "cell_type": "code",
   "execution_count": 4,
   "id": "2811b28c-e0e9-41fe-9aa4-10083b0148aa",
   "metadata": {},
   "outputs": [],
   "source": [
    "# Create graph\n",
    "G = nx.Graph()\n",
    "\n",
    "#Add nodes\n",
    "G.add_nodes_from(nodes)  \n",
    "\n",
    "#Add edges\n",
    "for _, row in edges_df.iterrows():\n",
    "    G.add_edge(row['node1_norm'], row['node2_norm'], weight=row['weight'])"
   ]
  },
  {
   "cell_type": "markdown",
   "id": "e863cb03-c4cb-4430-93d6-1845d98e367d",
   "metadata": {},
   "source": [
    "Basic exploration"
   ]
  },
  {
   "cell_type": "code",
   "execution_count": 5,
   "id": "3688998b-daf9-472d-b5ce-315f82d0b29d",
   "metadata": {},
   "outputs": [
    {
     "data": {
      "text/plain": [
       "805"
      ]
     },
     "execution_count": 5,
     "metadata": {},
     "output_type": "execute_result"
    }
   ],
   "source": [
    "nx.number_of_nodes(G)"
   ]
  },
  {
   "cell_type": "code",
   "execution_count": 6,
   "id": "3e8d36e8-b307-43bc-aa5b-18aff82fb036",
   "metadata": {},
   "outputs": [
    {
     "data": {
      "text/plain": [
       "319456"
      ]
     },
     "execution_count": 6,
     "metadata": {},
     "output_type": "execute_result"
    }
   ],
   "source": [
    "nx.number_of_edges(G)"
   ]
  },
  {
   "cell_type": "code",
   "execution_count": 7,
   "id": "088299af-be5a-4c60-abff-03ff2980e638",
   "metadata": {},
   "outputs": [
    {
     "data": {
      "text/plain": [
       "0.9871635610766045"
      ]
     },
     "execution_count": 7,
     "metadata": {},
     "output_type": "execute_result"
    }
   ],
   "source": [
    "nx.density(G)"
   ]
  },
  {
   "cell_type": "code",
   "execution_count": 8,
   "id": "6cb20648-80fe-4620-8d24-66e6155e419d",
   "metadata": {},
   "outputs": [
    {
     "data": {
      "text/plain": [
       "1"
      ]
     },
     "execution_count": 8,
     "metadata": {},
     "output_type": "execute_result"
    }
   ],
   "source": [
    "nx.number_connected_components(G)"
   ]
  },
  {
   "cell_type": "markdown",
   "id": "a3ecdd68-2ecc-4dae-a7dc-0eb60e6d4271",
   "metadata": {},
   "source": [
    "Now, run community detection algorithm"
   ]
  },
  {
   "cell_type": "code",
   "execution_count": 9,
   "id": "215c4a14-9486-46c2-ba4d-40b198cff2c6",
   "metadata": {},
   "outputs": [],
   "source": [
    "communities = nx.community.louvain_communities(G, seed=123)"
   ]
  },
  {
   "cell_type": "code",
   "execution_count": 10,
   "id": "c2558592-dbba-4f44-aafe-e3f87311b5f0",
   "metadata": {},
   "outputs": [
    {
     "data": {
      "text/plain": [
       "4"
      ]
     },
     "execution_count": 10,
     "metadata": {},
     "output_type": "execute_result"
    }
   ],
   "source": [
    "len(communities)"
   ]
  },
  {
   "cell_type": "code",
   "execution_count": 11,
   "id": "63fa62e6-dbdc-4764-8cdb-760c6a35f951",
   "metadata": {},
   "outputs": [
    {
     "name": "stdout",
     "output_type": "stream",
     "text": [
      "{'low', 'wear', 'look', 'fake', 'dude', 'actually', 'male', 'try', 'fix', 'constantly', 'struggled', 'beat', 'fit', 'somehow', 'ignore', 'couple', 'horrible', 'fun', 'mother', 'none', 'interest', 'excuse', 'show', 'skin', 'honestly', 'sort', 'close', 'treat', 'heart', 'bother', 'place', 'therapy', 'completely', 'eye', 'wife', 'ass', 'somewhere', 'extremely', 'ex', 'fuck', 'face', 'never', 'shit', 'proud', 'clothes', 'totally', 'basically', 'soon', 'wrong', 'sometimes', 'toxic', 'brother', 'obviously', 'contact', 'conversation', 'happen', 'ruin', 'forget', 'live', 'sex', 'middle', 'suck', 'hit', 'text', 'seriously', 'side', 'agree', 'boring', 'boyfriend', 'friendships', 'comfortable', 'late', 'reply', 'afraid', 'kinda', 'another', 'badly', 'anyways', 'kind', 'hope', 'wonder', 'eventually', 'second', 'entire', 'op', 'appreciate', 'pain', 'weird', 'long', 'depression', 'meet', 'bunch', 'unfortunately', 'admit', 'upset', 'hand', 'average', 'talk', 'real', 'abuse', 'absolutely', 'young', 'quite', 'parent', 'sorry', 'city', 'wait', 'car', 'call', 'tell', 'realize', 'marry', 'friend', 'name', 'miserable', 'trouble', 'fine', 'gone', 'speak', 'cry', 'anger', 'incredibly', 'decided', 'please', 'exact', 'relationship', 'send', 'dark', 'sick', 'super', 'pretty', 'suppose', 'man', 'anxiety', 'whole', 'almost', 'lonely', 'drug', 'notice', 'laugh', 'lost', 'serious', 'awesome', 'deserve', 'luck', 'childhood', 'club', 'promise', 'family', 'living', 'insecure', 'confidence', 'genuinely', 'depressed', 'wish', 'guy', 'hang', 'honest', 'mess', 'god', 'blame', 'touch', 'lately', 'recently', 'anyone', 'house', 'say', 'stop', 'single', 'story', 'pass', 'anxious', 'first', 'therapist', 'yeah', 'come', 'attract', 'beautiful', 'mine', 'lol', 'head', 'reason', 'country', 'awkward', 'date', 'grow', 'handle', 'everything', 'comment', 'straight', 'shouldnt', 'respect', 'explain', 'made', 'caring', 'move', 'okay', 'struggle', 'relate', 'confident', 'immediately', 'shitty', 'regret', 'idk', 'catch', 'cause', 'angry', 'interesting', 'seem', 'throw', 'glad', 'stand', 'literally', 'broke', 'worry', 'hopefully', 'plenty', 'probably', 'hate', 'definitely', 'attractive', 'uncomfortable', 'standard', 'especially', 'hurt', 'always', 'either', 'hear', 'trust', 'due', 'ever', 'worried', 'deal', 'mentally', 'saying', 'esteem', 'picture', 'little', 'though', 'group', 'kid', 'age', 'although', 'fight', 'front', 'finally', 'mention', 'end', 'multiple', 'barely', 'funny', 'leave', 'partner', 'emotionally', 'interested', 'sad', 'forever', 'last', 'pull', 'stupid', 'doctor', 'drive', 'party', 'butt', 'mom', 'anymore', 'adult', 'joke', 'fault', 'far', 'scared', 'public', 'random', 'missing', 'anyway', 'lie', 'message', 'girl', 'bro', 'crazy', 'amazing', 'terrible', 'kill', 'ugly', 'damn', 'waiting', 'trauma', 'hair', 'nice', 'woman', 'turn', 'home', 'girlfriend', 'possibly', 'die', 'able', 'ask', 'personality', 'guess', 'alone', 'socially', 'child', 'see', 'away', 'together', 'miss', 'chance', 'actual', 'back', 'sound', 'left', 'nobody', 'unless', 'happy', 'smile', 'dad', 'normal', 'whenever', 'cool'}\n",
      "------------------------------\n",
      "{'dream', 'passion', 'return', 'spend', 'study', 'smart', 'university', 'education', 'job', 'working', 'business', 'drop', 'pay', 'poor', 'buy', 'major', 'several', 'plus', 'apply', 'program', 'currently', 'finish', 'degree', 'money', 'free', 'project', 'decent', 'option', 'graduate', 'figure', 'fail', 'test', 'field', 'class', 'online', 'already', 'company', 'grade', 'computer', 'college', 'community', 'career', 'position', 'course', 'waste', 'save', 'travel', 'high', 'student', 'school'}\n",
      "------------------------------\n",
      "{'cycle', 'pick', 'per', 'consistently', 'stress', 'amount', 'physically', 'body', 'addiction', 'top', 'quality', 'workout', 'room', 'fill', 'light', 'social', 'huge', 'discipline', 'health', 'keep', 'media', 'delete', 'check', 'music', 'water', 'rest', 'mood', 'sit', 'diet', 'break', 'food', 'eat', 'task', 'instagram', 'walking', 'switch', 'loss', 'clean', 'hobbies', 'training', 'porn', 'lazy', 'track', 'active', 'plan', 'set', 'strength', 'moving', 'apps', 'ready', 'game', 'app', 'increase', 'walk', 'energy', 'train', 'play', 'productive', 'cut', 'eating', 'unhealthy', 'busy', 'wake', 'smoke', 'maintain', 'relax', 'waking', 'lift', 'complete', 'quick', 'account', 'watch', 'consistent', 'dopamine', 'schedule', 'large', 'gain', 'fitness', 'ton', 'quit', 'list', 'sleep', 'reduce', 'add', 'usually', 'bed', 'regular', 'youtube', 'rid', 'drink', 'hobby', 'shower', 'movie', 'fast', 'short', 'lifestyle', 'motivation', 'feed', 'jump', 'least', 'meal', 'manage', 'sport', 'half', 'extra', 'limit', 'video', 'brain', 'coffee', 'tired', 'weight', 'stay', 'exercise', 'edit', 'quickly', 'mental', 'push', 'number', 'slow', 'internet', 'sure', 'gym', 'regularly', 'tv', 'motivated', 'enjoy', 'remove', 'meditate', 'activity', 'less', 'big', 'period', 'full', 'routine', 'alcohol', 'phone', 'fat', 'weed', 'slowly', 'recommend', 'stick', 'shape', 'count', 'addicted', 'run', 'tip', 'early', 'exercising', 'lose', 'easy', 'physical', 'fall', 'three', 'overall', 'muscle', 'cold', 'two', 'google', 'healthy'}\n",
      "------------------------------\n",
      "{'respond', 'potential', 'constant', 'achieve', 'lead', 'concept', 'balance', 'case', 'calm', 'base', 'common', 'circumstance', 'process', 'state', 'meditation', 'include', 'exactly', 'accomplish', 'attention', 'solve', 'improve', 'result', 'grateful', 'succeed', 'allow', 'word', 'purpose', 'understanding', 'reality', 'pursue', 'practice', 'clearly', 'writing', 'general', 'thought', 'view', 'engage', 'open', 'thinking', 'great', 'tough', 'mind', 'voice', 'listen', 'history', 'basic', 'force', 'difference', 'choose', 'fear', 'opinion', 'sign', 'journey', 'skill', 'simply', 'create', 'impact', 'naturally', 'otherwise', 'pressure', 'language', 'belief', 'responsibility', 'means', 'affect', 'order', 'inner', 'accept', 'aware', 'perfect', 'note', 'feeling', 'path', 'choice', 'often', 'solution', 'helpful', 'memory', 'information', 'reflect', 'successful', 'likely', 'carry', 'however', 'challenge', 'develop', 'mentioned', 'development', 'encourage', 'forward', 'peace', 'value', 'suggest', 'willing', 'sense', 'necessarily', 'give', 'useful', 'win', 'main', 'pattern', 'aspect', 'growth', 'overcome', 'fact', 'remind', 'content', 'knowledgeable', 'suffer', 'perhaps', 'natural', 'term', 'related', 'zone', 'safe', 'influence', 'receive', 'area', 'decision', 'mistakes', 'behavior', 'lack', 'reach', 'instead', 'guide', 'doubt', 'part', 'whether', 'true', 'begin', 'level', 'rather', 'key', 'follow', 'imagine', 'specific', 'response', 'recognize', 'personally', 'desire', 'setting', 'describe', 'method', 'research', 'possible', 'avoid', 'else', 'resource', 'prepare', 'direction', 'emotion', 'bring', 'define', 'impossible', 'individual', 'become', 'meaningful', 'system', 'character', 'generally', 'suggestion', 'present', 'perspective', 'assume', 'build', 'remember', 'happiness', 'journal', 'nature', 'benefit', 'piece', 'similar', 'write', 'share', 'fully', 'journaling', 'making', 'teach', 'boundaries', 'expectation', 'connection', 'certain', 'book', 'type', 'compare', 'opportunity', 'worth', 'act', 'difficult', 'require', 'progress', 'identify', 'success', 'important', 'offer', 'need', 'explore', 'moment', 'repeat', 'simple', 'line', 'continue', 'ability', 'regardless', 'find', 'search', 'mindset', 'understand', 'putting', 'depend', 'lesson', 'version', 'attempt', 'connect', 'current', 'professional', 'personal', 'event', 'truly', 'read', 'heres', 'whatever', 'human', 'learn', 'provide', 'environment', 'acknowledge', 'power', 'tend', 'joy', 'approach', 'space', 'deep', 'future', 'believe', 'prove', 'answer', 'judge', 'decide', 'surround', 'exist', 'society', 'comfort', 'highly', 'effect', 'consider', 'tool', 'meaning', 'source', 'should', 'enough', 'capable', 'ahead', 'discover', 'certainly', 'effort', 'actively', 'support', 'clear', 'hold', 'strong', 'ultimately', 'emotional', 'bear', 'necessary', 'failure', 'expect', 'risk', 'easily', 'shame', 'attitude', 'example', 'seek', 'truth', 'rule', 'experienced', 'fulfil'}\n",
      "------------------------------\n"
     ]
    }
   ],
   "source": [
    "for community in communities:\n",
    "    print(community)\n",
    "    print(\"------------------------------\")"
   ]
  },
  {
   "cell_type": "markdown",
   "id": "2cf1fe11",
   "metadata": {},
   "source": [
    "{'low', 'wear', 'look', 'fake', 'dude', 'actually', 'male', 'try', 'fix', 'constantly', 'struggled', 'beat', 'fit', 'somehow', 'ignore', 'couple', 'horrible', 'fun', 'mother', 'none', 'interest', 'excuse', 'show', 'skin', 'honestly', 'sort', 'close', 'treat', 'heart', 'bother', 'place', 'therapy', 'completely', 'eye', 'wife', 'ass', 'somewhere', 'extremely', 'ex', 'fuck', 'face', 'never', 'shit', 'proud', 'clothes', 'totally', 'basically', 'soon', 'wrong', 'sometimes', 'toxic', 'brother', 'obviously', 'contact', 'conversation', 'happen', 'ruin', 'forget', 'live', 'sex', 'middle', 'suck', 'hit', 'text', 'seriously', 'side', 'agree', 'boring', 'boyfriend', 'friendships', 'comfortable', 'late', 'reply', 'afraid', 'kinda', 'another', 'badly', 'anyways', 'kind', 'hope', 'wonder', 'eventually', 'second', 'entire', 'op', 'appreciate', 'pain', 'weird', 'long', 'depression', 'meet', 'bunch', 'unfortunately', 'admit', 'upset', 'hand', 'average', 'talk', 'real', 'abuse', 'absolutely', 'young', 'quite', 'parent', 'sorry', 'city', 'wait', 'car', 'call', 'tell', 'realize', 'marry', 'friend', 'name', 'miserable', 'trouble', 'fine', 'gone', 'speak', 'cry', 'anger', 'incredibly', 'decided', 'please', 'exact', 'relationship', 'send', 'dark', 'sick', 'super', 'pretty', 'suppose', 'man', 'anxiety', 'whole', 'almost', 'lonely', 'drug', 'notice', 'laugh', 'lost', 'serious', 'awesome', 'deserve', 'luck', 'childhood', 'club', 'promise', 'family', 'living', 'insecure', 'confidence', 'genuinely', 'depressed', 'wish', 'guy', 'hang', 'honest', 'mess', 'god', 'blame', 'touch', 'lately', 'recently', 'anyone', 'house', 'say', 'stop', 'single', 'story', 'pass', 'anxious', 'first', 'therapist', 'yeah', 'come', 'attract', 'beautiful', 'mine', 'lol', 'head', 'reason', 'country', 'awkward', 'date', 'grow', 'handle', 'everything', 'comment', 'straight', 'shouldnt', 'respect', 'explain', 'made', 'caring', 'move', 'okay', 'struggle', 'relate', 'confident', 'immediately', 'shitty', 'regret', 'idk', 'catch', 'cause', 'angry', 'interesting', 'seem', 'throw', 'glad', 'stand', 'literally', 'broke', 'worry', 'hopefully', 'plenty', 'probably', 'hate', 'definitely', 'attractive', 'uncomfortable', 'standard', 'especially', 'hurt', 'always', 'either', 'hear', 'trust', 'due', 'ever', 'worried', 'deal', 'mentally', 'saying', 'esteem', 'picture', 'little', 'though', 'group', 'kid', 'age', 'although', 'fight', 'front', 'finally', 'mention', 'end', 'multiple', 'barely', 'funny', 'leave', 'partner', 'emotionally', 'interested', 'sad', 'forever', 'last', 'pull', 'stupid', 'doctor', 'drive', 'party', 'butt', 'mom', 'anymore', 'adult', 'joke', 'fault', 'far', 'scared', 'public', 'random', 'missing', 'anyway', 'lie', 'message', 'girl', 'bro', 'crazy', 'amazing', 'terrible', 'kill', 'ugly', 'damn', 'waiting', 'trauma', 'hair', 'nice', 'woman', 'turn', 'home', 'girlfriend', 'possibly', 'die', 'able', 'ask', 'personality', 'guess', 'alone', 'socially', 'child', 'see', 'away', 'together', 'miss', 'chance', 'actual', 'back', 'sound', 'left', 'nobody', 'unless', 'happy', 'smile', 'dad', 'normal', 'whenever', 'cool'}\n",
    "\n",
    "\n",
    "{'dream', 'passion', 'return', 'spend', 'study', 'smart', 'university', 'education', 'job', 'working', 'business', 'drop', 'pay', 'poor', 'buy', 'major', 'several', 'plus', 'apply', 'program', 'currently', 'finish', 'degree', 'money', 'free', 'project', 'decent', 'option', 'graduate', 'figure', 'fail', 'test', 'field', 'class', 'online', 'already', 'company', 'grade', 'computer', 'college', 'community', 'career', 'position', 'course', 'waste', 'save', 'travel', 'high', 'student', 'school'}\n",
    "\n",
    "\n",
    "{'cycle', 'pick', 'per', 'consistently', 'stress', 'amount', 'physically', 'body', 'addiction', 'top', 'quality', 'workout', 'room', 'fill', 'light', 'social', 'huge', 'discipline', 'health', 'keep', 'media', 'delete', 'check', 'music', 'water', 'rest', 'mood', 'sit', 'diet', 'break', 'food', 'eat', 'task', 'instagram', 'walking', 'switch', 'loss', 'clean', 'hobbies', 'training', 'porn', 'lazy', 'track', 'active', 'plan', 'set', 'strength', 'moving', 'apps', 'ready', 'game', 'app', 'increase', 'walk', 'energy', 'train', 'play', 'productive', 'cut', 'eating', 'unhealthy', 'busy', 'wake', 'smoke', 'maintain', 'relax', 'waking', 'lift', 'complete', 'quick', 'account', 'watch', 'consistent', 'dopamine', 'schedule', 'large', 'gain', 'fitness', 'ton', 'quit', 'list', 'sleep', 'reduce', 'add', 'usually', 'bed', 'regular', 'youtube', 'rid', 'drink', 'hobby', 'shower', 'movie', 'fast', 'short', 'lifestyle', 'motivation', 'feed', 'jump', 'least', 'meal', 'manage', 'sport', 'half', 'extra', 'limit', 'video', 'brain', 'coffee', 'tired', 'weight', 'stay', 'exercise', 'edit', 'quickly', 'mental', 'push', 'number', 'slow', 'internet', 'sure', 'gym', 'regularly', 'tv', 'motivated', 'enjoy', 'remove', 'meditate', 'activity', 'less', 'big', 'period', 'full', 'routine', 'alcohol', 'phone', 'fat', 'weed', 'slowly', 'recommend', 'stick', 'shape', 'count', 'addicted', 'run', 'tip', 'early', 'exercising', 'lose', 'easy', 'physical', 'fall', 'three', 'overall', 'muscle', 'cold', 'two', 'google', 'healthy'}\n",
    "\n",
    "\n",
    "{'respond', 'potential', 'constant', 'achieve', 'lead', 'concept', 'balance', 'case', 'calm', 'base', 'common', 'circumstance', 'process', 'state', 'meditation', 'include', 'exactly', 'accomplish', 'attention', 'solve', 'improve', 'result', 'grateful', 'succeed', 'allow', 'word', 'purpose', 'understanding', 'reality', 'pursue', 'practice', 'clearly', 'writing', 'general', 'thought', 'view', 'engage', 'open', 'thinking', 'great', 'tough', 'mind', 'voice', 'listen', 'history', 'basic', 'force', 'difference', 'choose', 'fear', 'opinion', 'sign', 'journey', 'skill', 'simply', 'create', 'impact', 'naturally', 'otherwise', 'pressure', 'language', 'belief', 'responsibility', 'means', 'affect', 'order', 'inner', 'accept', 'aware', 'perfect', 'note', 'feeling', 'path', 'choice', 'often', 'solution', 'helpful', 'memory', 'information', 'reflect', 'successful', 'likely', 'carry', 'however', 'challenge', 'develop', 'mentioned', 'development', 'encourage', 'forward', 'peace', 'value', 'suggest', 'willing', 'sense', 'necessarily', 'give', 'useful', 'win', 'main', 'pattern', 'aspect', 'growth', 'overcome', 'fact', 'remind', 'content', 'knowledgeable', 'suffer', 'perhaps', 'natural', 'term', 'related', 'zone', 'safe', 'influence', 'receive', 'area', 'decision', 'mistakes', 'behavior', 'lack', 'reach', 'instead', 'guide', 'doubt', 'part', 'whether', 'true', 'begin', 'level', 'rather', 'key', 'follow', 'imagine', 'specific', 'response', 'recognize', 'personally', 'desire', 'setting', 'describe', 'method', 'research', 'possible', 'avoid', 'else', 'resource', 'prepare', 'direction', 'emotion', 'bring', 'define', 'impossible', 'individual', 'become', 'meaningful', 'system', 'character', 'generally', 'suggestion', 'present', 'perspective', 'assume', 'build', 'remember', 'happiness', 'journal', 'nature', 'benefit', 'piece', 'similar', 'write', 'share', 'fully', 'journaling', 'making', 'teach', 'boundaries', 'expectation', 'connection', 'certain', 'book', 'type', 'compare', 'opportunity', 'worth', 'act', 'difficult', 'require', 'progress', 'identify', 'success', 'important', 'offer', 'need', 'explore', 'moment', 'repeat', 'simple', 'line', 'continue', 'ability', 'regardless', 'find', 'search', 'mindset', 'understand', 'putting', 'depend', 'lesson', 'version', 'attempt', 'connect', 'current', 'professional', 'personal', 'event', 'truly', 'read', 'heres', 'whatever', 'human', 'learn', 'provide', 'environment', 'acknowledge', 'power', 'tend', 'joy', 'approach', 'space', 'deep', 'future', 'believe', 'prove', 'answer', 'judge', 'decide', 'surround', 'exist', 'society', 'comfort', 'highly', 'effect', 'consider', 'tool', 'meaning', 'source', 'should', 'enough', 'capable', 'ahead', 'discover', 'certainly', 'effort', 'actively', 'support', 'clear', 'hold', 'strong', 'ultimately', 'emotional', 'bear', 'necessary', 'failure', 'expect', 'risk', 'easily', 'shame', 'attitude', 'example', 'seek', 'truth', 'rule', 'experienced', 'fulfil'}"
   ]
  }
 ],
 "metadata": {
  "kernelspec": {
   "display_name": "Python 3 (ipykernel)",
   "language": "python",
   "name": "python3"
  },
  "language_info": {
   "codemirror_mode": {
    "name": "ipython",
    "version": 3
   },
   "file_extension": ".py",
   "mimetype": "text/x-python",
   "name": "python",
   "nbconvert_exporter": "python",
   "pygments_lexer": "ipython3",
   "version": "3.10.14"
  }
 },
 "nbformat": 4,
 "nbformat_minor": 5
}
