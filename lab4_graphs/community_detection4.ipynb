{
 "cells": [
  {
   "cell_type": "code",
   "execution_count": 1,
   "id": "866a90d4-edf1-46ae-b9e5-a912685cd429",
   "metadata": {},
   "outputs": [
    {
     "name": "stdout",
     "output_type": "stream",
     "text": [
      "24/12/02 17:06:14 WARN SparkSession: Using an existing Spark session; only runtime SQL configurations will take effect.\n"
     ]
    }
   ],
   "source": [
    "from pyspark.sql import SparkSession\n",
    "spark = SparkSession \\\n",
    "        .builder \\\n",
    "        .appName(\"network\") \\\n",
    "        .getOrCreate()"
   ]
  },
  {
   "cell_type": "code",
   "execution_count": 3,
   "id": "d68c25de-c069-44a4-8ccf-3cf66602e996",
   "metadata": {},
   "outputs": [],
   "source": [
    "import networkx as nx\n",
    "import pandas as pd\n",
    "import glob"
   ]
  },
  {
   "cell_type": "code",
   "execution_count": 5,
   "id": "bc523584-aa3d-485f-aa52-7c3bf58fae33",
   "metadata": {},
   "outputs": [],
   "source": [
    "# Load nodes\n",
    "nodes_df = pd.read_csv(\"nodes_network4/nodes.csv\")\n",
    "nodes = nodes_df[\"node\"].tolist()  # Convert to a list of nodes"
   ]
  },
  {
   "cell_type": "code",
   "execution_count": 7,
   "id": "5ac8764d-9018-469b-9f6f-62cf13c4108a",
   "metadata": {},
   "outputs": [],
   "source": [
    "# Load edges\n",
    "path_edges = \"edges_network4/\"\n",
    "files_edges = glob.glob(path_edges + \"part-*.csv\")\n",
    "edges_df = pd.concat((pd.read_csv(f) for f in files_edges))"
   ]
  },
  {
   "cell_type": "code",
   "execution_count": 8,
   "id": "2811b28c-e0e9-41fe-9aa4-10083b0148aa",
   "metadata": {},
   "outputs": [],
   "source": [
    "# Create graph\n",
    "G = nx.Graph()\n",
    "\n",
    "#Add nodes\n",
    "G.add_nodes_from(nodes)  \n",
    "\n",
    "#Add edges\n",
    "for _, row in edges_df.iterrows():\n",
    "    G.add_edge(row['node1_norm'], row['node2_norm'], weight=row['weight'])"
   ]
  },
  {
   "cell_type": "markdown",
   "id": "e863cb03-c4cb-4430-93d6-1845d98e367d",
   "metadata": {},
   "source": [
    "Basic exploration"
   ]
  },
  {
   "cell_type": "code",
   "execution_count": 9,
   "id": "3688998b-daf9-472d-b5ce-315f82d0b29d",
   "metadata": {},
   "outputs": [
    {
     "data": {
      "text/plain": [
       "992"
      ]
     },
     "execution_count": 9,
     "metadata": {},
     "output_type": "execute_result"
    }
   ],
   "source": [
    "nx.number_of_nodes(G)"
   ]
  },
  {
   "cell_type": "code",
   "execution_count": 10,
   "id": "3e8d36e8-b307-43bc-aa5b-18aff82fb036",
   "metadata": {},
   "outputs": [
    {
     "data": {
      "text/plain": [
       "443968"
      ]
     },
     "execution_count": 10,
     "metadata": {},
     "output_type": "execute_result"
    }
   ],
   "source": [
    "nx.number_of_edges(G)"
   ]
  },
  {
   "cell_type": "code",
   "execution_count": 11,
   "id": "088299af-be5a-4c60-abff-03ff2980e638",
   "metadata": {},
   "outputs": [
    {
     "data": {
      "text/plain": [
       "0.9032258064516129"
      ]
     },
     "execution_count": 11,
     "metadata": {},
     "output_type": "execute_result"
    }
   ],
   "source": [
    "nx.density(G)"
   ]
  },
  {
   "cell_type": "code",
   "execution_count": 12,
   "id": "6cb20648-80fe-4620-8d24-66e6155e419d",
   "metadata": {},
   "outputs": [
    {
     "data": {
      "text/plain": [
       "1"
      ]
     },
     "execution_count": 12,
     "metadata": {},
     "output_type": "execute_result"
    }
   ],
   "source": [
    "nx.number_connected_components(G)"
   ]
  },
  {
   "cell_type": "markdown",
   "id": "a3ecdd68-2ecc-4dae-a7dc-0eb60e6d4271",
   "metadata": {},
   "source": [
    "Now, run community detection algorithm"
   ]
  },
  {
   "cell_type": "code",
   "execution_count": 13,
   "id": "215c4a14-9486-46c2-ba4d-40b198cff2c6",
   "metadata": {},
   "outputs": [],
   "source": [
    "communities = nx.community.louvain_communities(G, seed=123)"
   ]
  },
  {
   "cell_type": "code",
   "execution_count": 14,
   "id": "c2558592-dbba-4f44-aafe-e3f87311b5f0",
   "metadata": {},
   "outputs": [
    {
     "data": {
      "text/plain": [
       "4"
      ]
     },
     "execution_count": 14,
     "metadata": {},
     "output_type": "execute_result"
    }
   ],
   "source": [
    "len(communities)"
   ]
  },
  {
   "cell_type": "code",
   "execution_count": 15,
   "id": "63fa62e6-dbdc-4764-8cdb-760c6a35f951",
   "metadata": {},
   "outputs": [
    {
     "name": "stdout",
     "output_type": "stream",
     "text": [
      "{'seek', 'clear', 'technique', 'level', 'communicate', 'response', 'memory', 'provide', 'certainly', 'happiness', 'dark', 'traits', 'advantage', 'truth', 'community', 'experienced', 'consider', 'intention', 'replace', 'determine', 'engage', 'state', 'attention', 'path', 'decision', 'capable', 'overall', 'genuine', 'identify', 'sometimes', 'road', 'easily', 'teach', 'surround', 'bear', 'feeling', 'anger', 'journal', 'simply', 'side', 'perfectly', 'notice', 'extreme', 'version', 'science', 'childhood', 'role', 'show', 'reason', 'death', 'condition', 'mentioned', 'aspect', 'build', 'emotional', 'source', 'quickly', 'valuable', 'purpose', 'decide', 'believe', 'mistakes', 'fear', 'factor', 'outcome', 'effect', 'reaction', 'choose', 'information', 'system', 'behavior', 'whether', 'deeply', 'resource', 'rely', 'inner', 'perhaps', 'commit', 'worthy', 'necessary', 'sense', 'useful', 'rule', 'somebody', 'rather', 'emotionally', 'journey', 'unique', 'word', 'external', 'achievement', 'expectation', 'reward', 'pursue', 'attempt', 'gt', 'stand', 'painful', 'differently', 'root', 'behaviour', 'honesty', 'react', 'perspective', 'imagine', 'guilt', 'act', 'large', 'fill', 'clearly', 'connection', 'powerful', 'potential', 'communication', 'detail', 'brain', 'active', 'fully', 'easy', 'victim', 'reject', 'reach', 'piece', 'win', 'exist', 'realise', 'subject', 'line', 'healing', 'solve', 'less', 'handle', 'address', 'personal', 'need', 'context', 'chase', 'area', 'suggest', 'true', 'example', 'repeat', 'accept', 'nature', 'activity', 'responsibility', 'entirely', 'simple', 'means', 'sign', 'personally', 'member', 'prove', 'pressure', 'growth', 'correct', 'helpful', 'alive', 'acknowledge', 'available', 'trust', 'honest', 'function', 'evil', 'specific', 'choice', 'argument', 'write', 'define', 'safe', 'internal', 'allow', 'encourage', 'heal', 'individual', 'emotion', 'balance', 'regard', 'similar', 'challenge', 'pattern', 'forgive', 'necessarily', 'aim', 'difficult', 'attitude', 'unhappy', 'god', 'become', 'risk', 'understanding', 'mentality', 'begin', 'shame', 'lead', 'flaws', 'base', 'development', 'perceive', 'writing', 'improve', 'share', 'insight', 'worthwhile', 'discover', 'require', 'conscious', 'find', 'ie', 'meaning', 'suffer', 'successful', 'progress', 'deep', 'deal', 'rich', 'current', 'whatever', 'tool', 'mistake', 'compassion', 'succeed', 'failure', 'main', 'express', 'figure', 'heres', 'ultimately', 'often', 'majority', 'great', 'search', 'argue', 'reality', 'actively', 'exact', 'process', 'meditation', 'random', 'continue', 'limit', 'moment', 'connect', 'making', 'heart', 'responsible', 'related', 'impact', 'open', 'harsh', 'belief', 'result', 'certain', 'serve', 'ego', 'truly', 'immediately', 'force', 'ahead', 'likely', 'escape', 'society', 'voice', 'validation', 'else', 'note', 'naturally', 'approach', 'support', 'suggestion', 'treat', 'special', 'practice', 'method', 'wrong', 'give', 'quote', 'regardless', 'direction', 'strength', 'lesson', 'peace', 'aware', 'possible', 'desire', 'news', 'kindness', 'mind', 'image', 'solution', 'willing', 'standard', 'set', 'consequence', 'respond', 'obvious', 'research', 'reflect', 'skill', 'mindset', 'hold', 'judge', 'generally', 'answer', 'guide', 'exactly', 'human', 'effort', 'power', 'case', 'particular', 'assume', 'opportunity', 'natural', 'character', 'space', 'thought', 'carry', 'ability', 'calm', 'forward', 'perception', 'involved', 'instead', 'view', 'follow', 'core', 'soul', 'tend', 'avoid', 'attack', 'impossible', 'difference', 'gift', 'common', 'knowledgeable', 'surprise', 'fulfil', 'term', 'key', 'worth', 'language', 'achieve', 'strong', 'harm', 'doubt', 'bring', 'awareness', 'order', 'present', 'remember', 'benefit', 'setting', 'empathy', 'thinking', 'blame', 'feedback', 'paper', 'understand', 'embrace', 'remove', 'part', 'enough', 'important', 'fact', 'meaningful', 'describe', 'respect', 'concept', 'cause', 'however', 'courage', 'professional', 'acceptance', 'history', 'type', 'future', 'reduce', 'hide', 'protect', 'explore', 'environment', 'opinion', 'circumstance', 'success', 'basic', 'comfort', 'event', 'pain', 'fair', 'possibly', 'boundaries', 'create', 'listen', 'recognize', 'develop', 'joy', 'ignore', 'trauma', 'grateful', 'influence', 'light', 'culture', 'accomplish', 'value', 'offer', 'otherwise', 'therefore', 'judgement', 'increase', 'quality', 'learn', 'receive', 'mood'}\n",
      "------------------------------\n",
      "{'loss', 'exercise', 'eat', 'rest', 'gain', 'business', 'task', 'cost', 'top', 'free', 'content', 'amount', 'option', 'mental', 'meditate', 'bullshit', 'count', 'hobbies', 'check', 'watch', 'big', 'adhd', 'stress', 'three', 'diet', 'fat', 'alcohol', 'trick', 'break', 'lifestyle', 'short', 'motivation', 'consistently', 'interest', 'extra', 'clean', 'tv', 'ton', 'feed', 'consistent', 'addiction', 'highly', 'cycle', 'fast', 'gym', 'draw', 'movie', 'lose', 'damage', 'depend', 'burn', 'app', 'muscle', 'regular', 'maintain', 'excuse', 'full', 'per', 'training', 'addicted', 'rid', 'walking', 'wonderful', 'add', 'finish', 'body', 'regularly', 'bed', 'zero', 'hobby', 'play', 'routine', 'water', 'busy', 'block', 'unhealthy', 'clothes', 'cut', 'workout', 'keep', 'plan', 'complete', 'fix', 'forget', 'tough', 'read', 'lazy', 'shape', 'quick', 'book', 'slow', 'energy', 'invest', 'music', 'weight', 'push', 'enjoy', 'recommend', 'ready', 'doctor', 'tip', 'walk', 'depression', 'productive', 'edit', 'project', 'discipline', 'train', 'interesting', 'sport', 'pick', 'phone', 'lift', 'relax', 'motivated', 'switch', 'food', 'constant', 'youtube', 'health', 'laziness', 'period', 'properly', 'video', 'aside', 'physical', 'healthy', 'eating', 'sleep', 'passion', 'meal', 'apps', 'number', 'schedule', 'wake', 'drink', 'stick', 'run', 'game', 'track', 'early', 'manage'}\n",
      "------------------------------\n",
      "{'compare', 'face', 'social', 'lack', 'head', 'little', 'uncomfortable', 'partner', 'nobody', 'anxiety', 'average', 'fake', 'personality', 'prepare', 'ever', 'weak', 'worry', 'attractive', 'anxious', 'overcome', 'confidence', 'low', 'include', 'confident', 'remind', 'laugh', 'picture', 'perfect', 'stop', 'afraid', 'wear', 'ugly', 'male', 'real', 'media', 'plenty', 'cold', 'fine', 'selfesteem', 'porn', 'zone', 'esteem', 'attract', 'general', 'hand', 'contact', 'appearance', 'constantly', 'insecurities', 'mirror', 'fit', 'beautiful', 'prefer', 'smile', 'look', 'woman', 'comfortable', 'million', 'live', 'interact', 'sex', 'sexual', 'eye', 'list', 'man', 'major', 'op', 'hair', 'skin', 'living', 'stay', 'unless', 'affect', 'strangers', 'delete', 'speak', 'instagram'}\n",
      "------------------------------\n",
      "{'actually', 'mom', 'mad', 'name', 'quiet', 'hate', 'circle', 'afford', 'please', 'beat', 'extremely', 'toxic', 'jump', 'return', 'cheating', 'car', 'mine', 'degree', 'somehow', 'fall', 'earn', 'shit', 'text', 'several', 'friendship', 'fire', 'kinda', 'terrible', 'quit', 'awesome', 'broken', 'regret', 'saying', 'single', 'wish', 'online', 'quite', 'able', 'made', 'forever', 'mentally', 'complain', 'university', 'sit', 'job', 'romantic', 'dead', 'raise', 'late', 'female', 'none', 'anywhere', 'poor', 'stupid', 'ass', 'turn', 'due', 'hopefully', 'happy', 'wait', 'pretty', 'rude', 'city', 'waiting', 'girlfriend', 'dumb', 'waste', 'ruin', 'brother', 'cheat', 'school', 'friendships', 'smart', 'pull', 'education', 'obviously', 'apologize', 'serious', 'normal', 'deserve', 'together', 'completely', 'fun', 'bunch', 'anymore', 'dad', 'upset', 'hope', 'relate', 'cool', 'young', 'caring', 'sad', 'treated', 'luck', 'barely', 'girl', 'ex', 'program', 'catch', 'internet', 'away', 'talk', 'lol', 'lost', 'everything', 'bother', 'currently', 'long', 'already', 'company', 'calling', 'anyone', 'adult', 'bro', 'proud', 'tell', 'either', 'crazy', 'money', 'try', 'another', 'moving', 'move', 'super', 'fight', 'especially', 'conversation', 'drug', 'college', 'apart', 'frustrated', 'gone', 'idk', 'test', 'whenever', 'anyways', 'soon', 'guess', 'see', 'incredibly', 'socially', 'abuse', 'kid', 'date', 'although', 'marry', 'crap', 'seem', 'agree', 'say', 'chance', 'room', 'lie', 'working', 'place', 'interested', 'English', 'study', 'club', 'fail', 'nearly', 'useless', 'damn', 'pretend', 'pass', 'class', 'hang', 'convince', 'ashamed', 'nice', 'fault', 'save', 'whole', 'buy', 'message', 'genuinely', 'multiple', 'rarely', 'missing', 'parent', 'worried', 'come', 'grow', 'somewhat', 'leave', 'angry', 'computer', 'empty', 'jealous', 'dude', 'straight', 'sister', 'shut', 'therapist', 'selfish', 'grade', 'mess', 'entire', 'public', 'seriously', 'therapy', 'sure', 'sick', 'badly', 'drive', 'course', 'second', 'weird', 'basically', 'sound', 'appreciate', 'far', 'hurt', 'back', 'baby', 'lately', 'though', 'yeah', 'joke', 'expect', 'student', 'plus', 'sort', 'guilty', 'refuse', 'recently', 'kill', 'tldr', 'travel', 'never', 'call', 'die', 'meet', 'lucky', 'totally', 'huge', 'funny', 'hit', 'loser', 'putting', 'door', 'end', 'account', 'last', 'close', 'honestly', 'background', 'relationship', 'financial', 'depressed', 'wife', 'kick', 'eventually', 'glad', 'definitely', 'usually', 'sorry', 'position', 'fuck', 'hurts', 'guy', 'almost', 'unfortunately', 'weed', 'wonder', 'everybody', 'alone', 'spot', 'physically', 'literally', 'boring', 'slowly', 'couple', 'comment', 'insecure', 'mention', 'half', 'mother', 'probably', 'throw', 'kind', 'first', 'field', 'ridiculous', 'home', 'asshole', 'admit', 'left', 'always', 'miss', 'finally', 'smoke', 'family', 'absolutely', 'dream', 'explain', 'realize', 'lonely', 'spend', 'abusive', 'butt', 'suddenly', 'reply', 'father', 'boyfriend', 'happen', 'awkward', 'career', 'house', 'miserable', 'party', 'apply', 'decent', 'country', 'horrible', 'twice', 'least', 'anyway', 'awful', 'middle', 'drop', 'group', 'pay', 'promise', 'amazing', 'cry', 'suppose', 'story', 'somewhere', 'okay', 'shy', 'front', 'tired', 'hear', 'touch', 'shitty', 'ask', 'broke', 'struggle', 'scared', 'besides', 'child', 'friend', 'white', 'teacher', 'bc', 'decided', 'graduate', 'trouble', 'struggled', 'suck', 'two', 'age', 'sell', 'actual', 'worthless', 'send', 'high'}\n",
      "------------------------------\n"
     ]
    }
   ],
   "source": [
    "for community in communities:\n",
    "    print(community)\n",
    "    print(\"------------------------------\")"
   ]
  }
 ],
 "metadata": {
  "kernelspec": {
   "display_name": "Python 3 (ipykernel)",
   "language": "python",
   "name": "python3"
  },
  "language_info": {
   "codemirror_mode": {
    "name": "ipython",
    "version": 3
   },
   "file_extension": ".py",
   "mimetype": "text/x-python",
   "name": "python",
   "nbconvert_exporter": "python",
   "pygments_lexer": "ipython3",
   "version": "3.9.19"
  }
 },
 "nbformat": 4,
 "nbformat_minor": 5
}
