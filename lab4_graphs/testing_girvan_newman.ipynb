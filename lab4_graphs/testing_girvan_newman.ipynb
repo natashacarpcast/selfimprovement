{
 "cells": [
  {
   "cell_type": "code",
   "execution_count": 7,
   "id": "0bb7775c-2841-4261-8488-2fb8d7eb8d59",
   "metadata": {},
   "outputs": [
    {
     "name": "stdout",
     "output_type": "stream",
     "text": [
      "24/11/25 16:44:13 WARN SparkSession: Using an existing Spark session; only runtime SQL configurations will take effect.\n"
     ]
    }
   ],
   "source": [
    "# Install required packages.\n",
    "from pyspark.sql import SparkSession\n",
    "import sparknlp\n",
    "import networkx as nx\n",
    "import pandas as pd\n",
    "import matplotlib.pyplot as plt\n",
    "\n",
    "spark = SparkSession \\\n",
    "        .builder \\\n",
    "        .appName(\"network\") \\\n",
    "        .getOrCreate()\n",
    "\n",
    "def visualize_graph(G, color):\n",
    "    plt.figure(figsize=(7,7))\n",
    "    plt.xticks([])\n",
    "    plt.yticks([])\n",
    "    nx.draw_networkx(G, pos=nx.spring_layout(G, seed=42), with_labels=False,\n",
    "                     node_color=color, cmap=\"Set2\")\n",
    "    plt.show()\n",
    "\n",
    "\n",
    "def visualize_embedding(h, color, epoch=None, loss=None):\n",
    "    plt.figure(figsize=(7,7))\n",
    "    plt.xticks([])\n",
    "    plt.yticks([])\n",
    "    h = h.detach().cpu().numpy()\n",
    "    plt.scatter(h[:, 0], h[:, 1], s=140, c=color, cmap=\"Set2\")\n",
    "    if epoch is not None and loss is not None:\n",
    "        plt.xlabel(f'Epoch: {epoch}, Loss: {loss.item():.4f}', fontsize=16)\n",
    "    plt.show()"
   ]
  },
  {
   "cell_type": "code",
   "execution_count": 8,
   "id": "aad1ecda-dfa1-4fbf-bf8a-6fe6699e1fe1",
   "metadata": {},
   "outputs": [],
   "source": [
    "#Asked ChatGPT: How can I create a graph from two csv files? (one with nodes and one with edges)\n",
    "\n",
    "# File paths (replace with your file paths)\n",
    "nodes_file = \"vertices/vertices.csv\"  # CSV with one column, no header\n",
    "edges_file = \"edges/edges.csv\"  # CSV with two columns, no header\n",
    "\n",
    "# Load nodes\n",
    "nodes_df = pd.read_csv(nodes_file, header=None, names=[\"node\"])\n",
    "nodes = nodes_df[\"node\"].tolist()  # Convert to a list of nodes\n",
    "\n",
    "# Load edges\n",
    "edges_df = pd.read_csv(edges_file, header=None, names=[\"source\", \"target\"])\n",
    "edges = edges_df.values.tolist()  # Convert to a list of edge tuples\n",
    "\n",
    "# Create graph\n",
    "G = nx.DiGraph()  \n",
    "G.add_nodes_from(nodes)  \n",
    "G.add_edges_from(edges) "
   ]
  },
  {
   "cell_type": "code",
   "execution_count": 17,
   "id": "21e3a12e-e7fe-4042-ae91-28d6a7930a40",
   "metadata": {},
   "outputs": [
    {
     "name": "stdout",
     "output_type": "stream",
     "text": [
      "True\n"
     ]
    }
   ],
   "source": [
    "print(nx.is_directed(G))"
   ]
  },
  {
   "cell_type": "code",
   "execution_count": 18,
   "id": "fe9a9a59-94ee-46ee-a9da-8dd5c514bea2",
   "metadata": {},
   "outputs": [
    {
     "name": "stdout",
     "output_type": "stream",
     "text": [
      "False\n"
     ]
    }
   ],
   "source": [
    "G_undirected = G.to_undirected()\n",
    "\n",
    "# Check if the graph is now undirected\n",
    "print(nx.is_directed(G_undirected))  # Should return False"
   ]
  },
  {
   "cell_type": "code",
   "execution_count": 9,
   "id": "caceb00f-4030-4d17-9519-32421c92f906",
   "metadata": {},
   "outputs": [
    {
     "data": {
      "text/plain": [
       "2281"
      ]
     },
     "execution_count": 9,
     "metadata": {},
     "output_type": "execute_result"
    }
   ],
   "source": [
    "nx.number_of_nodes(G)"
   ]
  },
  {
   "cell_type": "code",
   "execution_count": 10,
   "id": "e424c748-5dc4-4489-9f3d-7551a60b1fb3",
   "metadata": {},
   "outputs": [
    {
     "data": {
      "text/plain": [
       "2466"
      ]
     },
     "execution_count": 10,
     "metadata": {},
     "output_type": "execute_result"
    }
   ],
   "source": [
    "nx.number_of_edges(G)"
   ]
  },
  {
   "cell_type": "code",
   "execution_count": 11,
   "id": "49be1d5f-4619-4a26-a246-194028f13ba4",
   "metadata": {},
   "outputs": [
    {
     "data": {
      "text/plain": [
       "0.0004741687625464362"
      ]
     },
     "execution_count": 11,
     "metadata": {},
     "output_type": "execute_result"
    }
   ],
   "source": [
    "nx.density(G)"
   ]
  },
  {
   "cell_type": "code",
   "execution_count": 19,
   "id": "768791de-c702-4e2a-8b04-bea730b4b5cb",
   "metadata": {},
   "outputs": [],
   "source": [
    "components = list(nx.connected_components(G_undirected))"
   ]
  },
  {
   "cell_type": "code",
   "execution_count": 20,
   "id": "276fe7f5-bc77-4db9-b23d-1c7ad2cbd733",
   "metadata": {},
   "outputs": [
    {
     "name": "stdout",
     "output_type": "stream",
     "text": [
      "Number of connected components: 222\n"
     ]
    }
   ],
   "source": [
    "# Number of connected components\n",
    "print(f\"Number of connected components: {len(components)}\")"
   ]
  },
  {
   "cell_type": "code",
   "execution_count": 12,
   "id": "cbca92e1-bb2f-48c5-8615-62cf353e8f5f",
   "metadata": {},
   "outputs": [],
   "source": [
    "from networkx.algorithms.community import girvan_newman\n",
    "communities = nx.community.girvan_newman(G)"
   ]
  },
  {
   "cell_type": "code",
   "execution_count": 14,
   "id": "7dc4db0c-9912-43e2-bb2c-945ecf89ebcd",
   "metadata": {},
   "outputs": [
    {
     "data": {
      "text/plain": [
       "<generator object girvan_newman at 0x7fb7c3ecdeb0>"
      ]
     },
     "execution_count": 14,
     "metadata": {},
     "output_type": "execute_result"
    }
   ],
   "source": [
    "communities"
   ]
  },
  {
   "cell_type": "code",
   "execution_count": 15,
   "id": "28c457bd-e4b0-4188-8eb9-c077f4c94c66",
   "metadata": {},
   "outputs": [
    {
     "name": "stdout",
     "output_type": "stream",
     "text": [
      "({'rselfhelp', 'rgetmotivatedbuddies', 'eta', 'clarification', 'rgetdisciplined', 'rdecidingtobebetter', 'rgoodbyedepression', 'rgetmotivated'}, {'volunteer', 'face', 'circle', 'avoided', 'disability', 'journeys', 'afford', 'academy', 'toxic', 'anyones', 'sexuality', 'beings', 'brief', 'degree', 'fall', 'solved', 'genuine', 'friends', 'luckily', 'looking', 'initiative', 'noticed', 'journal', 'complain', 'cat', 'planet', 'sword', 'dread', 'consistently', 'restaurant', 'pillblack', 'fear', 'mistakes', 'reasons', 'centres', 'compass', 'wisely', 'problems', 'whether', 'included', 'overtime', 'normal', 'islam', 'bl', 'instant', 'workouts', 'beating', 'scheduled', 'looks', 'sad', 'ounce', 'output', 'excited', 'writers', 'shaming', 'experimenting', 'clothes', 'black', 'anyone', 'techniques', 'proud', 'hating', 'elementary', 'intermediate', 'heartedly', 'brain', 'achieving', 'halfway', 'instigating', 'spaghetti', 'tips', 'decency', 'retraining', 'listener', 'kid', 'shows', 'east', 'brutally', 'agree', 'phone', 'lie', 'amongst', 'study', 'someones', 'lasting', 'nearly', 'immense', 'idkthis', 'edged', 'honest', 'facts', 'killing', 'hypochondria', 'properly', 'similar', 'depressive', 'predatory', 'forgive', 'straight', 'god', 'become', 'prominent', 'entire', 'strict', 'anytime', 'smallest', 'logic', 'litmus', 'liberating', 'googles', 'conscious', 'nerdy', 'amount', 'candidly', 'mental', 'whatever', 'educate', 'finds', 'driving', 'comic', 'thee', 'diet', 'salesman', 'majority', 'process', 'directly', 'humble', 'funny', 'voices', 'rational', 'making', 'putting', 'metrics', 'aswell', 'realizing', 'simultaneously', 'last', 'significantly', 'bonafide', 'realistic', 'married', 'attract', 'wery', 'financial', 'unrealistic', 'networking', 'draw', 'icebreaker', 'note', 'cleaning', 'practice', 'million', 'concernconsideration', 'man', 'aware', 'set', 'threes', 'articles', 'resting', 'boss', 'power', 'case', 'mother', 'graduated', 'illness', 'partner', 'went', 'ridiculous', 'replacement', 'universities', 'cheated', 'always', 'paying', 'arise', 'phenomenon', 'family', 'animal', 'pity', 'careskin', 'feedbackthe', 'meant', 'exploring', 'teenage', 'party', 'feedback', 'worked', 'whatsoever', 'bigger', 'important', 'selfdiscipline', 'cringe', 'lbs', 'beginning', 'professional', 'amazing', 'cases', 'environment', 'neither', 'artist', 'according', 'rel', 'boundaries', 'physical', 'reiterate', 'rosecolored', 'child', 'friend', 'tonight', 'yt', 'theory', 'graduate', 'century', 'tasks', 'therefore', 'crucial', 'certainly', 'extremely', 'advantage', 'showing', 'top', 'engage', 'assignment', 'handsome', 'bothered', 'capable', 'proper', 'shorts', 'fixed', 'sometimes', 'weirdest', 'lasted', 'dislike', 'single', 'online', 'whooped', 'accepted', 'plays', 'job', 'security', 'none', 'anywhere', 'male', 'plates', 'interactions', 'ass', 'goodluck', 'turn', 'fine', 'wanting', 'cardio', 'cars', 'exposing', 'gross', 'distracted', 'bunker', 'diy', 'moral', 'commented', 'frozen', 'financialmarketeconomic', 'endallbeall', 'scores', 'hardly', 'young', 'desensitizes', 'barely', 'recommendations', 'talk', 'gatherings', 'stoic', 'overstimulated', 'using', 'root', 'outputs', 'flow', 'professionals', 'filled', 'bro', 'guilt', 'sideways', 'read', 'playing', 'book', 'later', 'conversation', 'provides', 'breaking', 'win', 'breakup', 'initially', 'less', 'abuse', 'diagnosis', 'stores', 'alright', 'suggest', 'writer', 'seem', 'ed', 'deny', 'deserving', 'purchasing', 'class', 'helpful', 'budget', 'chore', 'engaged', 'realised', 'la', 'caused', 'emotion', 'healthy', 'reels', 'bumped', 'platforms', 'stressful', 'giving', 'doingselling', 'ties', 'therapy', 'begin', 'planners', 'track', 'course', 'worse', 'little', 'sccm', 'require', 'depreciating', 'successful', 'managers', 'muchis', 'resing', 'creatures', 'ikeda', 'stubborn', 'heres', 'master', 'fat', 'meet', 'dating', 'generous', 'perfect', 'healthily', 'furious', 'limit', 'seeking', 'extra', 'certain', 'soccer', 'selfesteem', 'disorders', 'every', 'truly', 'cycle', 'fucking', 'sent', 'depressed', 'highpaying', 'default', 'boomer', 'fatty', 'dropped', 'maintain', 'son', 'respectful', 'wrong', 'eagerly', 'training', 'lesson', 'housecar', 'healthies', 'miles', 'externalities', 'wrote', 'finding', 'suffering', 'changes', 'presents', 'answer', 'instagram', 'exactly', 'workout', 'opportunity', 'plan', 'thinks', 'thought', 'debt', 'follow', 'positives', 'required', 'confusing', 'gift', 'ideology', 'dream', 'scare', 'forgot', 'realize', 'relatively', 'gay', 'spend', 'posted', 'reply', 'edit', 'revolves', 'downloaded', 'remember', 'career', 'conversations', 'disorder', 'pick', 'awful', 'dropout', 'middle', 'direct', 'stupidly', 'courage', 'acceptance', 'boy', 'staff', 'colleges', 'laziness', 'event', 'changing', 'known', 'look', 'romanticized', 'women', 'listen', 'recognize', 'vote', 'acceptable', 'math', 'sucked', 'private', 'otherwise', 'humans', 'high', 'extrovert', 'pathetic', 'memory', 'embodied', 'expecting', 'used', 'tracker', 'relationships', 'portions', 'stays', 'secret', 'endpoint', 'peddle', 'assert', 'mentor', 'dailyweekly', 'twitter', 'burst', 'role', 'show', 'schizophrenia', 'instrument', 'balanced', 'aid', 'visual', 'score', 'build', 'pretty', 'reading', 'highly', 'contact', 'took', 'school', 'isolation', 'bipolar', 'isolated', 'behavior', 'movie', 'membership', 'education', 'behavioral', 'app', 'necessary', 'celebrities', 'turmoil', 'cool', 'somebody', 'caring', 'hair', 'decade', 'monthsi', 'producer', 'haircut', 'unique', 'away', 'chicago', 'lost', 'models', 'social', 'learning', 'screw', 'super', 'communication', 'hours', 'active', 'applied', 'slack', 'equality', 'occasional', 'depression', 'started', 'philosophy', 'hates', 'bar', 'pokemon', 'guts', 'fathom', 'pure', 'place', 'useless', 'convinced', 'grades', 'mainly', 'sheer', 'songs', 'grave', 'everywhere', 'squeeze', 'multiple', 'deeper', 'aliveheart', 'hitting', 'places', 'selfhelp', 'selfish', 'seriously', 'stories', 'openminded', 'pornhub', 'asking', 'impression', 'factors', 'fixes', 'functional', 'steve', 'rescue', 'far', 'current', 'builds', 'impressions', 'gtsecond', 'martial', 'benefits', 'wins', 'freedom', 'confidence', 'failures', 'never', 'practicing', 'huge', 'meditation', 'dreams', 'motivation', 'moment', 'related', 'impact', 'circumstances', 'eliminate', 'blood', 'improved', 'immediately', 'casual', 'speaking', 'condescending', 'handyman', 'usually', 'questions', 'singing', 'fallacies', 'conditions', 'obvious', 'quo', 'mindset', 'vulnerable', 'pill', 'notification', 'darkish', 'iv', 'shifting', 'energy', 'north', 'expressed', 'cues', 'inherently', 'enjoy', 'pounds', 'hiking', 'laugh', 'strong', 'steps', 'iq', 'classes', 'discipline', 'thinking', 'occupation', 'compared', 'inconvenience', 'seemingly', 'media', 'stances', 'part', 'twice', 'possessed', 'th', 'provolone', 'unnaproachable', 'group', 'esteem', 'however', 'hide', 'advise', 'children', 'ending', 'emmy', 'basic', 'lived', 'ask', 'sunny', 'sleep', 'whiny', 'shot', 'besides', 'sexual', 'organise', 'hands', 'sociable', 'philosopher', 'hawk', 'studying', 'passions', 'squash', 'learn', 'deluded', 'provide', 'cauliflower', 'loop', 'ryantype', 'teeth', 'fish', 'manager', 'loneliness', 'persuasions', 'womans', 'kinda', 'cable', 'inevitably', 'three', 'testosterone', 'quite', 'violent', 'permit', 'demand', 'jobs', 'route', 'accused', 'exerciseparkour', 'endeavors', 'meets', 'involving', 'purpose', 'dumb', 'gtbut', 'taking', 'beforehand', 'danger', 'builders', 'praise', 'tests', 'charizard', 'buckets', 'boredmore', 'smile', 'four', 'raging', 'relate', 'useful', 'wonderful', 'insulting', 'disgusted', 'gratification', 'stand', 'busy', 'juxtaposed', 'parameters', 'feelings', 'creativity', 'carpet', 'tell', 'rights', 'perfectionism', 'connection', 'given', 'potential', 'depending', 'seeing', 'signs', 'mouth', 'push', 'recommend', 'taught', 'idk', 'interesting', 'train', 'opinions', 'others', 'treats', 'personal', 'commiting', 'although', 'immediate', 'annoyed', 'entirely', 'positieve', 'miscontruals', 'sweets', 'damn', 'crossed', 'function', 'alive', 'nazi', 'consuming', 'genuinely', 'followed', 'brutal', 'subscribe', 'come', 'pumped', 'newest', 'patterns', 'bashing', 'handling', 'delivery', 'parents', 'naive', 'existing', 'conclusions', 'mindfulness', 'whoever', 'second', 'cheddar', 'obsessively', 'appreciate', 'fb', 'men', 'anxiety', 'back', 'trying', 'liquid', 'compassion', 'student', 'makeup', 'done', 'cyber', 'totally', 'histories', 'seems', 'creating', 'chat', 'harsh', 'smartest', 'actions', 'relationship', 'subjectively', 'bsc', 'documented', 'mums', 'support', 'keeping', 'position', 'reminds', 'direction', 'peace', 'brainless', 'slowly', 'said', 'generally', 'comment', 'perceptionist', 'tries', 'profound', 'lying', 'bpd', 'assume', 'half', 'rmarriage', 'forward', 'perception', 'view', 'home', 'hatreds', 'held', 'duh', 'fallacious', 'site', 'weak', 'rambling', 'common', 'stopping', 'middleoftheroad', 'harm', 'awkward', 'notes', 'craves', 'sounds', 'blame', 'specialied', 'worst', 'bug', 'agendas', 'technologies', 'strongly', 'simulates', 'art', 'cause', 'granular', 'food', 'practical', 'prime', 'saved', 'fitness', 'lay', 'lessons', 'compliment', 'tease', 'video', 'aside', 'sandwiches', 'backfired', 'isolate', 'partially', 'childish', 'teacher', 'apps', 'hunting', 'influence', 'suck', 'two', 'preached', 'thrives', 'increase', 'wanna', 'mood', 'better', 'level', 'mu', 'head', 'teaches', 'please', 'slightly', 'blaming', 'experienced', 'convo', 'law', 'subscribers', 'friendship', 'cramming', 'breakdowns', 'quit', 'guessed', 'adhd', 'bound', 'stress', 'andersen', 'smaller', 'regret', 'treatment', 'idiotic', 'mentally', 'break', 'dead', 'mindlessly', 'late', 'radical', 'candor', 'interest', 'stupid', 'tv', 'happy', 'likes', 'gap', 'wait', 'technology', 'jamf', 'friendly', 'loud', 'waiting', 'defined', 'sucha', 'stops', 'divide', 'system', 'gets', 'deeply', 'serious', 'games', 'perhaps', 'finals', 'upset', 'files', 'sixth', 'outfit', 'medical', 'lol', 'problemlike', 'gt', 'differently', 'partners', 'scrambling', 'thus', 'wasted', 'recall', 'money', 'try', 'move', 'favorite', 'traffic', 'hot', 'ever', 'easy', 'victim', 'groups', 'loved', 'walk', 'test', 'came', 'correctly', 'portrayal', 'achievable', 'slows', 'true', 'say', 'activities', 'fail', 'helped', 'growth', 'sentences', 'engrained', 'king', 'whole', 'choice', 'partime', 'write', 'message', 'fostering', 'selfreflection', 'wanted', 'building', 'chats', 'woman', 'selfcare', 'fashion', 'grow', 'blamed', 'workplace', 'attitude', 'paid', 'grade', 'mess', 'mentality', 'controversial', 'needy', 'digital', 'anticipate', 'coerced', 'development', 'planning', 'influencers', 'apologized', 'find', 'intimidating', 'acting', 'picked', 'deep', 'complicated', 'baby', 'lately', 'nd', 'freaking', 'thru', 'friendspartner', 'failure', 'atomic', 'plus', 'parenting', 'great', 'pre', 'analyst', 'calendars', 'box', 'exact', 'table', 'open', 'close', 'daisaku', 'entry', 'based', 'validation', 'else', 'fit', 'definitely', 'suggestion', 'prejudice', 'goals', 'agreeable', 'builder', 'possible', 'became', 'purest', 'cheapest', 'research', 'ignorant', 'routine', 'videos', 'gossips', 'applicable', 'effort', 'punish', 'angel', 'rice', 'tall', 'space', 'forget', 'fix', 'following', 'memoir', 'days', 'personality', 'solutions', 'nave', 'supportive', 'violenceis', 'difference', 'diploma', 'language', 'ragged', 'lives', 'present', 'disagreed', 'artistic', 'worker', 'apply', 'identity', 'odd', 'decent', 'talking', 'fact', 'holding', 'happens', 'fairly', 'texts', 'recognized', 'okay', 'considered', 'comfort', 'outlook', 'create', 'live', 'quietly', 'meal', 'sex', 'cross', 'created', 'complaining', 'summer', 'living', 'slower', 'error', 'essentially', 'shower', 'snap', 'discovered', 'business', 'events', 'workers', 'semester', 'car', 'earn', 'easier', 'enduring', 'easily', 'excellent', 'spill', 'closest', 'version', 'recent', 'called', 'athletic', 'cheese', 'vague', 'hint', 'valuable', 'excuses', 'complains', 'zone', 'consumption', 'smart', 'studied', 'wayyour', 'beautiful', 'tracking', 'together', 'completely', 'disgust', 'sense', 'hope', 'eye', 'body', 'fighting', 'ex', 'internet', 'hobby', 'incremental', 'options', 'long', 'translator', 'significant', 'taste', 'panic', 'keep', 'imagine', 'worded', 'interaction', 'another', 'calories', 'yor', 'powerful', 'issues', 'registration', 'conversions', 'lazy', 'average', 'outexercising', 'especially', 'oppressing', 'fields', 'blindly', 'childless', 'expensive', 'larger', 'takes', 'piece', 'activeworkout', 'anyways', 'weeks', 'actresses', 'runs', 'attacks', 'connections', 'example', 'leaning', 'absolute', 'dialogue', 'personally', 'arent', 'congrats', 'acne', 'cliche', 'specific', 'hug', 'safe', 'define', 'therapistit', 'previous', 'missed', 'logical', 'vegetables', 'subs', 'ended', 'leave', 'empty', 'ganes', 'major', 'difficult', 'bascially', 'developed', 'heavy', 'spent', 'drink', 'accrue', 'trade', 'biliard', 'cutting', 'early', 'badly', 'outbreak', 'schools', 'pursuit', 'teachers', 'improve', 'exposed', 'chunk', 'eat', 'basically', 'weekneess', 'carbs', 'suffer', 'billionaires', 'tutor', 'hobbies', 'mistake', 'wasnt', 'joke', 'big', 'networks', 'often', 'guilty', 'recently', 'tldr', 'ways', 'thin', 'sucks', 'pixel', 'continue', 'emotions', 'wayby', 'says', 'musiclearn', 'rejection', 'honestly', 'sharp', 'non', 'force', 'likely', 'egg', 'naturally', 'largest', 'alternatives', 'beer', 'guitar', 'full', 'cognitive', 'selfsabotage', 'lecture', 'empathize', 'almost', 'add', 'court', 'regularly', 'mind', 'rut', 'speak', 'human', 'unhealthy', 'vs', 'cut', 'solely', 'backing', 'probably', 'form', 'first', 'ones', 'shape', 'fake', 'minutes', 'abused', 'lonely', 'famous', 'years', 'happen', 'stoicism', 'yard', 'circa', 'engagement', 'autopilot', 'remove', 'carb', 'rug', 'least', 'respect', 'relax', 'status', 'keeps', 'gave', 'fishing', 'autism', 'submissive', 'messed', 'success', 'nuanced', 'pain', 'possibly', 'imagination', 'eating', 'chicagoland', 'skin', 'value', 'age', 'run', 'seek', 'laughed', 'actually', 'communicate', 'escapes', 'heroine', 'community', 'truth', 'instantly', 'task', 'brutality', 'consider', 'suicidal', 'option', 'initiating', 'emails', 'text', 'several', 'balls', 'description', 'awesome', 'anxious', 'broken', 'saying', 'feeling', 'alcohol', 'forever', 'bummed', 'university', 'sit', 'perfectly', 'romantic', 'reason', 'real', 'citing', 'detest', 'starting', 'delayed', 'channels', 'trolling', 'information', 'obviously', 'peoples', 'inner', 'grammitical', 'told', 'fun', 'medicine', 'unable', 'anymore', 'impress', 'dismissed', 'companionship', 'nonfriend', 'furthermore', 'james', 'numerous', 'girl', 'improving', 'usual', 'stay', 'completed', 'play', 'langauge', 'dr', 'sickness', 'everything', 'currently', 'already', 'felt', 'either', 'joining', 'crazy', 'large', 'covid', 'nights', 'met', 'housekeepers', 'distant', 'incorrect', 'ampxb', 'complex', 'tells', 'low', 'mindfull', 'passive', 'watching', 'jokes', 'socially', 'heavenly', 'area', 'arrogant', 'align', 'activity', 'swing', 'habits', 'psychologist', 'working', 'member', 'rbf', 'toughest', 'nice', 'negativity', 'formalities', 'dreamed', 'facebook', 'covered', 'dinner', 'neighborhood', 'angry', 'degenerate', 'birthday', 'lists', 'understanding', 'clarity', 'voiced', 'selfcompassion', 'aspergers', 'drive', 'writing', 'weird', 'youor', 'criticising', 'rest', 'ged', 'dates', 'stuck', 'though', 'minorities', 'saving', 'team', 'expect', 'invitation', 'ideas', 'series', 'bully', 'hit', 'solid', 'thays', 'counting', 'defending', 'minor', 'hurting', 'skills', 'ego', 'forge', 'becoming', 'gym', 'criticismconstructive', 'loving', 'faking', 'inwards', 'model', 'burn', 'boosting', 'engineering', 'distance', 'pushed', 'treat', 'quote', 'desire', 'image', 'gonna', 'alone', 'arts', 'literally', 'needs', 'natural', 'color', 'changed', 'biological', 'cuz', 'left', 'music', 'artists', 'absolutely', 'studies', 'evolving', 'paranoid', 'losses', 'happily', 'feels', 'eggs', 'divorce', 'milestones', 'meaningful', 'huntingtons', 'encounter', 'cam', 'pay', 'idealized', 'circles', 'story', 'somewhere', 'idiot', 'nowadays', 'opinion', 'practically', 'textbooks', 'hear', 'spending', 'varying', 'entrench', 'coming', 'passion', 'hm', 'messages', 'months', 'dads', 'automatic', 'completing', 'awaits', 'schema', 'clear', 'mom', 'happiness', 'double', 'hate', 'ngl', 'books', 'ocd', 'aggressive', 'free', 'minded', 'somehow', 'state', 'selfdiscovery', 'anybody', 'attention', 'shit', 'biggest', 'grew', 'purposes', 'drugs', 'amazon', 'workschoolprofession', 'fruits', 'remind', 'untill', 'made', 'simply', 'side', 'reminding', 'knew', 'mentioned', 'due', 'hopefully', 'blunt', 'supported', 'ur', 'experiencing', 'interview', 'humor', 'fast', 'friendships', 'coronavirus', 'hygiene', 'dedicated', 'resort', 'suicide', 'believing', 'dad', 'minimalistic', 'risks', 'external', 'sooo', 'oneself', 'moving', 'suited', 'quick', 'slow', 'preparing', 'respected', 'unlocked', 'college', 'times', 'concussions', 'see', 'guess', 'terms', 'line', 'incredibly', 'project', 'allows', 'knowledge', 'context', 'infront', 'crap', 'repetitive', 'simple', 'means', 'sign', 'update', 'points', 'correct', 'constant', 'sounded', 'insta', 'insecurities', 'zones', 'overlap', 'stronger', 'interact', 'tried', 'horrendous', 'lifelong', 'bitch', 'judicious', 'stick', 'shame', 'per', 'meat', 'base', 'substance', 'hated', 'imperfect', 'gain', 'tone', 'coopt', 'answers', 'void', 'watch', 'yeah', 'makes', 'ultimately', 'bored', 'wow', 'aawh', 'commodity', 'rant', 'stop', 'short', 'random', 'ride', 'wisdom', 'interests', 'porn', 'chit', 'departments', 'demeanour', 'constantly', 'style', 'encouragement', 'lose', 'society', 'depend', 'anonymity', 'smiling', 'mask', 'expectations', 'sorry', 'special', 'knowing', 'hurts', 'comfortable', 'guy', 'give', 'unfortunately', 'motivational', 'virtual', 'hurtful', 'kindness', 'impermanent', 'pessimistic', 'neutral', 'including', 'physically', 'skill', 'red', 'bullet', 'randomly', 'record', 'kind', 'wholeness', 'field', 'involved', 'instead', 'admit', 'impossible', 'finally', 'failed', 'worth', 'achieve', 'phobias', 'severely', 'father', 'girls', 'native', 'setting', 'telling', 'sights', 'stunted', 'enough', 'japanese', 'longer', 'whinges', 'found', 'type', 'youtube', 'challenged', 'future', 'health', 'systems', 'bias', 'brown', 'tiktok', 'touch', 'fuckin', 'leech', 'allowing', 'erased', 'autistic'}, {'carry', 'perceptions'}, {'taskissue', 'aspect', 'insecurity', 'particular'}, {'asap', 'respond'}, {'ssi', 'checks'}, {'main', 'revalation'}, {'older', 'socialization', 'sound', 'fights', 'desperate', 'exams', 'gained', 'pass', 'ie', 'general', 'street', 'oweruseing', 'sexy', 'turned', 'idealistic', 'injustice', 'scary', 'economic', 'desperately', 'eventually', 'avoid', 'kg', 'needed', 'broke', 'youand', 'chores', 'computer', 'productive', 'personalities', 'facilitate', 'walking', 'overstimulation', 'suggestions', 'clashing', 'house', 'egotistical', 'exam', 'science', 'public', 'need', 'cleaner', 'final', 'uni', 'works', 'pscihopatic'}, {'participants', 'nearing'}, {'owned', 'acknowledge', 'lust', 'desires'}, {'handwriting', 'dysgraphia'}, {'insecure', 'horribly'}, {'accept', 'responsibility'}, {'meaning', 'cycles'}, {'blue', 'santa', 'fe', 'light'}, {'psychological', 'breakthroughs'}, {'card', 'minority'}, {'rthexeffect', 'rproductivity', 'rhabithelp', 'rnonzeroday'}, {'refusing', 'blatantly'}, {'email', 'address'}, {'income', 'comes'}, {'pulled', 'quickly'}, {'associate', 'die', 'choose', 'aloneits'}, {'owns', 'grandpa'}, {'laundry', 'fold'}, {'coddled', 'heavily'}, {'dorms', 'kitchen'}, {'etiquette', 'posting', 'hoping'}, {'codependency', 'extreme'}, {'commonly', 'traded'}, {'emotional', 'trauma'}, {'believe', 'welcomed', 'wholeheartedly'}, {'resistance', 'quadruple'}, {'park', 'trailer'}, {'longterm', 'impacted'}, {'dopamine', 'pacifier', 'bursts', 'covering'}, {'wheat', 'brand', 'honey', 'bread', 'slices', 'loaf'}, {'inch', 'apart'}, {'financially', 'stable'}, {'trouble', 'legal'}, {'attend', 'concerts'}, {'cysa', 'comptia'}, {'uncommon', 'culturally'}, {'travel', 'shopping'}, {'drug', 'cocktail'}, {'viewed', 'instinctually'}, {'customer', 'desk', 'includes', 'assistant', 'service', 'dealing'}, {'rabbit', 'holes'}, {'appear', 'uncomfortable'}, {'buy', 'receive', 'gifts'}, {'coding', 'mushrooms', 'craftmanship', 'backyard'}, {'grand', 'scheme'}, {'overall', 'likeable'}, {'sims', 'breakfast', 'ball', 'game'}, {'existential', 'crisis'}, {'taken', 'aback'}, {'obese', 'morbidly'}, {'sexually', 'inhibited'}, {'dissociationdepersonalization', 'episodes'}, {'tentative', 'obstacle', 'pending'}, {'contamination', 'fears'}, {'heart', 'hearts', 'attack'}, {'focused', 'recovered', 'fully'}, {'creative', 'software'}, {'throwaway', 'account'}, {'wear', 'glasses', 'colour'}, {'distractions'}, {'end', 'butt'}, {'gone', 'frequently', 'whoosh'}, {'precise', 'intelligent', 'extracurriculars', 'demoted'}, {'worthless', 'fuck'}, {'bleak', 'pessimism'}, {'incredible', 'killer', 'physique'}, {'literature', 'russian'}, {'femmy'}, {'wise', 'hardworking', 'diciplined'}, {'thisthought', 'vomit', 'word'}, {'particularly', 'experiences', 'memorable'}, {'forgiving', 'bible', 'response'}, {'decision', 'drastic'}, {'fault', 'cry', 'elses', 'freedoms', 'wish', 'persons'}, {'lifes', 'challenges'}, {'fuzzies', 'warm'}, {'allround', 'goodlooking', 'accepting'}, {'catching', 'procrastination'}, {'gates', 'zuckerberg', 'mark', 'bill'}, {'societal', 'shitstain'}, {'dogs', 'asshole'}, {'chance', 'higher'}, {'slooooooooow', 'doooooown'}, {'factor', 'motivating'}, {'managing', 'negotiation'}, {'louder', 'memos', 'voice'}, {'positions', 'clubsclub'}, {'hold', 'unforgiveness'}, {'responding', 'stopped'}, {'addiction', 'drinking', 'actual', 'poison'}, {'mantra', 'luck', 'alex'}, {'cram', 'sessions', 'reject', 'allnight'}, {'couple', 'lines'}, {'wide', 'array'}, {'xou', 'whit'}, {'dale', 'carnegies'}, {'bee', 'thay', 'gona', 'newer'}, {'fuel', 'becomes', 'zero', 'tension', 'added'}, {'healthso', 'exquisite'}, {'petr', 'ludwig'}, {'yoga', 'transformed'}, {'lifting', 'weights'}, {'effecting', 'negatively'}, {'sabotage', 'political'}, {'duly', 'takeni'}, {'condemn', 'criticize'}, {'lifestyle', 'healthier'}, {'key', 'maintainable', 'rule'}, {'regular', 'exercise'}, {'empowering', 'iteration'}, {'hints', 'received'}, {'lateral', 'character', 'thinker', 'rather', 'guidance'}, {'shy', 'hella'}, {'terrifying', 'situations'}, {'unleash', 'sadness', 'pillow', 'anger'}, {'volumes', 'performance', 'speaks', 'specifically'}, {'ungodly', 'dysfunctional', 'painful'}, {'sure', 'nobody'}, {'lady', 'lovely'}, {'hateful', 'rhetoric', 'speech'}, {'rude', 'insensitive'}, {'roll', 'internally'}, {'rara', 'bullshit', 'gloryseeking'}, {'downtime', 'boring'}, {'former', 'user'}, {'alarm', 'clock'}, {'secondly', 'austim'}, {'placed', 'pressure'}, {'projects', 'six'}, {'snowflakes', 'altright'}, {'looping', 'kept'}, {'gathering', 'sewing', 'wild', 'plants'}, {'politics', 'tribal'}, {'technique', 'pommodoro'}, {'dehumanized', 'berated'}, {'revenge', 'manipulation'}, {'themself', 'block'}, {'showcase', 'selfconfidence'}, {'standpoint', 'ethical'}, {'traits', 'overlapping'}, {'magnanimously', 'vulnerably'}, {'prolonged', 'exposure', 'consistent'}, {'waste', 'slothful'}, {'independent', 'critically', 'ambitious'}, {'messaging', 'subtle'}, {'pseudo', 'inceldom'}, {'timeframe', 'limited'}, {'patience', 'wore'}, {'misrepresentation', 'monetized'}, {'repeat', 'history'}, {'permanent', 'solution'}, {'encouraging', 'antinatalism'}, {'discussion', 'background'}, {'loss', 'basics', 'weight'}, {'resolution', 'overenthuiastic'}, {'orange', 'lth', 'green', 'yellow'}, {'insanely', 'rough'}, {'magical', 'voluntarism', 'approach'}, {'concepts', 'core'}, {'wisest', 'hardestworking'}, {'lean', 'meats'}, {'hyperindividualized', 'capitalism'}, {'inadequate', 'boredfeel', 'anxiousfeel'}, {'christian', 'worldview'}, {'act', 'selfless'}, {'eachother', 'figure'}, {'gotta', 'itsomeones'}, {'tip', 'pro'}, {'invisible', 'arrow'}, {'skinny', 'dude'}, {'demeanor', 'calm'}, {'chips', 'soda'}, {'gtwhen', 'conduct'}, {'tools', 'universal'}, {'inequality', 'massive'}, {'wealth', 'underwent'}, {'turns', 'cooking'}, {'struggle', 'folks'}, {'racist', 'plain'}, {'scarred', 'battle', 'beefy', 'warrior'}, {'material', 'possessions'}, {'horizons', 'explore'}, {'unforgettable', 'memories'}, {'stepping', 'develop'}, {'borderline', 'misogynistic'}, {'surface', 'definition'}, {'eater', 'picky'}, {'silver', 'lining'}, {'load', 'truck', 'unpacking'}, {'ruin', 'fomo'}, {'farmer', 'karma'}, {'tacos', 'bought'}, {'op', 'suspect'}, {'spontaneous', 'adventurous'}, {'cold', 'turkey'}, {'chronic', 'thread'}, {'ripped', 'attractive'}, {'enjoyment', 'fuller'}, {'responsible', 'manner'}, {'imposed', 'judgements'}, {'flexible', 'morals'}, {'implied', 'requiring'}, {'journey', 'selfawareness'}, {'diego', 'san'}, {'causing', 'andor', 'contributing'}, {'looked', 'baffled'}, {'filtered', 'hence'}, {'stark', 'absence'}, {'ketamine', 'treatments'}, {'explanation', 'original'}, {'behaviour', 'harmful'}, {'withsomeone', 'cope'}, {'date', 'third'}, {'plumber', 'electrician', 'apprenticeships'}, {'lover', 'sore'}, {'mechanism', 'coping'})\n",
      "({'rselfhelp', 'rgetmotivatedbuddies', 'eta', 'clarification', 'rgetdisciplined', 'rdecidingtobebetter', 'rgoodbyedepression', 'rgetmotivated'}, {'volunteer', 'face', 'circle', 'avoided', 'disability', 'journeys', 'afford', 'toxic', 'anyones', 'sexuality', 'beings', 'brief', 'degree', 'fall', 'solved', 'genuine', 'friends', 'luckily', 'looking', 'initiative', 'noticed', 'journal', 'complain', 'cat', 'planet', 'sword', 'dread', 'consistently', 'restaurant', 'pillblack', 'mistakes', 'reasons', 'centres', 'compass', 'wisely', 'problems', 'whether', 'included', 'overtime', 'normal', 'islam', 'bl', 'instant', 'workouts', 'beating', 'scheduled', 'looks', 'sad', 'ounce', 'output', 'writers', 'shaming', 'experimenting', 'clothes', 'black', 'anyone', 'techniques', 'proud', 'hating', 'elementary', 'intermediate', 'heartedly', 'brain', 'achieving', 'instigating', 'spaghetti', 'tips', 'decency', 'retraining', 'listener', 'kid', 'shows', 'east', 'brutally', 'agree', 'phone', 'lie', 'study', 'someones', 'lasting', 'nearly', 'immense', 'idkthis', 'edged', 'honest', 'facts', 'killing', 'hypochondria', 'properly', 'similar', 'depressive', 'predatory', 'forgive', 'straight', 'god', 'become', 'prominent', 'entire', 'strict', 'anytime', 'smallest', 'logic', 'litmus', 'liberating', 'googles', 'conscious', 'nerdy', 'amount', 'candidly', 'mental', 'whatever', 'educate', 'finds', 'driving', 'comic', 'thee', 'diet', 'salesman', 'majority', 'process', 'directly', 'humble', 'funny', 'voices', 'making', 'putting', 'aswell', 'realizing', 'significantly', 'last', 'bonafide', 'married', 'realistic', 'attract', 'wery', 'financial', 'unrealistic', 'networking', 'draw', 'icebreaker', 'note', 'cleaning', 'practice', 'million', 'concernconsideration', 'man', 'aware', 'set', 'threes', 'articles', 'resting', 'boss', 'case', 'mother', 'graduated', 'illness', 'partner', 'went', 'ridiculous', 'replacement', 'universities', 'cheated', 'always', 'paying', 'arise', 'phenomenon', 'family', 'animal', 'feedbackthe', 'meant', 'exploring', 'teenage', 'feedback', 'whatsoever', 'bigger', 'important', 'selfdiscipline', 'cringe', 'lbs', 'beginning', 'professional', 'amazing', 'cases', 'environment', 'neither', 'according', 'rel', 'boundaries', 'physical', 'reiterate', 'rosecolored', 'child', 'friend', 'tonight', 'yt', 'theory', 'graduate', 'century', 'tasks', 'therefore', 'crucial', 'extremely', 'advantage', 'showing', 'top', 'assignment', 'handsome', 'bothered', 'capable', 'proper', 'shorts', 'fixed', 'sometimes', 'weirdest', 'lasted', 'dislike', 'single', 'online', 'whooped', 'accepted', 'plays', 'job', 'security', 'none', 'anywhere', 'male', 'interactions', 'goodluck', 'ass', 'turn', 'fine', 'wanting', 'cardio', 'cars', 'exposing', 'gross', 'distracted', 'bunker', 'diy', 'moral', 'commented', 'frozen', 'financialmarketeconomic', 'endallbeall', 'scores', 'hardly', 'young', 'desensitizes', 'barely', 'recommendations', 'talk', 'gatherings', 'stoic', 'overstimulated', 'using', 'root', 'outputs', 'flow', 'professionals', 'filled', 'bro', 'guilt', 'sideways', 'read', 'playing', 'book', 'later', 'conversation', 'provides', 'breaking', 'win', 'breakup', 'initially', 'less', 'abuse', 'diagnosis', 'stores', 'suggest', 'writer', 'seem', 'ed', 'deny', 'deserving', 'purchasing', 'class', 'helpful', 'budget', 'chore', 'engaged', 'realised', 'la', 'caused', 'healthy', 'reels', 'platforms', 'giving', 'stressful', 'doingselling', 'ties', 'therapy', 'begin', 'planners', 'track', 'course', 'worse', 'little', 'sccm', 'require', 'depreciating', 'successful', 'managers', 'muchis', 'resing', 'creatures', 'ikeda', 'stubborn', 'heres', 'master', 'fat', 'meet', 'dating', 'generous', 'perfect', 'healthily', 'furious', 'limit', 'seeking', 'certain', 'soccer', 'selfesteem', 'disorders', 'every', 'truly', 'fucking', 'sent', 'highpaying', 'default', 'boomer', 'fatty', 'dropped', 'maintain', 'son', 'respectful', 'wrong', 'eagerly', 'training', 'lesson', 'housecar', 'healthies', 'miles', 'externalities', 'wrote', 'finding', 'suffering', 'changes', 'presents', 'answer', 'exactly', 'instagram', 'workout', 'opportunity', 'plan', 'thought', 'debt', 'follow', 'confusing', 'gift', 'ideology', 'dream', 'forgot', 'realize', 'relatively', 'gay', 'spend', 'reply', 'edit', 'revolves', 'downloaded', 'remember', 'career', 'conversations', 'disorder', 'pick', 'awful', 'dropout', 'middle', 'direct', 'stupidly', 'acceptance', 'boy', 'staff', 'colleges', 'laziness', 'event', 'changing', 'known', 'look', 'romanticized', 'women', 'listen', 'recognize', 'vote', 'acceptable', 'math', 'sucked', 'private', 'otherwise', 'high', 'extrovert', 'pathetic', 'memory', 'embodied', 'expecting', 'used', 'tracker', 'relationships', 'portions', 'stays', 'secret', 'endpoint', 'peddle', 'assert', 'mentor', 'dailyweekly', 'twitter', 'burst', 'role', 'instrument', 'balanced', 'aid', 'visual', 'score', 'build', 'pretty', 'reading', 'highly', 'contact', 'took', 'isolation', 'school', 'isolated', 'behavior', 'movie', 'membership', 'behavioral', 'app', 'necessary', 'celebrities', 'turmoil', 'cool', 'somebody', 'caring', 'decade', 'monthsi', 'producer', 'haircut', 'unique', 'away', 'chicago', 'lost', 'models', 'social', 'learning', 'screw', 'communication', 'hours', 'active', 'applied', 'slack', 'equality', 'occasional', 'depression', 'started', 'philosophy', 'hates', 'pokemon', 'bar', 'guts', 'place', 'useless', 'convinced', 'grades', 'mainly', 'sheer', 'songs', 'grave', 'everywhere', 'squeeze', 'multiple', 'deeper', 'aliveheart', 'hitting', 'places', 'selfhelp', 'selfish', 'seriously', 'openminded', 'pornhub', 'asking', 'impression', 'factors', 'fixes', 'functional', 'steve', 'rescue', 'far', 'current', 'builds', 'impressions', 'gtsecond', 'martial', 'benefits', 'freedom', 'confidence', 'failures', 'practicing', 'huge', 'meditation', 'dreams', 'motivation', 'moment', 'related', 'impact', 'circumstances', 'blood', 'improved', 'immediately', 'casual', 'speaking', 'condescending', 'handyman', 'usually', 'questions', 'singing', 'fallacies', 'conditions', 'obvious', 'quo', 'mindset', 'vulnerable', 'pill', 'notification', 'darkish', 'iv', 'shifting', 'energy', 'north', 'expressed', 'cues', 'inherently', 'enjoy', 'pounds', 'hiking', 'laugh', 'strong', 'steps', 'iq', 'classes', 'discipline', 'thinking', 'occupation', 'inconvenience', 'seemingly', 'media', 'stances', 'part', 'twice', 'possessed', 'th', 'provolone', 'group', 'esteem', 'however', 'hide', 'advise', 'children', 'emmy', 'basic', 'lived', 'ask', 'sleep', 'whiny', 'shot', 'besides', 'sexual', 'organise', 'hands', 'sociable', 'philosopher', 'hawk', 'studying', 'passions', 'squash', 'learn', 'deluded', 'provide', 'cauliflower', 'loop', 'ryantype', 'fish', 'manager', 'loneliness', 'persuasions', 'womans', 'kinda', 'cable', 'inevitably', 'three', 'testosterone', 'violent', 'permit', 'demand', 'jobs', 'route', 'accused', 'exerciseparkour', 'endeavors', 'meets', 'involving', 'purpose', 'dumb', 'taking', 'beforehand', 'builders', 'praise', 'tests', 'charizard', 'buckets', 'smile', 'four', 'raging', 'relate', 'useful', 'wonderful', 'insulting', 'disgusted', 'gratification', 'stand', 'busy', 'juxtaposed', 'parameters', 'feelings', 'creativity', 'carpet', 'tell', 'rights', 'perfectionism', 'connection', 'given', 'potential', 'depending', 'seeing', 'signs', 'mouth', 'push', 'recommend', 'idk', 'interesting', 'train', 'opinions', 'others', 'treats', 'personal', 'commiting', 'although', 'annoyed', 'entirely', 'miscontruals', 'sweets', 'damn', 'crossed', 'function', 'alive', 'nazi', 'consuming', 'genuinely', 'followed', 'brutal', 'subscribe', 'pumped', 'patterns', 'handling', 'delivery', 'parents', 'naive', 'existing', 'conclusions', 'mindfulness', 'whoever', 'second', 'cheddar', 'obsessively', 'appreciate', 'fb', 'men', 'anxiety', 'back', 'trying', 'compassion', 'student', 'cyber', 'totally', 'histories', 'creating', 'harsh', 'smartest', 'actions', 'relationship', 'subjectively', 'bsc', 'documented', 'mums', 'support', 'keeping', 'position', 'reminds', 'direction', 'peace', 'brainless', 'slowly', 'said', 'generally', 'comment', 'perceptionist', 'tries', 'profound', 'lying', 'half', 'rmarriage', 'forward', 'perception', 'view', 'home', 'hatreds', 'held', 'duh', 'fallacious', 'site', 'weak', 'rambling', 'common', 'stopping', 'middleoftheroad', 'harm', 'awkward', 'notes', 'craves', 'sounds', 'blame', 'specialied', 'worst', 'bug', 'agendas', 'technologies', 'strongly', 'simulates', 'art', 'cause', 'granular', 'food', 'practical', 'prime', 'saved', 'fitness', 'lay', 'lessons', 'compliment', 'tease', 'video', 'aside', 'sandwiches', 'backfired', 'partially', 'childish', 'teacher', 'apps', 'hunting', 'influence', 'suck', 'two', 'preached', 'thrives', 'increase', 'wanna', 'mood', 'better', 'level', 'mu', 'teaches', 'please', 'slightly', 'blaming', 'experienced', 'convo', 'law', 'subscribers', 'friendship', 'cramming', 'breakdowns', 'quit', 'bound', 'stress', 'andersen', 'smaller', 'treatment', 'idiotic', 'mentally', 'break', 'dead', 'mindlessly', 'late', 'radical', 'candor', 'interest', 'stupid', 'tv', 'happy', 'likes', 'gap', 'wait', 'technology', 'jamf', 'friendly', 'loud', 'waiting', 'defined', 'sucha', 'stops', 'divide', 'gets', 'deeply', 'serious', 'games', 'perhaps', 'finals', 'upset', 'files', 'sixth', 'outfit', 'medical', 'lol', 'problemlike', 'gt', 'differently', 'partners', 'thus', 'wasted', 'recall', 'money', 'try', 'move', 'favorite', 'traffic', 'hot', 'ever', 'easy', 'victim', 'groups', 'loved', 'walk', 'test', 'came', 'correctly', 'portrayal', 'achievable', 'slows', 'true', 'say', 'activities', 'fail', 'helped', 'growth', 'sentences', 'king', 'whole', 'choice', 'partime', 'write', 'message', 'fostering', 'selfreflection', 'wanted', 'building', 'chats', 'woman', 'selfcare', 'grow', 'fashion', 'blamed', 'workplace', 'attitude', 'paid', 'grade', 'mess', 'mentality', 'controversial', 'needy', 'digital', 'anticipate', 'coerced', 'development', 'planning', 'influencers', 'find', 'acting', 'picked', 'deep', 'complicated', 'baby', 'lately', 'nd', 'freaking', 'thru', 'friendspartner', 'atomic', 'plus', 'parenting', 'great', 'analyst', 'calendars', 'box', 'exact', 'table', 'open', 'close', 'daisaku', 'entry', 'based', 'validation', 'else', 'fit', 'definitely', 'suggestion', 'goals', 'agreeable', 'builder', 'possible', 'became', 'purest', 'cheapest', 'research', 'ignorant', 'routine', 'videos', 'gossips', 'effort', 'punish', 'angel', 'rice', 'tall', 'fix', 'following', 'memoir', 'days', 'personality', 'solutions', 'nave', 'supportive', 'violenceis', 'difference', 'language', 'ragged', 'lives', 'present', 'disagreed', 'artistic', 'worker', 'apply', 'identity', 'decent', 'odd', 'talking', 'fact', 'happens', 'fairly', 'texts', 'recognized', 'okay', 'comfort', 'outlook', 'create', 'live', 'meal', 'quietly', 'sex', 'cross', 'created', 'complaining', 'summer', 'living', 'slower', 'error', 'essentially', 'snap', 'events', 'workers', 'semester', 'car', 'earn', 'easier', 'enduring', 'easily', 'excellent', 'spill', 'closest', 'version', 'recent', 'athletic', 'cheese', 'vague', 'hint', 'valuable', 'excuses', 'complains', 'zone', 'consumption', 'smart', 'studied', 'wayyour', 'beautiful', 'tracking', 'together', 'completely', 'disgust', 'sense', 'hope', 'eye', 'body', 'fighting', 'ex', 'internet', 'hobby', 'incremental', 'options', 'long', 'translator', 'significant', 'panic', 'keep', 'imagine', 'worded', 'interaction', 'another', 'calories', 'yor', 'powerful', 'issues', 'conversions', 'lazy', 'average', 'outexercising', 'especially', 'oppressing', 'fields', 'blindly', 'childless', 'expensive', 'takes', 'piece', 'activeworkout', 'anyways', 'weeks', 'actresses', 'runs', 'attacks', 'connections', 'example', 'leaning', 'absolute', 'dialogue', 'personally', 'arent', 'congrats', 'specific', 'safe', 'define', 'therapistit', 'previous', 'missed', 'logical', 'vegetables', 'subs', 'ended', 'leave', 'empty', 'ganes', 'major', 'difficult', 'bascially', 'developed', 'heavy', 'spent', 'accrue', 'cutting', 'biliard', 'trade', 'early', 'badly', 'outbreak', 'schools', 'pursuit', 'teachers', 'improve', 'exposed', 'chunk', 'eat', 'basically', 'weekneess', 'carbs', 'suffer', 'billionaires', 'tutor', 'hobbies', 'mistake', 'wasnt', 'joke', 'big', 'networks', 'often', 'guilty', 'recently', 'tldr', 'ways', 'thin', 'sucks', 'pixel', 'continue', 'emotions', 'wayby', 'says', 'musiclearn', 'rejection', 'honestly', 'sharp', 'force', 'egg', 'naturally', 'largest', 'alternatives', 'beer', 'guitar', 'full', 'cognitive', 'lecture', 'empathize', 'almost', 'court', 'regularly', 'mind', 'rut', 'speak', 'human', 'unhealthy', 'vs', 'cut', 'solely', 'backing', 'probably', 'form', 'first', 'ones', 'shape', 'fake', 'minutes', 'abused', 'lonely', 'famous', 'years', 'happen', 'stoicism', 'yard', 'circa', 'engagement', 'autopilot', 'remove', 'carb', 'rug', 'least', 'respect', 'relax', 'status', 'keeps', 'gave', 'fishing', 'submissive', 'messed', 'success', 'nuanced', 'pain', 'possibly', 'imagination', 'eating', 'chicagoland', 'skin', 'value', 'age', 'run', 'seek', 'laughed', 'actually', 'communicate', 'escapes', 'heroine', 'community', 'truth', 'instantly', 'task', 'brutality', 'consider', 'option', 'initiating', 'emails', 'text', 'several', 'balls', 'anxious', 'description', 'broken', 'saying', 'feeling', 'alcohol', 'forever', 'bummed', 'perfectly', 'sit', 'university', 'reason', 'real', 'citing', 'detest', 'starting', 'delayed', 'channels', 'trolling', 'information', 'obviously', 'peoples', 'inner', 'grammitical', 'told', 'fun', 'medicine', 'anymore', 'impress', 'dismissed', 'companionship', 'nonfriend', 'furthermore', 'james', 'numerous', 'girl', 'improving', 'usual', 'stay', 'completed', 'play', 'langauge', 'dr', 'sickness', 'everything', 'currently', 'already', 'felt', 'either', 'joining', 'crazy', 'covid', 'nights', 'housekeepers', 'distant', 'incorrect', 'ampxb', 'complex', 'tells', 'low', 'mindfull', 'watching', 'jokes', 'heavenly', 'area', 'arrogant', 'align', 'activity', 'swing', 'habits', 'psychologist', 'working', 'rbf', 'toughest', 'nice', 'negativity', 'formalities', 'dreamed', 'facebook', 'covered', 'dinner', 'neighborhood', 'angry', 'degenerate', 'clarity', 'birthday', 'lists', 'understanding', 'selfcompassion', 'aspergers', 'drive', 'writing', 'weird', 'youor', 'criticising', 'rest', 'ged', 'dates', 'stuck', 'though', 'minorities', 'saving', 'expect', 'invitation', 'ideas', 'series', 'bully', 'hit', 'solid', 'thays', 'counting', 'defending', 'minor', 'hurting', 'skills', 'forge', 'becoming', 'gym', 'criticismconstructive', 'loving', 'faking', 'inwards', 'model', 'boosting', 'engineering', 'distance', 'pushed', 'treat', 'desire', 'image', 'gonna', 'alone', 'arts', 'literally', 'natural', 'color', 'changed', 'biological', 'cuz', 'left', 'music', 'artists', 'absolutely', 'studies', 'evolving', 'paranoid', 'losses', 'happily', 'feels', 'divorce', 'milestones', 'meaningful', 'encounter', 'cam', 'pay', 'idealized', 'circles', 'story', 'somewhere', 'idiot', 'nowadays', 'opinion', 'practically', 'textbooks', 'hear', 'spending', 'varying', 'entrench', 'coming', 'passion', 'hm', 'messages', 'months', 'automatic', 'completing', 'awaits', 'schema', 'clear', 'mom', 'happiness', 'double', 'hate', 'ngl', 'books', 'aggressive', 'free', 'minded', 'somehow', 'state', 'selfdiscovery', 'anybody', 'attention', 'shit', 'grew', 'purposes', 'drugs', 'amazon', 'workschoolprofession', 'fruits', 'remind', 'untill', 'made', 'simply', 'reminding', 'knew', 'mentioned', 'due', 'hopefully', 'blunt', 'supported', 'ur', 'experiencing', 'interview', 'humor', 'fast', 'friendships', 'coronavirus', 'resort', 'suicide', 'believing', 'dad', 'minimalistic', 'risks', 'external', 'sooo', 'oneself', 'moving', 'suited', 'quick', 'slow', 'preparing', 'respected', 'unlocked', 'college', 'times', 'concussions', 'see', 'guess', 'incredibly', 'terms', 'line', 'project', 'allows', 'knowledge', 'context', 'infront', 'crap', 'repetitive', 'simple', 'means', 'sign', 'update', 'points', 'correct', 'constant', 'sounded', 'insta', 'insecurities', 'zones', 'overlap', 'stronger', 'tried', 'horrendous', 'lifelong', 'bitch', 'judicious', 'stick', 'shame', 'per', 'meat', 'base', 'substance', 'hated', 'imperfect', 'gain', 'tone', 'coopt', 'answers', 'void', 'watch', 'yeah', 'makes', 'ultimately', 'bored', 'wow', 'aawh', 'commodity', 'rant', 'stop', 'short', 'porn', 'demeanour', 'constantly', 'style', 'encouragement', 'lose', 'society', 'depend', 'anonymity', 'smiling', 'mask', 'expectations', 'sorry', 'special', 'knowing', 'hurts', 'comfortable', 'guy', 'give', 'unfortunately', 'motivational', 'virtual', 'hurtful', 'kindness', 'impermanent', 'pessimistic', 'neutral', 'including', 'physically', 'red', 'bullet', 'randomly', 'record', 'kind', 'wholeness', 'field', 'instead', 'impossible', 'finally', 'failed', 'worth', 'achieve', 'phobias', 'father', 'girls', 'native', 'setting', 'telling', 'sights', 'enough', 'japanese', 'longer', 'whinges', 'found', 'type', 'youtube', 'challenged', 'future', 'health', 'systems', 'bias', 'tiktok', 'touch', 'fuckin', 'leech', 'allowing', 'erased', 'autistic'}, {'carry', 'perceptions'}, {'taskissue', 'aspect', 'insecurity', 'particular'}, {'discovered', 'certainly', 'head', 'apologized', 'ocd', 'business', 'academy', 'intimidating', 'teeth', 'suicidal', 'engage', 'wins', 'biggest', 'liquid', 'failure', 'team', 'guessed', 'awesome', 'adhd', 'makeup', 'regret', 'quite', 'done', 'never', 'pre', 'side', 'romantic', 'show', 'seems', 'rational', 'schizophrenia', 'called', 'chat', 'ride', 'plates', 'random', 'metrics', 'wisdom', 'extra', 'simultaneously', 'interests', 'eliminate', 'fear', 'chit', 'departments', 'gtbut', 'ego', 'cycle', 'non', 'bipolar', 'danger', 'likely', 'system', 'depressed', 'education', 'burn', 'hygiene', 'boredmore', 'dedicated', 'prejudice', 'selfsabotage', 'unable', 'quote', 'add', 'hair', 'excited', 'skill', 'taste', 'applicable', 'needs', 'power', 'assume', 'bpd', 'scrambling', 'thinks', 'space', 'forget', 'large', 'met', 'super', 'involved', 'registration', 'admit', 'positives', 'required', 'halfway', 'diploma', 'larger', 'scare', 'taught', 'pity', 'careskin', 'passive', 'posted', 'severely', 'socially', 'alright', 'party', 'stunted', 'immediate', 'worked', 'compared', 'fathom', 'pure', 'eggs', 'holding', 'member', 'positieve', 'huntingtons', 'acne', 'unnaproachable', 'amongst', 'courage', 'cliche', 'engrained', 'autism', 'hug', 'ending', 'brown', 'considered', 'artist', 'emotion', 'isolate', 'sunny', 'come', 'interact', 'bumped', 'newest', 'bashing', 'drink', 'voiced', 'stories', 'dads', 'shower', 'humans'}, {'asap', 'respond'}, {'ssi', 'checks'}, {'main', 'revalation'}, {'older', 'socialization', 'sound', 'fights', 'desperate', 'exams', 'gained', 'pass', 'ie', 'general', 'street', 'oweruseing', 'sexy', 'turned', 'idealistic', 'injustice', 'scary', 'economic', 'desperately', 'eventually', 'avoid', 'kg', 'needed', 'broke', 'youand', 'chores', 'computer', 'productive', 'personalities', 'facilitate', 'walking', 'overstimulation', 'suggestions', 'clashing', 'house', 'egotistical', 'exam', 'science', 'public', 'need', 'cleaner', 'final', 'uni', 'works', 'pscihopatic'}, {'participants', 'nearing'}, {'owned', 'acknowledge', 'lust', 'desires'}, {'handwriting', 'dysgraphia'}, {'insecure', 'horribly'}, {'accept', 'responsibility'}, {'meaning', 'cycles'}, {'blue', 'santa', 'fe', 'light'}, {'psychological', 'breakthroughs'}, {'card', 'minority'}, {'rthexeffect', 'rproductivity', 'rhabithelp', 'rnonzeroday'}, {'refusing', 'blatantly'}, {'email', 'address'}, {'income', 'comes'}, {'pulled', 'quickly'}, {'associate', 'die', 'choose', 'aloneits'}, {'owns', 'grandpa'}, {'laundry', 'fold'}, {'coddled', 'heavily'}, {'dorms', 'kitchen'}, {'etiquette', 'posting', 'hoping'}, {'codependency', 'extreme'}, {'commonly', 'traded'}, {'emotional', 'trauma'}, {'believe', 'welcomed', 'wholeheartedly'}, {'resistance', 'quadruple'}, {'park', 'trailer'}, {'longterm', 'impacted'}, {'dopamine', 'pacifier', 'bursts', 'covering'}, {'wheat', 'brand', 'honey', 'bread', 'slices', 'loaf'}, {'inch', 'apart'}, {'financially', 'stable'}, {'trouble', 'legal'}, {'attend', 'concerts'}, {'cysa', 'comptia'}, {'uncommon', 'culturally'}, {'travel', 'shopping'}, {'drug', 'cocktail'}, {'viewed', 'instinctually'}, {'customer', 'desk', 'includes', 'assistant', 'service', 'dealing'}, {'rabbit', 'holes'}, {'appear', 'uncomfortable'}, {'buy', 'receive', 'gifts'}, {'coding', 'mushrooms', 'craftmanship', 'backyard'}, {'grand', 'scheme'}, {'overall', 'likeable'}, {'sims', 'breakfast', 'ball', 'game'}, {'existential', 'crisis'}, {'taken', 'aback'}, {'obese', 'morbidly'}, {'sexually', 'inhibited'}, {'dissociationdepersonalization', 'episodes'}, {'tentative', 'obstacle', 'pending'}, {'contamination', 'fears'}, {'heart', 'hearts', 'attack'}, {'focused', 'recovered', 'fully'}, {'creative', 'software'}, {'throwaway', 'account'}, {'wear', 'glasses', 'colour'}, {'distractions'}, {'end', 'butt'}, {'gone', 'frequently', 'whoosh'}, {'precise', 'intelligent', 'extracurriculars', 'demoted'}, {'worthless', 'fuck'}, {'bleak', 'pessimism'}, {'incredible', 'killer', 'physique'}, {'literature', 'russian'}, {'femmy'}, {'wise', 'hardworking', 'diciplined'}, {'thisthought', 'vomit', 'word'}, {'particularly', 'experiences', 'memorable'}, {'forgiving', 'bible', 'response'}, {'decision', 'drastic'}, {'fault', 'cry', 'elses', 'freedoms', 'wish', 'persons'}, {'lifes', 'challenges'}, {'fuzzies', 'warm'}, {'allround', 'goodlooking', 'accepting'}, {'catching', 'procrastination'}, {'gates', 'zuckerberg', 'mark', 'bill'}, {'societal', 'shitstain'}, {'dogs', 'asshole'}, {'chance', 'higher'}, {'slooooooooow', 'doooooown'}, {'factor', 'motivating'}, {'managing', 'negotiation'}, {'louder', 'memos', 'voice'}, {'positions', 'clubsclub'}, {'hold', 'unforgiveness'}, {'responding', 'stopped'}, {'addiction', 'drinking', 'actual', 'poison'}, {'mantra', 'luck', 'alex'}, {'cram', 'sessions', 'reject', 'allnight'}, {'couple', 'lines'}, {'wide', 'array'}, {'xou', 'whit'}, {'dale', 'carnegies'}, {'bee', 'thay', 'gona', 'newer'}, {'fuel', 'becomes', 'zero', 'tension', 'added'}, {'healthso', 'exquisite'}, {'petr', 'ludwig'}, {'yoga', 'transformed'}, {'lifting', 'weights'}, {'effecting', 'negatively'}, {'sabotage', 'political'}, {'duly', 'takeni'}, {'condemn', 'criticize'}, {'lifestyle', 'healthier'}, {'key', 'maintainable', 'rule'}, {'regular', 'exercise'}, {'empowering', 'iteration'}, {'hints', 'received'}, {'lateral', 'character', 'thinker', 'rather', 'guidance'}, {'shy', 'hella'}, {'terrifying', 'situations'}, {'unleash', 'sadness', 'pillow', 'anger'}, {'volumes', 'performance', 'speaks', 'specifically'}, {'ungodly', 'dysfunctional', 'painful'}, {'sure', 'nobody'}, {'lady', 'lovely'}, {'hateful', 'rhetoric', 'speech'}, {'rude', 'insensitive'}, {'roll', 'internally'}, {'rara', 'bullshit', 'gloryseeking'}, {'downtime', 'boring'}, {'former', 'user'}, {'alarm', 'clock'}, {'secondly', 'austim'}, {'placed', 'pressure'}, {'projects', 'six'}, {'snowflakes', 'altright'}, {'looping', 'kept'}, {'gathering', 'sewing', 'wild', 'plants'}, {'politics', 'tribal'}, {'technique', 'pommodoro'}, {'dehumanized', 'berated'}, {'revenge', 'manipulation'}, {'themself', 'block'}, {'showcase', 'selfconfidence'}, {'standpoint', 'ethical'}, {'traits', 'overlapping'}, {'magnanimously', 'vulnerably'}, {'prolonged', 'exposure', 'consistent'}, {'waste', 'slothful'}, {'independent', 'critically', 'ambitious'}, {'messaging', 'subtle'}, {'pseudo', 'inceldom'}, {'timeframe', 'limited'}, {'patience', 'wore'}, {'misrepresentation', 'monetized'}, {'repeat', 'history'}, {'permanent', 'solution'}, {'encouraging', 'antinatalism'}, {'discussion', 'background'}, {'loss', 'basics', 'weight'}, {'resolution', 'overenthuiastic'}, {'orange', 'lth', 'green', 'yellow'}, {'insanely', 'rough'}, {'magical', 'voluntarism', 'approach'}, {'concepts', 'core'}, {'wisest', 'hardestworking'}, {'lean', 'meats'}, {'hyperindividualized', 'capitalism'}, {'inadequate', 'boredfeel', 'anxiousfeel'}, {'christian', 'worldview'}, {'act', 'selfless'}, {'eachother', 'figure'}, {'gotta', 'itsomeones'}, {'tip', 'pro'}, {'invisible', 'arrow'}, {'skinny', 'dude'}, {'demeanor', 'calm'}, {'chips', 'soda'}, {'gtwhen', 'conduct'}, {'tools', 'universal'}, {'inequality', 'massive'}, {'wealth', 'underwent'}, {'turns', 'cooking'}, {'struggle', 'folks'}, {'racist', 'plain'}, {'scarred', 'battle', 'beefy', 'warrior'}, {'material', 'possessions'}, {'horizons', 'explore'}, {'unforgettable', 'memories'}, {'stepping', 'develop'}, {'borderline', 'misogynistic'}, {'surface', 'definition'}, {'eater', 'picky'}, {'silver', 'lining'}, {'load', 'truck', 'unpacking'}, {'ruin', 'fomo'}, {'farmer', 'karma'}, {'tacos', 'bought'}, {'op', 'suspect'}, {'spontaneous', 'adventurous'}, {'cold', 'turkey'}, {'chronic', 'thread'}, {'ripped', 'attractive'}, {'enjoyment', 'fuller'}, {'responsible', 'manner'}, {'imposed', 'judgements'}, {'flexible', 'morals'}, {'implied', 'requiring'}, {'journey', 'selfawareness'}, {'diego', 'san'}, {'causing', 'andor', 'contributing'}, {'looked', 'baffled'}, {'filtered', 'hence'}, {'stark', 'absence'}, {'ketamine', 'treatments'}, {'explanation', 'original'}, {'behaviour', 'harmful'}, {'withsomeone', 'cope'}, {'date', 'third'}, {'plumber', 'electrician', 'apprenticeships'}, {'lover', 'sore'}, {'mechanism', 'coping'})\n"
     ]
    }
   ],
   "source": [
    "import itertools\n",
    "for communities in itertools.islice(communities, 2):\n",
    "    print(tuple(c for c in communities))"
   ]
  },
  {
   "cell_type": "code",
   "execution_count": null,
   "id": "d8b269bc-c2ac-47b7-8d4e-e2981f888982",
   "metadata": {},
   "outputs": [],
   "source": []
  }
 ],
 "metadata": {
  "kernelspec": {
   "display_name": "Python 3 (ipykernel)",
   "language": "python",
   "name": "python3"
  },
  "language_info": {
   "codemirror_mode": {
    "name": "ipython",
    "version": 3
   },
   "file_extension": ".py",
   "mimetype": "text/x-python",
   "name": "python",
   "nbconvert_exporter": "python",
   "pygments_lexer": "ipython3",
   "version": "3.9.19"
  }
 },
 "nbformat": 4,
 "nbformat_minor": 5
}
