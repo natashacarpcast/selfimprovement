{
 "cells": [
  {
   "cell_type": "code",
   "execution_count": 1,
   "id": "d68c25de-c069-44a4-8ccf-3cf66602e996",
   "metadata": {},
   "outputs": [],
   "source": [
    "import networkx as nx\n",
    "import pandas as pd\n",
    "import glob"
   ]
  },
  {
   "cell_type": "code",
   "execution_count": 2,
   "id": "bc523584-aa3d-485f-aa52-7c3bf58fae33",
   "metadata": {},
   "outputs": [],
   "source": [
    "# Load nodes\n",
    "nodes_df = pd.read_csv(\"nodes_network6/part-00000-faf10ccf-7eda-4c2c-950a-d931dff75ee5-c000.csv\")\n",
    "nodes = nodes_df[\"node\"].tolist()  # Convert to a list of nodes"
   ]
  },
  {
   "cell_type": "code",
   "execution_count": 3,
   "id": "5ac8764d-9018-469b-9f6f-62cf13c4108a",
   "metadata": {},
   "outputs": [],
   "source": [
    "# Load edges\n",
    "path_edges = \"edges_network6/\"\n",
    "files_edges = glob.glob(path_edges + \"part-*.csv\")\n",
    "edges_df = pd.concat((pd.read_csv(f) for f in files_edges))"
   ]
  },
  {
   "cell_type": "code",
   "execution_count": 4,
   "id": "2811b28c-e0e9-41fe-9aa4-10083b0148aa",
   "metadata": {},
   "outputs": [],
   "source": [
    "# Create graph\n",
    "G = nx.Graph()\n",
    "\n",
    "#Add nodes\n",
    "G.add_nodes_from(nodes)  \n",
    "\n",
    "#Add edges\n",
    "for _, row in edges_df.iterrows():\n",
    "    G.add_edge(row['node1_norm'], row['node2_norm'], weight=row['weight'])"
   ]
  },
  {
   "cell_type": "markdown",
   "id": "e863cb03-c4cb-4430-93d6-1845d98e367d",
   "metadata": {},
   "source": [
    "Basic exploration"
   ]
  },
  {
   "cell_type": "code",
   "execution_count": 5,
   "id": "3688998b-daf9-472d-b5ce-315f82d0b29d",
   "metadata": {},
   "outputs": [
    {
     "data": {
      "text/plain": [
       "805"
      ]
     },
     "execution_count": 5,
     "metadata": {},
     "output_type": "execute_result"
    }
   ],
   "source": [
    "nx.number_of_nodes(G)"
   ]
  },
  {
   "cell_type": "code",
   "execution_count": 6,
   "id": "3e8d36e8-b307-43bc-aa5b-18aff82fb036",
   "metadata": {},
   "outputs": [
    {
     "data": {
      "text/plain": [
       "323610"
      ]
     },
     "execution_count": 6,
     "metadata": {},
     "output_type": "execute_result"
    }
   ],
   "source": [
    "nx.number_of_edges(G)"
   ]
  },
  {
   "cell_type": "code",
   "execution_count": 7,
   "id": "088299af-be5a-4c60-abff-03ff2980e638",
   "metadata": {},
   "outputs": [
    {
     "data": {
      "text/plain": [
       "1.0"
      ]
     },
     "execution_count": 7,
     "metadata": {},
     "output_type": "execute_result"
    }
   ],
   "source": [
    "nx.density(G)"
   ]
  },
  {
   "cell_type": "code",
   "execution_count": 8,
   "id": "6cb20648-80fe-4620-8d24-66e6155e419d",
   "metadata": {},
   "outputs": [
    {
     "data": {
      "text/plain": [
       "1"
      ]
     },
     "execution_count": 8,
     "metadata": {},
     "output_type": "execute_result"
    }
   ],
   "source": [
    "nx.number_connected_components(G)"
   ]
  },
  {
   "cell_type": "markdown",
   "id": "a3ecdd68-2ecc-4dae-a7dc-0eb60e6d4271",
   "metadata": {},
   "source": [
    "Now, run community detection algorithm"
   ]
  },
  {
   "cell_type": "code",
   "execution_count": 9,
   "id": "215c4a14-9486-46c2-ba4d-40b198cff2c6",
   "metadata": {},
   "outputs": [],
   "source": [
    "communities = nx.community.louvain_communities(G, seed=123)"
   ]
  },
  {
   "cell_type": "code",
   "execution_count": 10,
   "id": "c2558592-dbba-4f44-aafe-e3f87311b5f0",
   "metadata": {},
   "outputs": [
    {
     "data": {
      "text/plain": [
       "4"
      ]
     },
     "execution_count": 10,
     "metadata": {},
     "output_type": "execute_result"
    }
   ],
   "source": [
    "len(communities)"
   ]
  },
  {
   "cell_type": "code",
   "execution_count": 11,
   "id": "63fa62e6-dbdc-4764-8cdb-760c6a35f951",
   "metadata": {},
   "outputs": [
    {
     "name": "stdout",
     "output_type": "stream",
     "text": [
      "{'education', 'living', 'grade', 'poor', 'working', 'somewhere', 'lost', 'eventually', 'depressed', 'business', 'money', 'left', 'home', 'back', 'struggle', 'forever', 'three', 'recently', 'degree', 'although', 'grow', 'plan', 'mom', 'throw', 'fail', 'college', 'unfortunately', 'ready', 'age', 'forward', 'childhood', 'graduate', 'company', 'community', 'barely', 'house', 'mother', 'late', 'wife', 'miserable', 'smart', 'able', 'fall', 'parent', 'buy', 'kid', 'country', 'far', 'last', 'miss', 'test', 'depression', 'figure', 'waste', 'ahead', 'die', 'wait', 'pass', 'pay', 'decent', 'currently', 'multiple', 'online', 'dad', 'decided', 'second', 'major', 'study', 'almost', 'finally', 'couple', 'travel', 'adult', 'broke', 'high', 'regret', 'moving', 'manage', 'several', 'school', 'young', 'city', 'sick', 'average', 'turn', 'dream', 'full', 'soon', 'gone', 'family', 'leave', 'marry', 'away', 'finish', 'top', 'live', 'waiting', 'return', 'career', 'position', 'end', 'club', 'move', 'brother', 'struggled', 'class', 'middle', 'due', 'drive', 'another', 'enough', 'spend', 'side', 'student', 'program', 'two', 'drop', 'save', 'university', 'computer', 'option', 'half', 'child', 'place', 'missing', 'job', 'entire', 'car', 'hopefully', 'field', 'passion'}\n",
      "------------------------------\n",
      "{'break', 'physical', 'limit', 'reduce', 'extra', 'phone', 'skin', 'low', 'shape', 'cut', 'enjoy', 'bed', 'food', 'mood', 'rest', 'count', 'period', 'force', 'plenty', 'sport', 'plus', 'gym', 'music', 'waking', 'short', 'drink', 'switch', 'hobbies', 'movie', 'media', 'relax', 'active', 'gain', 'sleep', 'quit', 'light', 'consistent', 'play', 'pull', 'number', 'schedule', 'stress', 'water', 'motivated', 'walking', 'doctor', 'app', 'smoke', 'tv', 'ton', 'little', 'drug', 'fast', 'increase', 'regularly', 'account', 'brain', 'exercising', 'healthy', 'porn', 'ever', 'track', 'stay', 'youtube', 'internet', 'run', 'cold', 'coffee', 'stick', 'apps', 'effect', 'huge', 'fit', 'hit', 'add', 'cycle', 'quick', 'regular', 'exercise', 'lift', 'main', 'weight', 'busy', 'diet', 'addicted', 'consistently', 'weed', 'loss', 'push', 'less', 'per', 'lazy', 'energy', 'workout', 'routine', 'muscle', 'shower', 'mentally', 'feed', 'alcohol', 'health', 'activity', 'body', 'long', 'walk', 'instagram', 'meditate', 'motivation', 'eat', 'lose', 'fitness', 'slow', 'lifestyle', 'keep', 'hobby', 'unhealthy', 'mental', 'discipline', 'sit', 'immediately', 'tip', 'fat', 'clothes', 'training', 'video', 'eating', 'tired', 'least', 'meal', 'usually', 'jump', 'addiction', 'slowly', 'big', 'productive', 'clean', 'train', 'watch', 'room', 'pick', 'check', 'rid', 'game', 'dopamine', 'fill', 'wake', 'social', 'amount', 'overall', 'physically', 'early', 'delete'}\n",
      "------------------------------\n",
      "{'partner', 'treat', 'judge', 'awesome', 'friendships', 'agree', 'ask', 'normal', 'ex', 'beat', 'cool', 'guy', 'hang', 'thinking', 'look', 'incredibly', 'socially', 'abuse', 'girlfriend', 'dark', 'attract', 'idk', 'personality', 'explain', 'everything', 'lie', 'sometimes', 'extremely', 'ignore', 'alone', 'trust', 'glad', 'close', 'sign', 'admit', 'honest', 'girl', 'mess', 'bunch', 'shitty', 'ruin', 'horrible', 'send', 'voice', 'comfortable', 'terrible', 'woman', 'never', 'friend', 'pretty', 'either', 'fine', 'story', 'ass', 'front', 'obviously', 'joke', 'therapist', 'esteem', 'stand', 'comment', 'wonder', 'relationship', 'fake', 'confidence', 'shouldnt', 'catch', 'anymore', 'first', 'uncomfortable', 'opinion', 'edit', 'emotionally', 'whenever', 'somehow', 'trouble', 'proud', 'wrong', 'butt', 'eye', 'realize', 'constantly', 'act', 'sure', 'anyway', 'worry', 'happen', 'mine', 'hair', 'super', 'insecure', 'sex', 'talk', 'shit', 'weird', 'speak', 'face', 'date', 'fight', 'lol', 'chance', 'funny', 'especially', 'group', 'sad', 'anxiety', 'fix', 'completely', 'awkward', 'hear', 'actually', 'reply', 'dude', 'respond', 'saying', 'call', 'random', 'stupid', 'stop', 'quite', 'fuck', 'wear', 'heart', 'mention', 'expect', 'see', 'crazy', 'laugh', 'type', 'else', 'none', 'male', 'wish', 'anyways', 'scared', 'serious', 'anger', 'shame', 'deal', 'sorry', 'damn', 'party', 'should', 'sound', 'message', 'hate', 'god', 'toxic', 'cry', 'upset', 'probably', 'though', 'anxious', 'happy', 'meet', 'ugly', 'boyfriend', 'lately', 'excuse', 'blame', 'nobody', 'man', 'reason', 'nice', 'contact', 'definitely', 'smile', 'deserve', 'exact', 'tell', 'promise', 'seriously', 'anyone', 'whole', 'bro', 'beautiful', 'made', 'single', 'caring', 'kind', 'op', 'kill', 'afraid', 'lonely', 'head', 'always', 'boring', 'notice', 'unless', 'hurt', 'touch', 'fun', 'suppose', 'appreciate', 'okay', 'fact', 'actual', 'conversation', 'handle', 'confident', 'therapy', 'trauma', 'amazing', 'absolutely', 'come', 'please', 'attractive', 'interested', 'relate', 'badly', 'sort', 'name', 'straight', 'suck', 'picture', 'assume', 'give', 'worried', 'public', 'say', 'literally', 'honestly', 'try', 'respect', 'text', 'basically', 'seem', 'cause', 'together', 'feeling', 'exactly', 'compare', 'yeah', 'fault', 'show', 'clearly', 'totally', 'kinda', 'genuinely', 'angry', 'real', 'guess', 'bother'}\n",
      "------------------------------\n",
      "{'helpful', 'large', 'practice', 'important', 'future', 'meditation', 'society', 'boundaries', 'area', 'result', 'project', 'acknowledge', 'open', 'instead', 'avoid', 'word', 'benefit', 'emotional', 'maintain', 'define', 'great', 'human', 'zone', 'highly', 'version', 'fear', 'term', 'answer', 'require', 'aspect', 'interest', 'affect', 'willing', 'content', 'professional', 'imagine', 'base', 'truly', 'possible', 'guide', 'impact', 'heres', 'pressure', 'lesson', 'writing', 'book', 'course', 'calm', 'solve', 'free', 'simply', 'learn', 'achieve', 'space', 'peace', 'opportunity', 'note', 'often', 'choice', 'pain', 'failure', 'case', 'setting', 'experienced', 'search', 'common', 'whether', 'rule', 'ability', 'responsibility', 'progress', 'write', 'read', 'useful', 'joy', 'piece', 'method', 'decide', 'nature', 'meaning', 'understanding', 'happiness', 'thought', 'prove', 'history', 'risk', 'system', 'desire', 'journal', 'repeat', 'easily', 'research', 'event', 'hold', 'effort', 'decision', 'response', 'fulfil', 'behavior', 'clear', 'hand', 'meaningful', 'however', 'suggest', 'difficult', 'hope', 'value', 'prepare', 'allow', 'perhaps', 'support', 'develop', 'mind', 'recognize', 'otherwise', 'bring', 'simple', 'engage', 'perspective', 'line', 'interesting', 'individual', 'language', 'begin', 'emotion', 'regardless', 'list', 'luck', 'overcome', 'similar', 'accept', 'seek', 'journaling', 'create', 'apply', 'forget', 'example', 'journey', 'mistakes', 'mentioned', 'rather', 'understand', 'personally', 'pursue', 'improve', 'personal', 'inner', 'possibly', 'natural', 'reflect', 'pattern', 'likely', 'memory', 'basic', 'aware', 'necessary', 'purpose', 'depend', 'state', 'exist', 'choose', 'specific', 'set', 'worth', 'path', 'source', 'find', 'tool', 'order', 'actively', 'related', 'deep', 'mindset', 'belief', 'strong', 'development', 'influence', 'follow', 'means', 'lack', 'present', 'remove', 'provide', 'win', 'build', 'describe', 'key', 'reach', 'easy', 'suggestion', 'identify', 'task', 'sense', 'power', 'google', 'growth', 'carry', 'concept', 'surround', 'quickly', 'generally', 'part', 'grateful', 'continue', 'general', 'consider', 'teach', 'connect', 'include', 'explore', 'approach', 'attempt', 'skill', 'fully', 'necessarily', 'connection', 'certain', 'circumstance', 'successful', 'naturally', 'offer', 'putting', 'process', 'expectation', 'standard', 'current', 'receive', 'information', 'reality', 'view', 'attitude', 'resource', 'encourage', 'strength', 'comfort', 'truth', 'ultimately', 'recommend', 'suffer', 'attention', 'direction', 'discover', 'solution', 'whatever', 'complete', 'impossible', 'tough', 'certainly', 'knowledgeable', 'challenge', 'believe', 'making', 'balance', 'become', 'remind', 'constant', 'lead', 'potential', 'accomplish', 'true', 'doubt', 'level', 'already', 'perfect', 'bear', 'moment', 'safe', 'need', 'share', 'listen', 'difference', 'environment', 'succeed', 'success', 'character', 'tend', 'capable', 'remember', 'quality'}\n",
      "------------------------------\n"
     ]
    }
   ],
   "source": [
    "for community in communities:\n",
    "    print(community)\n",
    "    print(\"------------------------------\")"
   ]
  },
  {
   "cell_type": "markdown",
   "id": "a510120a",
   "metadata": {},
   "source": [
    "{'education', 'living', 'grade', 'poor', 'working', 'somewhere', 'lost', 'eventually', 'depressed', 'business', 'money', 'left', 'home', 'back', 'struggle', 'forever', 'three', 'recently', 'degree', 'although', 'grow', 'plan', 'mom', 'throw', 'fail', 'college', 'unfortunately', 'ready', 'age', 'forward', 'childhood', 'graduate', 'company', 'community', 'barely', 'house', 'mother', 'late', 'wife', 'miserable', 'smart', 'able', 'fall', 'parent', 'buy', 'kid', 'country', 'far', 'last', 'miss', 'test', 'depression', 'figure', 'waste', 'ahead', 'die', 'wait', 'pass', 'pay', 'decent', 'currently', 'multiple', 'online', 'dad', 'decided', 'second', 'major', 'study', 'almost', 'finally', 'couple', 'travel', 'adult', 'broke', 'high', 'regret', 'moving', 'manage', 'several', 'school', 'young', 'city', 'sick', 'average', 'turn', 'dream', 'full', 'soon', 'gone', 'family', 'leave', 'marry', 'away', 'finish', 'top', 'live', 'waiting', 'return', 'career', 'position', 'end', 'club', 'move', 'brother', 'struggled', 'class', 'middle', 'due', 'drive', 'another', 'enough', 'spend', 'side', 'student', 'program', 'two', 'drop', 'save', 'university', 'computer', 'option', 'half', 'child', 'place', 'missing', 'job', 'entire', 'car', 'hopefully', 'field', 'passion'}\n",
    "\n",
    "\n",
    "{'break', 'physical', 'limit', 'reduce', 'extra', 'phone', 'skin', 'low', 'shape', 'cut', 'enjoy', 'bed', 'food', 'mood', 'rest', 'count', 'period', 'force', 'plenty', 'sport', 'plus', 'gym', 'music', 'waking', 'short', 'drink', 'switch', 'hobbies', 'movie', 'media', 'relax', 'active', 'gain', 'sleep', 'quit', 'light', 'consistent', 'play', 'pull', 'number', 'schedule', 'stress', 'water', 'motivated', 'walking', 'doctor', 'app', 'smoke', 'tv', 'ton', 'little', 'drug', 'fast', 'increase', 'regularly', 'account', 'brain', 'exercising', 'healthy', 'porn', 'ever', 'track', 'stay', 'youtube', 'internet', 'run', 'cold', 'coffee', 'stick', 'apps', 'effect', 'huge', 'fit', 'hit', 'add', 'cycle', 'quick', 'regular', 'exercise', 'lift', 'main', 'weight', 'busy', 'diet', 'addicted', 'consistently', 'weed', 'loss', 'push', 'less', 'per', 'lazy', 'energy', 'workout', 'routine', 'muscle', 'shower', 'mentally', 'feed', 'alcohol', 'health', 'activity', 'body', 'long', 'walk', 'instagram', 'meditate', 'motivation', 'eat', 'lose', 'fitness', 'slow', 'lifestyle', 'keep', 'hobby', 'unhealthy', 'mental', 'discipline', 'sit', 'immediately', 'tip', 'fat', 'clothes', 'training', 'video', 'eating', 'tired', 'least', 'meal', 'usually', 'jump', 'addiction', 'slowly', 'big', 'productive', 'clean', 'train', 'watch', 'room', 'pick', 'check', 'rid', 'game', 'dopamine', 'fill', 'wake', 'social', 'amount', 'overall', 'physically', 'early', 'delete'}\n",
    "\n",
    "\n",
    "{'partner', 'treat', 'judge', 'awesome', 'friendships', 'agree', 'ask', 'normal', 'ex', 'beat', 'cool', 'guy', 'hang', 'thinking', 'look', 'incredibly', 'socially', 'abuse', 'girlfriend', 'dark', 'attract', 'idk', 'personality', 'explain', 'everything', 'lie', 'sometimes', 'extremely', 'ignore', 'alone', 'trust', 'glad', 'close', 'sign', 'admit', 'honest', 'girl', 'mess', 'bunch', 'shitty', 'ruin', 'horrible', 'send', 'voice', 'comfortable', 'terrible', 'woman', 'never', 'friend', 'pretty', 'either', 'fine', 'story', 'ass', 'front', 'obviously', 'joke', 'therapist', 'esteem', 'stand', 'comment', 'wonder', 'relationship', 'fake', 'confidence', 'shouldnt', 'catch', 'anymore', 'first', 'uncomfortable', 'opinion', 'edit', 'emotionally', 'whenever', 'somehow', 'trouble', 'proud', 'wrong', 'butt', 'eye', 'realize', 'constantly', 'act', 'sure', 'anyway', 'worry', 'happen', 'mine', 'hair', 'super', 'insecure', 'sex', 'talk', 'shit', 'weird', 'speak', 'face', 'date', 'fight', 'lol', 'chance', 'funny', 'especially', 'group', 'sad', 'anxiety', 'fix', 'completely', 'awkward', 'hear', 'actually', 'reply', 'dude', 'respond', 'saying', 'call', 'random', 'stupid', 'stop', 'quite', 'fuck', 'wear', 'heart', 'mention', 'expect', 'see', 'crazy', 'laugh', 'type', 'else', 'none', 'male', 'wish', 'anyways', 'scared', 'serious', 'anger', 'shame', 'deal', 'sorry', 'damn', 'party', 'should', 'sound', 'message', 'hate', 'god', 'toxic', 'cry', 'upset', 'probably', 'though', 'anxious', 'happy', 'meet', 'ugly', 'boyfriend', 'lately', 'excuse', 'blame', 'nobody', 'man', 'reason', 'nice', 'contact', 'definitely', 'smile', 'deserve', 'exact', 'tell', 'promise', 'seriously', 'anyone', 'whole', 'bro', 'beautiful', 'made', 'single', 'caring', 'kind', 'op', 'kill', 'afraid', 'lonely', 'head', 'always', 'boring', 'notice', 'unless', 'hurt', 'touch', 'fun', 'suppose', 'appreciate', 'okay', 'fact', 'actual', 'conversation', 'handle', 'confident', 'therapy', 'trauma', 'amazing', 'absolutely', 'come', 'please', 'attractive', 'interested', 'relate', 'badly', 'sort', 'name', 'straight', 'suck', 'picture', 'assume', 'give', 'worried', 'public', 'say', 'literally', 'honestly', 'try', 'respect', 'text', 'basically', 'seem', 'cause', 'together', 'feeling', 'exactly', 'compare', 'yeah', 'fault', 'show', 'clearly', 'totally', 'kinda', 'genuinely', 'angry', 'real', 'guess', 'bother'}\n",
    "\n",
    "\n",
    "{'helpful', 'large', 'practice', 'important', 'future', 'meditation', 'society', 'boundaries', 'area', 'result', 'project', 'acknowledge', 'open', 'instead', 'avoid', 'word', 'benefit', 'emotional', 'maintain', 'define', 'great', 'human', 'zone', 'highly', 'version', 'fear', 'term', 'answer', 'require', 'aspect', 'interest', 'affect', 'willing', 'content', 'professional', 'imagine', 'base', 'truly', 'possible', 'guide', 'impact', 'heres', 'pressure', 'lesson', 'writing', 'book', 'course', 'calm', 'solve', 'free', 'simply', 'learn', 'achieve', 'space', 'peace', 'opportunity', 'note', 'often', 'choice', 'pain', 'failure', 'case', 'setting', 'experienced', 'search', 'common', 'whether', 'rule', 'ability', 'responsibility', 'progress', 'write', 'read', 'useful', 'joy', 'piece', 'method', 'decide', 'nature', 'meaning', 'understanding', 'happiness', 'thought', 'prove', 'history', 'risk', 'system', 'desire', 'journal', 'repeat', 'easily', 'research', 'event', 'hold', 'effort', 'decision', 'response', 'fulfil', 'behavior', 'clear', 'hand', 'meaningful', 'however', 'suggest', 'difficult', 'hope', 'value', 'prepare', 'allow', 'perhaps', 'support', 'develop', 'mind', 'recognize', 'otherwise', 'bring', 'simple', 'engage', 'perspective', 'line', 'interesting', 'individual', 'language', 'begin', 'emotion', 'regardless', 'list', 'luck', 'overcome', 'similar', 'accept', 'seek', 'journaling', 'create', 'apply', 'forget', 'example', 'journey', 'mistakes', 'mentioned', 'rather', 'understand', 'personally', 'pursue', 'improve', 'personal', 'inner', 'possibly', 'natural', 'reflect', 'pattern', 'likely', 'memory', 'basic', 'aware', 'necessary', 'purpose', 'depend', 'state', 'exist', 'choose', 'specific', 'set', 'worth', 'path', 'source', 'find', 'tool', 'order', 'actively', 'related', 'deep', 'mindset', 'belief', 'strong', 'development', 'influence', 'follow', 'means', 'lack', 'present', 'remove', 'provide', 'win', 'build', 'describe', 'key', 'reach', 'easy', 'suggestion', 'identify', 'task', 'sense', 'power', 'google', 'growth', 'carry', 'concept', 'surround', 'quickly', 'generally', 'part', 'grateful', 'continue', 'general', 'consider', 'teach', 'connect', 'include', 'explore', 'approach', 'attempt', 'skill', 'fully', 'necessarily', 'connection', 'certain', 'circumstance', 'successful', 'naturally', 'offer', 'putting', 'process', 'expectation', 'standard', 'current', 'receive', 'information', 'reality', 'view', 'attitude', 'resource', 'encourage', 'strength', 'comfort', 'truth', 'ultimately', 'recommend', 'suffer', 'attention', 'direction', 'discover', 'solution', 'whatever', 'complete', 'impossible', 'tough', 'certainly', 'knowledgeable', 'challenge', 'believe', 'making', 'balance', 'become', 'remind', 'constant', 'lead', 'potential', 'accomplish', 'true', 'doubt', 'level', 'already', 'perfect', 'bear', 'moment', 'safe', 'need', 'share', 'listen', 'difference', 'environment', 'succeed', 'success', 'character', 'tend', 'capable', 'remember', 'quality'}"
   ]
  }
 ],
 "metadata": {
  "kernelspec": {
   "display_name": "Python 3 (ipykernel)",
   "language": "python",
   "name": "python3"
  },
  "language_info": {
   "codemirror_mode": {
    "name": "ipython",
    "version": 3
   },
   "file_extension": ".py",
   "mimetype": "text/x-python",
   "name": "python",
   "nbconvert_exporter": "python",
   "pygments_lexer": "ipython3",
   "version": "3.9.19"
  }
 },
 "nbformat": 4,
 "nbformat_minor": 5
}
