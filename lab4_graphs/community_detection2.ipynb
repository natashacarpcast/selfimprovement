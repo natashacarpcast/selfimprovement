{
 "cells": [
  {
   "cell_type": "code",
   "execution_count": 1,
   "id": "866a90d4-edf1-46ae-b9e5-a912685cd429",
   "metadata": {},
   "outputs": [
    {
     "name": "stdout",
     "output_type": "stream",
     "text": [
      "24/11/26 13:53:40 WARN SparkSession: Using an existing Spark session; only runtime SQL configurations will take effect.\n"
     ]
    }
   ],
   "source": [
    "from pyspark.sql import SparkSession\n",
    "spark = SparkSession \\\n",
    "        .builder \\\n",
    "        .appName(\"network\") \\\n",
    "        .getOrCreate()"
   ]
  },
  {
   "cell_type": "code",
   "execution_count": 2,
   "id": "d68c25de-c069-44a4-8ccf-3cf66602e996",
   "metadata": {},
   "outputs": [],
   "source": [
    "import networkx as nx\n",
    "import pandas as pd"
   ]
  },
  {
   "cell_type": "code",
   "execution_count": 3,
   "id": "bc523584-aa3d-485f-aa52-7c3bf58fae33",
   "metadata": {},
   "outputs": [],
   "source": [
    "nodes_file = \"nodes_network2/nodes.csv\"  \n",
    "edges_file = \"edges_network2/edges.csv\" \n",
    "\n",
    "# Load nodes\n",
    "nodes_df = pd.read_csv(nodes_file)\n",
    "nodes = nodes_df[\"node\"].tolist()  # Convert to a list of nodes"
   ]
  },
  {
   "cell_type": "code",
   "execution_count": 4,
   "id": "5ac8764d-9018-469b-9f6f-62cf13c4108a",
   "metadata": {},
   "outputs": [],
   "source": [
    "# Load edges\n",
    "edges_df = pd.read_csv(edges_file)"
   ]
  },
  {
   "cell_type": "code",
   "execution_count": 5,
   "id": "2811b28c-e0e9-41fe-9aa4-10083b0148aa",
   "metadata": {},
   "outputs": [],
   "source": [
    "# Create graph\n",
    "G = nx.Graph()\n",
    "\n",
    "#Add nodes\n",
    "G.add_nodes_from(nodes)  \n",
    "\n",
    "#Add edges\n",
    "for _, row in edges_df.iterrows():\n",
    "    G.add_edge(row['node1_norm'], row['node2_norm'], weight=row['weight'])"
   ]
  },
  {
   "cell_type": "markdown",
   "id": "e863cb03-c4cb-4430-93d6-1845d98e367d",
   "metadata": {},
   "source": [
    "Basic exploration"
   ]
  },
  {
   "cell_type": "code",
   "execution_count": 6,
   "id": "3688998b-daf9-472d-b5ce-315f82d0b29d",
   "metadata": {},
   "outputs": [
    {
     "data": {
      "text/plain": [
       "728"
      ]
     },
     "execution_count": 6,
     "metadata": {},
     "output_type": "execute_result"
    }
   ],
   "source": [
    "nx.number_of_nodes(G)"
   ]
  },
  {
   "cell_type": "code",
   "execution_count": 7,
   "id": "3e8d36e8-b307-43bc-aa5b-18aff82fb036",
   "metadata": {},
   "outputs": [
    {
     "data": {
      "text/plain": [
       "6424"
      ]
     },
     "execution_count": 7,
     "metadata": {},
     "output_type": "execute_result"
    }
   ],
   "source": [
    "nx.number_of_edges(G)"
   ]
  },
  {
   "cell_type": "code",
   "execution_count": 8,
   "id": "088299af-be5a-4c60-abff-03ff2980e638",
   "metadata": {},
   "outputs": [
    {
     "data": {
      "text/plain": [
       "0.0242755868615566"
      ]
     },
     "execution_count": 8,
     "metadata": {},
     "output_type": "execute_result"
    }
   ],
   "source": [
    "nx.density(G)"
   ]
  },
  {
   "cell_type": "code",
   "execution_count": 10,
   "id": "6cb20648-80fe-4620-8d24-66e6155e419d",
   "metadata": {},
   "outputs": [
    {
     "data": {
      "text/plain": [
       "7"
      ]
     },
     "execution_count": 10,
     "metadata": {},
     "output_type": "execute_result"
    }
   ],
   "source": [
    "nx.number_connected_components(G)"
   ]
  },
  {
   "cell_type": "code",
   "execution_count": 11,
   "id": "516f1696-75e3-47ab-b4ec-1145d4f20fc0",
   "metadata": {},
   "outputs": [
    {
     "name": "stdout",
     "output_type": "stream",
     "text": [
      "[{'main', 'seek', 'face', 'communicate', 'level', 'technique', 'memory', 'loss', 'actually', 'circle', 'head', 'dark', 'beat', 'traits', 'toxic', 'truth', 'community', 'task', 'consider', 'intention', 'option', 'degree', 'friendship', 'decision', 'text', 'fire', 'genuine', 'quit', 'anxious', 'awesome', 'adhd', 'stress', 'broken', 'regret', 'teach', 'wish', 'bear', 'feeling', 'able', 'alcohol', 'journal', 'mentally', 'complain', 'break', 'university', 'sit', 'romantic', 'role', 'show', 'reason', 'stupid', 'real', 'death', 'tv', 'happy', 'aspect', 'build', 'wait', 'pretty', 'rude', 'fear', 'believe', 'mistakes', 'girlfriend', 'waste', 'outcome', 'effect', 'contact', 'brother', 'reaction', 'school', 'choose', 'information', 'system', 'movie', 'behavior', 'pull', 'education', 'deeply', 'app', 'serious', 'inner', 'normal', 'perhaps', 'muscle', 'necessary', 'fun', 'cool', 'list', 'rule', 'rather', 'sad', 'hair', 'girl', 'program', 'stay', 'journey', 'unique', 'word', 'lol', 'play', 'delete', 'reward', 'expectation', 'gt', 'everything', 'painful', 'already', 'behaviour', 'company', 'clothes', 'social', 'proud', 'money', 'crazy', 'act', 'large', 'super', 'communication', 'brain', 'fight', 'ever', 'victim', 'attractive', 'reach', 'low', 'depression', 'test', 'exist', 'healing', 'handle', 'kid', 'date', 'need', 'area', 'chase', 'true', 'accept', 'activity', 'say', 'responsibility', 'phone', 'lie', 'cold', 'room', 'working', 'member', 'interested', 'study', 'fail', 'useless', 'hang', 'growth', 'acknowledge', 'trust', 'available', 'nice', 'evil', 'save', 'choice', 'write', 'buy', 'message', 'internal', 'properly', 'individual', 'woman', 'grow', 'challenge', 'angry', 'forgive', 'computer', 'aim', 'dude', 'attitude', 'god', 'selfish', 'grade', 'become', 'entire', 'risk', 'understanding', 'mentality', 'manage', 'drive', 'development', 'perceive', 'writing', 'share', 'weird', 'conscious', 'ie', 'find', 'progress', 'baby', 'current', 'mental', 'failure', 'expect', 'express', 'confidence', 'include', 'diet', 'refuse', 'kill', 'great', 'never', 'argue', 'process', 'huge', 'funny', 'meditation', 'wear', 'hit', 'motivation', 'moment', 'door', 'responsible', 'clean', 'impact', 'open', 'belief', 'account', 'last', 'close', 'background', 'consistent', 'addiction', 'attract', 'ego', 'financial', 'gym', 'escape', 'burn', 'validation', 'note', 'fit', 'suggestion', 'treat', 'practice', 'method', 'excuse', 'quote', 'possible', 'man', 'rid', 'aware', 'desire', 'news', 'image', 'solution', 'set', 'consequence', 'everybody', 'research', 'alone', 'routine', 'mindset', 'guide', 'effort', 'power', 'mother', 'character', 'natural', 'partner', 'space', 'forget', 'complete', 'fix', 'core', 'soul', 'tend', 'personality', 'always', 'energy', 'music', 'avoid', 'family', 'absolutely', 'enjoy', 'ready', 'doctor', 'term', 'tip', 'language', 'productive', 'laugh', 'strong', 'awareness', 'order', 'bring', 'abusive', 'present', 'discipline', 'benefit', 'afraid', 'party', 'thinking', 'feedback', 'apply', 'understand', 'embrace', 'media', 'part', 'important', 'meaningful', 'drop', 'group', 'esteem', 'switch', 'pay', 'however', 'professional', 'reduce', 'history', 'hide', 'cry', 'story', 'environment', 'opinion', 'shy', 'period', 'comfort', 'tired', 'boundaries', 'physical', 'ask', 'create', 'broke', 'struggle', 'sleep', 'passion', 'scared', 'live', 'joy', 'meal', 'child', 'sex', 'friend', 'bc', 'sexual', 'decided', 'graduate', 'schedule', 'grateful', 'living', 'light', 'culture', 'game', 'send', 'learn', 'repeat', 'respond', 'clear', 'mom', 'name', 'exercise', 'response', 'happiness', 'provide', 'hate', 'certainly', 'business', 'extremely', 'nobody', 'return', 'cheating', 'car', 'free', 'content', 'replace', 'determine', 'somehow', 'state', 'meditate', 'attention', 'path', 'shit', 'check', 'sometimes', 'identify', 'worry', 'three', 'single', 'online', 'anger', 'made', 'side', 'simply', 'job', 'notice', 'extreme', 'science', 'version', 'lifestyle', 'raise', 'none', 'male', 'ugly', 'mentioned', 'condition', 'ton', 'emotional', 'source', 'purpose', 'valuable', 'decide', 'zone', 'factor', 'fast', 'cheat', 'friendships', 'smart', 'beautiful', 'smile', 'commit', 'worthy', 'together', 'deserve', 'completely', 'sense', 'dad', 'addicted', 'walking', 'young', 'finish', 'body', 'treated', 'luck', 'ex', 'catch', 'internet', 'talk', 'strangers', 'hobby', 'achievement', 'external', 'pursue', 'water', 'stand', 'long', 'busy', 'root', 'react', 'uncomfortable', 'keep', 'adult', 'imagine', 'tell', 'guilt', 'connection', 'read', 'potential', 'average', 'book', 'especially', 'invest', 'quick', 'prepare', 'conversation', 'drug', 'college', 'weight', 'piece', 'idk', 'confident', 'win', 'line', 'project', 'less', 'train', 'abuse', 'sport', 'address', 'personal', 'although', 'marry', 'crap', 'seem', 'nature', 'chance', 'simple', 'means', 'sign', 'pressure', 'club', 'motivated', 'pretend', 'damn', 'convince', 'class', 'function', 'pass', 'correct', 'specific', 'insecurities', 'argument', 'define', 'allow', 'heal', 'balance', 'emotion', 'healthy', 'parent', 'interact', 'pattern', 'leave', 'empty', 'jealous', 'number', 'major', 'difficult', 'sister', 'unhappy', 'drink', 'shame', 'therapy', 'begin', 'sick', 'early', 'lead', 'per', 'base', 'improve', 'second', 'basically', 'eat', 'worthwhile', 'appreciate', 'require', 'gain', 'meaning', 'suffer', 'successful', 'anxiety', 'deal', 'hurt', 'rich', 'back', 'hobbies', 'tool', 'watch', 'mistake', 'compassion', 'succeed', 'joke', 'figure', 'student', 'sort', 'often', 'guilty', 'fat', 'call', 'meet', 'die', 'reality', 'actively', 'perfect', 'stop', 'loser', 'limit', 'continue', 'heart', 'end', 'extra', 'result', 'certain', 'selfesteem', 'porn', 'relationship', 'serve', 'hand', 'cycle', 'constantly', 'force', 'likely', 'wife', 'kick', 'lose', 'society', 'voice', 'eventually', 'approach', 'support', 'special', 'maintain', 'position', 'fuck', 'hurts', 'wrong', 'guy', 'give', 'training', 'almost', 'strength', 'lesson', 'weed', 'direction', 'peace', 'add', 'regularly', 'mind', 'kindness', 'bed', 'willing', 'standard', 'zero', 'boring', 'skill', 'couple', 'hold', 'judge', 'speak', 'answer', 'instagram', 'human', 'block', 'unhealthy', 'insecure', 'cut', 'assume', 'particular', 'workout', 'opportunity', 'throw', 'plan', 'kind', 'thought', 'ability', 'first', 'calm', 'field', 'perception', 'instead', 'view', 'follow', 'tough', 'home', 'fake', 'smoke', 'weak', 'knowledgeable', 'gift', 'fulfil', 'dream', 'explain', 'key', 'worth', 'realize', 'lonely', 'achieve', 'spend', 'harm', 'picture', 'reply', 'boyfriend', 'remember', 'father', 'awkward', 'happen', 'house', 'setting', 'career', 'empathy', 'blame', 'pick', 'country', 'horrible', 'awful', 'anyway', 'respect', 'concept', 'cause', 'courage', 'food', 'type', 'youtube', 'acceptance', 'health', 'future', 'explore', 'laziness', 'circumstance', 'success', 'event', 'pain', 'video', 'touch', 'shitty', 'fair', 'look', 'eating', 'listen', 'recognize', 'develop', 'teacher', 'apps', 'ignore', 'trouble', 'trauma', 'wake', 'skin', 'accomplish', 'suck', 'value', 'offer', 'two', 'age', 'run', 'sell', 'judgement', 'increase', 'quality', 'high', 'receive', 'mood'}, {'kinda', 'try'}, {'engage', 'upset'}, {'somebody', 'enough'}, {'road', 'walk'}, {'feed', 'white'}, {'carry', 'multiple'}]\n"
     ]
    }
   ],
   "source": [
    "components = list(nx.connected_components(G))\n",
    "print(components)"
   ]
  },
  {
   "cell_type": "markdown",
   "id": "50e60d75-0a21-4af6-a3d0-8f2922812a48",
   "metadata": {},
   "source": [
    "Great! Less components than in the previous notebook. Exclude last 6 components since they are too small"
   ]
  },
  {
   "cell_type": "code",
   "execution_count": 13,
   "id": "40db6340-b380-47fa-b50c-dbdae2997ed4",
   "metadata": {},
   "outputs": [],
   "source": [
    "#Asked ChatGPT: how can I stay with only the largest component in networkx?\n",
    "largest_component = max(components, key=len) \n",
    "G_largest = G.subgraph(largest_component).copy()"
   ]
  },
  {
   "cell_type": "code",
   "execution_count": 15,
   "id": "6c7987ce-7094-44c0-8449-649827cc9f96",
   "metadata": {},
   "outputs": [
    {
     "data": {
      "text/plain": [
       "1"
      ]
     },
     "execution_count": 15,
     "metadata": {},
     "output_type": "execute_result"
    }
   ],
   "source": [
    "nx.number_connected_components(G_largest)"
   ]
  },
  {
   "cell_type": "markdown",
   "id": "a3ecdd68-2ecc-4dae-a7dc-0eb60e6d4271",
   "metadata": {},
   "source": [
    "Now, run community detection algorithm"
   ]
  },
  {
   "cell_type": "code",
   "execution_count": 17,
   "id": "215c4a14-9486-46c2-ba4d-40b198cff2c6",
   "metadata": {},
   "outputs": [],
   "source": [
    "communities = nx.community.louvain_communities(G_largest, seed=123)"
   ]
  },
  {
   "cell_type": "code",
   "execution_count": 19,
   "id": "c2558592-dbba-4f44-aafe-e3f87311b5f0",
   "metadata": {},
   "outputs": [
    {
     "data": {
      "text/plain": [
       "11"
      ]
     },
     "execution_count": 19,
     "metadata": {},
     "output_type": "execute_result"
    }
   ],
   "source": [
    "len(communities)"
   ]
  },
  {
   "cell_type": "code",
   "execution_count": 20,
   "id": "63fa62e6-dbdc-4764-8cdb-760c6a35f951",
   "metadata": {},
   "outputs": [
    {
     "name": "stdout",
     "output_type": "stream",
     "text": [
      "{'ton', 'room', 'actually', 'important', 'eat', 'consistent', 'workout', 'motivated', 'useless', 'extremely', 'food', 'fast', 'gym', 'future', 'tough', 'read', 'allow', 'music', 'ever', 'look', 'eating', 'sleep', 'doctor', 'quit', 'spend', 'addicted', 'rid', 'schedule', 'mentally', 'bed', 'zero', 'become', 'version', 'huge', 'motivation', 'activity', 'already', 'extra'}\n",
      "------------------------------\n",
      "{'insecure', 'provide', 'forget', 'nobody', 'consider', 'somehow', 'personality', 'check', 'compassion', 'absolutely', 'joke', 'worry', 'idk', 'wish', 'laugh', 'online', 'boyfriend', 'made', 'meet', 'setting', 'abuse', 'date', 'funny', 'loser', 'male', 'ugly', 'stupid', 'seem', 'country', 'horrible', 'awful', 'wait', 'interested', 'pretty', 'cause', 'attract', 'contact', 'nice', 'cry', 'smart', 'insecurities', 'approach', 'beautiful', 'shitty', 'special', 'woman', 'struggle', 'hurts', 'guy', 'give', 'sex', 'bc', 'cool', 'man', 'ignore', 'graduate', 'sad', 'willing', 'accomplish', 'girl', 'ex', 'offer', 'sick', 'boring', 'receive', 'base'}\n",
      "------------------------------\n",
      "{'improve', 'block', 'communicate', 'circle', 'uncomfortable', 'gain', 'partner', 'guilt', 'act', 'ability', 'core', 'communication', 'current', 'mistake', 'victim', 'fulfil', 'confidence', 'worth', 'low', 'confident', 'test', 'depression', 'regret', 'guilty', 'train', 'handle', 'empathy', 'role', 'pick', 'limit', 'accept', 'tv', 'belief', 'means', 'certain', 'aspect', 'respect', 'selfesteem', 'valuable', 'drop', 'believe', 'porn', 'mistakes', 'addiction', 'zone', 'relationship', 'serve', 'system', 'define', 'society', 'validation', 'fit', 'note', 'comfort', 'support', 'heal', 'tired', 'pain', 'fair', 'treat', 'commit', 'worthy', 'boundaries', 'list', 'lesson', 'decided', 'young', 'treated', 'standard', 'value', 'age', 'mentality', 'therapy', 'strangers', 'external', 'judgement', 'expectation', 'manage', 'stand', 'drive', 'root'}\n",
      "------------------------------\n",
      "{'behaviour', 'guide', 'cold', 'react', 'name', 'memory', 'unhealthy', 'head', 'heart', 'dark', 'waste', 'crazy', 'acknowledge', 'traits', 'reduce', 'toxic', 'reaction', 'evil', 'save', 'voice', 'opinion', 'serious', 'inner', 'energy', 'muscle', 'tool', 'touch', 'term', 'meal', 'stress', 'lonely', 'broken', 'training', 'child', 'forgive', 'happen', 'healing', 'complain', 'discipline', 'benefit', 'side', 'light', 'notice', 'word', 'address', 'area', 'increase', 'crap', 'long', 'open', 'answer'}\n",
      "------------------------------\n",
      "{'certainly', 'imagine', 'damn', 'present', 'finish', 'line', 'decision', 'acceptance', 'unhappy', 'god', 'selfish', 'choose', 'consequence', 'story', 'perfect', 'lifestyle', 'blame', 'none', 'moment', 'quality', 'responsible', 'responsibility', 'mood'}\n",
      "------------------------------\n",
      "{'phone', 'piece', 'free', 'send', 'shame', 'app', 'apps', 'picture', 'major', 'walking', 'switch', 'available', 'clean', 'hide'}\n",
      "------------------------------\n",
      "{'main', 'company', 'second', 'effort', 'basically', 'cut', 'business', 'throw', 'money', 'fix', 'first', 'calm', 'return', 'car', 'progress', 'instead', 'content', 'rich', 'tend', 'degree', 'quick', 'invest', 'shit', 'watch', 'weak', 'weight', 'succeed', 'reach', 'awesome', 'figure', 'three', 'diet', 'sort', 'often', 'order', 'fat', 'career', 'job', 'stop', 'afraid', 'need', 'apply', 'embrace', 'door', 'end', 'condition', 'build', 'working', 'decide', 'fail', 'pretend', 'hang', 'correct', 'pay', 'youtube', 'financial', 'specific', 'pull', 'environment', 'lose', 'burn', 'video', 'together', 'position', 'fuck', 'passion', 'interact', 'quote', 'direction', 'rule', 'skin', 'suck', 'entire', 'research', 'sell', 'per', 'repeat'}\n",
      "------------------------------\n",
      "{'seek', 'development', 'level', 'respond', 'technique', 'perceive', 'weird', 'worthwhile', 'require', 'ie', 'find', 'conscious', 'community', 'anxiety', 'determine', 'baby', 'mental', 'state', 'meditate', 'path', 'genuine', 'sometimes', 'failure', 'anxious', 'include', 'single', 'teach', 'bear', 'anger', 'reality', 'sit', 'actively', 'science', 'meditation', 'impact', 'account', 'emotional', 'source', 'rude', 'close', 'background', 'outcome', 'effect', 'ego', 'constantly', 'force', 'information', 'behavior', 'kick', 'escape', 'normal', 'perhaps', 'smile', 'method', 'maintain', 'necessary', 'sense', 'strength', 'possible', 'peace', 'rather', 'news', 'mind', 'image', 'solution', 'catch', 'program', 'journey', 'achievement', 'routine', 'pursue', 'mindset', 'judge', 'speak', 'instagram', 'social', 'power', 'particular', 'character', 'kind', 'connection', 'perception', 'field', 'soul', 'view', 'brain', 'fake', 'avoid', 'prepare', 'gift', 'explain', 'language', 'strong', 'exist', 'abusive', 'bring', 'harm', 'project', 'less', 'personal', 'feedback', 'nature', 'media', 'part', 'sign', 'meaningful', 'member', 'group', 'growth', 'function', 'however', 'professional', 'trust', 'health', 'shy', 'internal', 'event', 'individual', 'emotion', 'healthy', 'challenge', 'develop', 'joy', 'pattern', 'angry', 'computer', 'sexual', 'difficult', 'trauma', 'grateful', 'attitude', 'culture', 'risk', 'run', 'understanding', 'begin', 'learn', 'high'}\n",
      "------------------------------\n",
      "{'mom', 'face', 'clothes', 'loss', 'hate', 'mother', 'adult', 'beat', 'natural', 'tell', 'plan', 'truth', 'cheating', 'super', 'home', 'replace', 'average', 'fight', 'back', 'option', 'friendship', 'text', 'drug', 'fire', 'smoke', 'college', 'family', 'identify', 'expect', 'ready', 'student', 'feeling', 'couple', 'reply', 'kill', 'father', 'remember', 'alcohol', 'never', 'call', 'die', 'house', 'university', 'kid', 'wear', 'show', 'raise', 'hit', 'marry', 'say', 'lie', 'anyway', 'pressure', 'last', 'fear', 'study', 'club', 'girlfriend', 'class', 'pass', 'cycle', 'brother', 'cheat', 'school', 'choice', 'friendships', 'wife', 'buy', 'eventually', 'period', 'ask', 'parent', 'completely', 'recognize', 'leave', 'dad', 'friend', 'almost', 'teacher', 'dude', 'empty', 'weed', 'jealous', 'sister', 'trouble', 'hair', 'grade', 'drink', 'two', 'talk', 'lol', 'delete', 'water', 'hold'}\n",
      "------------------------------\n",
      "{'writing', 'exercise', 'opportunity', 'keep', 'proud', 'space', 'complete', 'successful', 'task', 'follow', 'deal', 'potential', 'intention', 'always', 'attention', 'conversation', 'tip', 'productive', 'win', 'refuse', 'awkward', 'gt', 'break', 'simply', 'argue', 'sport', 'romantic', 'thinking', 'party', 'although', 'continue', 'real', 'chance', 'result', 'convince', 'factor', 'esteem', 'hand', 'courage', 'type', 'movie', 'write', 'education', 'laziness', 'argument', 'message', 'circumstance', 'success', 'properly', 'deserve', 'excuse', 'fun', 'grow', 'wrong', 'number', 'body', 'luck', 'stay', 'internet', 'game', 'play', 'hobby', 'lead', 'reward', 'skill', 'everything', 'painful', 'busy'}\n",
      "------------------------------\n",
      "{'clear', 'human', 'response', 'share', 'happiness', 'assume', 'appreciate', 'thought', 'large', 'meaning', 'suffer', 'hurt', 'book', 'especially', 'hobbies', 'knowledgeable', 'attractive', 'dream', 'express', 'adhd', 'key', 'enjoy', 'realize', 'achieve', 'awareness', 'able', 'great', 'journal', 'extreme', 'process', 'chase', 'understand', 'reason', 'true', 'death', 'mentioned', 'simple', 'happy', 'concept', 'purpose', 'history', 'likely', 'explore', 'deeply', 'suggestion', 'balance', 'practice', 'physical', 'create', 'broke', 'scared', 'listen', 'live', 'aim', 'aware', 'desire', 'add', 'regularly', 'kindness', 'wake', 'living', 'set', 'everybody', 'unique', 'alone', 'early'}\n",
      "------------------------------\n"
     ]
    }
   ],
   "source": [
    "for community in communities:\n",
    "    print(community)\n",
    "    print(\"------------------------------\")"
   ]
  },
  {
   "cell_type": "markdown",
   "id": "63192cdc-9de4-4194-9a70-7249db8a825d",
   "metadata": {},
   "source": [
    "Not very informative. Try with other method"
   ]
  },
  {
   "cell_type": "code",
   "execution_count": 34,
   "id": "d95b0182-31f0-4219-816d-557b95c74edd",
   "metadata": {},
   "outputs": [],
   "source": [
    "from networkx.algorithms.community import girvan_newman\n",
    "communities = nx.community.girvan_newman(G_largest)"
   ]
  },
  {
   "cell_type": "code",
   "execution_count": 35,
   "id": "ac1cdf38-ecbb-4915-9aaf-1b54e6ac45ba",
   "metadata": {},
   "outputs": [
    {
     "name": "stdout",
     "output_type": "stream",
     "text": [
      "({'main', 'seek', 'face', 'communicate', 'level', 'technique', 'memory', 'loss', 'actually', 'circle', 'head', 'dark', 'beat', 'traits', 'toxic', 'truth', 'community', 'task', 'consider', 'intention', 'option', 'degree', 'friendship', 'decision', 'text', 'fire', 'genuine', 'quit', 'anxious', 'awesome', 'adhd', 'stress', 'broken', 'regret', 'teach', 'wish', 'bear', 'feeling', 'able', 'alcohol', 'journal', 'mentally', 'complain', 'break', 'university', 'sit', 'romantic', 'role', 'show', 'reason', 'stupid', 'real', 'death', 'tv', 'happy', 'aspect', 'build', 'wait', 'pretty', 'rude', 'fear', 'believe', 'mistakes', 'girlfriend', 'waste', 'outcome', 'effect', 'contact', 'brother', 'reaction', 'school', 'choose', 'information', 'system', 'movie', 'behavior', 'pull', 'education', 'deeply', 'app', 'serious', 'inner', 'normal', 'perhaps', 'muscle', 'necessary', 'fun', 'cool', 'list', 'rule', 'rather', 'sad', 'hair', 'girl', 'program', 'stay', 'journey', 'unique', 'word', 'lol', 'play', 'delete', 'reward', 'expectation', 'gt', 'everything', 'painful', 'already', 'behaviour', 'company', 'social', 'proud', 'money', 'crazy', 'act', 'large', 'super', 'communication', 'brain', 'fight', 'ever', 'victim', 'attractive', 'reach', 'low', 'depression', 'test', 'exist', 'healing', 'handle', 'kid', 'date', 'need', 'area', 'chase', 'true', 'accept', 'activity', 'say', 'responsibility', 'phone', 'lie', 'cold', 'room', 'working', 'member', 'interested', 'study', 'fail', 'useless', 'hang', 'growth', 'acknowledge', 'trust', 'available', 'nice', 'evil', 'save', 'choice', 'write', 'buy', 'message', 'internal', 'properly', 'individual', 'woman', 'grow', 'challenge', 'angry', 'forgive', 'computer', 'aim', 'dude', 'attitude', 'god', 'selfish', 'grade', 'become', 'entire', 'risk', 'understanding', 'mentality', 'manage', 'drive', 'development', 'perceive', 'writing', 'share', 'weird', 'conscious', 'ie', 'find', 'progress', 'baby', 'current', 'mental', 'failure', 'expect', 'express', 'confidence', 'include', 'diet', 'refuse', 'kill', 'great', 'never', 'argue', 'process', 'huge', 'funny', 'meditation', 'hit', 'motivation', 'moment', 'door', 'responsible', 'clean', 'impact', 'open', 'belief', 'account', 'last', 'close', 'background', 'consistent', 'addiction', 'attract', 'ego', 'financial', 'gym', 'escape', 'burn', 'validation', 'note', 'fit', 'suggestion', 'treat', 'practice', 'method', 'excuse', 'quote', 'possible', 'man', 'rid', 'aware', 'desire', 'news', 'image', 'solution', 'set', 'consequence', 'everybody', 'research', 'alone', 'routine', 'mindset', 'guide', 'effort', 'power', 'mother', 'character', 'natural', 'partner', 'space', 'forget', 'complete', 'fix', 'core', 'soul', 'tend', 'personality', 'music', 'energy', 'always', 'avoid', 'family', 'absolutely', 'enjoy', 'ready', 'doctor', 'term', 'tip', 'language', 'productive', 'laugh', 'strong', 'awareness', 'order', 'bring', 'abusive', 'present', 'discipline', 'benefit', 'afraid', 'party', 'thinking', 'feedback', 'apply', 'understand', 'embrace', 'media', 'part', 'important', 'meaningful', 'drop', 'group', 'esteem', 'switch', 'pay', 'however', 'professional', 'reduce', 'history', 'hide', 'cry', 'story', 'environment', 'opinion', 'shy', 'period', 'comfort', 'tired', 'boundaries', 'physical', 'ask', 'create', 'broke', 'struggle', 'sleep', 'passion', 'scared', 'live', 'joy', 'meal', 'child', 'sex', 'friend', 'bc', 'sexual', 'decided', 'graduate', 'schedule', 'grateful', 'living', 'light', 'culture', 'game', 'send', 'learn', 'repeat', 'respond', 'clear', 'mom', 'name', 'exercise', 'response', 'happiness', 'provide', 'hate', 'certainly', 'business', 'extremely', 'nobody', 'return', 'cheating', 'car', 'free', 'content', 'replace', 'determine', 'somehow', 'state', 'meditate', 'attention', 'path', 'shit', 'check', 'sometimes', 'worry', 'three', 'single', 'online', 'anger', 'made', 'side', 'simply', 'job', 'notice', 'extreme', 'science', 'version', 'lifestyle', 'raise', 'none', 'male', 'ugly', 'mentioned', 'condition', 'ton', 'emotional', 'source', 'purpose', 'valuable', 'decide', 'zone', 'factor', 'fast', 'cheat', 'friendships', 'smart', 'beautiful', 'smile', 'commit', 'worthy', 'together', 'deserve', 'completely', 'sense', 'dad', 'addicted', 'walking', 'young', 'finish', 'body', 'treated', 'luck', 'ex', 'catch', 'internet', 'talk', 'strangers', 'hobby', 'achievement', 'external', 'pursue', 'water', 'stand', 'long', 'busy', 'root', 'react', 'uncomfortable', 'keep', 'adult', 'imagine', 'tell', 'guilt', 'connection', 'read', 'potential', 'average', 'book', 'especially', 'invest', 'quick', 'prepare', 'conversation', 'drug', 'college', 'weight', 'piece', 'idk', 'confident', 'win', 'line', 'project', 'less', 'train', 'abuse', 'sport', 'address', 'personal', 'although', 'marry', 'crap', 'seem', 'nature', 'chance', 'simple', 'means', 'sign', 'pressure', 'club', 'motivated', 'pretend', 'damn', 'convince', 'class', 'function', 'pass', 'correct', 'specific', 'insecurities', 'argument', 'define', 'allow', 'heal', 'balance', 'emotion', 'healthy', 'parent', 'interact', 'pattern', 'leave', 'empty', 'jealous', 'number', 'major', 'difficult', 'sister', 'unhappy', 'drink', 'shame', 'therapy', 'begin', 'sick', 'early', 'lead', 'per', 'base', 'improve', 'second', 'basically', 'eat', 'worthwhile', 'appreciate', 'require', 'gain', 'meaning', 'suffer', 'successful', 'anxiety', 'deal', 'hurt', 'rich', 'back', 'hobbies', 'tool', 'watch', 'mistake', 'compassion', 'succeed', 'joke', 'figure', 'student', 'sort', 'often', 'guilty', 'fat', 'call', 'meet', 'die', 'reality', 'actively', 'perfect', 'stop', 'loser', 'limit', 'continue', 'heart', 'end', 'extra', 'result', 'certain', 'selfesteem', 'porn', 'relationship', 'serve', 'hand', 'cycle', 'constantly', 'force', 'likely', 'wife', 'kick', 'lose', 'society', 'voice', 'eventually', 'approach', 'support', 'special', 'maintain', 'position', 'fuck', 'hurts', 'wrong', 'guy', 'give', 'training', 'almost', 'strength', 'lesson', 'weed', 'direction', 'peace', 'add', 'regularly', 'mind', 'kindness', 'bed', 'willing', 'standard', 'zero', 'boring', 'skill', 'couple', 'hold', 'judge', 'speak', 'instagram', 'answer', 'human', 'block', 'unhealthy', 'insecure', 'cut', 'assume', 'particular', 'workout', 'opportunity', 'throw', 'plan', 'kind', 'thought', 'ability', 'first', 'calm', 'field', 'perception', 'instead', 'view', 'follow', 'tough', 'home', 'fake', 'smoke', 'weak', 'knowledgeable', 'gift', 'fulfil', 'dream', 'explain', 'key', 'worth', 'realize', 'lonely', 'achieve', 'spend', 'harm', 'picture', 'reply', 'boyfriend', 'remember', 'father', 'awkward', 'happen', 'house', 'setting', 'career', 'empathy', 'blame', 'pick', 'country', 'horrible', 'awful', 'anyway', 'respect', 'concept', 'cause', 'courage', 'food', 'type', 'youtube', 'acceptance', 'health', 'future', 'explore', 'laziness', 'circumstance', 'success', 'event', 'touch', 'video', 'pain', 'shitty', 'fair', 'look', 'eating', 'listen', 'recognize', 'develop', 'teacher', 'apps', 'ignore', 'trouble', 'trauma', 'wake', 'skin', 'accomplish', 'suck', 'value', 'offer', 'two', 'age', 'run', 'sell', 'judgement', 'increase', 'quality', 'high', 'receive', 'mood'}, {'wear', 'identify', 'clothes'})\n",
      "({'main', 'seek', 'face', 'communicate', 'level', 'technique', 'memory', 'loss', 'actually', 'circle', 'head', 'dark', 'beat', 'traits', 'toxic', 'truth', 'community', 'task', 'consider', 'intention', 'option', 'degree', 'friendship', 'decision', 'text', 'fire', 'genuine', 'quit', 'anxious', 'awesome', 'adhd', 'stress', 'broken', 'regret', 'teach', 'wish', 'bear', 'feeling', 'able', 'alcohol', 'journal', 'mentally', 'complain', 'break', 'university', 'sit', 'romantic', 'role', 'show', 'reason', 'stupid', 'real', 'death', 'tv', 'happy', 'aspect', 'build', 'wait', 'pretty', 'rude', 'fear', 'believe', 'mistakes', 'girlfriend', 'waste', 'outcome', 'effect', 'contact', 'brother', 'reaction', 'school', 'choose', 'information', 'system', 'movie', 'behavior', 'pull', 'education', 'deeply', 'app', 'serious', 'inner', 'normal', 'perhaps', 'muscle', 'necessary', 'fun', 'cool', 'list', 'rule', 'rather', 'sad', 'hair', 'girl', 'program', 'stay', 'journey', 'unique', 'word', 'lol', 'play', 'delete', 'reward', 'expectation', 'gt', 'everything', 'painful', 'already', 'behaviour', 'company', 'social', 'proud', 'money', 'crazy', 'act', 'large', 'super', 'communication', 'brain', 'fight', 'ever', 'victim', 'attractive', 'reach', 'low', 'depression', 'test', 'exist', 'healing', 'handle', 'kid', 'date', 'need', 'area', 'chase', 'true', 'accept', 'activity', 'say', 'responsibility', 'phone', 'lie', 'cold', 'room', 'working', 'member', 'interested', 'study', 'fail', 'useless', 'hang', 'growth', 'acknowledge', 'trust', 'available', 'nice', 'evil', 'save', 'choice', 'write', 'buy', 'message', 'internal', 'properly', 'individual', 'woman', 'grow', 'challenge', 'angry', 'forgive', 'computer', 'aim', 'dude', 'attitude', 'god', 'selfish', 'grade', 'become', 'entire', 'risk', 'understanding', 'mentality', 'manage', 'drive', 'development', 'perceive', 'writing', 'share', 'weird', 'conscious', 'ie', 'find', 'progress', 'baby', 'current', 'mental', 'failure', 'expect', 'express', 'confidence', 'include', 'diet', 'refuse', 'kill', 'great', 'never', 'argue', 'process', 'huge', 'funny', 'meditation', 'hit', 'motivation', 'moment', 'door', 'responsible', 'clean', 'impact', 'open', 'belief', 'account', 'last', 'close', 'background', 'consistent', 'addiction', 'attract', 'ego', 'financial', 'gym', 'escape', 'burn', 'validation', 'note', 'fit', 'suggestion', 'treat', 'practice', 'method', 'excuse', 'quote', 'possible', 'man', 'rid', 'aware', 'desire', 'news', 'image', 'solution', 'set', 'consequence', 'everybody', 'research', 'alone', 'routine', 'mindset', 'guide', 'effort', 'power', 'mother', 'character', 'natural', 'partner', 'space', 'forget', 'complete', 'fix', 'core', 'soul', 'tend', 'personality', 'music', 'energy', 'always', 'avoid', 'family', 'absolutely', 'enjoy', 'ready', 'doctor', 'term', 'tip', 'language', 'productive', 'laugh', 'strong', 'awareness', 'order', 'bring', 'abusive', 'present', 'discipline', 'benefit', 'afraid', 'party', 'thinking', 'feedback', 'apply', 'understand', 'embrace', 'media', 'part', 'important', 'meaningful', 'drop', 'group', 'esteem', 'switch', 'pay', 'however', 'professional', 'reduce', 'history', 'hide', 'cry', 'story', 'environment', 'opinion', 'shy', 'period', 'comfort', 'tired', 'boundaries', 'physical', 'ask', 'create', 'broke', 'struggle', 'sleep', 'passion', 'scared', 'live', 'joy', 'meal', 'child', 'sex', 'friend', 'bc', 'sexual', 'decided', 'graduate', 'schedule', 'grateful', 'living', 'light', 'culture', 'game', 'send', 'learn', 'repeat', 'respond', 'clear', 'mom', 'name', 'exercise', 'response', 'happiness', 'provide', 'hate', 'certainly', 'business', 'extremely', 'nobody', 'return', 'car', 'free', 'content', 'replace', 'determine', 'somehow', 'state', 'meditate', 'attention', 'path', 'shit', 'check', 'sometimes', 'worry', 'three', 'single', 'online', 'anger', 'made', 'side', 'simply', 'job', 'notice', 'extreme', 'science', 'version', 'lifestyle', 'raise', 'none', 'male', 'ugly', 'mentioned', 'condition', 'ton', 'emotional', 'source', 'purpose', 'valuable', 'decide', 'zone', 'factor', 'fast', 'friendships', 'smart', 'beautiful', 'smile', 'commit', 'worthy', 'together', 'deserve', 'completely', 'sense', 'dad', 'addicted', 'walking', 'young', 'finish', 'body', 'treated', 'luck', 'ex', 'catch', 'internet', 'talk', 'strangers', 'hobby', 'achievement', 'external', 'pursue', 'water', 'stand', 'long', 'busy', 'root', 'react', 'uncomfortable', 'keep', 'adult', 'imagine', 'tell', 'guilt', 'connection', 'read', 'potential', 'average', 'book', 'especially', 'invest', 'quick', 'prepare', 'conversation', 'drug', 'college', 'weight', 'piece', 'idk', 'confident', 'win', 'line', 'project', 'less', 'train', 'abuse', 'sport', 'address', 'personal', 'although', 'marry', 'crap', 'seem', 'nature', 'chance', 'simple', 'means', 'sign', 'pressure', 'club', 'motivated', 'pretend', 'damn', 'convince', 'class', 'function', 'pass', 'correct', 'specific', 'insecurities', 'argument', 'define', 'allow', 'heal', 'balance', 'emotion', 'healthy', 'parent', 'interact', 'pattern', 'leave', 'empty', 'jealous', 'number', 'major', 'difficult', 'sister', 'unhappy', 'drink', 'shame', 'therapy', 'begin', 'sick', 'early', 'lead', 'per', 'base', 'improve', 'second', 'basically', 'eat', 'worthwhile', 'appreciate', 'require', 'gain', 'meaning', 'suffer', 'successful', 'anxiety', 'deal', 'hurt', 'rich', 'back', 'hobbies', 'tool', 'watch', 'mistake', 'compassion', 'succeed', 'joke', 'figure', 'student', 'sort', 'often', 'guilty', 'fat', 'call', 'meet', 'die', 'reality', 'actively', 'perfect', 'stop', 'loser', 'limit', 'continue', 'heart', 'end', 'extra', 'result', 'certain', 'selfesteem', 'porn', 'relationship', 'serve', 'hand', 'cycle', 'constantly', 'force', 'likely', 'wife', 'kick', 'lose', 'society', 'voice', 'eventually', 'approach', 'support', 'special', 'maintain', 'position', 'fuck', 'hurts', 'wrong', 'guy', 'give', 'training', 'almost', 'strength', 'lesson', 'weed', 'direction', 'peace', 'add', 'regularly', 'mind', 'kindness', 'bed', 'willing', 'standard', 'zero', 'boring', 'skill', 'couple', 'hold', 'judge', 'speak', 'instagram', 'answer', 'human', 'block', 'unhealthy', 'insecure', 'cut', 'assume', 'particular', 'workout', 'opportunity', 'throw', 'plan', 'kind', 'thought', 'ability', 'first', 'calm', 'field', 'perception', 'instead', 'view', 'follow', 'tough', 'home', 'fake', 'smoke', 'weak', 'knowledgeable', 'gift', 'fulfil', 'dream', 'explain', 'key', 'worth', 'realize', 'lonely', 'achieve', 'spend', 'harm', 'picture', 'reply', 'boyfriend', 'remember', 'father', 'awkward', 'happen', 'house', 'setting', 'career', 'empathy', 'blame', 'pick', 'country', 'horrible', 'awful', 'anyway', 'respect', 'concept', 'cause', 'courage', 'food', 'type', 'youtube', 'acceptance', 'health', 'future', 'explore', 'laziness', 'circumstance', 'success', 'event', 'touch', 'video', 'pain', 'shitty', 'fair', 'look', 'eating', 'listen', 'recognize', 'develop', 'teacher', 'apps', 'ignore', 'trouble', 'trauma', 'wake', 'skin', 'accomplish', 'suck', 'value', 'offer', 'two', 'age', 'run', 'sell', 'judgement', 'increase', 'quality', 'high', 'receive', 'mood'}, {'cheating', 'cheat'}, {'wear', 'identify', 'clothes'})\n"
     ]
    }
   ],
   "source": [
    "import itertools\n",
    "for communities in itertools.islice(communities, 2):\n",
    "    print(tuple(c for c in communities))"
   ]
  },
  {
   "cell_type": "markdown",
   "id": "09ae9219-5be4-4eb0-909f-0240bdd401f3",
   "metadata": {},
   "source": [
    "It is observed that using Girvan-Newman algorithm created very unbalanced communities. I'll run it with more iterations to see if eventually it is able to create larger groups, even if some of the first communities remain very small.\n",
    "\n",
    "Asked ChatGTP:\n",
    "\n",
    "\"communities = nx.community.girvan_newman(G_largest)\n",
    "for communities in itertools.islice(communities, 10):\n",
    "    print(tuple(c for c in communities))\n",
    "\n",
    "how can I edit to print only the last iteration?\""
   ]
  },
  {
   "cell_type": "code",
   "execution_count": 43,
   "id": "984e35e2-c638-4307-8ff0-b950b4769561",
   "metadata": {},
   "outputs": [
    {
     "name": "stdout",
     "output_type": "stream",
     "text": [
      "({'main', 'seek', 'face', 'communicate', 'level', 'technique', 'memory', 'loss', 'actually', 'circle', 'head', 'dark', 'beat', 'traits', 'toxic', 'truth', 'community', 'task', 'consider', 'intention', 'option', 'degree', 'friendship', 'decision', 'text', 'fire', 'genuine', 'quit', 'anxious', 'awesome', 'adhd', 'stress', 'broken', 'regret', 'teach', 'wish', 'bear', 'feeling', 'able', 'alcohol', 'journal', 'mentally', 'complain', 'break', 'university', 'sit', 'romantic', 'show', 'reason', 'stupid', 'real', 'death', 'tv', 'happy', 'aspect', 'build', 'rude', 'fear', 'believe', 'mistakes', 'girlfriend', 'waste', 'outcome', 'effect', 'contact', 'brother', 'reaction', 'school', 'choose', 'information', 'system', 'movie', 'behavior', 'pull', 'education', 'deeply', 'app', 'serious', 'inner', 'normal', 'perhaps', 'muscle', 'necessary', 'fun', 'cool', 'list', 'rule', 'rather', 'sad', 'hair', 'girl', 'program', 'stay', 'journey', 'unique', 'word', 'lol', 'play', 'delete', 'reward', 'expectation', 'gt', 'everything', 'painful', 'already', 'behaviour', 'company', 'social', 'proud', 'money', 'crazy', 'act', 'large', 'super', 'communication', 'brain', 'fight', 'ever', 'victim', 'attractive', 'reach', 'low', 'depression', 'test', 'exist', 'healing', 'handle', 'kid', 'date', 'need', 'area', 'chase', 'true', 'accept', 'activity', 'say', 'responsibility', 'phone', 'lie', 'cold', 'room', 'working', 'member', 'interested', 'study', 'fail', 'useless', 'hang', 'growth', 'acknowledge', 'trust', 'available', 'nice', 'evil', 'save', 'choice', 'write', 'buy', 'message', 'internal', 'properly', 'individual', 'woman', 'grow', 'challenge', 'angry', 'forgive', 'computer', 'aim', 'dude', 'god', 'selfish', 'grade', 'become', 'risk', 'understanding', 'mentality', 'manage', 'drive', 'development', 'perceive', 'writing', 'share', 'weird', 'conscious', 'ie', 'find', 'progress', 'baby', 'current', 'mental', 'failure', 'expect', 'express', 'confidence', 'include', 'diet', 'kill', 'great', 'never', 'process', 'huge', 'funny', 'meditation', 'hit', 'motivation', 'moment', 'door', 'responsible', 'clean', 'impact', 'open', 'belief', 'account', 'last', 'close', 'background', 'consistent', 'addiction', 'attract', 'ego', 'financial', 'gym', 'escape', 'validation', 'note', 'suggestion', 'treat', 'practice', 'method', 'excuse', 'quote', 'possible', 'man', 'rid', 'aware', 'desire', 'news', 'image', 'solution', 'set', 'consequence', 'everybody', 'research', 'alone', 'routine', 'mindset', 'guide', 'effort', 'power', 'mother', 'character', 'natural', 'partner', 'space', 'forget', 'complete', 'fix', 'core', 'soul', 'tend', 'personality', 'music', 'energy', 'always', 'avoid', 'family', 'absolutely', 'enjoy', 'ready', 'doctor', 'term', 'tip', 'language', 'productive', 'laugh', 'strong', 'awareness', 'order', 'bring', 'abusive', 'present', 'discipline', 'benefit', 'afraid', 'party', 'thinking', 'feedback', 'understand', 'media', 'part', 'important', 'meaningful', 'drop', 'group', 'esteem', 'switch', 'pay', 'however', 'professional', 'reduce', 'history', 'hide', 'cry', 'story', 'environment', 'opinion', 'shy', 'period', 'comfort', 'tired', 'boundaries', 'physical', 'ask', 'create', 'struggle', 'sleep', 'passion', 'live', 'joy', 'meal', 'child', 'sex', 'friend', 'bc', 'sexual', 'decided', 'graduate', 'schedule', 'grateful', 'living', 'light', 'culture', 'game', 'send', 'learn', 'repeat', 'respond', 'clear', 'mom', 'name', 'exercise', 'response', 'happiness', 'provide', 'hate', 'certainly', 'business', 'extremely', 'nobody', 'car', 'free', 'content', 'replace', 'determine', 'somehow', 'state', 'meditate', 'attention', 'path', 'shit', 'sometimes', 'worry', 'three', 'single', 'online', 'anger', 'made', 'side', 'simply', 'job', 'notice', 'extreme', 'science', 'version', 'lifestyle', 'raise', 'none', 'male', 'ugly', 'mentioned', 'condition', 'ton', 'emotional', 'source', 'purpose', 'valuable', 'zone', 'factor', 'fast', 'friendships', 'smart', 'beautiful', 'smile', 'commit', 'worthy', 'together', 'completely', 'sense', 'dad', 'addicted', 'walking', 'young', 'body', 'treated', 'luck', 'ex', 'catch', 'internet', 'talk', 'strangers', 'hobby', 'achievement', 'external', 'pursue', 'water', 'stand', 'long', 'root', 'react', 'uncomfortable', 'keep', 'adult', 'imagine', 'tell', 'guilt', 'connection', 'read', 'potential', 'average', 'book', 'especially', 'invest', 'quick', 'prepare', 'conversation', 'drug', 'college', 'weight', 'piece', 'idk', 'confident', 'win', 'project', 'less', 'train', 'abuse', 'sport', 'address', 'personal', 'although', 'marry', 'crap', 'seem', 'nature', 'chance', 'simple', 'means', 'sign', 'pressure', 'club', 'motivated', 'damn', 'class', 'function', 'pass', 'correct', 'specific', 'insecurities', 'define', 'allow', 'heal', 'balance', 'emotion', 'healthy', 'parent', 'interact', 'pattern', 'leave', 'jealous', 'number', 'major', 'difficult', 'sister', 'unhappy', 'drink', 'shame', 'therapy', 'begin', 'early', 'lead', 'base', 'improve', 'second', 'basically', 'eat', 'worthwhile', 'appreciate', 'require', 'gain', 'meaning', 'suffer', 'successful', 'anxiety', 'deal', 'hurt', 'rich', 'back', 'hobbies', 'tool', 'watch', 'mistake', 'compassion', 'succeed', 'joke', 'figure', 'student', 'sort', 'often', 'guilty', 'fat', 'call', 'meet', 'die', 'reality', 'actively', 'perfect', 'stop', 'loser', 'limit', 'continue', 'heart', 'end', 'extra', 'result', 'certain', 'selfesteem', 'porn', 'relationship', 'serve', 'hand', 'cycle', 'constantly', 'force', 'likely', 'wife', 'kick', 'lose', 'society', 'voice', 'eventually', 'approach', 'support', 'special', 'maintain', 'position', 'fuck', 'wrong', 'guy', 'give', 'training', 'almost', 'strength', 'lesson', 'weed', 'direction', 'peace', 'add', 'regularly', 'mind', 'kindness', 'bed', 'willing', 'standard', 'zero', 'boring', 'skill', 'couple', 'hold', 'judge', 'speak', 'instagram', 'answer', 'human', 'block', 'unhealthy', 'insecure', 'cut', 'assume', 'particular', 'workout', 'opportunity', 'throw', 'plan', 'kind', 'thought', 'ability', 'first', 'calm', 'field', 'perception', 'instead', 'view', 'follow', 'tough', 'home', 'fake', 'smoke', 'knowledgeable', 'gift', 'fulfil', 'dream', 'explain', 'key', 'worth', 'realize', 'achieve', 'spend', 'harm', 'picture', 'reply', 'boyfriend', 'remember', 'father', 'awkward', 'happen', 'house', 'setting', 'career', 'empathy', 'blame', 'pick', 'country', 'horrible', 'awful', 'anyway', 'respect', 'concept', 'cause', 'courage', 'food', 'type', 'youtube', 'health', 'future', 'explore', 'laziness', 'circumstance', 'success', 'event', 'pain', 'video', 'fair', 'shitty', 'look', 'eating', 'listen', 'recognize', 'develop', 'teacher', 'apps', 'ignore', 'trouble', 'trauma', 'wake', 'skin', 'accomplish', 'value', 'two', 'age', 'run', 'sell', 'judgement', 'increase', 'quality', 'high', 'receive', 'mood'}, {'embrace'}, {'per', 'weak', 'attitude', 'burn'}, {'cheating', 'cheat'}, {'apply'}, {'pretend', 'return'}, {'decide'}, {'argument', 'argue', 'convince', 'deserve'}, {'wear', 'identify', 'clothes'}, {'check', 'wait'}, {'sick', 'offer'}, {'refuse'}, {'finish', 'line', 'acceptance'}, {'entire'}, {'scared', 'broke'}, {'role', 'fit'}, {'busy'}, {'touch', 'lonely'}, {'pretty', 'hurts'}, {'empty'}, {'suck'})\n"
     ]
    }
   ],
   "source": [
    "# Get the first 10 iterations using islice\n",
    "communities = nx.community.girvan_newman(G_largest)\n",
    "found_communities = list(itertools.islice(communities, 20))\n",
    "\n",
    "# Print the last iteration\n",
    "print(tuple(c for c in found_communities[-1]))"
   ]
  },
  {
   "cell_type": "code",
   "execution_count": null,
   "id": "63a22eea-bc47-407b-bcb5-03869b3fc5b4",
   "metadata": {},
   "outputs": [],
   "source": []
  }
 ],
 "metadata": {
  "kernelspec": {
   "display_name": "Python 3 (ipykernel)",
   "language": "python",
   "name": "python3"
  },
  "language_info": {
   "codemirror_mode": {
    "name": "ipython",
    "version": 3
   },
   "file_extension": ".py",
   "mimetype": "text/x-python",
   "name": "python",
   "nbconvert_exporter": "python",
   "pygments_lexer": "ipython3",
   "version": "3.9.19"
  }
 },
 "nbformat": 4,
 "nbformat_minor": 5
}
